{
 "cells": [
  {
   "cell_type": "markdown",
   "metadata": {},
   "source": [
    "# The Judge's Panel"
   ]
  },
  {
   "cell_type": "markdown",
   "metadata": {},
   "source": [
    "REMAX is requesting that you complete one more technical evaluation, which will focus on creating an interactive dashboard. The hiring team at REMAX will be judging you for your ability to create a dashboard that enables user interaction. Use your knoweldge of Panel panels and PyViz technologies to create a dashboard that has multiple tabs."
   ]
  },
  {
   "cell_type": "code",
   "execution_count": null,
   "metadata": {},
   "outputs": [],
   "source": [
    "import pandas as pd\n",
    "import numpy as np\n",
    "import panel as pn\n",
    "from panel.interact import interact\n",
    "import plotly.express as px\n",
    "import hvplot.pandas\n",
    "from pathlib import Path\n",
    "\n",
    "pn.extension(\"plotly\")"
   ]
  },
  {
   "cell_type": "markdown",
   "metadata": {},
   "source": [
    "### Prep data and create plots"
   ]
  },
  {
   "cell_type": "code",
   "execution_count": null,
   "metadata": {},
   "outputs": [],
   "source": [
    "# Prep Data\n",
    "housing_type = [\"Single Family\", \"Multi-Family\", \"Apartment\"]\n",
    "region = [\"North East\", \"Tri-State\"]\n",
    "prop_size = [\"Large\", \"Medium\", \"Small\"]\n",
    "\n",
    "df = pd.DataFrame(\n",
    "    {\n",
    "        \"sold\": np.random.randint(999, 1002, 50),\n",
    "        \"year\": np.random.randint(2010, 2019, 50),\n",
    "        \"type\": np.random.choice(housing_type, 50),\n",
    "        \"region\": np.random.choice(region, 50),\n",
    "        \"prop_size\": np.random.choice(prop_size, 50),\n",
    "    }\n",
    ").sort_values([\"year\", \"type\", \"region\", \"prop_size\"])\n",
    "\n",
    "# Plot data using parallel_categories\n",
    "parallel_categories = px.parallel_categories(\n",
    "    df,\n",
    "    dimensions=[\"type\", \"region\", \"prop_size\"],\n",
    "    color=\"year\",\n",
    "    color_continuous_scale=px.colors.sequential.Inferno,\n",
    "    labels={\n",
    "        \"type\": \"Type of Dwelling\",\n",
    "        \"region\": \"Region\",\n",
    "        \"prop_size\": \"Property Size\",\n",
    "    },\n",
    ")\n",
    "\n",
    "# Read in data\n",
    "sales = pd.read_csv(\n",
    "    Path(\"../Resources/alleghany_sales.csv\"),\n",
    "    infer_datetime_format=True,\n",
    "    parse_dates=True,\n",
    "    index_col=\"SALEDATE\",\n",
    ").dropna()\n",
    "\n",
    "foreclosures = pd.read_csv(\n",
    "    Path(\"../Resources/alleghany_foreclosures.csv\"),\n",
    "    infer_datetime_format=True,\n",
    "    parse_dates=True,\n",
    "    index_col=\"filing_date\",\n",
    ").dropna()\n",
    "\n",
    "# Slice data and get the count of instances by year\n",
    "foreclosures_grp_cnt = foreclosures[\"amount\"].groupby([foreclosures.index.year]).count()\n",
    "sales_grp_cnt = sales[\"PRICE\"].groupby([sales.index.year]).count()\n",
    "\n",
    "# Concatenate data\n",
    "sales_foreclosures_cnt = (\n",
    "    pd.concat([sales_grp_cnt, foreclosures_grp_cnt], axis=1).dropna().reset_index()\n",
    ")\n",
    "\n",
    "# Rename columns to be 'num_sales' and 'num_foreclosures'\n",
    "sales_foreclosures_cnt.columns = [\"year\", \"num_sales\", \"num_foreclosures\"]\n",
    "\n",
    "# Plot data using parallel_coordinates plot\n",
    "parallel_coordinates = px.parallel_coordinates(sales_foreclosures_cnt, color=\"year\")\n",
    "\n",
    "# Create bar plots\n",
    "num_foreclosures_plot = px.bar(\n",
    "    sales_foreclosures_cnt,\n",
    "    x=\"year\",\n",
    "    y=\"num_foreclosures\",\n",
    "    title=\"Number of Foreclosures\",\n",
    ")\n",
    "num_sales_plot = px.bar(\n",
    "    sales_foreclosures_cnt, x=\"year\", y=\"num_sales\", title=\"Number of Sales\"\n",
    ")"
   ]
  },
  {
   "cell_type": "markdown",
   "metadata": {},
   "source": [
    "### Create row using parallel categories and parallel coordinates plots"
   ]
  },
  {
   "cell_type": "code",
   "execution_count": null,
   "metadata": {},
   "outputs": [],
   "source": [
    "# Put parallel plots in a single row\n"
   ]
  },
  {
   "cell_type": "markdown",
   "metadata": {},
   "source": [
    "### Create a row with just num_foreclosures_plot. Then, use the append function to add num_sales_plot"
   ]
  },
  {
   "cell_type": "code",
   "execution_count": null,
   "metadata": {},
   "outputs": [],
   "source": [
    "# Create row with num_foreclosures_plot. Append num_sales_plot to row_of_bar using append function.\n"
   ]
  },
  {
   "cell_type": "markdown",
   "metadata": {},
   "source": [
    "### Create a column that contains a Markdown header, row_of_parallel, and row_of_bar"
   ]
  },
  {
   "cell_type": "code",
   "execution_count": null,
   "metadata": {},
   "outputs": [],
   "source": [
    "# Insert row_of_parallel and row_of_Bar into a column object with Markdown text\n"
   ]
  },
  {
   "cell_type": "markdown",
   "metadata": {},
   "source": [
    "### Create a tab that contains plots_as_column, row_of_bar, and row_of_parallel"
   ]
  },
  {
   "cell_type": "code",
   "execution_count": null,
   "metadata": {},
   "outputs": [],
   "source": [
    "# Create tabs\n"
   ]
  }
 ],
 "metadata": {
  "kernelspec": {
   "display_name": "Python 3",
   "language": "python",
   "name": "python3"
  },
  "language_info": {
   "codemirror_mode": {
    "name": "ipython",
    "version": 3
   },
   "file_extension": ".py",
   "mimetype": "text/x-python",
   "name": "python",
   "nbconvert_exporter": "python",
   "pygments_lexer": "ipython3",
   "version": "3.7.3"
  }
 },
 "nbformat": 4,
 "nbformat_minor": 4
}
