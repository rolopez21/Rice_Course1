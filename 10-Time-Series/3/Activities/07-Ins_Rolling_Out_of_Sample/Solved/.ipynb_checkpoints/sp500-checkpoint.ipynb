{
 "cells": [
  {
   "cell_type": "code",
   "execution_count": 6,
   "metadata": {},
   "outputs": [],
   "source": [
    "import pandas as pd\n",
    "import numpy as np\n",
    "from sklearn.linear_model import LinearRegression\n",
    "%matplotlib inline"
   ]
  },
  {
   "cell_type": "code",
   "execution_count": 7,
   "metadata": {},
   "outputs": [],
   "source": [
    "from pathlib import Path\n",
    "csvpath = Path('../Resources/GSPC.csv')\n",
    "df = pd.read_csv(csvpath, parse_dates=True, index_col='Date')"
   ]
  },
  {
   "cell_type": "code",
   "execution_count": 8,
   "metadata": {},
   "outputs": [
    {
     "data": {
      "text/html": [
       "<div>\n",
       "<style scoped>\n",
       "    .dataframe tbody tr th:only-of-type {\n",
       "        vertical-align: middle;\n",
       "    }\n",
       "\n",
       "    .dataframe tbody tr th {\n",
       "        vertical-align: top;\n",
       "    }\n",
       "\n",
       "    .dataframe thead th {\n",
       "        text-align: right;\n",
       "    }\n",
       "</style>\n",
       "<table border=\"1\" class=\"dataframe\">\n",
       "  <thead>\n",
       "    <tr style=\"text-align: right;\">\n",
       "      <th></th>\n",
       "      <th>Open</th>\n",
       "      <th>High</th>\n",
       "      <th>Low</th>\n",
       "      <th>Close</th>\n",
       "      <th>Adj Close</th>\n",
       "      <th>Volume</th>\n",
       "      <th>Return</th>\n",
       "      <th>Lagged_Return</th>\n",
       "    </tr>\n",
       "    <tr>\n",
       "      <th>Date</th>\n",
       "      <th></th>\n",
       "      <th></th>\n",
       "      <th></th>\n",
       "      <th></th>\n",
       "      <th></th>\n",
       "      <th></th>\n",
       "      <th></th>\n",
       "      <th></th>\n",
       "    </tr>\n",
       "  </thead>\n",
       "  <tbody>\n",
       "    <tr>\n",
       "      <td>2008-01-04</td>\n",
       "      <td>1444.010010</td>\n",
       "      <td>1444.010010</td>\n",
       "      <td>1411.189941</td>\n",
       "      <td>1411.630005</td>\n",
       "      <td>1411.630005</td>\n",
       "      <td>4166000000</td>\n",
       "      <td>-2.455155</td>\n",
       "      <td>0.000000</td>\n",
       "    </tr>\n",
       "    <tr>\n",
       "      <td>2008-01-07</td>\n",
       "      <td>1414.069946</td>\n",
       "      <td>1423.869995</td>\n",
       "      <td>1403.449951</td>\n",
       "      <td>1416.180054</td>\n",
       "      <td>1416.180054</td>\n",
       "      <td>4221260000</td>\n",
       "      <td>0.322326</td>\n",
       "      <td>-2.455155</td>\n",
       "    </tr>\n",
       "    <tr>\n",
       "      <td>2008-01-08</td>\n",
       "      <td>1415.709961</td>\n",
       "      <td>1430.280029</td>\n",
       "      <td>1388.300049</td>\n",
       "      <td>1390.189941</td>\n",
       "      <td>1390.189941</td>\n",
       "      <td>4705390000</td>\n",
       "      <td>-1.835227</td>\n",
       "      <td>0.322326</td>\n",
       "    </tr>\n",
       "    <tr>\n",
       "      <td>2008-01-09</td>\n",
       "      <td>1390.250000</td>\n",
       "      <td>1409.189941</td>\n",
       "      <td>1378.699951</td>\n",
       "      <td>1409.130005</td>\n",
       "      <td>1409.130005</td>\n",
       "      <td>5351030000</td>\n",
       "      <td>1.362408</td>\n",
       "      <td>-1.835227</td>\n",
       "    </tr>\n",
       "    <tr>\n",
       "      <td>2008-01-10</td>\n",
       "      <td>1406.780029</td>\n",
       "      <td>1429.089966</td>\n",
       "      <td>1395.310059</td>\n",
       "      <td>1420.329956</td>\n",
       "      <td>1420.329956</td>\n",
       "      <td>5170490000</td>\n",
       "      <td>0.794813</td>\n",
       "      <td>1.362408</td>\n",
       "    </tr>\n",
       "  </tbody>\n",
       "</table>\n",
       "</div>"
      ],
      "text/plain": [
       "                   Open         High          Low        Close    Adj Close  \\\n",
       "Date                                                                          \n",
       "2008-01-04  1444.010010  1444.010010  1411.189941  1411.630005  1411.630005   \n",
       "2008-01-07  1414.069946  1423.869995  1403.449951  1416.180054  1416.180054   \n",
       "2008-01-08  1415.709961  1430.280029  1388.300049  1390.189941  1390.189941   \n",
       "2008-01-09  1390.250000  1409.189941  1378.699951  1409.130005  1409.130005   \n",
       "2008-01-10  1406.780029  1429.089966  1395.310059  1420.329956  1420.329956   \n",
       "\n",
       "                Volume    Return  Lagged_Return  \n",
       "Date                                             \n",
       "2008-01-04  4166000000 -2.455155       0.000000  \n",
       "2008-01-07  4221260000  0.322326      -2.455155  \n",
       "2008-01-08  4705390000 -1.835227       0.322326  \n",
       "2008-01-09  5351030000  1.362408      -1.835227  \n",
       "2008-01-10  5170490000  0.794813       1.362408  "
      ]
     },
     "execution_count": 8,
     "metadata": {},
     "output_type": "execute_result"
    }
   ],
   "source": [
    "df['Return'] = df.Close.pct_change() * 100\n",
    "df['Lagged_Return'] = df.Return.shift()\n",
    "df = df.dropna()\n",
    "df.head()"
   ]
  },
  {
   "cell_type": "code",
   "execution_count": 9,
   "metadata": {},
   "outputs": [
    {
     "data": {
      "text/plain": [
       "PeriodIndex(['2007-12-31/2008-01-06', '2008-01-07/2008-01-13',\n",
       "             '2008-01-07/2008-01-13', '2008-01-07/2008-01-13',\n",
       "             '2008-01-07/2008-01-13', '2008-01-07/2008-01-13',\n",
       "             '2008-01-14/2008-01-20', '2008-01-14/2008-01-20',\n",
       "             '2008-01-14/2008-01-20', '2008-01-14/2008-01-20',\n",
       "             ...\n",
       "             '2013-12-16/2013-12-22', '2013-12-16/2013-12-22',\n",
       "             '2013-12-16/2013-12-22', '2013-12-16/2013-12-22',\n",
       "             '2013-12-23/2013-12-29', '2013-12-23/2013-12-29',\n",
       "             '2013-12-23/2013-12-29', '2013-12-23/2013-12-29',\n",
       "             '2013-12-30/2014-01-05', '2013-12-30/2014-01-05'],\n",
       "            dtype='period[W-SUN]', name='Date', length=1509, freq='W-SUN')"
      ]
     },
     "execution_count": 9,
     "metadata": {},
     "output_type": "execute_result"
    }
   ],
   "source": [
    "# to_period(\"w\") splits the series into weekly increments\n",
    "df.index.to_period(\"w\")"
   ]
  },
  {
   "cell_type": "code",
   "execution_count": 10,
   "metadata": {},
   "outputs": [
    {
     "data": {
      "text/plain": [
       "PeriodIndex(['2007-12-31/2008-01-06', '2008-01-07/2008-01-13',\n",
       "             '2008-01-14/2008-01-20', '2008-01-21/2008-01-27',\n",
       "             '2008-01-28/2008-02-03', '2008-02-04/2008-02-10',\n",
       "             '2008-02-11/2008-02-17', '2008-02-18/2008-02-24',\n",
       "             '2008-02-25/2008-03-02', '2008-03-03/2008-03-09',\n",
       "             ...\n",
       "             '2013-10-28/2013-11-03', '2013-11-04/2013-11-10',\n",
       "             '2013-11-11/2013-11-17', '2013-11-18/2013-11-24',\n",
       "             '2013-11-25/2013-12-01', '2013-12-02/2013-12-08',\n",
       "             '2013-12-09/2013-12-15', '2013-12-16/2013-12-22',\n",
       "             '2013-12-23/2013-12-29', '2013-12-30/2014-01-05'],\n",
       "            dtype='period[W-SUN]', name='Date', length=314, freq='W-SUN')"
      ]
     },
     "execution_count": 10,
     "metadata": {},
     "output_type": "execute_result"
    }
   ],
   "source": [
    "# construct a list of all pandas weekly periods that are in the dataset:\n",
    "weeks = df.index.to_period(\"w\").unique()\n",
    "weeks"
   ]
  },
  {
   "cell_type": "markdown",
   "metadata": {},
   "source": [
    "# Time Calculations\n",
    "\n",
    "The following example shows the calculations for the first training period and the first testing period"
   ]
  },
  {
   "cell_type": "code",
   "execution_count": 11,
   "metadata": {},
   "outputs": [],
   "source": [
    "# Training Window (26 weeks)\n",
    "training_window = 26"
   ]
  },
  {
   "cell_type": "code",
   "execution_count": 12,
   "metadata": {},
   "outputs": [
    {
     "data": {
      "text/plain": [
       "'2007-12-31'"
      ]
     },
     "execution_count": 12,
     "metadata": {},
     "output_type": "execute_result"
    }
   ],
   "source": [
    "# Beginning of training window\n",
    "start_of_training_period = weeks[0].start_time.strftime(format=\"%Y-%m-%d\")\n",
    "start_of_training_period"
   ]
  },
  {
   "cell_type": "code",
   "execution_count": 13,
   "metadata": {},
   "outputs": [
    {
     "data": {
      "text/plain": [
       "'2008-07-06'"
      ]
     },
     "execution_count": 13,
     "metadata": {},
     "output_type": "execute_result"
    }
   ],
   "source": [
    "# End of training window\n",
    "end_of_training_period = weeks[training_window + 0].end_time.strftime(format=\"%Y-%m-%d\")\n",
    "end_of_training_period"
   ]
  },
  {
   "cell_type": "code",
   "execution_count": 14,
   "metadata": {},
   "outputs": [
    {
     "data": {
      "text/plain": [
       "Period('2008-07-07/2008-07-13', 'W-SUN')"
      ]
     },
     "execution_count": 14,
     "metadata": {},
     "output_type": "execute_result"
    }
   ],
   "source": [
    "# The week of the first test window\n",
    "test_week = weeks[training_window + 0 + 1]\n",
    "test_week"
   ]
  },
  {
   "cell_type": "code",
   "execution_count": 15,
   "metadata": {},
   "outputs": [
    {
     "data": {
      "text/plain": [
       "'2008-07-07'"
      ]
     },
     "execution_count": 15,
     "metadata": {},
     "output_type": "execute_result"
    }
   ],
   "source": [
    "# The first day of the test week\n",
    "start_of_test_week  = test_week.start_time.strftime(format=\"%Y-%m-%d\")\n",
    "start_of_test_week"
   ]
  },
  {
   "cell_type": "code",
   "execution_count": 16,
   "metadata": {},
   "outputs": [
    {
     "data": {
      "text/plain": [
       "'2008-07-13'"
      ]
     },
     "execution_count": 16,
     "metadata": {},
     "output_type": "execute_result"
    }
   ],
   "source": [
    "# The last day of the test week\n",
    "end_of_test_week = test_week.end_time.strftime(format=\"%Y-%m-%d\")\n",
    "end_of_test_week"
   ]
  },
  {
   "cell_type": "code",
   "execution_count": 17,
   "metadata": {},
   "outputs": [
    {
     "data": {
      "text/html": [
       "<div>\n",
       "<style scoped>\n",
       "    .dataframe tbody tr th:only-of-type {\n",
       "        vertical-align: middle;\n",
       "    }\n",
       "\n",
       "    .dataframe tbody tr th {\n",
       "        vertical-align: top;\n",
       "    }\n",
       "\n",
       "    .dataframe thead th {\n",
       "        text-align: right;\n",
       "    }\n",
       "</style>\n",
       "<table border=\"1\" class=\"dataframe\">\n",
       "  <thead>\n",
       "    <tr style=\"text-align: right;\">\n",
       "      <th></th>\n",
       "      <th>Open</th>\n",
       "      <th>High</th>\n",
       "      <th>Low</th>\n",
       "      <th>Close</th>\n",
       "      <th>Adj Close</th>\n",
       "      <th>Volume</th>\n",
       "      <th>Return</th>\n",
       "      <th>Lagged_Return</th>\n",
       "    </tr>\n",
       "    <tr>\n",
       "      <th>Date</th>\n",
       "      <th></th>\n",
       "      <th></th>\n",
       "      <th></th>\n",
       "      <th></th>\n",
       "      <th></th>\n",
       "      <th></th>\n",
       "      <th></th>\n",
       "      <th></th>\n",
       "    </tr>\n",
       "  </thead>\n",
       "  <tbody>\n",
       "    <tr>\n",
       "      <td>2008-01-04</td>\n",
       "      <td>1444.010010</td>\n",
       "      <td>1444.010010</td>\n",
       "      <td>1411.189941</td>\n",
       "      <td>1411.630005</td>\n",
       "      <td>1411.630005</td>\n",
       "      <td>4166000000</td>\n",
       "      <td>-2.455155</td>\n",
       "      <td>0.000000</td>\n",
       "    </tr>\n",
       "    <tr>\n",
       "      <td>2008-01-07</td>\n",
       "      <td>1414.069946</td>\n",
       "      <td>1423.869995</td>\n",
       "      <td>1403.449951</td>\n",
       "      <td>1416.180054</td>\n",
       "      <td>1416.180054</td>\n",
       "      <td>4221260000</td>\n",
       "      <td>0.322326</td>\n",
       "      <td>-2.455155</td>\n",
       "    </tr>\n",
       "    <tr>\n",
       "      <td>2008-01-08</td>\n",
       "      <td>1415.709961</td>\n",
       "      <td>1430.280029</td>\n",
       "      <td>1388.300049</td>\n",
       "      <td>1390.189941</td>\n",
       "      <td>1390.189941</td>\n",
       "      <td>4705390000</td>\n",
       "      <td>-1.835227</td>\n",
       "      <td>0.322326</td>\n",
       "    </tr>\n",
       "    <tr>\n",
       "      <td>2008-01-09</td>\n",
       "      <td>1390.250000</td>\n",
       "      <td>1409.189941</td>\n",
       "      <td>1378.699951</td>\n",
       "      <td>1409.130005</td>\n",
       "      <td>1409.130005</td>\n",
       "      <td>5351030000</td>\n",
       "      <td>1.362408</td>\n",
       "      <td>-1.835227</td>\n",
       "    </tr>\n",
       "    <tr>\n",
       "      <td>2008-01-10</td>\n",
       "      <td>1406.780029</td>\n",
       "      <td>1429.089966</td>\n",
       "      <td>1395.310059</td>\n",
       "      <td>1420.329956</td>\n",
       "      <td>1420.329956</td>\n",
       "      <td>5170490000</td>\n",
       "      <td>0.794813</td>\n",
       "      <td>1.362408</td>\n",
       "    </tr>\n",
       "    <tr>\n",
       "      <td>...</td>\n",
       "      <td>...</td>\n",
       "      <td>...</td>\n",
       "      <td>...</td>\n",
       "      <td>...</td>\n",
       "      <td>...</td>\n",
       "      <td>...</td>\n",
       "      <td>...</td>\n",
       "      <td>...</td>\n",
       "    </tr>\n",
       "    <tr>\n",
       "      <td>2008-06-27</td>\n",
       "      <td>1283.599976</td>\n",
       "      <td>1289.449951</td>\n",
       "      <td>1272.000000</td>\n",
       "      <td>1278.380005</td>\n",
       "      <td>1278.380005</td>\n",
       "      <td>6208260000</td>\n",
       "      <td>-0.371743</td>\n",
       "      <td>-2.936523</td>\n",
       "    </tr>\n",
       "    <tr>\n",
       "      <td>2008-06-30</td>\n",
       "      <td>1278.060059</td>\n",
       "      <td>1290.310059</td>\n",
       "      <td>1274.859985</td>\n",
       "      <td>1280.000000</td>\n",
       "      <td>1280.000000</td>\n",
       "      <td>5032330000</td>\n",
       "      <td>0.126722</td>\n",
       "      <td>-0.371743</td>\n",
       "    </tr>\n",
       "    <tr>\n",
       "      <td>2008-07-01</td>\n",
       "      <td>1276.689941</td>\n",
       "      <td>1285.310059</td>\n",
       "      <td>1260.680054</td>\n",
       "      <td>1284.910034</td>\n",
       "      <td>1284.910034</td>\n",
       "      <td>5846290000</td>\n",
       "      <td>0.383596</td>\n",
       "      <td>0.126722</td>\n",
       "    </tr>\n",
       "    <tr>\n",
       "      <td>2008-07-02</td>\n",
       "      <td>1285.819946</td>\n",
       "      <td>1292.170044</td>\n",
       "      <td>1261.510010</td>\n",
       "      <td>1261.520020</td>\n",
       "      <td>1261.520020</td>\n",
       "      <td>5276090000</td>\n",
       "      <td>-1.820362</td>\n",
       "      <td>0.383596</td>\n",
       "    </tr>\n",
       "    <tr>\n",
       "      <td>2008-07-03</td>\n",
       "      <td>1262.959961</td>\n",
       "      <td>1271.479980</td>\n",
       "      <td>1252.010010</td>\n",
       "      <td>1262.900024</td>\n",
       "      <td>1262.900024</td>\n",
       "      <td>3247590000</td>\n",
       "      <td>0.109392</td>\n",
       "      <td>-1.820362</td>\n",
       "    </tr>\n",
       "  </tbody>\n",
       "</table>\n",
       "<p>126 rows × 8 columns</p>\n",
       "</div>"
      ],
      "text/plain": [
       "                   Open         High          Low        Close    Adj Close  \\\n",
       "Date                                                                          \n",
       "2008-01-04  1444.010010  1444.010010  1411.189941  1411.630005  1411.630005   \n",
       "2008-01-07  1414.069946  1423.869995  1403.449951  1416.180054  1416.180054   \n",
       "2008-01-08  1415.709961  1430.280029  1388.300049  1390.189941  1390.189941   \n",
       "2008-01-09  1390.250000  1409.189941  1378.699951  1409.130005  1409.130005   \n",
       "2008-01-10  1406.780029  1429.089966  1395.310059  1420.329956  1420.329956   \n",
       "...                 ...          ...          ...          ...          ...   \n",
       "2008-06-27  1283.599976  1289.449951  1272.000000  1278.380005  1278.380005   \n",
       "2008-06-30  1278.060059  1290.310059  1274.859985  1280.000000  1280.000000   \n",
       "2008-07-01  1276.689941  1285.310059  1260.680054  1284.910034  1284.910034   \n",
       "2008-07-02  1285.819946  1292.170044  1261.510010  1261.520020  1261.520020   \n",
       "2008-07-03  1262.959961  1271.479980  1252.010010  1262.900024  1262.900024   \n",
       "\n",
       "                Volume    Return  Lagged_Return  \n",
       "Date                                             \n",
       "2008-01-04  4166000000 -2.455155       0.000000  \n",
       "2008-01-07  4221260000  0.322326      -2.455155  \n",
       "2008-01-08  4705390000 -1.835227       0.322326  \n",
       "2008-01-09  5351030000  1.362408      -1.835227  \n",
       "2008-01-10  5170490000  0.794813       1.362408  \n",
       "...                ...       ...            ...  \n",
       "2008-06-27  6208260000 -0.371743      -2.936523  \n",
       "2008-06-30  5032330000  0.126722      -0.371743  \n",
       "2008-07-01  5846290000  0.383596       0.126722  \n",
       "2008-07-02  5276090000 -1.820362       0.383596  \n",
       "2008-07-03  3247590000  0.109392      -1.820362  \n",
       "\n",
       "[126 rows x 8 columns]"
      ]
     },
     "execution_count": 17,
     "metadata": {},
     "output_type": "execute_result"
    }
   ],
   "source": [
    "# Training data with just one window\n",
    "train = df[start_of_training_period:end_of_training_period]\n",
    "train"
   ]
  },
  {
   "cell_type": "code",
   "execution_count": 18,
   "metadata": {},
   "outputs": [
    {
     "data": {
      "text/html": [
       "<div>\n",
       "<style scoped>\n",
       "    .dataframe tbody tr th:only-of-type {\n",
       "        vertical-align: middle;\n",
       "    }\n",
       "\n",
       "    .dataframe tbody tr th {\n",
       "        vertical-align: top;\n",
       "    }\n",
       "\n",
       "    .dataframe thead th {\n",
       "        text-align: right;\n",
       "    }\n",
       "</style>\n",
       "<table border=\"1\" class=\"dataframe\">\n",
       "  <thead>\n",
       "    <tr style=\"text-align: right;\">\n",
       "      <th></th>\n",
       "      <th>Open</th>\n",
       "      <th>High</th>\n",
       "      <th>Low</th>\n",
       "      <th>Close</th>\n",
       "      <th>Adj Close</th>\n",
       "      <th>Volume</th>\n",
       "      <th>Return</th>\n",
       "      <th>Lagged_Return</th>\n",
       "    </tr>\n",
       "    <tr>\n",
       "      <th>Date</th>\n",
       "      <th></th>\n",
       "      <th></th>\n",
       "      <th></th>\n",
       "      <th></th>\n",
       "      <th></th>\n",
       "      <th></th>\n",
       "      <th></th>\n",
       "      <th></th>\n",
       "    </tr>\n",
       "  </thead>\n",
       "  <tbody>\n",
       "    <tr>\n",
       "      <td>2008-07-07</td>\n",
       "      <td>1262.900024</td>\n",
       "      <td>1273.949951</td>\n",
       "      <td>1240.680054</td>\n",
       "      <td>1252.310059</td>\n",
       "      <td>1252.310059</td>\n",
       "      <td>5265420000</td>\n",
       "      <td>-0.838543</td>\n",
       "      <td>0.109392</td>\n",
       "    </tr>\n",
       "    <tr>\n",
       "      <td>2008-07-08</td>\n",
       "      <td>1251.839966</td>\n",
       "      <td>1274.170044</td>\n",
       "      <td>1242.839966</td>\n",
       "      <td>1273.699951</td>\n",
       "      <td>1273.699951</td>\n",
       "      <td>6034110000</td>\n",
       "      <td>1.708035</td>\n",
       "      <td>-0.838543</td>\n",
       "    </tr>\n",
       "    <tr>\n",
       "      <td>2008-07-09</td>\n",
       "      <td>1273.380005</td>\n",
       "      <td>1277.359985</td>\n",
       "      <td>1244.569946</td>\n",
       "      <td>1244.689941</td>\n",
       "      <td>1244.689941</td>\n",
       "      <td>5181000000</td>\n",
       "      <td>-2.277617</td>\n",
       "      <td>1.708035</td>\n",
       "    </tr>\n",
       "    <tr>\n",
       "      <td>2008-07-10</td>\n",
       "      <td>1245.250000</td>\n",
       "      <td>1257.650024</td>\n",
       "      <td>1236.760010</td>\n",
       "      <td>1253.390015</td>\n",
       "      <td>1253.390015</td>\n",
       "      <td>5840430000</td>\n",
       "      <td>0.698975</td>\n",
       "      <td>-2.277617</td>\n",
       "    </tr>\n",
       "    <tr>\n",
       "      <td>2008-07-11</td>\n",
       "      <td>1248.660034</td>\n",
       "      <td>1257.270020</td>\n",
       "      <td>1225.349976</td>\n",
       "      <td>1239.489990</td>\n",
       "      <td>1239.489990</td>\n",
       "      <td>6742200000</td>\n",
       "      <td>-1.108994</td>\n",
       "      <td>0.698975</td>\n",
       "    </tr>\n",
       "  </tbody>\n",
       "</table>\n",
       "</div>"
      ],
      "text/plain": [
       "                   Open         High          Low        Close    Adj Close  \\\n",
       "Date                                                                          \n",
       "2008-07-07  1262.900024  1273.949951  1240.680054  1252.310059  1252.310059   \n",
       "2008-07-08  1251.839966  1274.170044  1242.839966  1273.699951  1273.699951   \n",
       "2008-07-09  1273.380005  1277.359985  1244.569946  1244.689941  1244.689941   \n",
       "2008-07-10  1245.250000  1257.650024  1236.760010  1253.390015  1253.390015   \n",
       "2008-07-11  1248.660034  1257.270020  1225.349976  1239.489990  1239.489990   \n",
       "\n",
       "                Volume    Return  Lagged_Return  \n",
       "Date                                             \n",
       "2008-07-07  5265420000 -0.838543       0.109392  \n",
       "2008-07-08  6034110000  1.708035      -0.838543  \n",
       "2008-07-09  5181000000 -2.277617       1.708035  \n",
       "2008-07-10  5840430000  0.698975      -2.277617  \n",
       "2008-07-11  6742200000 -1.108994       0.698975  "
      ]
     },
     "execution_count": 18,
     "metadata": {},
     "output_type": "execute_result"
    }
   ],
   "source": [
    "# Testing data with just one window\n",
    "test = df[start_of_test_week:end_of_test_week]\n",
    "test"
   ]
  },
  {
   "cell_type": "markdown",
   "metadata": {},
   "source": [
    "# Putting it all together"
   ]
  },
  {
   "cell_type": "code",
   "execution_count": 19,
   "metadata": {},
   "outputs": [
    {
     "data": {
      "text/plain": [
       "287"
      ]
     },
     "execution_count": 19,
     "metadata": {},
     "output_type": "execute_result"
    }
   ],
   "source": [
    "# Set the training window as 26 weeks\n",
    "# Total timeframe is 287 weeks\n",
    "training_window = 26\n",
    "timeframe = len(weeks) - training_window - 1\n",
    "timeframe"
   ]
  },
  {
   "cell_type": "code",
   "execution_count": 20,
   "metadata": {},
   "outputs": [
    {
     "data": {
      "text/html": [
       "<div>\n",
       "<style scoped>\n",
       "    .dataframe tbody tr th:only-of-type {\n",
       "        vertical-align: middle;\n",
       "    }\n",
       "\n",
       "    .dataframe tbody tr th {\n",
       "        vertical-align: top;\n",
       "    }\n",
       "\n",
       "    .dataframe thead th {\n",
       "        text-align: right;\n",
       "    }\n",
       "</style>\n",
       "<table border=\"1\" class=\"dataframe\">\n",
       "  <thead>\n",
       "    <tr style=\"text-align: right;\">\n",
       "      <th></th>\n",
       "      <th>Out-of-Sample Predictions</th>\n",
       "    </tr>\n",
       "  </thead>\n",
       "  <tbody>\n",
       "  </tbody>\n",
       "</table>\n",
       "</div>"
      ],
      "text/plain": [
       "Empty DataFrame\n",
       "Columns: [Out-of-Sample Predictions]\n",
       "Index: []"
      ]
     },
     "execution_count": 20,
     "metadata": {},
     "output_type": "execute_result"
    }
   ],
   "source": [
    "# Construct an empty placeholder dataframe, with a column named \"Out-of-Sample Predictions\"\n",
    "# (Each iteration of the loop, we\"ll append that week\"s predictions to this DataFrame)\n",
    "all_predictions = pd.DataFrame(columns=[\"Out-of-Sample Predictions\"])\n",
    "all_predictions"
   ]
  },
  {
   "cell_type": "code",
   "execution_count": 21,
   "metadata": {},
   "outputs": [
    {
     "data": {
      "text/html": [
       "<div>\n",
       "<style scoped>\n",
       "    .dataframe tbody tr th:only-of-type {\n",
       "        vertical-align: middle;\n",
       "    }\n",
       "\n",
       "    .dataframe tbody tr th {\n",
       "        vertical-align: top;\n",
       "    }\n",
       "\n",
       "    .dataframe thead th {\n",
       "        text-align: right;\n",
       "    }\n",
       "</style>\n",
       "<table border=\"1\" class=\"dataframe\">\n",
       "  <thead>\n",
       "    <tr style=\"text-align: right;\">\n",
       "      <th></th>\n",
       "      <th>Actual Returns</th>\n",
       "    </tr>\n",
       "  </thead>\n",
       "  <tbody>\n",
       "  </tbody>\n",
       "</table>\n",
       "</div>"
      ],
      "text/plain": [
       "Empty DataFrame\n",
       "Columns: [Actual Returns]\n",
       "Index: []"
      ]
     },
     "execution_count": 21,
     "metadata": {},
     "output_type": "execute_result"
    }
   ],
   "source": [
    "# Construct a separate empty dataframe for actual data\n",
    "all_actuals = pd.DataFrame(columns=[\"Actual Returns\"])\n",
    "all_actuals"
   ]
  },
  {
   "cell_type": "code",
   "execution_count": 22,
   "metadata": {},
   "outputs": [],
   "source": [
    "for i in range(0, timeframe):\n",
    "    \n",
    "    # Beginning of training window\n",
    "    start_of_training_period = weeks[i].start_time.strftime(format=\"%Y-%m-%d\")\n",
    "    \n",
    "    # End of training window\n",
    "    end_of_training_period = weeks[training_window + i].end_time.strftime(format=\"%Y-%m-%d\")\n",
    "\n",
    "    # Window of test-window data\n",
    "    test_week = weeks[training_window+i+1]\n",
    "    \n",
    "    # String of testing window\n",
    "    start_of_test_week  = test_week.start_time.strftime(format=\"%Y-%m-%d\")\n",
    "    end_of_test_week = test_week.end_time.strftime(format=\"%Y-%m-%d\")\n",
    "    \n",
    "    train = df[start_of_training_period:end_of_training_period]\n",
    "    test = df[start_of_test_week:end_of_test_week]\n",
    "    \n",
    "    # Create new dataframes:\n",
    "    X_train = train[\"Lagged_Return\"].to_frame()\n",
    "    y_train = train[\"Return\"]\n",
    "    X_test = test[\"Lagged_Return\"].to_frame()\n",
    "    y_test = test[\"Return\"]\n",
    "\n",
    "    model = LinearRegression()\n",
    "    model.fit(X_train, y_train)\n",
    "    predictions = model.predict(X_test)\n",
    "    # Create a temporary dataframe to hold predictions\n",
    "    predictions = pd.DataFrame(predictions, index=X_test.index, columns=[\"Out-of-Sample Predictions\"])\n",
    "    # Create a temporary DataFrame of the actual \"y\"s in the test dataframe, with column name=\"Actual Returns\": \n",
    "    actuals = pd.DataFrame(y_test, index=y_test.index)\n",
    "    actuals.columns = [\"Actual Returns\"]  \n",
    "    # Append these two dataframes (predictions and actuals) to the two master DataFrames built outside the loop\n",
    "    all_predictions = all_predictions.append(predictions)\n",
    "    all_actuals = all_actuals.append(actuals)"
   ]
  },
  {
   "cell_type": "code",
   "execution_count": 23,
   "metadata": {},
   "outputs": [
    {
     "data": {
      "text/html": [
       "<div>\n",
       "<style scoped>\n",
       "    .dataframe tbody tr th:only-of-type {\n",
       "        vertical-align: middle;\n",
       "    }\n",
       "\n",
       "    .dataframe tbody tr th {\n",
       "        vertical-align: top;\n",
       "    }\n",
       "\n",
       "    .dataframe thead th {\n",
       "        text-align: right;\n",
       "    }\n",
       "</style>\n",
       "<table border=\"1\" class=\"dataframe\">\n",
       "  <thead>\n",
       "    <tr style=\"text-align: right;\">\n",
       "      <th></th>\n",
       "      <th>Actual Returns</th>\n",
       "      <th>Out-of-Sample Predictions</th>\n",
       "    </tr>\n",
       "  </thead>\n",
       "  <tbody>\n",
       "    <tr>\n",
       "      <td>2008-07-07</td>\n",
       "      <td>-0.838543</td>\n",
       "      <td>-0.128083</td>\n",
       "    </tr>\n",
       "    <tr>\n",
       "      <td>2008-07-08</td>\n",
       "      <td>1.708035</td>\n",
       "      <td>0.002863</td>\n",
       "    </tr>\n",
       "    <tr>\n",
       "      <td>2008-07-09</td>\n",
       "      <td>-2.277617</td>\n",
       "      <td>-0.348918</td>\n",
       "    </tr>\n",
       "    <tr>\n",
       "      <td>2008-07-10</td>\n",
       "      <td>0.698975</td>\n",
       "      <td>0.201655</td>\n",
       "    </tr>\n",
       "    <tr>\n",
       "      <td>2008-07-11</td>\n",
       "      <td>-1.108994</td>\n",
       "      <td>-0.209528</td>\n",
       "    </tr>\n",
       "  </tbody>\n",
       "</table>\n",
       "</div>"
      ],
      "text/plain": [
       "            Actual Returns  Out-of-Sample Predictions\n",
       "2008-07-07       -0.838543                  -0.128083\n",
       "2008-07-08        1.708035                   0.002863\n",
       "2008-07-09       -2.277617                  -0.348918\n",
       "2008-07-10        0.698975                   0.201655\n",
       "2008-07-11       -1.108994                  -0.209528"
      ]
     },
     "execution_count": 23,
     "metadata": {},
     "output_type": "execute_result"
    }
   ],
   "source": [
    "# Once the loop is done, concatenate (combine) the two dataframes to a final \"Results\" dataframe:    \n",
    "Results = pd.concat([all_actuals, all_predictions], axis=1)\n",
    "Results.head()"
   ]
  },
  {
   "cell_type": "code",
   "execution_count": 24,
   "metadata": {},
   "outputs": [
    {
     "data": {
      "text/plain": [
       "array([<matplotlib.axes._subplots.AxesSubplot object at 0x10d6615f8>,\n",
       "       <matplotlib.axes._subplots.AxesSubplot object at 0x1a2166c390>],\n",
       "      dtype=object)"
      ]
     },
     "execution_count": 24,
     "metadata": {},
     "output_type": "execute_result"
    },
    {
     "data": {
      "image/png": "[encoded data removed]",
      "text/plain": [
       "<Figure size 432x288 with 2 Axes>"
      ]
     },
     "metadata": {
      "needs_background": "light"
     },
     "output_type": "display_data"
    }
   ],
   "source": [
    "# Plot the first 20 predictions vs the true values\n",
    "Results[:20].plot(subplots=True)"
   ]
  },
  {
   "cell_type": "markdown",
   "metadata": {},
   "source": [
    "# RMSE for Out-of-sample Predictions"
   ]
  },
  {
   "cell_type": "code",
   "execution_count": 25,
   "metadata": {},
   "outputs": [
    {
     "name": "stdout",
     "output_type": "stream",
     "text": [
      "Out-of-Sample Root Mean Squared Error (RMSE): 1.5640825019116436\n"
     ]
    }
   ],
   "source": [
    "from sklearn.metrics import mean_squared_error, r2_score\n",
    "\n",
    "mse = mean_squared_error(\n",
    "    Results[\"Actual Returns\"],\n",
    "    Results[\"Out-of-Sample Predictions\"]\n",
    ")\n",
    "\n",
    "# Using that mean-squared-error, calculate the root-mean-squared error (RMSE):\n",
    "out_of_sample_rmse = np.sqrt(mse)\n",
    "print(f\"Out-of-Sample Root Mean Squared Error (RMSE): {out_of_sample_rmse}\")"
   ]
  },
  {
   "cell_type": "code",
   "execution_count": null,
   "metadata": {},
   "outputs": [],
   "source": []
  }
 ],
 "metadata": {
  "kernelspec": {
   "display_name": "Python 3",
   "language": "python",
   "name": "python3"
  },
  "language_info": {
   "codemirror_mode": {
    "name": "ipython",
    "version": 3
   },
   "file_extension": ".py",
   "mimetype": "text/x-python",
   "name": "python",
   "nbconvert_exporter": "python",
   "pygments_lexer": "ipython3",
   "version": "3.7.1"
  }
 },
 "nbformat": 4,
 "nbformat_minor": 4
}
