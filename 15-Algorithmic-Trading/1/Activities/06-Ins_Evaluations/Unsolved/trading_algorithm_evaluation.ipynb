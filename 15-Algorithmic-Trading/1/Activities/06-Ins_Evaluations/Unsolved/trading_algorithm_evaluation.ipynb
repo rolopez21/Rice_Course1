{
 "cells": [
  {
   "cell_type": "markdown",
   "metadata": {},
   "source": [
    "# Evaluation Metrics"
   ]
  },
  {
   "cell_type": "markdown",
   "metadata": {},
   "source": [
    "### Import Libraries and Dependencies"
   ]
  },
  {
   "cell_type": "code",
   "execution_count": null,
   "metadata": {},
   "outputs": [],
   "source": [
    "import numpy as np\n",
    "import pandas as pd\n",
    "from pathlib import Path"
   ]
  },
  {
   "cell_type": "markdown",
   "metadata": {},
   "source": [
    "### Read Signal Data CSV and Import as Pandas DataFrame"
   ]
  },
  {
   "cell_type": "code",
   "execution_count": null,
   "metadata": {},
   "outputs": [],
   "source": [
    "# Read in data and set index\n",
    "filepath = Path('../Resources/trading_signals.csv')\n",
    "signals_df = pd.read_csv(filepath, parse_dates=True, infer_datetime_format=True)\n",
    "signals_df = signals_df.set_index(\"date\", drop=True)\n",
    "signals_df.head()"
   ]
  },
  {
   "cell_type": "markdown",
   "metadata": {},
   "source": [
    "### Prepare Portfolio Evaluation Metrics DataFrame"
   ]
  },
  {
   "cell_type": "code",
   "execution_count": null,
   "metadata": {},
   "outputs": [],
   "source": [
    "# Prepare DataFrame for metrics\n",
    "metrics = [\n",
    "    'Annual Return',\n",
    "    'Cumulative Returns',\n",
    "    'Annual Volatility',\n",
    "    'Sharpe Ratio',\n",
    "    'Sortino Ratio']\n",
    "\n",
    "columns = ['Backtest']\n",
    "\n",
    "# Initialize the DataFrame with index set to evaluation metrics and column as `Backtest` (just like PyFolio)\n",
    "portfolio_evaluation_df = pd.DataFrame(index=metrics, columns=columns)\n",
    "portfolio_evaluation_df"
   ]
  },
  {
   "cell_type": "markdown",
   "metadata": {},
   "source": [
    "### Calculate and Assign Portfolio Evaluation Metrics"
   ]
  },
  {
   "cell_type": "code",
   "execution_count": null,
   "metadata": {},
   "outputs": [],
   "source": []
  },
  {
   "cell_type": "markdown",
   "metadata": {},
   "source": [
    "### Prepare Trade Evaluation Metrics DataFrame"
   ]
  },
  {
   "cell_type": "code",
   "execution_count": null,
   "metadata": {},
   "outputs": [],
   "source": []
  },
  {
   "cell_type": "markdown",
   "metadata": {},
   "source": [
    "### Calculate and Append Trade Evaluation Metrics"
   ]
  },
  {
   "cell_type": "code",
   "execution_count": null,
   "metadata": {},
   "outputs": [],
   "source": []
  }
 ],
 "metadata": {
  "kernelspec": {
   "display_name": "Python 3",
   "language": "python",
   "name": "python3"
  },
  "language_info": {
   "codemirror_mode": {
    "name": "ipython",
    "version": 3
   },
   "file_extension": ".py",
   "mimetype": "text/x-python",
   "name": "python",
   "nbconvert_exporter": "python",
   "pygments_lexer": "ipython3",
   "version": "3.7.4"
  }
 },
 "nbformat": 4,
 "nbformat_minor": 4
}
