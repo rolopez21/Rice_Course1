{
 "cells": [
  {
   "cell_type": "markdown",
   "metadata": {},
   "source": [
    "# The Voice of the Crisis\n",
    "\n",
    "Despite it happening over a decade ago, the financial crisis of 2008 is still on the news due to its effects in global economy. On this activity you will retrieve news articles about this historical economic fact in English and French to capture the voice of the crisis in two different languages."
   ]
  },
  {
   "cell_type": "code",
   "execution_count": 1,
   "metadata": {},
   "outputs": [],
   "source": [
    "# Initial imports\n",
    "import os\n",
    "import pandas as pd\n",
    "from path import Path\n",
    "from newsapi import NewsApiClient\n",
    "\n"
   ]
  },
  {
   "cell_type": "code",
   "execution_count": 2,
   "metadata": {},
   "outputs": [],
   "source": [
    "# Retrieve the News API key\n",
    "api_key = os.getenv(\"news_api\")\n",
    "\n"
   ]
  },
  {
   "cell_type": "code",
   "execution_count": 3,
   "metadata": {},
   "outputs": [],
   "source": [
    "# Create the newsapi client\n",
    "newsapi = NewsApiClient(api_key=api_key)\n",
    "\n"
   ]
  },
  {
   "cell_type": "markdown",
   "metadata": {},
   "source": [
    "## Getting News Articles in English\n",
    "\n",
    "In this section you have to fetch all the news articles using the News API with the keywords `financial`, `crisis`, and `2008` in English.\n",
    "\n"
   ]
  },
  {
   "cell_type": "code",
   "execution_count": 4,
   "metadata": {},
   "outputs": [
    {
     "data": {
      "text/plain": [
       "2108"
      ]
     },
     "execution_count": 4,
     "metadata": {},
     "output_type": "execute_result"
    }
   ],
   "source": [
    "# Fetch news about the financial crisis on 2008 in English\n",
    "crisis_news_en = newsapi.get_everything(\n",
    "    q=\"financial AND crisis AND 2008\",\n",
    "    language=\"en\"\n",
    ")\n",
    "\n",
    "# Show the total number of news\n",
    "crisis_news_en[\"totalResults\"]\n",
    "\n"
   ]
  },
  {
   "cell_type": "markdown",
   "metadata": {},
   "source": [
    "## Gettig News Articles in French\n",
    "\n",
    "Fetching news on French will require keywords on this language, so retrieve all the news articles using the News API using the keywords `crise`, `financière`, and `2008`."
   ]
  },
  {
   "cell_type": "code",
   "execution_count": 5,
   "metadata": {},
   "outputs": [
    {
     "data": {
      "text/plain": [
       "151"
      ]
     },
     "execution_count": 5,
     "metadata": {},
     "output_type": "execute_result"
    }
   ],
   "source": [
    "# Fetch news about the financial crisis on 2008 in French\n",
    "crisis_news_fr = newsapi.get_everything(\n",
    "    q=\"crise AND financière  AND 2008\",\n",
    "    language=\"fr\"\n",
    ")\n",
    "\n",
    "# Show the total number of news\n",
    "crisis_news_fr[\"totalResults\"]\n",
    "\n"
   ]
  },
  {
   "cell_type": "markdown",
   "metadata": {},
   "source": [
    "## Create a DataFrame with All the Results\n",
    "\n",
    "The first task on this section is to create a function called `create_df(news, language)` that will transform the `articles` list in a DataFrame. This function will receive two parameters: `news` is the articles' list and `language` is a string to specify the language of the news articles.\n",
    "\n",
    "The resulting DataFrame should have the following columns:\n",
    "\n",
    "* Title: The article's title\n",
    "* Description: The article's description\n",
    "* Text: The article's content\n",
    "* Date: The date when the article was published on the format `YYY-MM-DD` (eg. 2019-07-11)\n",
    "* Language: A string specifying the news language (`en` for English, `fr` for French)"
   ]
  },
  {
   "cell_type": "code",
   "execution_count": 8,
   "metadata": {},
   "outputs": [
    {
     "name": "stdout",
     "output_type": "stream",
     "text": [
      "hey there was an error!\n"
     ]
    }
   ],
   "source": [
    "def tryhard():\n",
    "    try:\n",
    "    \n",
    "        banana = \"welcome to the show\"\n",
    "        apple = 2/0\n",
    "    except:\n",
    "        print(\"hey there was an error!\")\n",
    "\n",
    "tryhard()"
   ]
  },
  {
   "cell_type": "code",
   "execution_count": 6,
   "metadata": {},
   "outputs": [],
   "source": [
    "def create_df(news, language):\n",
    "    articles = []\n",
    "    for article in news:\n",
    "        try:\n",
    "            title = article[\"title\"]\n",
    "            description = article[\"description\"]\n",
    "            text = article[\"content\"]\n",
    "            date = article[\"publishedAt\"][:10]\n",
    "\n",
    "            articles.append({\n",
    "                \"title\": title,\n",
    "                \"description\": description,\n",
    "                \"text\": text,\n",
    "                \"date\": date,\n",
    "                \"language\": language\n",
    "            })\n",
    "        except AttributeError:\n",
    "            pass\n",
    "\n",
    "    return pd.DataFrame(articles)\n",
    "\n"
   ]
  },
  {
   "cell_type": "markdown",
   "metadata": {},
   "source": [
    "Use the create_df() function to create a DataFrame for the English news and another for the French news."
   ]
  },
  {
   "cell_type": "code",
   "execution_count": 7,
   "metadata": {},
   "outputs": [],
   "source": [
    "# Create a DataFrame with the news in English\n",
    "crisis_en_df = create_df(crisis_news_en[\"articles\"], \"en\")\n",
    "\n",
    "# Create a DataFrame with the news in French\n",
    "crisis_fr_df = create_df(crisis_news_fr[\"articles\"], \"fr\")\n",
    "\n"
   ]
  },
  {
   "cell_type": "markdown",
   "metadata": {},
   "source": [
    "Concatenate both DataFrames having the English news at the top and the French news at the bottom."
   ]
  },
  {
   "cell_type": "code",
   "execution_count": 8,
   "metadata": {},
   "outputs": [],
   "source": [
    "crisis_df = pd.concat([crisis_en_df, crisis_fr_df])\n",
    "\n"
   ]
  },
  {
   "cell_type": "code",
   "execution_count": 9,
   "metadata": {},
   "outputs": [
    {
     "data": {
      "text/html": [
       "<div>\n",
       "<style scoped>\n",
       "    .dataframe tbody tr th:only-of-type {\n",
       "        vertical-align: middle;\n",
       "    }\n",
       "\n",
       "    .dataframe tbody tr th {\n",
       "        vertical-align: top;\n",
       "    }\n",
       "\n",
       "    .dataframe thead th {\n",
       "        text-align: right;\n",
       "    }\n",
       "</style>\n",
       "<table border=\"1\" class=\"dataframe\">\n",
       "  <thead>\n",
       "    <tr style=\"text-align: right;\">\n",
       "      <th></th>\n",
       "      <th>date</th>\n",
       "      <th>description</th>\n",
       "      <th>language</th>\n",
       "      <th>text</th>\n",
       "      <th>title</th>\n",
       "    </tr>\n",
       "  </thead>\n",
       "  <tbody>\n",
       "    <tr>\n",
       "      <th>0</th>\n",
       "      <td>2019-07-08</td>\n",
       "      <td>Technology has been used to manage regulatory ...</td>\n",
       "      <td>en</td>\n",
       "      <td>Technology has been used to manage regulatory ...</td>\n",
       "      <td>The startups creating the future of RegTech an...</td>\n",
       "    </tr>\n",
       "    <tr>\n",
       "      <th>1</th>\n",
       "      <td>2019-07-13</td>\n",
       "      <td>Michelle Bond joined Ripple Labs, a blockchain...</td>\n",
       "      <td>en</td>\n",
       "      <td>Michelle Bond knows some of the most complicat...</td>\n",
       "      <td>She helped the SEC implement sweeping reforms ...</td>\n",
       "    </tr>\n",
       "    <tr>\n",
       "      <th>2</th>\n",
       "      <td>2019-06-15</td>\n",
       "      <td>Who doesn’t love making signs and getting angr...</td>\n",
       "      <td>en</td>\n",
       "      <td>Having never attended my high school prom (I b...</td>\n",
       "      <td>I Don’t Go to Parties. I Go to Protests.</td>\n",
       "    </tr>\n",
       "    <tr>\n",
       "      <th>3</th>\n",
       "      <td>2019-07-09</td>\n",
       "      <td>A probability model used by the New York Fed t...</td>\n",
       "      <td>en</td>\n",
       "      <td>David Karp/AP\\r\\n&lt;ul&gt;&lt;li&gt;A probability model u...</td>\n",
       "      <td>A critical recession indicator used by the Fed...</td>\n",
       "    </tr>\n",
       "    <tr>\n",
       "      <th>4</th>\n",
       "      <td>2019-06-28</td>\n",
       "      <td>What is the G20, and what do they do when they...</td>\n",
       "      <td>en</td>\n",
       "      <td>Image copyrightGetty ImagesImage caption\\r\\n A...</td>\n",
       "      <td>What is the G20 summit, and what do world lead...</td>\n",
       "    </tr>\n",
       "  </tbody>\n",
       "</table>\n",
       "</div>"
      ],
      "text/plain": [
       "         date                                        description language  \\\n",
       "0  2019-07-08  Technology has been used to manage regulatory ...       en   \n",
       "1  2019-07-13  Michelle Bond joined Ripple Labs, a blockchain...       en   \n",
       "2  2019-06-15  Who doesn’t love making signs and getting angr...       en   \n",
       "3  2019-07-09  A probability model used by the New York Fed t...       en   \n",
       "4  2019-06-28  What is the G20, and what do they do when they...       en   \n",
       "\n",
       "                                                text  \\\n",
       "0  Technology has been used to manage regulatory ...   \n",
       "1  Michelle Bond knows some of the most complicat...   \n",
       "2  Having never attended my high school prom (I b...   \n",
       "3  David Karp/AP\\r\\n<ul><li>A probability model u...   \n",
       "4  Image copyrightGetty ImagesImage caption\\r\\n A...   \n",
       "\n",
       "                                               title  \n",
       "0  The startups creating the future of RegTech an...  \n",
       "1  She helped the SEC implement sweeping reforms ...  \n",
       "2           I Don’t Go to Parties. I Go to Protests.  \n",
       "3  A critical recession indicator used by the Fed...  \n",
       "4  What is the G20 summit, and what do world lead...  "
      ]
     },
     "execution_count": 9,
     "metadata": {},
     "output_type": "execute_result"
    }
   ],
   "source": [
    "# Show the head articles (they are in English)\n",
    "crisis_df.head()\n",
    "\n"
   ]
  },
  {
   "cell_type": "code",
   "execution_count": 10,
   "metadata": {},
   "outputs": [
    {
     "data": {
      "text/html": [
       "<div>\n",
       "<style scoped>\n",
       "    .dataframe tbody tr th:only-of-type {\n",
       "        vertical-align: middle;\n",
       "    }\n",
       "\n",
       "    .dataframe tbody tr th {\n",
       "        vertical-align: top;\n",
       "    }\n",
       "\n",
       "    .dataframe thead th {\n",
       "        text-align: right;\n",
       "    }\n",
       "</style>\n",
       "<table border=\"1\" class=\"dataframe\">\n",
       "  <thead>\n",
       "    <tr style=\"text-align: right;\">\n",
       "      <th></th>\n",
       "      <th>date</th>\n",
       "      <th>description</th>\n",
       "      <th>language</th>\n",
       "      <th>text</th>\n",
       "      <th>title</th>\n",
       "    </tr>\n",
       "  </thead>\n",
       "  <tbody>\n",
       "    <tr>\n",
       "      <th>15</th>\n",
       "      <td>2019-07-01</td>\n",
       "      <td>PARIS (Reuters) - Natixis a annoncé lundi son ...</td>\n",
       "      <td>fr</td>\n",
       "      <td>PARIS (Reuters) - Natixis a annoncé lundi son ...</td>\n",
       "      <td>Natixis renvoyée devant la justice pour sa com...</td>\n",
       "    </tr>\n",
       "    <tr>\n",
       "      <th>16</th>\n",
       "      <td>2019-07-16</td>\n",
       "      <td>FIGAROVOX/TRIBUNE - L’économiste colombien Jos...</td>\n",
       "      <td>fr</td>\n",
       "      <td>FIGAROVOX/TRIBUNE - Léconomiste colombien José...</td>\n",
       "      <td>«Il faut un accord international pour taxer le...</td>\n",
       "    </tr>\n",
       "    <tr>\n",
       "      <th>17</th>\n",
       "      <td>2019-07-16</td>\n",
       "      <td>La régulation mise en place après la crise de ...</td>\n",
       "      <td>fr</td>\n",
       "      <td>Dans les années 1920 comme au début des années...</td>\n",
       "      <td>Années 30 : la finance mise au pas</td>\n",
       "    </tr>\n",
       "    <tr>\n",
       "      <th>18</th>\n",
       "      <td>2019-07-16</td>\n",
       "      <td>Malgré les nouveaux outils à sa disposition, l...</td>\n",
       "      <td>fr</td>\n",
       "      <td>Leuro a 20 ans, mais il est en petite forme. A...</td>\n",
       "      <td>Zone euro : attention, fragile !</td>\n",
       "    </tr>\n",
       "    <tr>\n",
       "      <th>19</th>\n",
       "      <td>2019-06-29</td>\n",
       "      <td>Washington a même levé sa menace d'imposer de ...</td>\n",
       "      <td>fr</td>\n",
       "      <td>Une trêve similaire à celle du dernier G20. Ce...</td>\n",
       "      <td>Au G20, Trump et Xi conviennent d'une trêve co...</td>\n",
       "    </tr>\n",
       "  </tbody>\n",
       "</table>\n",
       "</div>"
      ],
      "text/plain": [
       "          date                                        description language  \\\n",
       "15  2019-07-01  PARIS (Reuters) - Natixis a annoncé lundi son ...       fr   \n",
       "16  2019-07-16  FIGAROVOX/TRIBUNE - L’économiste colombien Jos...       fr   \n",
       "17  2019-07-16  La régulation mise en place après la crise de ...       fr   \n",
       "18  2019-07-16  Malgré les nouveaux outils à sa disposition, l...       fr   \n",
       "19  2019-06-29  Washington a même levé sa menace d'imposer de ...       fr   \n",
       "\n",
       "                                                 text  \\\n",
       "15  PARIS (Reuters) - Natixis a annoncé lundi son ...   \n",
       "16  FIGAROVOX/TRIBUNE - Léconomiste colombien José...   \n",
       "17  Dans les années 1920 comme au début des années...   \n",
       "18  Leuro a 20 ans, mais il est en petite forme. A...   \n",
       "19  Une trêve similaire à celle du dernier G20. Ce...   \n",
       "\n",
       "                                                title  \n",
       "15  Natixis renvoyée devant la justice pour sa com...  \n",
       "16  «Il faut un accord international pour taxer le...  \n",
       "17                 Années 30 : la finance mise au pas  \n",
       "18                   Zone euro : attention, fragile !  \n",
       "19  Au G20, Trump et Xi conviennent d'une trêve co...  "
      ]
     },
     "execution_count": 10,
     "metadata": {},
     "output_type": "execute_result"
    }
   ],
   "source": [
    "# Show the tail articles (they are in French)\n",
    "crisis_df.tail()\n",
    "\n"
   ]
  },
  {
   "cell_type": "markdown",
   "metadata": {},
   "source": [
    "Save tha final DataFrame as a CSV file for further analysis in the forthcoming activities."
   ]
  },
  {
   "cell_type": "code",
   "execution_count": 11,
   "metadata": {},
   "outputs": [],
   "source": [
    "file_path = Path(\"Data/crisis_news_en_fr.csv\")\n",
    "crisis_df.to_csv(file_path, index=False, encoding='utf-8-sig')\n",
    "\n"
   ]
  }
 ],
 "metadata": {
  "file_extension": ".py",
  "kernelspec": {
   "display_name": "Python 3",
   "language": "python",
   "name": "python3"
  },
  "language_info": {
   "codemirror_mode": {
    "name": "ipython",
    "version": 3
   },
   "file_extension": ".py",
   "mimetype": "text/x-python",
   "name": "python",
   "nbconvert_exporter": "python",
   "pygments_lexer": "ipython3",
   "version": "3.7.1"
  },
  "mimetype": "text/x-python",
  "name": "python",
  "npconvert_exporter": "python",
  "pygments_lexer": "ipython3",
  "version": 3
 },
 "nbformat": 4,
 "nbformat_minor": 4
}
