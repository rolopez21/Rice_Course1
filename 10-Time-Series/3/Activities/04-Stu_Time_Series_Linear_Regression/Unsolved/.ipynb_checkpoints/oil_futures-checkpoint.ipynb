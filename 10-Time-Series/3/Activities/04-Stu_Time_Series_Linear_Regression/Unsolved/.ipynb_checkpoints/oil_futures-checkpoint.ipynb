{
 "cells": [
  {
   "cell_type": "markdown",
   "metadata": {},
   "source": [
    "# Oil Futures"
   ]
  },
  {
   "cell_type": "code",
   "execution_count": 1,
   "metadata": {},
   "outputs": [],
   "source": [
    "import pandas as pd\n",
    "import numpy as np\n",
    "from pathlib import Path\n",
    "from sklearn.linear_model import LinearRegression\n",
    "%matplotlib inline"
   ]
  },
  {
   "cell_type": "markdown",
   "metadata": {},
   "source": [
    "### Read in data"
   ]
  },
  {
   "cell_type": "code",
   "execution_count": 2,
   "metadata": {},
   "outputs": [
    {
     "data": {
      "text/html": [
       "<div>\n",
       "<style scoped>\n",
       "    .dataframe tbody tr th:only-of-type {\n",
       "        vertical-align: middle;\n",
       "    }\n",
       "\n",
       "    .dataframe tbody tr th {\n",
       "        vertical-align: top;\n",
       "    }\n",
       "\n",
       "    .dataframe thead th {\n",
       "        text-align: right;\n",
       "    }\n",
       "</style>\n",
       "<table border=\"1\" class=\"dataframe\">\n",
       "  <thead>\n",
       "    <tr style=\"text-align: right;\">\n",
       "      <th></th>\n",
       "      <th>Open</th>\n",
       "      <th>High</th>\n",
       "      <th>Low</th>\n",
       "      <th>Last</th>\n",
       "      <th>Change</th>\n",
       "      <th>Settle</th>\n",
       "      <th>Volume</th>\n",
       "      <th>Previous Day Open Interest</th>\n",
       "      <th>Lagged_Return</th>\n",
       "    </tr>\n",
       "    <tr>\n",
       "      <th>Date</th>\n",
       "      <th></th>\n",
       "      <th></th>\n",
       "      <th></th>\n",
       "      <th></th>\n",
       "      <th></th>\n",
       "      <th></th>\n",
       "      <th></th>\n",
       "      <th></th>\n",
       "      <th></th>\n",
       "    </tr>\n",
       "  </thead>\n",
       "  <tbody>\n",
       "    <tr>\n",
       "      <td>2014-02-20</td>\n",
       "      <td>100.78</td>\n",
       "      <td>100.78</td>\n",
       "      <td>100.78</td>\n",
       "      <td>100.78</td>\n",
       "      <td>0.05</td>\n",
       "      <td>100.78</td>\n",
       "      <td>15.0</td>\n",
       "      <td>12833.0</td>\n",
       "      <td>0.318376</td>\n",
       "    </tr>\n",
       "    <tr>\n",
       "      <td>2014-02-21</td>\n",
       "      <td>100.61</td>\n",
       "      <td>100.61</td>\n",
       "      <td>100.61</td>\n",
       "      <td>100.61</td>\n",
       "      <td>0.17</td>\n",
       "      <td>100.61</td>\n",
       "      <td>0.0</td>\n",
       "      <td>12833.0</td>\n",
       "      <td>-0.049588</td>\n",
       "    </tr>\n",
       "    <tr>\n",
       "      <td>2014-02-24</td>\n",
       "      <td>100.77</td>\n",
       "      <td>100.77</td>\n",
       "      <td>100.77</td>\n",
       "      <td>100.77</td>\n",
       "      <td>0.16</td>\n",
       "      <td>100.77</td>\n",
       "      <td>6.0</td>\n",
       "      <td>12833.0</td>\n",
       "      <td>-0.168684</td>\n",
       "    </tr>\n",
       "    <tr>\n",
       "      <td>2014-02-25</td>\n",
       "      <td>100.57</td>\n",
       "      <td>100.57</td>\n",
       "      <td>100.57</td>\n",
       "      <td>100.57</td>\n",
       "      <td>0.20</td>\n",
       "      <td>100.57</td>\n",
       "      <td>81.0</td>\n",
       "      <td>12827.0</td>\n",
       "      <td>0.159030</td>\n",
       "    </tr>\n",
       "    <tr>\n",
       "      <td>2014-02-26</td>\n",
       "      <td>100.69</td>\n",
       "      <td>100.69</td>\n",
       "      <td>100.69</td>\n",
       "      <td>100.69</td>\n",
       "      <td>0.12</td>\n",
       "      <td>100.69</td>\n",
       "      <td>0.0</td>\n",
       "      <td>12776.0</td>\n",
       "      <td>-0.198472</td>\n",
       "    </tr>\n",
       "  </tbody>\n",
       "</table>\n",
       "</div>"
      ],
      "text/plain": [
       "              Open    High     Low    Last  Change  Settle  Volume  \\\n",
       "Date                                                                 \n",
       "2014-02-20  100.78  100.78  100.78  100.78    0.05  100.78    15.0   \n",
       "2014-02-21  100.61  100.61  100.61  100.61    0.17  100.61     0.0   \n",
       "2014-02-24  100.77  100.77  100.77  100.77    0.16  100.77     6.0   \n",
       "2014-02-25  100.57  100.57  100.57  100.57    0.20  100.57    81.0   \n",
       "2014-02-26  100.69  100.69  100.69  100.69    0.12  100.69     0.0   \n",
       "\n",
       "            Previous Day Open Interest  Lagged_Return  \n",
       "Date                                                   \n",
       "2014-02-20                     12833.0       0.318376  \n",
       "2014-02-21                     12833.0      -0.049588  \n",
       "2014-02-24                     12833.0      -0.168684  \n",
       "2014-02-25                     12827.0       0.159030  \n",
       "2014-02-26                     12776.0      -0.198472  "
      ]
     },
     "execution_count": 2,
     "metadata": {},
     "output_type": "execute_result"
    }
   ],
   "source": [
    "df = pd.read_csv(\n",
    "    Path(\"../Resources/oil_futures.csv\"), parse_dates=True, index_col=\"Date\"\n",
    ")\n",
    "\n",
    "df.head()"
   ]
  },
  {
   "cell_type": "code",
   "execution_count": 3,
   "metadata": {},
   "outputs": [
    {
     "data": {
      "text/plain": [
       "<matplotlib.axes._subplots.AxesSubplot at 0x7fbc032eb550>"
      ]
     },
     "execution_count": 3,
     "metadata": {},
     "output_type": "execute_result"
    },
    {
     "data": {
      "image/png": "[encoded data removed]",
      "text/plain": [
       "<Figure size 432x288 with 1 Axes>"
      ]
     },
     "metadata": {
      "needs_background": "light"
     },
     "output_type": "display_data"
    }
   ],
   "source": [
    "# More on settle prices: https://www.investopedia.com/terms/s/settlementprice.asp\n",
    "df.Settle.plot()"
   ]
  },
  {
   "cell_type": "markdown",
   "metadata": {},
   "source": [
    "### Calculate returns"
   ]
  },
  {
   "cell_type": "code",
   "execution_count": 4,
   "metadata": {},
   "outputs": [
    {
     "data": {
      "text/plain": [
       "<matplotlib.axes._subplots.AxesSubplot at 0x7fbc1031db10>"
      ]
     },
     "execution_count": 4,
     "metadata": {},
     "output_type": "execute_result"
    },
    {
     "data": {
      "image/png": "[encoded data removed]",
      "text/plain": [
       "<Figure size 432x288 with 1 Axes>"
      ]
     },
     "metadata": {
      "needs_background": "light"
     },
     "output_type": "display_data"
    }
   ],
   "source": [
    "# Create a column of the settle price returns\n",
    "# YOUR CODE HERE!"
   ]
  },
  {
   "cell_type": "code",
   "execution_count": 5,
   "metadata": {},
   "outputs": [
    {
     "data": {
      "text/html": [
       "<div>\n",
       "<style scoped>\n",
       "    .dataframe tbody tr th:only-of-type {\n",
       "        vertical-align: middle;\n",
       "    }\n",
       "\n",
       "    .dataframe tbody tr th {\n",
       "        vertical-align: top;\n",
       "    }\n",
       "\n",
       "    .dataframe thead th {\n",
       "        text-align: right;\n",
       "    }\n",
       "</style>\n",
       "<table border=\"1\" class=\"dataframe\">\n",
       "  <thead>\n",
       "    <tr style=\"text-align: right;\">\n",
       "      <th></th>\n",
       "      <th>Open</th>\n",
       "      <th>High</th>\n",
       "      <th>Low</th>\n",
       "      <th>Last</th>\n",
       "      <th>Change</th>\n",
       "      <th>Settle</th>\n",
       "      <th>Volume</th>\n",
       "      <th>Previous Day Open Interest</th>\n",
       "      <th>Lagged_Return</th>\n",
       "      <th>Return</th>\n",
       "    </tr>\n",
       "    <tr>\n",
       "      <th>Date</th>\n",
       "      <th></th>\n",
       "      <th></th>\n",
       "      <th></th>\n",
       "      <th></th>\n",
       "      <th></th>\n",
       "      <th></th>\n",
       "      <th></th>\n",
       "      <th></th>\n",
       "      <th></th>\n",
       "      <th></th>\n",
       "    </tr>\n",
       "  </thead>\n",
       "  <tbody>\n",
       "    <tr>\n",
       "      <td>2014-02-24</td>\n",
       "      <td>100.77</td>\n",
       "      <td>100.77</td>\n",
       "      <td>100.77</td>\n",
       "      <td>100.77</td>\n",
       "      <td>0.16</td>\n",
       "      <td>100.77</td>\n",
       "      <td>6.0</td>\n",
       "      <td>12833.0</td>\n",
       "      <td>-0.168684</td>\n",
       "      <td>0.159030</td>\n",
       "    </tr>\n",
       "    <tr>\n",
       "      <td>2014-02-25</td>\n",
       "      <td>100.57</td>\n",
       "      <td>100.57</td>\n",
       "      <td>100.57</td>\n",
       "      <td>100.57</td>\n",
       "      <td>0.20</td>\n",
       "      <td>100.57</td>\n",
       "      <td>81.0</td>\n",
       "      <td>12827.0</td>\n",
       "      <td>0.159030</td>\n",
       "      <td>-0.198472</td>\n",
       "    </tr>\n",
       "    <tr>\n",
       "      <td>2014-02-26</td>\n",
       "      <td>100.69</td>\n",
       "      <td>100.69</td>\n",
       "      <td>100.69</td>\n",
       "      <td>100.69</td>\n",
       "      <td>0.12</td>\n",
       "      <td>100.69</td>\n",
       "      <td>0.0</td>\n",
       "      <td>12776.0</td>\n",
       "      <td>-0.198472</td>\n",
       "      <td>0.119320</td>\n",
       "    </tr>\n",
       "    <tr>\n",
       "      <td>2014-02-27</td>\n",
       "      <td>100.67</td>\n",
       "      <td>100.67</td>\n",
       "      <td>100.67</td>\n",
       "      <td>100.67</td>\n",
       "      <td>0.02</td>\n",
       "      <td>100.67</td>\n",
       "      <td>0.0</td>\n",
       "      <td>12776.0</td>\n",
       "      <td>0.119320</td>\n",
       "      <td>-0.019863</td>\n",
       "    </tr>\n",
       "    <tr>\n",
       "      <td>2014-02-28</td>\n",
       "      <td>100.68</td>\n",
       "      <td>100.68</td>\n",
       "      <td>100.68</td>\n",
       "      <td>100.68</td>\n",
       "      <td>0.01</td>\n",
       "      <td>100.68</td>\n",
       "      <td>0.0</td>\n",
       "      <td>12776.0</td>\n",
       "      <td>-0.019863</td>\n",
       "      <td>0.009933</td>\n",
       "    </tr>\n",
       "  </tbody>\n",
       "</table>\n",
       "</div>"
      ],
      "text/plain": [
       "              Open    High     Low    Last  Change  Settle  Volume  \\\n",
       "Date                                                                 \n",
       "2014-02-24  100.77  100.77  100.77  100.77    0.16  100.77     6.0   \n",
       "2014-02-25  100.57  100.57  100.57  100.57    0.20  100.57    81.0   \n",
       "2014-02-26  100.69  100.69  100.69  100.69    0.12  100.69     0.0   \n",
       "2014-02-27  100.67  100.67  100.67  100.67    0.02  100.67     0.0   \n",
       "2014-02-28  100.68  100.68  100.68  100.68    0.01  100.68     0.0   \n",
       "\n",
       "            Previous Day Open Interest  Lagged_Return    Return  \n",
       "Date                                                             \n",
       "2014-02-24                     12833.0      -0.168684  0.159030  \n",
       "2014-02-25                     12827.0       0.159030 -0.198472  \n",
       "2014-02-26                     12776.0      -0.198472  0.119320  \n",
       "2014-02-27                     12776.0       0.119320 -0.019863  \n",
       "2014-02-28                     12776.0      -0.019863  0.009933  "
      ]
     },
     "execution_count": 5,
     "metadata": {},
     "output_type": "execute_result"
    }
   ],
   "source": [
    "# Add columns of returns and lagged returns to the data frame\n",
    "# The lagged returns are created to associate a date with its returns\n",
    "# YOUR CODE HERE!"
   ]
  },
  {
   "cell_type": "markdown",
   "metadata": {},
   "source": [
    "# Prepapre the Features (X) and the Target (y)"
   ]
  },
  {
   "cell_type": "code",
   "execution_count": 6,
   "metadata": {},
   "outputs": [],
   "source": [
    "# Set the Dependent variable y to the `Return`\n",
    "# YOUR CODE HERE!"
   ]
  },
  {
   "cell_type": "code",
   "execution_count": 7,
   "metadata": {},
   "outputs": [
    {
     "data": {
      "text/html": [
       "<div>\n",
       "<style scoped>\n",
       "    .dataframe tbody tr th:only-of-type {\n",
       "        vertical-align: middle;\n",
       "    }\n",
       "\n",
       "    .dataframe tbody tr th {\n",
       "        vertical-align: top;\n",
       "    }\n",
       "\n",
       "    .dataframe thead th {\n",
       "        text-align: right;\n",
       "    }\n",
       "</style>\n",
       "<table border=\"1\" class=\"dataframe\">\n",
       "  <thead>\n",
       "    <tr style=\"text-align: right;\">\n",
       "      <th></th>\n",
       "      <th>Lagged_Return</th>\n",
       "    </tr>\n",
       "    <tr>\n",
       "      <th>Date</th>\n",
       "      <th></th>\n",
       "    </tr>\n",
       "  </thead>\n",
       "  <tbody>\n",
       "    <tr>\n",
       "      <td>2014-02-24</td>\n",
       "      <td>-0.168684</td>\n",
       "    </tr>\n",
       "    <tr>\n",
       "      <td>2014-02-25</td>\n",
       "      <td>0.159030</td>\n",
       "    </tr>\n",
       "    <tr>\n",
       "      <td>2014-02-26</td>\n",
       "      <td>-0.198472</td>\n",
       "    </tr>\n",
       "    <tr>\n",
       "      <td>2014-02-27</td>\n",
       "      <td>0.119320</td>\n",
       "    </tr>\n",
       "    <tr>\n",
       "      <td>2014-02-28</td>\n",
       "      <td>-0.019863</td>\n",
       "    </tr>\n",
       "  </tbody>\n",
       "</table>\n",
       "</div>"
      ],
      "text/plain": [
       "            Lagged_Return\n",
       "Date                     \n",
       "2014-02-24      -0.168684\n",
       "2014-02-25       0.159030\n",
       "2014-02-26      -0.198472\n",
       "2014-02-27       0.119320\n",
       "2014-02-28      -0.019863"
      ]
     },
     "execution_count": 7,
     "metadata": {},
     "output_type": "execute_result"
    }
   ],
   "source": [
    "# Select the `Lagged_Return` and assign the DataFrame to X\n",
    "# YOUR CODE HERE!"
   ]
  },
  {
   "cell_type": "code",
   "execution_count": 8,
   "metadata": {},
   "outputs": [
    {
     "data": {
      "text/html": [
       "<div>\n",
       "<style scoped>\n",
       "    .dataframe tbody tr th:only-of-type {\n",
       "        vertical-align: middle;\n",
       "    }\n",
       "\n",
       "    .dataframe tbody tr th {\n",
       "        vertical-align: top;\n",
       "    }\n",
       "\n",
       "    .dataframe thead th {\n",
       "        text-align: right;\n",
       "    }\n",
       "</style>\n",
       "<table border=\"1\" class=\"dataframe\">\n",
       "  <thead>\n",
       "    <tr style=\"text-align: right;\">\n",
       "      <th></th>\n",
       "      <th>Lagged_Return</th>\n",
       "      <th>Week_of_year</th>\n",
       "    </tr>\n",
       "    <tr>\n",
       "      <th>Date</th>\n",
       "      <th></th>\n",
       "      <th></th>\n",
       "    </tr>\n",
       "  </thead>\n",
       "  <tbody>\n",
       "    <tr>\n",
       "      <td>2014-02-24</td>\n",
       "      <td>-0.168684</td>\n",
       "      <td>9</td>\n",
       "    </tr>\n",
       "    <tr>\n",
       "      <td>2014-02-25</td>\n",
       "      <td>0.159030</td>\n",
       "      <td>9</td>\n",
       "    </tr>\n",
       "    <tr>\n",
       "      <td>2014-02-26</td>\n",
       "      <td>-0.198472</td>\n",
       "      <td>9</td>\n",
       "    </tr>\n",
       "    <tr>\n",
       "      <td>2014-02-27</td>\n",
       "      <td>0.119320</td>\n",
       "      <td>9</td>\n",
       "    </tr>\n",
       "    <tr>\n",
       "      <td>2014-02-28</td>\n",
       "      <td>-0.019863</td>\n",
       "      <td>9</td>\n",
       "    </tr>\n",
       "  </tbody>\n",
       "</table>\n",
       "</div>"
      ],
      "text/plain": [
       "            Lagged_Return  Week_of_year\n",
       "Date                                   \n",
       "2014-02-24      -0.168684             9\n",
       "2014-02-25       0.159030             9\n",
       "2014-02-26      -0.198472             9\n",
       "2014-02-27       0.119320             9\n",
       "2014-02-28      -0.019863             9"
      ]
     },
     "execution_count": 8,
     "metadata": {},
     "output_type": "execute_result"
    }
   ],
   "source": [
    "# Access the weekofyear attribute from the index\n",
    "# Create a new column with this called `Week_of_year`\n",
    "# YOUR CODE HERE!"
   ]
  },
  {
   "cell_type": "markdown",
   "metadata": {},
   "source": [
    "### Get dummy variables for week and year"
   ]
  },
  {
   "cell_type": "code",
   "execution_count": 9,
   "metadata": {},
   "outputs": [
    {
     "data": {
      "text/html": [
       "<div>\n",
       "<style scoped>\n",
       "    .dataframe tbody tr th:only-of-type {\n",
       "        vertical-align: middle;\n",
       "    }\n",
       "\n",
       "    .dataframe tbody tr th {\n",
       "        vertical-align: top;\n",
       "    }\n",
       "\n",
       "    .dataframe thead th {\n",
       "        text-align: right;\n",
       "    }\n",
       "</style>\n",
       "<table border=\"1\" class=\"dataframe\">\n",
       "  <thead>\n",
       "    <tr style=\"text-align: right;\">\n",
       "      <th></th>\n",
       "      <th>Lagged_Return</th>\n",
       "      <th>Week_of_year_1</th>\n",
       "      <th>Week_of_year_2</th>\n",
       "      <th>Week_of_year_3</th>\n",
       "      <th>Week_of_year_4</th>\n",
       "      <th>Week_of_year_5</th>\n",
       "      <th>Week_of_year_6</th>\n",
       "      <th>Week_of_year_7</th>\n",
       "      <th>Week_of_year_8</th>\n",
       "      <th>Week_of_year_9</th>\n",
       "      <th>...</th>\n",
       "      <th>Week_of_year_44</th>\n",
       "      <th>Week_of_year_45</th>\n",
       "      <th>Week_of_year_46</th>\n",
       "      <th>Week_of_year_47</th>\n",
       "      <th>Week_of_year_48</th>\n",
       "      <th>Week_of_year_49</th>\n",
       "      <th>Week_of_year_50</th>\n",
       "      <th>Week_of_year_51</th>\n",
       "      <th>Week_of_year_52</th>\n",
       "      <th>Week_of_year_53</th>\n",
       "    </tr>\n",
       "    <tr>\n",
       "      <th>Date</th>\n",
       "      <th></th>\n",
       "      <th></th>\n",
       "      <th></th>\n",
       "      <th></th>\n",
       "      <th></th>\n",
       "      <th></th>\n",
       "      <th></th>\n",
       "      <th></th>\n",
       "      <th></th>\n",
       "      <th></th>\n",
       "      <th></th>\n",
       "      <th></th>\n",
       "      <th></th>\n",
       "      <th></th>\n",
       "      <th></th>\n",
       "      <th></th>\n",
       "      <th></th>\n",
       "      <th></th>\n",
       "      <th></th>\n",
       "      <th></th>\n",
       "      <th></th>\n",
       "    </tr>\n",
       "  </thead>\n",
       "  <tbody>\n",
       "    <tr>\n",
       "      <td>2014-02-24</td>\n",
       "      <td>-0.168684</td>\n",
       "      <td>0</td>\n",
       "      <td>0</td>\n",
       "      <td>0</td>\n",
       "      <td>0</td>\n",
       "      <td>0</td>\n",
       "      <td>0</td>\n",
       "      <td>0</td>\n",
       "      <td>0</td>\n",
       "      <td>1</td>\n",
       "      <td>...</td>\n",
       "      <td>0</td>\n",
       "      <td>0</td>\n",
       "      <td>0</td>\n",
       "      <td>0</td>\n",
       "      <td>0</td>\n",
       "      <td>0</td>\n",
       "      <td>0</td>\n",
       "      <td>0</td>\n",
       "      <td>0</td>\n",
       "      <td>0</td>\n",
       "    </tr>\n",
       "    <tr>\n",
       "      <td>2014-02-25</td>\n",
       "      <td>0.159030</td>\n",
       "      <td>0</td>\n",
       "      <td>0</td>\n",
       "      <td>0</td>\n",
       "      <td>0</td>\n",
       "      <td>0</td>\n",
       "      <td>0</td>\n",
       "      <td>0</td>\n",
       "      <td>0</td>\n",
       "      <td>1</td>\n",
       "      <td>...</td>\n",
       "      <td>0</td>\n",
       "      <td>0</td>\n",
       "      <td>0</td>\n",
       "      <td>0</td>\n",
       "      <td>0</td>\n",
       "      <td>0</td>\n",
       "      <td>0</td>\n",
       "      <td>0</td>\n",
       "      <td>0</td>\n",
       "      <td>0</td>\n",
       "    </tr>\n",
       "    <tr>\n",
       "      <td>2014-02-26</td>\n",
       "      <td>-0.198472</td>\n",
       "      <td>0</td>\n",
       "      <td>0</td>\n",
       "      <td>0</td>\n",
       "      <td>0</td>\n",
       "      <td>0</td>\n",
       "      <td>0</td>\n",
       "      <td>0</td>\n",
       "      <td>0</td>\n",
       "      <td>1</td>\n",
       "      <td>...</td>\n",
       "      <td>0</td>\n",
       "      <td>0</td>\n",
       "      <td>0</td>\n",
       "      <td>0</td>\n",
       "      <td>0</td>\n",
       "      <td>0</td>\n",
       "      <td>0</td>\n",
       "      <td>0</td>\n",
       "      <td>0</td>\n",
       "      <td>0</td>\n",
       "    </tr>\n",
       "    <tr>\n",
       "      <td>2014-02-27</td>\n",
       "      <td>0.119320</td>\n",
       "      <td>0</td>\n",
       "      <td>0</td>\n",
       "      <td>0</td>\n",
       "      <td>0</td>\n",
       "      <td>0</td>\n",
       "      <td>0</td>\n",
       "      <td>0</td>\n",
       "      <td>0</td>\n",
       "      <td>1</td>\n",
       "      <td>...</td>\n",
       "      <td>0</td>\n",
       "      <td>0</td>\n",
       "      <td>0</td>\n",
       "      <td>0</td>\n",
       "      <td>0</td>\n",
       "      <td>0</td>\n",
       "      <td>0</td>\n",
       "      <td>0</td>\n",
       "      <td>0</td>\n",
       "      <td>0</td>\n",
       "    </tr>\n",
       "    <tr>\n",
       "      <td>2014-02-28</td>\n",
       "      <td>-0.019863</td>\n",
       "      <td>0</td>\n",
       "      <td>0</td>\n",
       "      <td>0</td>\n",
       "      <td>0</td>\n",
       "      <td>0</td>\n",
       "      <td>0</td>\n",
       "      <td>0</td>\n",
       "      <td>0</td>\n",
       "      <td>1</td>\n",
       "      <td>...</td>\n",
       "      <td>0</td>\n",
       "      <td>0</td>\n",
       "      <td>0</td>\n",
       "      <td>0</td>\n",
       "      <td>0</td>\n",
       "      <td>0</td>\n",
       "      <td>0</td>\n",
       "      <td>0</td>\n",
       "      <td>0</td>\n",
       "      <td>0</td>\n",
       "    </tr>\n",
       "  </tbody>\n",
       "</table>\n",
       "<p>5 rows × 54 columns</p>\n",
       "</div>"
      ],
      "text/plain": [
       "            Lagged_Return  Week_of_year_1  Week_of_year_2  Week_of_year_3  \\\n",
       "Date                                                                        \n",
       "2014-02-24      -0.168684               0               0               0   \n",
       "2014-02-25       0.159030               0               0               0   \n",
       "2014-02-26      -0.198472               0               0               0   \n",
       "2014-02-27       0.119320               0               0               0   \n",
       "2014-02-28      -0.019863               0               0               0   \n",
       "\n",
       "            Week_of_year_4  Week_of_year_5  Week_of_year_6  Week_of_year_7  \\\n",
       "Date                                                                         \n",
       "2014-02-24               0               0               0               0   \n",
       "2014-02-25               0               0               0               0   \n",
       "2014-02-26               0               0               0               0   \n",
       "2014-02-27               0               0               0               0   \n",
       "2014-02-28               0               0               0               0   \n",
       "\n",
       "            Week_of_year_8  Week_of_year_9  ...  Week_of_year_44  \\\n",
       "Date                                        ...                    \n",
       "2014-02-24               0               1  ...                0   \n",
       "2014-02-25               0               1  ...                0   \n",
       "2014-02-26               0               1  ...                0   \n",
       "2014-02-27               0               1  ...                0   \n",
       "2014-02-28               0               1  ...                0   \n",
       "\n",
       "            Week_of_year_45  Week_of_year_46  Week_of_year_47  \\\n",
       "Date                                                            \n",
       "2014-02-24                0                0                0   \n",
       "2014-02-25                0                0                0   \n",
       "2014-02-26                0                0                0   \n",
       "2014-02-27                0                0                0   \n",
       "2014-02-28                0                0                0   \n",
       "\n",
       "            Week_of_year_48  Week_of_year_49  Week_of_year_50  \\\n",
       "Date                                                            \n",
       "2014-02-24                0                0                0   \n",
       "2014-02-25                0                0                0   \n",
       "2014-02-26                0                0                0   \n",
       "2014-02-27                0                0                0   \n",
       "2014-02-28                0                0                0   \n",
       "\n",
       "            Week_of_year_51  Week_of_year_52  Week_of_year_53  \n",
       "Date                                                           \n",
       "2014-02-24                0                0                0  \n",
       "2014-02-25                0                0                0  \n",
       "2014-02-26                0                0                0  \n",
       "2014-02-27                0                0                0  \n",
       "2014-02-28                0                0                0  \n",
       "\n",
       "[5 rows x 54 columns]"
      ]
     },
     "execution_count": 9,
     "metadata": {},
     "output_type": "execute_result"
    }
   ],
   "source": [
    "# Get a dummy variable for each week of the year\n",
    "X_binary_encoded = # YOUR CODE HERE!"
   ]
  },
  {
   "cell_type": "code",
   "execution_count": 10,
   "metadata": {},
   "outputs": [
    {
     "data": {
      "text/plain": [
       "(461, 54)"
      ]
     },
     "execution_count": 10,
     "metadata": {},
     "output_type": "execute_result"
    }
   ],
   "source": [
    "X_binary_encoded.shape"
   ]
  },
  {
   "cell_type": "markdown",
   "metadata": {},
   "source": [
    "### Linear Regresion model"
   ]
  },
  {
   "cell_type": "code",
   "execution_count": 11,
   "metadata": {},
   "outputs": [],
   "source": [
    "# Create a Linear Regression model and fit it to the data\n",
    "# YOUR CODE HERE!"
   ]
  },
  {
   "cell_type": "code",
   "execution_count": 12,
   "metadata": {},
   "outputs": [
    {
     "data": {
      "text/plain": [
       "array([-0.09408009, -0.19278838, -0.08510803, -0.18082762, -0.13890543,\n",
       "        0.22904997, -0.96762181,  0.66360517,  0.72241888,  0.19940254])"
      ]
     },
     "execution_count": 12,
     "metadata": {},
     "output_type": "execute_result"
    }
   ],
   "source": [
    "# Create predictions using the trained model and the `X_binary_encoded` data\n",
    "# YOUR CODE HERE!\n",
    "\n",
    "# List the first 10 predictions\n",
    "# YOUR CODE HERE!"
   ]
  },
  {
   "cell_type": "markdown",
   "metadata": {},
   "source": [
    "# Evaluating the Model\n",
    "\n",
    "Evaluate the model using r2, mse, rmse\n",
    "\n",
    "Compare the rmse to the standard deviation."
   ]
  },
  {
   "cell_type": "code",
   "execution_count": 11,
   "metadata": {},
   "outputs": [
    {
     "name": "stdout",
     "output_type": "stream",
     "text": [
      "r2: 0.20040272358975775\n"
     ]
    }
   ],
   "source": [
    "from sklearn.metrics import mean_squared_error, r2_score\n",
    "\n",
    "# Calculate r2_score (r-squared)\n",
    "# YOUR CODE HERE!"
   ]
  },
  {
   "cell_type": "code",
   "execution_count": 12,
   "metadata": {},
   "outputs": [],
   "source": [
    "# Calculate mean squared error \n",
    "# Remember, a \"good\" MSE score will be close to zero while a \"good\" R2 Score will be close to 1.\n",
    "# YOUR CODE HERE!"
   ]
  },
  {
   "cell_type": "code",
   "execution_count": 13,
   "metadata": {},
   "outputs": [],
   "source": [
    "# Using mean squared eror above, calculate root-mean-squared error (RMSE)\n",
    "# YOUR CODE HERE!"
   ]
  },
  {
   "cell_type": "code",
   "execution_count": 14,
   "metadata": {},
   "outputs": [
    {
     "name": "stdout",
     "output_type": "stream",
     "text": [
      "R-squared (R2 ): 0.20040272358975775\n",
      "Mean Squared Error (MSE): 2.9861924939839137\n",
      "Root Mean Squared Error (RMSE): 1.7280603270672912\n",
      "Standard Deviation of Futures Return: 1.9325166602824382\n"
     ]
    }
   ],
   "source": [
    "# Print the r2, mser, rmse, and standard deviation\n",
    "print(f\"R-squared (R2 ): {r2}\")\n",
    "print(f\"Mean Squared Error (MSE): {mse}\")\n",
    "print(f\"Root Mean Squared Error (RMSE): {rmse}\")\n",
    "print(f\"Standard Deviation of Futures Return: {np.std(y)}\")"
   ]
  }
 ],
 "metadata": {
  "kernelspec": {
   "display_name": "dev",
   "language": "python",
   "name": "dev"
  },
  "language_info": {
   "codemirror_mode": {
    "name": "ipython",
    "version": 3
   },
   "file_extension": ".py",
   "mimetype": "text/x-python",
   "name": "python",
   "nbconvert_exporter": "python",
   "pygments_lexer": "ipython3",
   "version": "3.7.4"
  }
 },
 "nbformat": 4,
 "nbformat_minor": 4
}
