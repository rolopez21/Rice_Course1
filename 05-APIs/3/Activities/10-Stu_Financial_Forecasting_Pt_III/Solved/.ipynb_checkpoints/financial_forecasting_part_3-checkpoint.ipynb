{
 "cells": [
  {
   "cell_type": "markdown",
   "metadata": {},
   "source": [
    "### Instructor Demo: Financial Forecasting Part III\n",
    "\n",
    "This program executes `1000` simulations of stock price trajectory for `TSLA` and `SPHD` over the next `252 * 3` trading days (or 3 years of trading), based on a normal probability distribution of potential daily returns derived from the corresponding sample means and standard deviations. Daily and cumulative portfolio returns are then calculated, using `75%` of capital allocated to `TSLA` and `25%` of capital allocated to `SPHD`, to analyze the probability distribution and confidence interval of potential ending cumulative portfolio returns."
   ]
  },
  {
   "cell_type": "code",
   "execution_count": 1,
   "metadata": {},
   "outputs": [],
   "source": [
    "# Import libraries and dependencies\n",
    "import numpy as np\n",
    "import pandas as pd\n",
    "from datetime import datetime, timedelta\n",
    "from iexfinance.stocks import get_historical_data\n",
    "from iexfinance.refdata import get_symbols\n",
    "import matplotlib.pyplot as plt\n",
    "%matplotlib inline"
   ]
  },
  {
   "cell_type": "markdown",
   "metadata": {},
   "source": [
    "### Check Available Tickers from IEX Cloud API"
   ]
  },
  {
   "cell_type": "code",
   "execution_count": 2,
   "metadata": {
    "collapsed": false,
    "inputHidden": false,
    "outputHidden": false
   },
   "outputs": [
    {
     "data": {
      "text/html": [
       "<div>\n",
       "<style scoped>\n",
       "    .dataframe tbody tr th:only-of-type {\n",
       "        vertical-align: middle;\n",
       "    }\n",
       "\n",
       "    .dataframe tbody tr th {\n",
       "        vertical-align: top;\n",
       "    }\n",
       "\n",
       "    .dataframe thead th {\n",
       "        text-align: right;\n",
       "    }\n",
       "</style>\n",
       "<table border=\"1\" class=\"dataframe\">\n",
       "  <thead>\n",
       "    <tr style=\"text-align: right;\">\n",
       "      <th></th>\n",
       "      <th>date</th>\n",
       "      <th>iexId</th>\n",
       "      <th>isEnabled</th>\n",
       "      <th>name</th>\n",
       "      <th>symbol</th>\n",
       "      <th>type</th>\n",
       "    </tr>\n",
       "  </thead>\n",
       "  <tbody>\n",
       "    <tr>\n",
       "      <th>0</th>\n",
       "      <td>2019-06-11</td>\n",
       "      <td>2</td>\n",
       "      <td>True</td>\n",
       "      <td>Agilent Technologies Inc.</td>\n",
       "      <td>A</td>\n",
       "      <td>cs</td>\n",
       "    </tr>\n",
       "    <tr>\n",
       "      <th>1</th>\n",
       "      <td>2019-06-11</td>\n",
       "      <td>12042</td>\n",
       "      <td>True</td>\n",
       "      <td>Alcoa Corporation</td>\n",
       "      <td>AA</td>\n",
       "      <td>cs</td>\n",
       "    </tr>\n",
       "    <tr>\n",
       "      <th>2</th>\n",
       "      <td>2019-06-11</td>\n",
       "      <td>14924</td>\n",
       "      <td>True</td>\n",
       "      <td>Perth Mint Physical Gold</td>\n",
       "      <td>AAAU</td>\n",
       "      <td>N/A</td>\n",
       "    </tr>\n",
       "    <tr>\n",
       "      <th>3</th>\n",
       "      <td>2019-06-11</td>\n",
       "      <td>7653</td>\n",
       "      <td>True</td>\n",
       "      <td>Altaba Inc.</td>\n",
       "      <td>AABA</td>\n",
       "      <td>cs</td>\n",
       "    </tr>\n",
       "    <tr>\n",
       "      <th>4</th>\n",
       "      <td>2019-06-11</td>\n",
       "      <td>9169</td>\n",
       "      <td>True</td>\n",
       "      <td>AAC Holdings Inc.</td>\n",
       "      <td>AAC</td>\n",
       "      <td>cs</td>\n",
       "    </tr>\n",
       "  </tbody>\n",
       "</table>\n",
       "</div>"
      ],
      "text/plain": [
       "         date  iexId  isEnabled                       name symbol type\n",
       "0  2019-06-11      2       True  Agilent Technologies Inc.      A   cs\n",
       "1  2019-06-11  12042       True          Alcoa Corporation     AA   cs\n",
       "2  2019-06-11  14924       True   Perth Mint Physical Gold   AAAU  N/A\n",
       "3  2019-06-11   7653       True                Altaba Inc.   AABA   cs\n",
       "4  2019-06-11   9169       True          AAC Holdings Inc.    AAC   cs"
      ]
     },
     "execution_count": 2,
     "metadata": {},
     "output_type": "execute_result"
    }
   ],
   "source": [
    "# Return available tickers from API\n",
    "tickers=pd.DataFrame(get_symbols())\n",
    "tickers.head()"
   ]
  },
  {
   "cell_type": "markdown",
   "metadata": {},
   "source": [
    "### Get 1 Year's Worth of Data via API Call and Read in as DataFrame "
   ]
  },
  {
   "cell_type": "code",
   "execution_count": 3,
   "metadata": {},
   "outputs": [
    {
     "data": {
      "text/html": [
       "<div>\n",
       "<style scoped>\n",
       "    .dataframe tbody tr th:only-of-type {\n",
       "        vertical-align: middle;\n",
       "    }\n",
       "\n",
       "    .dataframe tbody tr th {\n",
       "        vertical-align: top;\n",
       "    }\n",
       "\n",
       "    .dataframe thead tr th {\n",
       "        text-align: left;\n",
       "    }\n",
       "\n",
       "    .dataframe thead tr:last-of-type th {\n",
       "        text-align: right;\n",
       "    }\n",
       "</style>\n",
       "<table border=\"1\" class=\"dataframe\">\n",
       "  <thead>\n",
       "    <tr>\n",
       "      <th></th>\n",
       "      <th colspan=\"5\" halign=\"left\">TSLA</th>\n",
       "      <th colspan=\"5\" halign=\"left\">SPHD</th>\n",
       "    </tr>\n",
       "    <tr>\n",
       "      <th></th>\n",
       "      <th>open</th>\n",
       "      <th>high</th>\n",
       "      <th>low</th>\n",
       "      <th>close</th>\n",
       "      <th>volume</th>\n",
       "      <th>open</th>\n",
       "      <th>high</th>\n",
       "      <th>low</th>\n",
       "      <th>close</th>\n",
       "      <th>volume</th>\n",
       "    </tr>\n",
       "    <tr>\n",
       "      <th>date</th>\n",
       "      <th></th>\n",
       "      <th></th>\n",
       "      <th></th>\n",
       "      <th></th>\n",
       "      <th></th>\n",
       "      <th></th>\n",
       "      <th></th>\n",
       "      <th></th>\n",
       "      <th></th>\n",
       "      <th></th>\n",
       "    </tr>\n",
       "  </thead>\n",
       "  <tbody>\n",
       "    <tr>\n",
       "      <th>2018-06-11</th>\n",
       "      <td>322.510</td>\n",
       "      <td>334.66</td>\n",
       "      <td>322.50</td>\n",
       "      <td>332.10</td>\n",
       "      <td>13183473</td>\n",
       "      <td>39.1213</td>\n",
       "      <td>39.2493</td>\n",
       "      <td>39.0829</td>\n",
       "      <td>39.2077</td>\n",
       "      <td>358381</td>\n",
       "    </tr>\n",
       "    <tr>\n",
       "      <th>2018-06-12</th>\n",
       "      <td>344.700</td>\n",
       "      <td>354.97</td>\n",
       "      <td>338.00</td>\n",
       "      <td>342.77</td>\n",
       "      <td>22347403</td>\n",
       "      <td>39.2077</td>\n",
       "      <td>39.3757</td>\n",
       "      <td>39.1885</td>\n",
       "      <td>39.2845</td>\n",
       "      <td>287653</td>\n",
       "    </tr>\n",
       "    <tr>\n",
       "      <th>2018-06-13</th>\n",
       "      <td>346.706</td>\n",
       "      <td>347.20</td>\n",
       "      <td>339.80</td>\n",
       "      <td>344.78</td>\n",
       "      <td>9469804</td>\n",
       "      <td>39.2269</td>\n",
       "      <td>39.2845</td>\n",
       "      <td>38.9006</td>\n",
       "      <td>38.9006</td>\n",
       "      <td>351027</td>\n",
       "    </tr>\n",
       "    <tr>\n",
       "      <th>2018-06-14</th>\n",
       "      <td>347.630</td>\n",
       "      <td>358.75</td>\n",
       "      <td>346.60</td>\n",
       "      <td>357.72</td>\n",
       "      <td>10981023</td>\n",
       "      <td>39.0062</td>\n",
       "      <td>39.1309</td>\n",
       "      <td>38.9678</td>\n",
       "      <td>39.0733</td>\n",
       "      <td>281947</td>\n",
       "    </tr>\n",
       "    <tr>\n",
       "      <th>2018-06-15</th>\n",
       "      <td>353.840</td>\n",
       "      <td>364.67</td>\n",
       "      <td>351.25</td>\n",
       "      <td>358.17</td>\n",
       "      <td>10848254</td>\n",
       "      <td>38.9966</td>\n",
       "      <td>39.1357</td>\n",
       "      <td>38.8910</td>\n",
       "      <td>39.1117</td>\n",
       "      <td>223966</td>\n",
       "    </tr>\n",
       "  </tbody>\n",
       "</table>\n",
       "</div>"
      ],
      "text/plain": [
       "               TSLA                                       SPHD           \\\n",
       "               open    high     low   close    volume     open     high   \n",
       "date                                                                      \n",
       "2018-06-11  322.510  334.66  322.50  332.10  13183473  39.1213  39.2493   \n",
       "2018-06-12  344.700  354.97  338.00  342.77  22347403  39.2077  39.3757   \n",
       "2018-06-13  346.706  347.20  339.80  344.78   9469804  39.2269  39.2845   \n",
       "2018-06-14  347.630  358.75  346.60  357.72  10981023  39.0062  39.1309   \n",
       "2018-06-15  353.840  364.67  351.25  358.17  10848254  38.9966  39.1357   \n",
       "\n",
       "                                      \n",
       "                low    close  volume  \n",
       "date                                  \n",
       "2018-06-11  39.0829  39.2077  358381  \n",
       "2018-06-12  39.1885  39.2845  287653  \n",
       "2018-06-13  38.9006  38.9006  351027  \n",
       "2018-06-14  38.9678  39.0733  281947  \n",
       "2018-06-15  38.8910  39.1117  223966  "
      ]
     },
     "execution_count": 3,
     "metadata": {},
     "output_type": "execute_result"
    }
   ],
   "source": [
    "# Set the list of tickers\n",
    "tickers = [\"TSLA\", \"SPHD\"]\n",
    "\n",
    "# Set start and end datetimes of 1 year, between now and 365 days ago.\n",
    "end_date = datetime.now()\n",
    "start_date = end_date + timedelta(-365)\n",
    "\n",
    "# Get 1 year's worth of historical data for `TSLA` and `SPHD`\n",
    "df = get_historical_data(tickers, start_date, end_date,  output_format='pandas')\n",
    "df.head()"
   ]
  },
  {
   "cell_type": "markdown",
   "metadata": {},
   "source": [
    "### Drop Extraneous Columns"
   ]
  },
  {
   "cell_type": "code",
   "execution_count": 4,
   "metadata": {},
   "outputs": [
    {
     "data": {
      "text/html": [
       "<div>\n",
       "<style scoped>\n",
       "    .dataframe tbody tr th:only-of-type {\n",
       "        vertical-align: middle;\n",
       "    }\n",
       "\n",
       "    .dataframe tbody tr th {\n",
       "        vertical-align: top;\n",
       "    }\n",
       "\n",
       "    .dataframe thead tr th {\n",
       "        text-align: left;\n",
       "    }\n",
       "\n",
       "    .dataframe thead tr:last-of-type th {\n",
       "        text-align: right;\n",
       "    }\n",
       "</style>\n",
       "<table border=\"1\" class=\"dataframe\">\n",
       "  <thead>\n",
       "    <tr>\n",
       "      <th></th>\n",
       "      <th>TSLA</th>\n",
       "      <th>SPHD</th>\n",
       "    </tr>\n",
       "    <tr>\n",
       "      <th></th>\n",
       "      <th>close</th>\n",
       "      <th>close</th>\n",
       "    </tr>\n",
       "    <tr>\n",
       "      <th>date</th>\n",
       "      <th></th>\n",
       "      <th></th>\n",
       "    </tr>\n",
       "  </thead>\n",
       "  <tbody>\n",
       "    <tr>\n",
       "      <th>2018-06-11</th>\n",
       "      <td>332.10</td>\n",
       "      <td>39.2077</td>\n",
       "    </tr>\n",
       "    <tr>\n",
       "      <th>2018-06-12</th>\n",
       "      <td>342.77</td>\n",
       "      <td>39.2845</td>\n",
       "    </tr>\n",
       "    <tr>\n",
       "      <th>2018-06-13</th>\n",
       "      <td>344.78</td>\n",
       "      <td>38.9006</td>\n",
       "    </tr>\n",
       "    <tr>\n",
       "      <th>2018-06-14</th>\n",
       "      <td>357.72</td>\n",
       "      <td>39.0733</td>\n",
       "    </tr>\n",
       "    <tr>\n",
       "      <th>2018-06-15</th>\n",
       "      <td>358.17</td>\n",
       "      <td>39.1117</td>\n",
       "    </tr>\n",
       "  </tbody>\n",
       "</table>\n",
       "</div>"
      ],
      "text/plain": [
       "              TSLA     SPHD\n",
       "             close    close\n",
       "date                       \n",
       "2018-06-11  332.10  39.2077\n",
       "2018-06-12  342.77  39.2845\n",
       "2018-06-13  344.78  38.9006\n",
       "2018-06-14  357.72  39.0733\n",
       "2018-06-15  358.17  39.1117"
      ]
     },
     "execution_count": 4,
     "metadata": {},
     "output_type": "execute_result"
    }
   ],
   "source": [
    "# Use the `drop` function with the `level` parameter to drop extra columns in the multi-index DataFrame\n",
    "df.drop(columns=['open', 'high', 'low', 'volume'], level=1, inplace=True)\n",
    "df.head()"
   ]
  },
  {
   "cell_type": "markdown",
   "metadata": {},
   "source": [
    "### Calculate Daily Returns"
   ]
  },
  {
   "cell_type": "code",
   "execution_count": 5,
   "metadata": {},
   "outputs": [
    {
     "data": {
      "text/html": [
       "<div>\n",
       "<style scoped>\n",
       "    .dataframe tbody tr th:only-of-type {\n",
       "        vertical-align: middle;\n",
       "    }\n",
       "\n",
       "    .dataframe tbody tr th {\n",
       "        vertical-align: top;\n",
       "    }\n",
       "\n",
       "    .dataframe thead tr th {\n",
       "        text-align: left;\n",
       "    }\n",
       "\n",
       "    .dataframe thead tr:last-of-type th {\n",
       "        text-align: right;\n",
       "    }\n",
       "</style>\n",
       "<table border=\"1\" class=\"dataframe\">\n",
       "  <thead>\n",
       "    <tr>\n",
       "      <th></th>\n",
       "      <th>TSLA</th>\n",
       "      <th>SPHD</th>\n",
       "    </tr>\n",
       "    <tr>\n",
       "      <th></th>\n",
       "      <th>close</th>\n",
       "      <th>close</th>\n",
       "    </tr>\n",
       "    <tr>\n",
       "      <th>date</th>\n",
       "      <th></th>\n",
       "      <th></th>\n",
       "    </tr>\n",
       "  </thead>\n",
       "  <tbody>\n",
       "    <tr>\n",
       "      <th>2018-06-11</th>\n",
       "      <td>NaN</td>\n",
       "      <td>NaN</td>\n",
       "    </tr>\n",
       "    <tr>\n",
       "      <th>2018-06-12</th>\n",
       "      <td>0.032129</td>\n",
       "      <td>0.001959</td>\n",
       "    </tr>\n",
       "    <tr>\n",
       "      <th>2018-06-13</th>\n",
       "      <td>0.005864</td>\n",
       "      <td>-0.009772</td>\n",
       "    </tr>\n",
       "    <tr>\n",
       "      <th>2018-06-14</th>\n",
       "      <td>0.037531</td>\n",
       "      <td>0.004440</td>\n",
       "    </tr>\n",
       "    <tr>\n",
       "      <th>2018-06-15</th>\n",
       "      <td>0.001258</td>\n",
       "      <td>0.000983</td>\n",
       "    </tr>\n",
       "  </tbody>\n",
       "</table>\n",
       "</div>"
      ],
      "text/plain": [
       "                TSLA      SPHD\n",
       "               close     close\n",
       "date                          \n",
       "2018-06-11       NaN       NaN\n",
       "2018-06-12  0.032129  0.001959\n",
       "2018-06-13  0.005864 -0.009772\n",
       "2018-06-14  0.037531  0.004440\n",
       "2018-06-15  0.001258  0.000983"
      ]
     },
     "execution_count": 5,
     "metadata": {},
     "output_type": "execute_result"
    }
   ],
   "source": [
    "# Use the `pct_change` function to calculate daily returns of `TSLA` and `SPHD`.\n",
    "daily_returns = df.pct_change()\n",
    "daily_returns.head()"
   ]
  },
  {
   "cell_type": "markdown",
   "metadata": {},
   "source": [
    "### Calculate Value of Average Daily Returns"
   ]
  },
  {
   "cell_type": "code",
   "execution_count": 6,
   "metadata": {},
   "outputs": [
    {
     "data": {
      "text/plain": [
       "0.00024321859166725535"
      ]
     },
     "execution_count": 6,
     "metadata": {},
     "output_type": "execute_result"
    }
   ],
   "source": [
    "# Use the `mean` function to calculate the mean of daily returns for `TLSA` and `SPHD`, respectively\n",
    "avg_daily_return_tsla = daily_returns.mean()['TSLA']['close']\n",
    "avg_daily_return_sphd = daily_returns.mean()['SPHD']['close']\n",
    "avg_daily_return_sphd"
   ]
  },
  {
   "cell_type": "markdown",
   "metadata": {},
   "source": [
    "### Calculate Value of Standard Deviation of Daily Returns"
   ]
  },
  {
   "cell_type": "code",
   "execution_count": 7,
   "metadata": {},
   "outputs": [
    {
     "data": {
      "text/plain": [
       "0.007683762054304647"
      ]
     },
     "execution_count": 7,
     "metadata": {},
     "output_type": "execute_result"
    }
   ],
   "source": [
    "# Use the `std` function to calculate the standard deviation of daily returns for `TSLA` and `SPHD`, respectively\n",
    "std_dev_daily_return_tsla = daily_returns.std()['TSLA']['close']\n",
    "std_dev_daily_return_sphd = daily_returns.std()['SPHD']['close']\n",
    "std_dev_daily_return_sphd"
   ]
  },
  {
   "cell_type": "markdown",
   "metadata": {},
   "source": [
    "### Run the Monte Carlo Simulation and Save Results to DataFrame"
   ]
  },
  {
   "cell_type": "code",
   "execution_count": 8,
   "metadata": {},
   "outputs": [
    {
     "data": {
      "text/html": [
       "<div>\n",
       "<style scoped>\n",
       "    .dataframe tbody tr th:only-of-type {\n",
       "        vertical-align: middle;\n",
       "    }\n",
       "\n",
       "    .dataframe tbody tr th {\n",
       "        vertical-align: top;\n",
       "    }\n",
       "\n",
       "    .dataframe thead th {\n",
       "        text-align: right;\n",
       "    }\n",
       "</style>\n",
       "<table border=\"1\" class=\"dataframe\">\n",
       "  <thead>\n",
       "    <tr style=\"text-align: right;\">\n",
       "      <th></th>\n",
       "      <th>0</th>\n",
       "      <th>1</th>\n",
       "      <th>2</th>\n",
       "      <th>3</th>\n",
       "      <th>4</th>\n",
       "      <th>5</th>\n",
       "      <th>6</th>\n",
       "      <th>7</th>\n",
       "      <th>8</th>\n",
       "      <th>9</th>\n",
       "      <th>...</th>\n",
       "      <th>990</th>\n",
       "      <th>991</th>\n",
       "      <th>992</th>\n",
       "      <th>993</th>\n",
       "      <th>994</th>\n",
       "      <th>995</th>\n",
       "      <th>996</th>\n",
       "      <th>997</th>\n",
       "      <th>998</th>\n",
       "      <th>999</th>\n",
       "    </tr>\n",
       "  </thead>\n",
       "  <tbody>\n",
       "    <tr>\n",
       "      <th>0</th>\n",
       "      <td>1.000000</td>\n",
       "      <td>1.000000</td>\n",
       "      <td>1.000000</td>\n",
       "      <td>1.000000</td>\n",
       "      <td>1.000000</td>\n",
       "      <td>1.000000</td>\n",
       "      <td>1.000000</td>\n",
       "      <td>1.000000</td>\n",
       "      <td>1.000000</td>\n",
       "      <td>1.000000</td>\n",
       "      <td>...</td>\n",
       "      <td>1.000000</td>\n",
       "      <td>1.000000</td>\n",
       "      <td>1.000000</td>\n",
       "      <td>1.000000</td>\n",
       "      <td>1.000000</td>\n",
       "      <td>1.000000</td>\n",
       "      <td>1.000000</td>\n",
       "      <td>1.000000</td>\n",
       "      <td>1.000000</td>\n",
       "      <td>1.000000</td>\n",
       "    </tr>\n",
       "    <tr>\n",
       "      <th>1</th>\n",
       "      <td>1.002979</td>\n",
       "      <td>1.001129</td>\n",
       "      <td>0.994424</td>\n",
       "      <td>0.999615</td>\n",
       "      <td>1.011295</td>\n",
       "      <td>0.998158</td>\n",
       "      <td>1.005796</td>\n",
       "      <td>0.985975</td>\n",
       "      <td>0.991924</td>\n",
       "      <td>1.018381</td>\n",
       "      <td>...</td>\n",
       "      <td>1.002423</td>\n",
       "      <td>0.997635</td>\n",
       "      <td>0.987443</td>\n",
       "      <td>0.993522</td>\n",
       "      <td>0.994531</td>\n",
       "      <td>0.999422</td>\n",
       "      <td>0.998968</td>\n",
       "      <td>0.979936</td>\n",
       "      <td>1.006433</td>\n",
       "      <td>0.999648</td>\n",
       "    </tr>\n",
       "    <tr>\n",
       "      <th>2</th>\n",
       "      <td>1.003634</td>\n",
       "      <td>0.996344</td>\n",
       "      <td>1.027774</td>\n",
       "      <td>0.996465</td>\n",
       "      <td>1.016821</td>\n",
       "      <td>1.013096</td>\n",
       "      <td>0.998748</td>\n",
       "      <td>0.977747</td>\n",
       "      <td>0.977927</td>\n",
       "      <td>1.018944</td>\n",
       "      <td>...</td>\n",
       "      <td>0.990634</td>\n",
       "      <td>0.999406</td>\n",
       "      <td>0.993486</td>\n",
       "      <td>0.975420</td>\n",
       "      <td>1.000730</td>\n",
       "      <td>1.005626</td>\n",
       "      <td>0.991745</td>\n",
       "      <td>0.978050</td>\n",
       "      <td>1.022872</td>\n",
       "      <td>1.000691</td>\n",
       "    </tr>\n",
       "    <tr>\n",
       "      <th>3</th>\n",
       "      <td>1.004761</td>\n",
       "      <td>0.996576</td>\n",
       "      <td>1.021292</td>\n",
       "      <td>0.993542</td>\n",
       "      <td>1.039227</td>\n",
       "      <td>1.012643</td>\n",
       "      <td>0.993153</td>\n",
       "      <td>0.985437</td>\n",
       "      <td>0.976562</td>\n",
       "      <td>1.012335</td>\n",
       "      <td>...</td>\n",
       "      <td>0.983581</td>\n",
       "      <td>0.990175</td>\n",
       "      <td>0.996967</td>\n",
       "      <td>0.976010</td>\n",
       "      <td>0.986754</td>\n",
       "      <td>1.010137</td>\n",
       "      <td>0.989895</td>\n",
       "      <td>0.991897</td>\n",
       "      <td>1.031480</td>\n",
       "      <td>0.984495</td>\n",
       "    </tr>\n",
       "    <tr>\n",
       "      <th>4</th>\n",
       "      <td>0.999557</td>\n",
       "      <td>0.997861</td>\n",
       "      <td>1.038159</td>\n",
       "      <td>0.993957</td>\n",
       "      <td>1.046613</td>\n",
       "      <td>0.985167</td>\n",
       "      <td>0.982280</td>\n",
       "      <td>1.002029</td>\n",
       "      <td>0.977176</td>\n",
       "      <td>1.009608</td>\n",
       "      <td>...</td>\n",
       "      <td>0.996192</td>\n",
       "      <td>1.002053</td>\n",
       "      <td>0.992445</td>\n",
       "      <td>0.989242</td>\n",
       "      <td>0.990702</td>\n",
       "      <td>1.038915</td>\n",
       "      <td>0.972376</td>\n",
       "      <td>1.014244</td>\n",
       "      <td>1.042476</td>\n",
       "      <td>1.004436</td>\n",
       "    </tr>\n",
       "  </tbody>\n",
       "</table>\n",
       "<p>5 rows × 1000 columns</p>\n",
       "</div>"
      ],
      "text/plain": [
       "        0         1         2         3         4         5         6    \\\n",
       "0  1.000000  1.000000  1.000000  1.000000  1.000000  1.000000  1.000000   \n",
       "1  1.002979  1.001129  0.994424  0.999615  1.011295  0.998158  1.005796   \n",
       "2  1.003634  0.996344  1.027774  0.996465  1.016821  1.013096  0.998748   \n",
       "3  1.004761  0.996576  1.021292  0.993542  1.039227  1.012643  0.993153   \n",
       "4  0.999557  0.997861  1.038159  0.993957  1.046613  0.985167  0.982280   \n",
       "\n",
       "        7         8         9    ...       990       991       992       993  \\\n",
       "0  1.000000  1.000000  1.000000  ...  1.000000  1.000000  1.000000  1.000000   \n",
       "1  0.985975  0.991924  1.018381  ...  1.002423  0.997635  0.987443  0.993522   \n",
       "2  0.977747  0.977927  1.018944  ...  0.990634  0.999406  0.993486  0.975420   \n",
       "3  0.985437  0.976562  1.012335  ...  0.983581  0.990175  0.996967  0.976010   \n",
       "4  1.002029  0.977176  1.009608  ...  0.996192  1.002053  0.992445  0.989242   \n",
       "\n",
       "        994       995       996       997       998       999  \n",
       "0  1.000000  1.000000  1.000000  1.000000  1.000000  1.000000  \n",
       "1  0.994531  0.999422  0.998968  0.979936  1.006433  0.999648  \n",
       "2  1.000730  1.005626  0.991745  0.978050  1.022872  1.000691  \n",
       "3  0.986754  1.010137  0.989895  0.991897  1.031480  0.984495  \n",
       "4  0.990702  1.038915  0.972376  1.014244  1.042476  1.004436  \n",
       "\n",
       "[5 rows x 1000 columns]"
      ]
     },
     "execution_count": 8,
     "metadata": {},
     "output_type": "execute_result"
    }
   ],
   "source": [
    "# Set number of simulations and trading days\n",
    "num_simulations = 1000\n",
    "num_trading_days = 252 * 3\n",
    "\n",
    "# Set last closing prices of `TSLA` and `SPHD`\n",
    "tsla_last_price = df['TSLA']['close'][-1]\n",
    "sphd_last_price = df['SPHD']['close'][-1]\n",
    "\n",
    "# Initialize empty DataFrame to hold simulated prices for each simulation\n",
    "simulated_price_df = pd.DataFrame()\n",
    "portfolio_cumulative_returns = pd.DataFrame()\n",
    "\n",
    "# Run the simulation of projecting stock prices for the next trading year, `1000` times\n",
    "for n in range(num_simulations):\n",
    "\n",
    "    # Initialize the simulated prices list with the last closing price of `TSLA` and `SPHD`\n",
    "    simulated_tsla_prices = [tsla_last_price]\n",
    "    simulated_sphd_prices = [sphd_last_price]\n",
    "    \n",
    "    # Simulate the returns for 252 * 3 days\n",
    "    for i in range(num_trading_days):\n",
    "        \n",
    "        # Calculate the simulated price using the last price within the list\n",
    "        simulated_tsla_price = simulated_tsla_prices[-1] * (1 + np.random.normal(avg_daily_return_tsla, std_dev_daily_return_tsla))\n",
    "        simulated_sphd_price = simulated_sphd_prices[-1] * (1 + np.random.normal(avg_daily_return_sphd, std_dev_daily_return_sphd))\n",
    "        \n",
    "        # Append the simulated price to the list\n",
    "        simulated_tsla_prices.append(simulated_tsla_price)\n",
    "        simulated_sphd_prices.append(simulated_sphd_price)\n",
    "    \n",
    "    # Append a simulated prices of each simulation to DataFrame\n",
    "    simulated_price_df[\"TSLA prices\"] = pd.Series(simulated_tsla_prices)\n",
    "    simulated_price_df[\"SPHD prices\"] = pd.Series(simulated_sphd_prices)\n",
    "    \n",
    "    # Calculate the daily returns of simulated prices\n",
    "    simulated_daily_returns = simulated_price_df.pct_change()\n",
    "    \n",
    "    # Set the portfolio weights (75% TSLA; 25% SPHD)\n",
    "    weights = [0.25, 0.75]\n",
    "\n",
    "    # Use the `dot` function with the weights to multiply weights with each column's simulated daily returns\n",
    "    portfolio_daily_returns = simulated_daily_returns.dot(weights)\n",
    "    \n",
    "    # Calculate the normalized, cumulative return series\n",
    "    portfolio_cumulative_returns[n] = (1 + portfolio_daily_returns.fillna(0)).cumprod()\n",
    "\n",
    "# Print records from the DataFrame\n",
    "portfolio_cumulative_returns.head()"
   ]
  },
  {
   "cell_type": "markdown",
   "metadata": {},
   "source": [
    "### Plot the Multiple Simulations of Potential Cumulative Portfolio Returns over the Next 3 Years (252 * 3 Trading Days)"
   ]
  },
  {
   "cell_type": "code",
   "execution_count": 9,
   "metadata": {},
   "outputs": [
    {
     "data": {
      "text/plain": [
       "<matplotlib.axes._subplots.AxesSubplot at 0x12145e048>"
      ]
     },
     "execution_count": 9,
     "metadata": {},
     "output_type": "execute_result"
    },
    {
     "data": {
      "image/png": "[encoded data removed]",
      "text/plain": [
       "<Figure size 432x288 with 1 Axes>"
      ]
     },
     "metadata": {
      "needs_background": "light"
     },
     "output_type": "display_data"
    }
   ],
   "source": [
    "# Use the `plot` function to plot `1000` simulations of the potential trajectories of the portfolio based on 252 trading days\n",
    "plot_title = f\"{n+1} Simulations of Cumulative Portfolio Return Trajectories Over the Next 252 Trading Days\"\n",
    "portfolio_cumulative_returns.plot(legend=None, title=plot_title)"
   ]
  },
  {
   "cell_type": "code",
   "execution_count": 10,
   "metadata": {},
   "outputs": [
    {
     "data": {
      "text/plain": [
       "0    1.077685\n",
       "1    0.704095\n",
       "2    0.847834\n",
       "3    0.607222\n",
       "4    1.278131\n",
       "Name: 756, dtype: float64"
      ]
     },
     "execution_count": 10,
     "metadata": {},
     "output_type": "execute_result"
    }
   ],
   "source": [
    "# Select the last row for project stock prices (prices of each simulation on the last trading day)\n",
    "ending_cumulative_returns = portfolio_cumulative_returns.iloc[-1, :]\n",
    "ending_cumulative_returns.head()"
   ]
  },
  {
   "cell_type": "markdown",
   "metadata": {},
   "source": [
    "### Plot the Frequency Distribution of Simulated Ending Portfolio Cumulative Returns on the Last Trading Day"
   ]
  },
  {
   "cell_type": "code",
   "execution_count": 11,
   "metadata": {},
   "outputs": [
    {
     "data": {
      "text/plain": [
       "<matplotlib.axes._subplots.AxesSubplot at 0x127f64f98>"
      ]
     },
     "execution_count": 11,
     "metadata": {},
     "output_type": "execute_result"
    },
    {
     "data": {
      "image/png": "[encoded data removed]",
      "text/plain": [
       "<Figure size 432x288 with 1 Axes>"
      ]
     },
     "metadata": {
      "needs_background": "light"
     },
     "output_type": "display_data"
    }
   ],
   "source": [
    "# Use the `plot` function to plot a frequency distribution of simulated ending prices\n",
    "ending_cumulative_returns.plot(kind='hist', bins=10)"
   ]
  },
  {
   "cell_type": "markdown",
   "metadata": {},
   "source": [
    "### Calculate the Probability Distribution of Ending Cumulative Return Ranges"
   ]
  },
  {
   "cell_type": "code",
   "execution_count": 12,
   "metadata": {},
   "outputs": [
    {
     "data": {
      "text/plain": [
       "(0.671, 0.833]                  0.242\n",
       "(0.833, 0.995]                  0.235\n",
       "(0.995, 1.158]                  0.168\n",
       "(0.508, 0.671]                  0.142\n",
       "(1.158, 1.32]                   0.090\n",
       "(1.32, 1.483]                   0.062\n",
       "(1.483, 1.645]                  0.023\n",
       "(0.34299999999999997, 0.508]    0.021\n",
       "(1.645, 1.807]                  0.009\n",
       "(1.807, 1.97]                   0.008\n",
       "Name: 756, dtype: float64"
      ]
     },
     "execution_count": 12,
     "metadata": {},
     "output_type": "execute_result"
    }
   ],
   "source": [
    "# Use the `value_counts` function and the `len` function to calculate the probabilities of cumulative return ranges\n",
    "ending_cumulative_returns.value_counts(bins=10) / len(ending_cumulative_returns)"
   ]
  },
  {
   "cell_type": "markdown",
   "metadata": {},
   "source": [
    "### Calculate Lower and Upper Bounds of 95% Confidence Interval for Simulated Ending Cumulative Portfolio Returns"
   ]
  },
  {
   "cell_type": "code",
   "execution_count": 13,
   "metadata": {},
   "outputs": [
    {
     "data": {
      "text/plain": [
       "0.025    0.514393\n",
       "0.975    1.570911\n",
       "Name: 756, dtype: float64"
      ]
     },
     "execution_count": 13,
     "metadata": {},
     "output_type": "execute_result"
    }
   ],
   "source": [
    "# Use the `quantile` function to calculate the 95% confidence interval for simulated ending prices\n",
    "confidence_interval = ending_cumulative_returns.quantile(q=[0.025, 0.975])\n",
    "confidence_interval"
   ]
  },
  {
   "cell_type": "markdown",
   "metadata": {},
   "source": [
    "### Plot the Probability Distribution and 95% Confidence Interval of Simulated Ending Cumulative Portfolio Returns "
   ]
  },
  {
   "cell_type": "code",
   "execution_count": 14,
   "metadata": {},
   "outputs": [
    {
     "data": {
      "text/plain": [
       "<matplotlib.lines.Line2D at 0x123a15c88>"
      ]
     },
     "execution_count": 14,
     "metadata": {},
     "output_type": "execute_result"
    },
    {
     "data": {
      "image/png": "[encoded data removed]",
      "text/plain": [
       "<Figure size 432x288 with 1 Axes>"
      ]
     },
     "metadata": {
      "needs_background": "light"
     },
     "output_type": "display_data"
    }
   ],
   "source": [
    "# Use the `plot` function to create a probability distribution histogram of simulated ending prices\n",
    "# with markings for a 95% confidence interval\n",
    "plt.figure();\n",
    "ending_cumulative_returns.plot(kind='hist', density=True, bins=10)\n",
    "plt.axvline(confidence_interval.iloc[0], color='r')\n",
    "plt.axvline(confidence_interval.iloc[1], color='r')"
   ]
  },
  {
   "cell_type": "markdown",
   "metadata": {},
   "source": [
    "### Calculate 95% Confidence Interval of An Initial Investment of 10,000 in the Portfolio over the Next 3 Trading Years"
   ]
  },
  {
   "cell_type": "code",
   "execution_count": 15,
   "metadata": {},
   "outputs": [
    {
     "name": "stdout",
     "output_type": "stream",
     "text": [
      "There is a 95% chance that an initial investment of $10,000 in the portfolio over the next 252 * 3 trading days will end within in the range of $5143.933482948604 and $15709.110941138753\n"
     ]
    }
   ],
   "source": [
    "# Set initial investment\n",
    "initial_investment = 10000\n",
    "\n",
    "# Calculate investment profit/loss of lower and upper bound cumulative portfolio returns\n",
    "investment_pnl_lower_bound = initial_investment * confidence_interval.iloc[0]\n",
    "investment_pnl_upper_bound = initial_investment * confidence_interval.iloc[1]\n",
    "                                                    \n",
    "# Print the results\n",
    "print(f\"There is a 95% chance that an initial investment of $10,000 in the portfolio\"\n",
    "      f\" over the next 252 * 3 trading days will end within in the range of\"\n",
    "      f\" ${investment_pnl_lower_bound} and ${investment_pnl_upper_bound}\")"
   ]
  },
  {
   "cell_type": "markdown",
   "metadata": {},
   "source": [
    "### Answer the Following Questions\n",
    "\n",
    "* What is the expected range of projected cumulative returns of the given portfolio?\n",
    "* What is the `95%` confidence interval of projected cumulative returns of the given portfolio?\n",
    "* What is the `95%` confidence interval of projected cumulative investment for the given portfolio?"
   ]
  },
  {
   "cell_type": "markdown",
   "metadata": {},
   "source": [
    "* The expected range of projected cumulative returns for the portfolio is between 0.671 and 0.833 with a 24.2% chance of occurring.\n",
    "* The `95` confidence interval of projected cumulative returns is between 0.514393 and 1.570911.\n",
    "* The `95` confidencc interval of projected cumulative investment is between 5143.93 and 15709.11."
   ]
  }
 ],
 "metadata": {
  "kernel_info": {
   "name": "python3"
  },
  "kernelspec": {
   "display_name": "Python 3",
   "language": "python",
   "name": "python3"
  },
  "language_info": {
   "codemirror_mode": {
    "name": "ipython",
    "version": 3
   },
   "file_extension": ".py",
   "mimetype": "text/x-python",
   "name": "python",
   "nbconvert_exporter": "python",
   "pygments_lexer": "ipython3",
   "version": "3.7.2"
  },
  "nteract": {
   "version": "0.12.3"
  }
 },
 "nbformat": 4,
 "nbformat_minor": 2
}
