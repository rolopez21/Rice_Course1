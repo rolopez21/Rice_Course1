{
 "cells": [
  {
   "cell_type": "markdown",
   "metadata": {},
   "source": [
    "# Calculating Portfolio Returns with Pandas DataFrames"
   ]
  },
  {
   "cell_type": "markdown",
   "metadata": {},
   "source": [
    "## 1. Import Libraries and Dependencies"
   ]
  },
  {
   "cell_type": "code",
   "execution_count": 1,
   "metadata": {},
   "outputs": [],
   "source": [
    "# Import necessary libraries and dependencies\n",
    "import pandas as pd\n",
    "from pathlib import Path\n",
    "%matplotlib inline"
   ]
  },
  {
   "cell_type": "markdown",
   "metadata": {},
   "source": [
    "## 2. Set the File Path to the CSVs using the Pathlib Library"
   ]
  },
  {
   "cell_type": "code",
   "execution_count": 2,
   "metadata": {},
   "outputs": [],
   "source": [
    "# Set the file paths for the CSVs using the Path class from the pathlib library\n",
    "msft_csv_path = Path(\"../Resources/MSFT.csv\")\n",
    "sp500_csv_path = Path(\"../Resources/SP500.csv\")"
   ]
  },
  {
   "cell_type": "markdown",
   "metadata": {},
   "source": [
    "## 3. Import the CSVs as Pandas DataFrames"
   ]
  },
  {
   "cell_type": "code",
   "execution_count": 3,
   "metadata": {},
   "outputs": [],
   "source": [
    "# Read the daily closing prices of MSFT, set the `date` as a datetime index\n",
    "msft_df = pd.read_csv(msft_csv_path, index_col=\"date\", parse_dates=True, infer_datetime_format=True)\n",
    "sp500_df = pd.read_csv(sp500_csv_path, index_col=\"date\", parse_dates=True, infer_datetime_format=True)"
   ]
  },
  {
   "cell_type": "markdown",
   "metadata": {},
   "source": [
    "## 4. Combine the DataFrames and Sort the Index"
   ]
  },
  {
   "cell_type": "code",
   "execution_count": 4,
   "metadata": {},
   "outputs": [
    {
     "data": {
      "text/html": [
       "<div>\n",
       "<style scoped>\n",
       "    .dataframe tbody tr th:only-of-type {\n",
       "        vertical-align: middle;\n",
       "    }\n",
       "\n",
       "    .dataframe tbody tr th {\n",
       "        vertical-align: top;\n",
       "    }\n",
       "\n",
       "    .dataframe thead th {\n",
       "        text-align: right;\n",
       "    }\n",
       "</style>\n",
       "<table border=\"1\" class=\"dataframe\">\n",
       "  <thead>\n",
       "    <tr style=\"text-align: right;\">\n",
       "      <th></th>\n",
       "      <th>close</th>\n",
       "      <th>volume</th>\n",
       "      <th>open</th>\n",
       "      <th>high</th>\n",
       "      <th>low</th>\n",
       "      <th>close</th>\n",
       "    </tr>\n",
       "    <tr>\n",
       "      <th>date</th>\n",
       "      <th></th>\n",
       "      <th></th>\n",
       "      <th></th>\n",
       "      <th></th>\n",
       "      <th></th>\n",
       "      <th></th>\n",
       "    </tr>\n",
       "  </thead>\n",
       "  <tbody>\n",
       "    <tr>\n",
       "      <th>2014-05-20</th>\n",
       "      <td>39.68</td>\n",
       "      <td>21318920</td>\n",
       "      <td>39.68</td>\n",
       "      <td>39.94</td>\n",
       "      <td>39.4600</td>\n",
       "      <td>1872.829956</td>\n",
       "    </tr>\n",
       "    <tr>\n",
       "      <th>2014-05-21</th>\n",
       "      <td>40.35</td>\n",
       "      <td>22377460</td>\n",
       "      <td>39.80</td>\n",
       "      <td>40.35</td>\n",
       "      <td>39.7399</td>\n",
       "      <td>1888.030029</td>\n",
       "    </tr>\n",
       "    <tr>\n",
       "      <th>2014-05-22</th>\n",
       "      <td>40.10</td>\n",
       "      <td>20201010</td>\n",
       "      <td>40.29</td>\n",
       "      <td>40.35</td>\n",
       "      <td>39.8500</td>\n",
       "      <td>1892.489990</td>\n",
       "    </tr>\n",
       "    <tr>\n",
       "      <th>2014-05-23</th>\n",
       "      <td>40.12</td>\n",
       "      <td>18013300</td>\n",
       "      <td>40.37</td>\n",
       "      <td>40.37</td>\n",
       "      <td>40.0000</td>\n",
       "      <td>1900.530029</td>\n",
       "    </tr>\n",
       "    <tr>\n",
       "      <th>2014-05-27</th>\n",
       "      <td>40.19</td>\n",
       "      <td>26160450</td>\n",
       "      <td>40.26</td>\n",
       "      <td>40.26</td>\n",
       "      <td>39.8100</td>\n",
       "      <td>1911.910034</td>\n",
       "    </tr>\n",
       "  </tbody>\n",
       "</table>\n",
       "</div>"
      ],
      "text/plain": [
       "            close    volume   open   high      low        close\n",
       "date                                                           \n",
       "2014-05-20  39.68  21318920  39.68  39.94  39.4600  1872.829956\n",
       "2014-05-21  40.35  22377460  39.80  40.35  39.7399  1888.030029\n",
       "2014-05-22  40.10  20201010  40.29  40.35  39.8500  1892.489990\n",
       "2014-05-23  40.12  18013300  40.37  40.37  40.0000  1900.530029\n",
       "2014-05-27  40.19  26160450  40.26  40.26  39.8100  1911.910034"
      ]
     },
     "execution_count": 4,
     "metadata": {},
     "output_type": "execute_result"
    }
   ],
   "source": [
    "# Create a new pivot table where the columns are the closing prices for each ticker\n",
    "combined_df = pd.concat([msft_df, sp500_df], axis=\"columns\", join=\"inner\")\n",
    "\n",
    "# Sort datetime index in ascending order (past to present)\n",
    "combined_df.sort_index(inplace=True)\n",
    "\n",
    "# Display a few rows\n",
    "combined_df.head()"
   ]
  },
  {
   "cell_type": "markdown",
   "metadata": {},
   "source": [
    "## 5. Drop the Extraneous Columns"
   ]
  },
  {
   "cell_type": "code",
   "execution_count": 5,
   "metadata": {},
   "outputs": [
    {
     "data": {
      "text/html": [
       "<div>\n",
       "<style scoped>\n",
       "    .dataframe tbody tr th:only-of-type {\n",
       "        vertical-align: middle;\n",
       "    }\n",
       "\n",
       "    .dataframe tbody tr th {\n",
       "        vertical-align: top;\n",
       "    }\n",
       "\n",
       "    .dataframe thead th {\n",
       "        text-align: right;\n",
       "    }\n",
       "</style>\n",
       "<table border=\"1\" class=\"dataframe\">\n",
       "  <thead>\n",
       "    <tr style=\"text-align: right;\">\n",
       "      <th></th>\n",
       "      <th>close</th>\n",
       "      <th>close</th>\n",
       "    </tr>\n",
       "    <tr>\n",
       "      <th>date</th>\n",
       "      <th></th>\n",
       "      <th></th>\n",
       "    </tr>\n",
       "  </thead>\n",
       "  <tbody>\n",
       "    <tr>\n",
       "      <th>2014-05-20</th>\n",
       "      <td>39.68</td>\n",
       "      <td>1872.829956</td>\n",
       "    </tr>\n",
       "    <tr>\n",
       "      <th>2014-05-21</th>\n",
       "      <td>40.35</td>\n",
       "      <td>1888.030029</td>\n",
       "    </tr>\n",
       "    <tr>\n",
       "      <th>2014-05-22</th>\n",
       "      <td>40.10</td>\n",
       "      <td>1892.489990</td>\n",
       "    </tr>\n",
       "    <tr>\n",
       "      <th>2014-05-23</th>\n",
       "      <td>40.12</td>\n",
       "      <td>1900.530029</td>\n",
       "    </tr>\n",
       "    <tr>\n",
       "      <th>2014-05-27</th>\n",
       "      <td>40.19</td>\n",
       "      <td>1911.910034</td>\n",
       "    </tr>\n",
       "  </tbody>\n",
       "</table>\n",
       "</div>"
      ],
      "text/plain": [
       "            close        close\n",
       "date                          \n",
       "2014-05-20  39.68  1872.829956\n",
       "2014-05-21  40.35  1888.030029\n",
       "2014-05-22  40.10  1892.489990\n",
       "2014-05-23  40.12  1900.530029\n",
       "2014-05-27  40.19  1911.910034"
      ]
     },
     "execution_count": 5,
     "metadata": {},
     "output_type": "execute_result"
    }
   ],
   "source": [
    "# Drop extra columns and only leave the close columns and associated values\n",
    "combined_df.drop(columns=['volume', 'open', 'high', 'low'], inplace=True)\n",
    "combined_df.head()"
   ]
  },
  {
   "cell_type": "markdown",
   "metadata": {},
   "source": [
    "## 6. Rename Columns"
   ]
  },
  {
   "cell_type": "code",
   "execution_count": 6,
   "metadata": {},
   "outputs": [
    {
     "data": {
      "text/html": [
       "<div>\n",
       "<style scoped>\n",
       "    .dataframe tbody tr th:only-of-type {\n",
       "        vertical-align: middle;\n",
       "    }\n",
       "\n",
       "    .dataframe tbody tr th {\n",
       "        vertical-align: top;\n",
       "    }\n",
       "\n",
       "    .dataframe thead th {\n",
       "        text-align: right;\n",
       "    }\n",
       "</style>\n",
       "<table border=\"1\" class=\"dataframe\">\n",
       "  <thead>\n",
       "    <tr style=\"text-align: right;\">\n",
       "      <th></th>\n",
       "      <th>MSFT</th>\n",
       "      <th>SP500</th>\n",
       "    </tr>\n",
       "    <tr>\n",
       "      <th>date</th>\n",
       "      <th></th>\n",
       "      <th></th>\n",
       "    </tr>\n",
       "  </thead>\n",
       "  <tbody>\n",
       "    <tr>\n",
       "      <th>2014-05-20</th>\n",
       "      <td>39.68</td>\n",
       "      <td>1872.829956</td>\n",
       "    </tr>\n",
       "    <tr>\n",
       "      <th>2014-05-21</th>\n",
       "      <td>40.35</td>\n",
       "      <td>1888.030029</td>\n",
       "    </tr>\n",
       "    <tr>\n",
       "      <th>2014-05-22</th>\n",
       "      <td>40.10</td>\n",
       "      <td>1892.489990</td>\n",
       "    </tr>\n",
       "    <tr>\n",
       "      <th>2014-05-23</th>\n",
       "      <td>40.12</td>\n",
       "      <td>1900.530029</td>\n",
       "    </tr>\n",
       "    <tr>\n",
       "      <th>2014-05-27</th>\n",
       "      <td>40.19</td>\n",
       "      <td>1911.910034</td>\n",
       "    </tr>\n",
       "  </tbody>\n",
       "</table>\n",
       "</div>"
      ],
      "text/plain": [
       "             MSFT        SP500\n",
       "date                          \n",
       "2014-05-20  39.68  1872.829956\n",
       "2014-05-21  40.35  1888.030029\n",
       "2014-05-22  40.10  1892.489990\n",
       "2014-05-23  40.12  1900.530029\n",
       "2014-05-27  40.19  1911.910034"
      ]
     },
     "execution_count": 6,
     "metadata": {},
     "output_type": "execute_result"
    }
   ],
   "source": [
    "# Rename the columns to match the corresponding stock\n",
    "combined_df.columns = ['MSFT', 'SP500']\n",
    "combined_df.head()"
   ]
  },
  {
   "cell_type": "markdown",
   "metadata": {},
   "source": [
    "## 7. Calculate Daily Returns"
   ]
  },
  {
   "cell_type": "code",
   "execution_count": 7,
   "metadata": {},
   "outputs": [
    {
     "data": {
      "text/html": [
       "<div>\n",
       "<style scoped>\n",
       "    .dataframe tbody tr th:only-of-type {\n",
       "        vertical-align: middle;\n",
       "    }\n",
       "\n",
       "    .dataframe tbody tr th {\n",
       "        vertical-align: top;\n",
       "    }\n",
       "\n",
       "    .dataframe thead th {\n",
       "        text-align: right;\n",
       "    }\n",
       "</style>\n",
       "<table border=\"1\" class=\"dataframe\">\n",
       "  <thead>\n",
       "    <tr style=\"text-align: right;\">\n",
       "      <th></th>\n",
       "      <th>MSFT</th>\n",
       "      <th>SP500</th>\n",
       "    </tr>\n",
       "    <tr>\n",
       "      <th>date</th>\n",
       "      <th></th>\n",
       "      <th></th>\n",
       "    </tr>\n",
       "  </thead>\n",
       "  <tbody>\n",
       "    <tr>\n",
       "      <th>2014-05-20</th>\n",
       "      <td>NaN</td>\n",
       "      <td>NaN</td>\n",
       "    </tr>\n",
       "    <tr>\n",
       "      <th>2014-05-21</th>\n",
       "      <td>0.016885</td>\n",
       "      <td>0.008116</td>\n",
       "    </tr>\n",
       "    <tr>\n",
       "      <th>2014-05-22</th>\n",
       "      <td>-0.006196</td>\n",
       "      <td>0.002362</td>\n",
       "    </tr>\n",
       "    <tr>\n",
       "      <th>2014-05-23</th>\n",
       "      <td>0.000499</td>\n",
       "      <td>0.004248</td>\n",
       "    </tr>\n",
       "    <tr>\n",
       "      <th>2014-05-27</th>\n",
       "      <td>0.001745</td>\n",
       "      <td>0.005988</td>\n",
       "    </tr>\n",
       "  </tbody>\n",
       "</table>\n",
       "</div>"
      ],
      "text/plain": [
       "                MSFT     SP500\n",
       "date                          \n",
       "2014-05-20       NaN       NaN\n",
       "2014-05-21  0.016885  0.008116\n",
       "2014-05-22 -0.006196  0.002362\n",
       "2014-05-23  0.000499  0.004248\n",
       "2014-05-27  0.001745  0.005988"
      ]
     },
     "execution_count": 7,
     "metadata": {},
     "output_type": "execute_result"
    }
   ],
   "source": [
    "# Use the `pct_change` function to calculate daily returns of closing prices for each column\n",
    "daily_returns = combined_df.pct_change()\n",
    "daily_returns.head()"
   ]
  },
  {
   "cell_type": "markdown",
   "metadata": {},
   "source": [
    "## 8. Calculate Daily Portfolio Returns"
   ]
  },
  {
   "cell_type": "code",
   "execution_count": 8,
   "metadata": {},
   "outputs": [
    {
     "data": {
      "text/plain": [
       "date\n",
       "2014-05-20         NaN\n",
       "2014-05-21    0.013377\n",
       "2014-05-22   -0.002773\n",
       "2014-05-23    0.001999\n",
       "2014-05-27    0.003442\n",
       "dtype: float64"
      ]
     },
     "execution_count": 8,
     "metadata": {},
     "output_type": "execute_result"
    }
   ],
   "source": [
    "# Use the `dot` function to multiply the weights by each stock's daily return to get the portfolio daily return\n",
    "weights = [0.6, 0.4]\n",
    "\n",
    "portfolio_returns = daily_returns.dot(weights)\n",
    "portfolio_returns.head()"
   ]
  },
  {
   "cell_type": "markdown",
   "metadata": {},
   "source": [
    "## 9. Plot Daily Portfolio Returns"
   ]
  },
  {
   "cell_type": "code",
   "execution_count": 9,
   "metadata": {},
   "outputs": [
    {
     "data": {
      "text/plain": [
       "<AxesSubplot:xlabel='date'>"
      ]
     },
     "execution_count": 9,
     "metadata": {},
     "output_type": "execute_result"
    },
    {
     "data": {
      "image/png": "[encoded data removed]",
      "text/plain": [
       "<Figure size 432x288 with 1 Axes>"
      ]
     },
     "metadata": {
      "needs_background": "light"
     },
     "output_type": "display_data"
    }
   ],
   "source": [
    "# Use the `plot` function to plot the daily portfolio returns\n",
    "portfolio_returns.plot()"
   ]
  },
  {
   "cell_type": "markdown",
   "metadata": {},
   "source": [
    "## 10. Calculate Cumulative Portfolio Returns"
   ]
  },
  {
   "cell_type": "code",
   "execution_count": 10,
   "metadata": {},
   "outputs": [
    {
     "data": {
      "text/plain": [
       "date\n",
       "2014-05-20         NaN\n",
       "2014-05-21    0.013377\n",
       "2014-05-22    0.010568\n",
       "2014-05-23    0.012588\n",
       "2014-05-27    0.016073\n",
       "dtype: float64"
      ]
     },
     "execution_count": 10,
     "metadata": {},
     "output_type": "execute_result"
    }
   ],
   "source": [
    "# Use the `cumprod` function to cumulatively multiply each element in the Series by it's preceding element until the end\n",
    "cumulative_returns = (1 + portfolio_returns).cumprod() - 1\n",
    "cumulative_returns.head()"
   ]
  },
  {
   "cell_type": "markdown",
   "metadata": {},
   "source": [
    "## 11. Plot Cumulative Portfolio Returns"
   ]
  },
  {
   "cell_type": "code",
   "execution_count": 11,
   "metadata": {},
   "outputs": [
    {
     "data": {
      "text/plain": [
       "<AxesSubplot:xlabel='date'>"
      ]
     },
     "execution_count": 11,
     "metadata": {},
     "output_type": "execute_result"
    },
    {
     "data": {
      "image/png": "[encoded data removed]",
      "text/plain": [
       "<Figure size 432x288 with 1 Axes>"
      ]
     },
     "metadata": {
      "needs_background": "light"
     },
     "output_type": "display_data"
    }
   ],
   "source": [
    "# Use the `plot` function to plot the cumulative portfolio returns\n",
    "cumulative_returns.plot()"
   ]
  }
 ],
 "metadata": {
  "file_extension": ".py",
  "kernelspec": {
   "display_name": "Python 3.10.5 64-bit",
   "language": "python",
   "name": "python3"
  },
  "language_info": {
   "codemirror_mode": {
    "name": "ipython",
    "version": 3
   },
   "file_extension": ".py",
   "mimetype": "text/x-python",
   "name": "python",
   "nbconvert_exporter": "python",
   "pygments_lexer": "ipython3",
   "version": "3.10.5"
  },
  "mimetype": "text/x-python",
  "name": "python",
  "npconvert_exporter": "python",
  "pygments_lexer": "ipython3",
  "version": 3,
  "vscode": {
   "interpreter": {
    "hash": "3d4b713e85380f88a00777cdcdc0b317b22afcd9ce36339ad381340bf82814c9"
   }
  }
 },
 "nbformat": 4,
 "nbformat_minor": 2
}
