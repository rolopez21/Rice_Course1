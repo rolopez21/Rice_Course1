{
 "cells": [
  {
   "cell_type": "code",
   "execution_count": null,
   "metadata": {},
   "outputs": [],
   "source": [
    "import pandas as pd\n",
    "import plotly.express as px\n",
    "import numpy as np\n",
    "from pathlib import Path"
   ]
  },
  {
   "cell_type": "code",
   "execution_count": null,
   "metadata": {},
   "outputs": [],
   "source": [
    "# Prep Data\n",
    "housing_type = [\"Single Family\", \"Multi-Family\", \"Apartment\"]\n",
    "region = [\"North East\", \"Tri-State\"]\n",
    "prop_size = [\"Large\", \"Medium\", \"Small\"]\n",
    "\n",
    "df = pd.DataFrame(\n",
    "    {\n",
    "        \"sold\": np.random.randint(999, 1002, 30),\n",
    "        \"year\": np.random.randint(2010, 2019, 30),\n",
    "        \"type\": np.random.choice(housing_type, 30),\n",
    "        \"region\": np.random.choice(region, 30),\n",
    "        \"prop_size\": np.random.choice(prop_size, 30),\n",
    "    }\n",
    ").sort_values([\"year\", \"type\", \"region\", \"prop_size\"])\n",
    "df.head()"
   ]
  },
  {
   "cell_type": "code",
   "execution_count": null,
   "metadata": {},
   "outputs": [],
   "source": [
    "# Plot data using parallel_categories\n"
   ]
  }
 ],
 "metadata": {
  "kernelspec": {
   "display_name": "Python 3",
   "language": "python",
   "name": "python3"
  },
  "language_info": {
   "codemirror_mode": {
    "name": "ipython",
    "version": 3
   },
   "file_extension": ".py",
   "mimetype": "text/x-python",
   "name": "python",
   "nbconvert_exporter": "python",
   "pygments_lexer": "ipython3",
   "version": "3.7.3"
  }
 },
 "nbformat": 4,
 "nbformat_minor": 4
}
