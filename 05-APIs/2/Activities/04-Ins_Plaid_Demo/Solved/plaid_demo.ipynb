{
 "cells": [
  {
   "cell_type": "code",
   "execution_count": 1,
   "metadata": {},
   "outputs": [],
   "source": [
    "import plaid\n",
    "import datetime\n",
    "import json\n",
    "import os"
   ]
  },
  {
   "cell_type": "markdown",
   "metadata": {},
   "source": [
    "### Retrieve env variables"
   ]
  },
  {
   "cell_type": "code",
   "execution_count": 2,
   "metadata": {},
   "outputs": [],
   "source": [
    "# Extract API keys from environment variables\n",
    "PLAID_CLIENT_ID = os.getenv('PLAID_CLIENT_ID')\n",
    "PLAID_PUBLIC_KEY = os.getenv('PLAID_PUBLIC_KEY')\n",
    "PLAID_SBX_SECRET_KEY = os.getenv('PLAID_SBX_SECRET_KEY')"
   ]
  },
  {
   "cell_type": "markdown",
   "metadata": {},
   "source": [
    "### Create Client Object and Fetch List of Financial Institutions"
   ]
  },
  {
   "cell_type": "code",
   "execution_count": 3,
   "metadata": {},
   "outputs": [
    {
     "data": {
      "text/plain": [
       "{'institutions': [{'country_codes': ['US'],\n",
       "   'credentials': [{'label': 'Username', 'name': 'username', 'type': 'text'},\n",
       "    {'label': 'Password', 'name': 'password', 'type': 'password'}],\n",
       "   'has_mfa': False,\n",
       "   'input_spec': 'fixed',\n",
       "   'institution_id': 'ins_25',\n",
       "   'mfa': [],\n",
       "   'mfa_code_type': 'numeric',\n",
       "   'name': 'Ally Bank',\n",
       "   'products': ['assets',\n",
       "    'auth',\n",
       "    'balance',\n",
       "    'transactions',\n",
       "    'income',\n",
       "    'identity'],\n",
       "   'routing_numbers': []},\n",
       "  {'country_codes': ['US'],\n",
       "   'credentials': [{'label': 'Login ID', 'name': 'username', 'type': 'text'},\n",
       "    {'label': 'Password', 'name': 'password', 'type': 'password'}],\n",
       "   'has_mfa': True,\n",
       "   'input_spec': 'fixed',\n",
       "   'institution_id': 'ins_113968',\n",
       "   'mfa': ['questions'],\n",
       "   'mfa_code_type': 'numeric',\n",
       "   'name': 'Amegy Bank of Texas - Personal Banking',\n",
       "   'products': ['assets', 'auth', 'balance', 'transactions', 'income'],\n",
       "   'routing_numbers': []},\n",
       "  {'country_codes': ['US'],\n",
       "   'credentials': [{'label': 'User ID', 'name': 'username', 'type': 'text'},\n",
       "    {'label': 'Password', 'name': 'password', 'type': 'password'}],\n",
       "   'has_mfa': False,\n",
       "   'input_spec': 'fixed',\n",
       "   'institution_id': 'ins_10',\n",
       "   'mfa': [],\n",
       "   'mfa_code_type': 'numeric',\n",
       "   'name': 'American Express',\n",
       "   'products': ['assets', 'balance', 'transactions', 'income', 'liabilities'],\n",
       "   'routing_numbers': []},\n",
       "  {'country_codes': ['US'],\n",
       "   'credentials': [{'label': 'User Name', 'name': 'username', 'type': 'text'},\n",
       "    {'label': 'Password', 'name': 'password', 'type': 'password'}],\n",
       "   'has_mfa': True,\n",
       "   'input_spec': 'fixed',\n",
       "   'institution_id': 'ins_114157',\n",
       "   'mfa': ['code', 'list', 'questions', 'selections'],\n",
       "   'mfa_code_type': 'numeric',\n",
       "   'name': 'American Express - Personal Savings',\n",
       "   'products': ['assets', 'balance', 'transactions', 'income'],\n",
       "   'routing_numbers': []}],\n",
       " 'request_id': 'Pwakv5dZ8cSiu2a',\n",
       " 'total': 10360}"
      ]
     },
     "execution_count": 3,
     "metadata": {},
     "output_type": "execute_result"
    }
   ],
   "source": [
    "# Create client object\n",
    "client = plaid.Client(client_id=PLAID_CLIENT_ID, secret=PLAID_SBX_SECRET_KEY, public_key=PLAID_PUBLIC_KEY, environment='sandbox')\n",
    "\n",
    "# Get institutions\n",
    "client.Institutions.get(4)"
   ]
  },
  {
   "cell_type": "markdown",
   "metadata": {},
   "source": [
    "### Create Public Token and Exchange for Access Token"
   ]
  },
  {
   "cell_type": "code",
   "execution_count": 4,
   "metadata": {},
   "outputs": [],
   "source": [
    "# Select an institution for processing\n",
    "INSTITUTION_ID = \"ins_109512\"\n",
    "\n",
    "# Create public token to be exchanged for institution access token\n",
    "create_tkn_response = client.Sandbox.public_token.create(INSTITUTION_ID, ['transactions','income','assets'])\n",
    "\n",
    "# Exchange public token for access token\n",
    "exchange_response = client.Item.public_token.exchange(create_tkn_response['public_token'])\n",
    "\n",
    "# Store access token as variable\n",
    "access_token = exchange_response['access_token']"
   ]
  },
  {
   "cell_type": "markdown",
   "metadata": {},
   "source": [
    "### Get List of Accounts"
   ]
  },
  {
   "cell_type": "code",
   "execution_count": 5,
   "metadata": {},
   "outputs": [
    {
     "data": {
      "text/plain": [
       "{'accounts': [{'account_id': 'NvdbrvRk71S4q6kpAdZdIEG8XrWQbatWDRJV3',\n",
       "   'balances': {'available': 100,\n",
       "    'current': 110,\n",
       "    'iso_currency_code': 'USD',\n",
       "    'limit': None,\n",
       "    'unofficial_currency_code': None},\n",
       "   'mask': '0000',\n",
       "   'name': 'Plaid Checking',\n",
       "   'official_name': 'Plaid Gold Standard 0% Interest Checking',\n",
       "   'subtype': 'checking',\n",
       "   'type': 'depository'},\n",
       "  {'account_id': 'Pv4XBvbnQpSP7VxgqRvRTRxAXzME4aC7MqlKe',\n",
       "   'balances': {'available': 200,\n",
       "    'current': 210,\n",
       "    'iso_currency_code': 'USD',\n",
       "    'limit': None,\n",
       "    'unofficial_currency_code': None},\n",
       "   'mask': '1111',\n",
       "   'name': 'Plaid Saving',\n",
       "   'official_name': 'Plaid Silver Standard 0.1% Interest Saving',\n",
       "   'subtype': 'savings',\n",
       "   'type': 'depository'},\n",
       "  {'account_id': 'jBdX8BbQJVsgXPzqKWBWTZkljd1ovef1XngQM',\n",
       "   'balances': {'available': None,\n",
       "    'current': 1000,\n",
       "    'iso_currency_code': 'USD',\n",
       "    'limit': None,\n",
       "    'unofficial_currency_code': None},\n",
       "   'mask': '2222',\n",
       "   'name': 'Plaid CD',\n",
       "   'official_name': 'Plaid Bronze Standard 0.2% Interest CD',\n",
       "   'subtype': 'cd',\n",
       "   'type': 'depository'},\n",
       "  {'account_id': '77j397pzaAFxrdMqpJmJimGgXVE6dAsg9DkwQ',\n",
       "   'balances': {'available': None,\n",
       "    'current': 410,\n",
       "    'iso_currency_code': 'USD',\n",
       "    'limit': 2000,\n",
       "    'unofficial_currency_code': None},\n",
       "   'mask': '3333',\n",
       "   'name': 'Plaid Credit Card',\n",
       "   'official_name': 'Plaid Diamond 12.5% APR Interest Credit Card',\n",
       "   'subtype': 'credit card',\n",
       "   'type': 'credit'},\n",
       "  {'account_id': 'elrQmlvNPVH9ma8WwEkET7oylQe9xbHLjAZxQ',\n",
       "   'balances': {'available': 43200,\n",
       "    'current': 43200,\n",
       "    'iso_currency_code': 'USD',\n",
       "    'limit': None,\n",
       "    'unofficial_currency_code': None},\n",
       "   'mask': '4444',\n",
       "   'name': 'Plaid Money Market',\n",
       "   'official_name': 'Plaid Platinum Standard 1.85% Interest Money Market',\n",
       "   'subtype': 'money market',\n",
       "   'type': 'depository'},\n",
       "  {'account_id': 'QwNg3wJbXocjplaWwV8VTvyqNRLQXlfp8bQjV',\n",
       "   'balances': {'available': None,\n",
       "    'current': 320.76,\n",
       "    'iso_currency_code': 'USD',\n",
       "    'limit': None,\n",
       "    'unofficial_currency_code': None},\n",
       "   'mask': '5555',\n",
       "   'name': 'Plaid IRA',\n",
       "   'official_name': None,\n",
       "   'subtype': 'ira',\n",
       "   'type': 'investment'},\n",
       "  {'account_id': 'ZXLDmXql8VIoqPRbjBwBUrZ49qQym5igKZyxv',\n",
       "   'balances': {'available': None,\n",
       "    'current': 23631.9805,\n",
       "    'iso_currency_code': 'USD',\n",
       "    'limit': None,\n",
       "    'unofficial_currency_code': None},\n",
       "   'mask': '6666',\n",
       "   'name': 'Plaid 401k',\n",
       "   'official_name': None,\n",
       "   'subtype': '401k',\n",
       "   'type': 'investment'},\n",
       "  {'account_id': 'MvxGKv7WjMSaRDbLe8n8UKEP4nBeMAC9MagmA',\n",
       "   'balances': {'available': None,\n",
       "    'current': 65262,\n",
       "    'iso_currency_code': 'USD',\n",
       "    'limit': None,\n",
       "    'unofficial_currency_code': None},\n",
       "   'mask': '7777',\n",
       "   'name': 'Plaid Student Loan',\n",
       "   'official_name': None,\n",
       "   'subtype': 'student',\n",
       "   'type': 'loan'}],\n",
       " 'item': {'available_products': ['balance',\n",
       "   'credit_details',\n",
       "   'identity',\n",
       "   'investments',\n",
       "   'liabilities'],\n",
       "  'billed_products': ['assets', 'income', 'transactions'],\n",
       "  'error': None,\n",
       "  'institution_id': 'ins_109512',\n",
       "  'item_id': 'VvQGNvWRaASMlxQXEr8rHjVlNeQzNbcWJlmKM',\n",
       "  'webhook': ''},\n",
       " 'request_id': 'kNbdxCqm3hugLPK'}"
      ]
     },
     "execution_count": 5,
     "metadata": {},
     "output_type": "execute_result"
    }
   ],
   "source": [
    "# Get accounts associated with institution\n",
    "client.Accounts.get(access_token)"
   ]
  },
  {
   "cell_type": "markdown",
   "metadata": {},
   "source": [
    "### Get Transactions for Accounts"
   ]
  },
  {
   "cell_type": "code",
   "execution_count": 6,
   "metadata": {},
   "outputs": [
    {
     "name": "stdout",
     "output_type": "stream",
     "text": [
      "[\n",
      "    {\n",
      "        \"account_id\": \"Pv4XBvbnQpSP7VxgqRvRTRxAXzME4aC7MqlKe\",\n",
      "        \"account_owner\": null,\n",
      "        \"amount\": 25,\n",
      "        \"category\": [\n",
      "            \"Payment\",\n",
      "            \"Credit Card\"\n",
      "        ],\n",
      "        \"category_id\": \"16001000\",\n",
      "        \"date\": \"2019-08-19\",\n",
      "        \"iso_currency_code\": \"USD\",\n",
      "        \"location\": {\n",
      "            \"address\": null,\n",
      "            \"city\": null,\n",
      "            \"country\": null,\n",
      "            \"lat\": null,\n",
      "            \"lon\": null,\n",
      "            \"postal_code\": null,\n",
      "            \"region\": null,\n",
      "            \"store_number\": null\n",
      "        },\n",
      "        \"name\": \"CREDIT CARD 3333 PAYMENT *//\",\n",
      "        \"payment_meta\": {\n",
      "            \"by_order_of\": null,\n",
      "            \"payee\": null,\n",
      "            \"payer\": null,\n",
      "            \"payment_method\": null,\n",
      "            \"payment_processor\": null,\n",
      "            \"ppd_id\": null,\n",
      "            \"reason\": null,\n",
      "            \"reference_number\": null\n",
      "        },\n",
      "        \"pending\": false,\n",
      "        \"pending_transaction_id\": null,\n",
      "        \"transaction_id\": \"6jPN9jgreWUpKrW5NgDgUvRloEdyJ8igayWRn\",\n",
      "        \"transaction_type\": \"special\",\n",
      "        \"unofficial_currency_code\": null\n",
      "    },\n",
      "    {\n",
      "        \"account_id\": \"NvdbrvRk71S4q6kpAdZdIEG8XrWQbatWDRJV3\",\n",
      "        \"account_owner\": null,\n",
      "        \"amount\": 5.4,\n",
      "        \"category\": [\n",
      "            \"Travel\",\n",
      "            \"Car Service\",\n",
      "            \"Ride Share\"\n",
      "        ],\n",
      "        \"category_id\": \"22006001\",\n",
      "        \"date\": \"2019-08-19\",\n",
      "        \"iso_currency_code\": \"USD\",\n",
      "        \"location\": {\n",
      "            \"address\": null,\n",
      "            \"city\": null,\n",
      "            \"country\": null,\n",
      "            \"lat\": null,\n",
      "            \"lon\": null,\n",
      "            \"postal_code\": null,\n",
      "            \"region\": null,\n",
      "            \"store_number\": null\n",
      "        },\n",
      "        \"name\": \"Uber 063015 SF**POOL**\",\n",
      "        \"payment_meta\": {\n",
      "            \"by_order_of\": null,\n",
      "            \"payee\": null,\n",
      "            \"payer\": null,\n",
      "            \"payment_method\": null,\n",
      "            \"payment_processor\": null,\n",
      "            \"ppd_id\": null,\n",
      "            \"reason\": null,\n",
      "            \"reference_number\": null\n",
      "        },\n",
      "        \"pending\": false,\n",
      "        \"pending_transaction_id\": null,\n",
      "        \"transaction_id\": \"bvlQmvxd6VS5DbXPwqgqHN43m1rRAnCV9d5wN\",\n",
      "        \"transaction_type\": \"special\",\n",
      "        \"unofficial_currency_code\": null\n",
      "    }\n",
      "]\n"
     ]
    }
   ],
   "source": [
    "# Get transactions for institution for specific date range\n",
    "start_date = '{:%Y-%m-%d}'.format(datetime.datetime.now() + datetime.timedelta(-30))\n",
    "end_date = '{:%Y-%m-%d}'.format(datetime.datetime.now())\n",
    "\n",
    "# Get transactions for date range\n",
    "transaction_response = client.Transactions.get(access_token,start_date,end_date)\n",
    "\n",
    "# Print JSON output\n",
    "print(json.dumps(transaction_response['transactions'][:2],indent=4, sort_keys=True))"
   ]
  },
  {
   "cell_type": "code",
   "execution_count": null,
   "metadata": {},
   "outputs": [],
   "source": []
  },
  {
   "cell_type": "code",
   "execution_count": null,
   "metadata": {},
   "outputs": [],
   "source": []
  }
 ],
 "metadata": {
  "kernelspec": {
   "display_name": "Python 3",
   "language": "python",
   "name": "python3"
  },
  "language_info": {
   "codemirror_mode": {
    "name": "ipython",
    "version": 3
   },
   "file_extension": ".py",
   "mimetype": "text/x-python",
   "name": "python",
   "nbconvert_exporter": "python",
   "pygments_lexer": "ipython3",
   "version": "3.10.5 (tags/v3.10.5:f377153, Jun  6 2022, 16:14:13) [MSC v.1929 64 bit (AMD64)]"
  },
  "vscode": {
   "interpreter": {
    "hash": "3d4b713e85380f88a00777cdcdc0b317b22afcd9ce36339ad381340bf82814c9"
   }
  }
 },
 "nbformat": 4,
 "nbformat_minor": 2
}
