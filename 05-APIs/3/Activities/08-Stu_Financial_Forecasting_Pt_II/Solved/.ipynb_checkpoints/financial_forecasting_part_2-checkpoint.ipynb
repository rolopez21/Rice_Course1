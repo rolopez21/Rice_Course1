{
 "cells": [
  {
   "cell_type": "markdown",
   "metadata": {},
   "source": [
    "### Instructor Demo: Financial Forecasting Part II\n",
    "\n",
    "This program executes `1000` simulations of stock price trajectory over the next `252 * 3` trading days (or 3 years of trading) for `TSLA` stock, based on a normal probability distribution of average daily returns derived from the sample mean and standard deviation. Then, the program calculates a `95%` confidence interval of stock price outcomes for `TSLA`. "
   ]
  },
  {
   "cell_type": "code",
   "execution_count": 1,
   "metadata": {},
   "outputs": [],
   "source": [
    "# Import libraries and dependencies\n",
    "import numpy as np\n",
    "import pandas as pd\n",
    "from datetime import datetime, timedelta\n",
    "from iexfinance.stocks import get_historical_data\n",
    "from iexfinance.refdata import get_symbols\n",
    "import matplotlib.pyplot as plt\n",
    "%matplotlib inline"
   ]
  },
  {
   "cell_type": "markdown",
   "metadata": {},
   "source": [
    "### Check Available Tickers from IEX Cloud API"
   ]
  },
  {
   "cell_type": "code",
   "execution_count": 2,
   "metadata": {
    "collapsed": false,
    "inputHidden": false,
    "outputHidden": false
   },
   "outputs": [
    {
     "data": {
      "text/html": [
       "<div>\n",
       "<style scoped>\n",
       "    .dataframe tbody tr th:only-of-type {\n",
       "        vertical-align: middle;\n",
       "    }\n",
       "\n",
       "    .dataframe tbody tr th {\n",
       "        vertical-align: top;\n",
       "    }\n",
       "\n",
       "    .dataframe thead th {\n",
       "        text-align: right;\n",
       "    }\n",
       "</style>\n",
       "<table border=\"1\" class=\"dataframe\">\n",
       "  <thead>\n",
       "    <tr style=\"text-align: right;\">\n",
       "      <th></th>\n",
       "      <th>currency</th>\n",
       "      <th>date</th>\n",
       "      <th>exchange</th>\n",
       "      <th>iexId</th>\n",
       "      <th>isEnabled</th>\n",
       "      <th>name</th>\n",
       "      <th>region</th>\n",
       "      <th>symbol</th>\n",
       "      <th>type</th>\n",
       "    </tr>\n",
       "  </thead>\n",
       "  <tbody>\n",
       "    <tr>\n",
       "      <th>0</th>\n",
       "      <td>USD</td>\n",
       "      <td>2019-06-10</td>\n",
       "      <td>NYS</td>\n",
       "      <td>IEX_46574843354B2D52</td>\n",
       "      <td>True</td>\n",
       "      <td>Agilent Technologies Inc.</td>\n",
       "      <td>US</td>\n",
       "      <td>A</td>\n",
       "      <td>cs</td>\n",
       "    </tr>\n",
       "    <tr>\n",
       "      <th>1</th>\n",
       "      <td>USD</td>\n",
       "      <td>2019-06-10</td>\n",
       "      <td>NYS</td>\n",
       "      <td>IEX_4238333734532D52</td>\n",
       "      <td>True</td>\n",
       "      <td>Alcoa Corp.</td>\n",
       "      <td>US</td>\n",
       "      <td>AA</td>\n",
       "      <td>cs</td>\n",
       "    </tr>\n",
       "    <tr>\n",
       "      <th>2</th>\n",
       "      <td>USD</td>\n",
       "      <td>2019-06-10</td>\n",
       "      <td>PSE</td>\n",
       "      <td>IEX_474B433136332D52</td>\n",
       "      <td>True</td>\n",
       "      <td>Perth Mint Physical Gold ETF</td>\n",
       "      <td>US</td>\n",
       "      <td>AAAU</td>\n",
       "      <td>et</td>\n",
       "    </tr>\n",
       "    <tr>\n",
       "      <th>3</th>\n",
       "      <td>USD</td>\n",
       "      <td>2019-06-10</td>\n",
       "      <td>NAS</td>\n",
       "      <td>IEX_4E5434354A302D52</td>\n",
       "      <td>True</td>\n",
       "      <td>Altaba Inc.</td>\n",
       "      <td>US</td>\n",
       "      <td>AABA</td>\n",
       "      <td>cef</td>\n",
       "    </tr>\n",
       "    <tr>\n",
       "      <th>4</th>\n",
       "      <td>USD</td>\n",
       "      <td>2019-06-10</td>\n",
       "      <td>NYS</td>\n",
       "      <td>IEX_4843364642592D52</td>\n",
       "      <td>True</td>\n",
       "      <td>AAC Holdings Inc.</td>\n",
       "      <td>US</td>\n",
       "      <td>AAC</td>\n",
       "      <td>cs</td>\n",
       "    </tr>\n",
       "  </tbody>\n",
       "</table>\n",
       "</div>"
      ],
      "text/plain": [
       "  currency        date exchange                 iexId  isEnabled  \\\n",
       "0      USD  2019-06-10      NYS  IEX_46574843354B2D52       True   \n",
       "1      USD  2019-06-10      NYS  IEX_4238333734532D52       True   \n",
       "2      USD  2019-06-10      PSE  IEX_474B433136332D52       True   \n",
       "3      USD  2019-06-10      NAS  IEX_4E5434354A302D52       True   \n",
       "4      USD  2019-06-10      NYS  IEX_4843364642592D52       True   \n",
       "\n",
       "                           name region symbol type  \n",
       "0     Agilent Technologies Inc.     US      A   cs  \n",
       "1                   Alcoa Corp.     US     AA   cs  \n",
       "2  Perth Mint Physical Gold ETF     US   AAAU   et  \n",
       "3                   Altaba Inc.     US   AABA  cef  \n",
       "4             AAC Holdings Inc.     US    AAC   cs  "
      ]
     },
     "execution_count": 2,
     "metadata": {},
     "output_type": "execute_result"
    }
   ],
   "source": [
    "# Return available tickers from API\n",
    "tickers=pd.DataFrame(get_symbols())\n",
    "tickers.head()"
   ]
  },
  {
   "cell_type": "markdown",
   "metadata": {},
   "source": [
    "### Get 1 Year's Worth of Data via API Call and Read in as DataFrame "
   ]
  },
  {
   "cell_type": "code",
   "execution_count": 3,
   "metadata": {},
   "outputs": [
    {
     "data": {
      "text/html": [
       "<div>\n",
       "<style scoped>\n",
       "    .dataframe tbody tr th:only-of-type {\n",
       "        vertical-align: middle;\n",
       "    }\n",
       "\n",
       "    .dataframe tbody tr th {\n",
       "        vertical-align: top;\n",
       "    }\n",
       "\n",
       "    .dataframe thead th {\n",
       "        text-align: right;\n",
       "    }\n",
       "</style>\n",
       "<table border=\"1\" class=\"dataframe\">\n",
       "  <thead>\n",
       "    <tr style=\"text-align: right;\">\n",
       "      <th></th>\n",
       "      <th>open</th>\n",
       "      <th>high</th>\n",
       "      <th>low</th>\n",
       "      <th>close</th>\n",
       "      <th>volume</th>\n",
       "    </tr>\n",
       "    <tr>\n",
       "      <th>date</th>\n",
       "      <th></th>\n",
       "      <th></th>\n",
       "      <th></th>\n",
       "      <th></th>\n",
       "      <th></th>\n",
       "    </tr>\n",
       "  </thead>\n",
       "  <tbody>\n",
       "    <tr>\n",
       "      <th>2018-06-11</th>\n",
       "      <td>322.51</td>\n",
       "      <td>334.66</td>\n",
       "      <td>322.50</td>\n",
       "      <td>332.10</td>\n",
       "      <td>13183473</td>\n",
       "    </tr>\n",
       "    <tr>\n",
       "      <th>2018-06-12</th>\n",
       "      <td>344.70</td>\n",
       "      <td>354.97</td>\n",
       "      <td>338.00</td>\n",
       "      <td>342.77</td>\n",
       "      <td>22347403</td>\n",
       "    </tr>\n",
       "    <tr>\n",
       "      <th>2018-06-13</th>\n",
       "      <td>346.71</td>\n",
       "      <td>347.20</td>\n",
       "      <td>339.80</td>\n",
       "      <td>344.78</td>\n",
       "      <td>9469804</td>\n",
       "    </tr>\n",
       "    <tr>\n",
       "      <th>2018-06-14</th>\n",
       "      <td>347.63</td>\n",
       "      <td>358.75</td>\n",
       "      <td>346.60</td>\n",
       "      <td>357.72</td>\n",
       "      <td>10981023</td>\n",
       "    </tr>\n",
       "    <tr>\n",
       "      <th>2018-06-15</th>\n",
       "      <td>353.84</td>\n",
       "      <td>364.67</td>\n",
       "      <td>351.25</td>\n",
       "      <td>358.17</td>\n",
       "      <td>10848254</td>\n",
       "    </tr>\n",
       "  </tbody>\n",
       "</table>\n",
       "</div>"
      ],
      "text/plain": [
       "              open    high     low   close    volume\n",
       "date                                                \n",
       "2018-06-11  322.51  334.66  322.50  332.10  13183473\n",
       "2018-06-12  344.70  354.97  338.00  342.77  22347403\n",
       "2018-06-13  346.71  347.20  339.80  344.78   9469804\n",
       "2018-06-14  347.63  358.75  346.60  357.72  10981023\n",
       "2018-06-15  353.84  364.67  351.25  358.17  10848254"
      ]
     },
     "execution_count": 3,
     "metadata": {},
     "output_type": "execute_result"
    }
   ],
   "source": [
    "# Set the ticker\n",
    "ticker = \"TSLA\"\n",
    "\n",
    "# Set start and end datetimes of 1 year, between now and 365 days ago.\n",
    "end_date = datetime.now()\n",
    "start_date = end_date + timedelta(-365)\n",
    "\n",
    "# Get 1 year's worth of historical data for TSLA\n",
    "df = get_historical_data(ticker, start_date, end_date,  output_format='pandas')\n",
    "df.head()"
   ]
  },
  {
   "cell_type": "markdown",
   "metadata": {},
   "source": [
    "### Drop Extraneous Columns"
   ]
  },
  {
   "cell_type": "code",
   "execution_count": 4,
   "metadata": {},
   "outputs": [
    {
     "data": {
      "text/html": [
       "<div>\n",
       "<style scoped>\n",
       "    .dataframe tbody tr th:only-of-type {\n",
       "        vertical-align: middle;\n",
       "    }\n",
       "\n",
       "    .dataframe tbody tr th {\n",
       "        vertical-align: top;\n",
       "    }\n",
       "\n",
       "    .dataframe thead th {\n",
       "        text-align: right;\n",
       "    }\n",
       "</style>\n",
       "<table border=\"1\" class=\"dataframe\">\n",
       "  <thead>\n",
       "    <tr style=\"text-align: right;\">\n",
       "      <th></th>\n",
       "      <th>close</th>\n",
       "    </tr>\n",
       "    <tr>\n",
       "      <th>date</th>\n",
       "      <th></th>\n",
       "    </tr>\n",
       "  </thead>\n",
       "  <tbody>\n",
       "    <tr>\n",
       "      <th>2018-06-11</th>\n",
       "      <td>332.10</td>\n",
       "    </tr>\n",
       "    <tr>\n",
       "      <th>2018-06-12</th>\n",
       "      <td>342.77</td>\n",
       "    </tr>\n",
       "    <tr>\n",
       "      <th>2018-06-13</th>\n",
       "      <td>344.78</td>\n",
       "    </tr>\n",
       "    <tr>\n",
       "      <th>2018-06-14</th>\n",
       "      <td>357.72</td>\n",
       "    </tr>\n",
       "    <tr>\n",
       "      <th>2018-06-15</th>\n",
       "      <td>358.17</td>\n",
       "    </tr>\n",
       "  </tbody>\n",
       "</table>\n",
       "</div>"
      ],
      "text/plain": [
       "             close\n",
       "date              \n",
       "2018-06-11  332.10\n",
       "2018-06-12  342.77\n",
       "2018-06-13  344.78\n",
       "2018-06-14  357.72\n",
       "2018-06-15  358.17"
      ]
     },
     "execution_count": 4,
     "metadata": {},
     "output_type": "execute_result"
    }
   ],
   "source": [
    "# Use the `drop` function to drop extra columns in the DataFrame\n",
    "df.drop(columns=['open', 'high', 'low', 'volume'], inplace=True)\n",
    "df.head()"
   ]
  },
  {
   "cell_type": "markdown",
   "metadata": {},
   "source": [
    "### Calculate Daily Returns"
   ]
  },
  {
   "cell_type": "code",
   "execution_count": 5,
   "metadata": {},
   "outputs": [
    {
     "data": {
      "text/html": [
       "<div>\n",
       "<style scoped>\n",
       "    .dataframe tbody tr th:only-of-type {\n",
       "        vertical-align: middle;\n",
       "    }\n",
       "\n",
       "    .dataframe tbody tr th {\n",
       "        vertical-align: top;\n",
       "    }\n",
       "\n",
       "    .dataframe thead th {\n",
       "        text-align: right;\n",
       "    }\n",
       "</style>\n",
       "<table border=\"1\" class=\"dataframe\">\n",
       "  <thead>\n",
       "    <tr style=\"text-align: right;\">\n",
       "      <th></th>\n",
       "      <th>close</th>\n",
       "    </tr>\n",
       "    <tr>\n",
       "      <th>date</th>\n",
       "      <th></th>\n",
       "    </tr>\n",
       "  </thead>\n",
       "  <tbody>\n",
       "    <tr>\n",
       "      <th>2018-06-11</th>\n",
       "      <td>NaN</td>\n",
       "    </tr>\n",
       "    <tr>\n",
       "      <th>2018-06-12</th>\n",
       "      <td>0.032129</td>\n",
       "    </tr>\n",
       "    <tr>\n",
       "      <th>2018-06-13</th>\n",
       "      <td>0.005864</td>\n",
       "    </tr>\n",
       "    <tr>\n",
       "      <th>2018-06-14</th>\n",
       "      <td>0.037531</td>\n",
       "    </tr>\n",
       "    <tr>\n",
       "      <th>2018-06-15</th>\n",
       "      <td>0.001258</td>\n",
       "    </tr>\n",
       "  </tbody>\n",
       "</table>\n",
       "</div>"
      ],
      "text/plain": [
       "               close\n",
       "date                \n",
       "2018-06-11       NaN\n",
       "2018-06-12  0.032129\n",
       "2018-06-13  0.005864\n",
       "2018-06-14  0.037531\n",
       "2018-06-15  0.001258"
      ]
     },
     "execution_count": 5,
     "metadata": {},
     "output_type": "execute_result"
    }
   ],
   "source": [
    "# Use the `pct_change` function to calculate daily returns of TSLA\n",
    "daily_returns = df.pct_change()\n",
    "daily_returns.head()"
   ]
  },
  {
   "cell_type": "markdown",
   "metadata": {},
   "source": [
    "### Calculate Value of Average Daily Returns"
   ]
  },
  {
   "cell_type": "code",
   "execution_count": 6,
   "metadata": {},
   "outputs": [
    {
     "data": {
      "text/plain": [
       "-0.0012461845860649164"
      ]
     },
     "execution_count": 6,
     "metadata": {},
     "output_type": "execute_result"
    }
   ],
   "source": [
    "# Use the `mean` function to calculate the mean of daily returns for TSLA\n",
    "avg_daily_return = daily_returns.mean()['close']\n",
    "avg_daily_return"
   ]
  },
  {
   "cell_type": "markdown",
   "metadata": {},
   "source": [
    "### Calculate Value of Standard Deviation of Daily Returns"
   ]
  },
  {
   "cell_type": "code",
   "execution_count": 7,
   "metadata": {},
   "outputs": [
    {
     "data": {
      "text/plain": [
       "0.0376654861383092"
      ]
     },
     "execution_count": 7,
     "metadata": {},
     "output_type": "execute_result"
    }
   ],
   "source": [
    "# Use the `std` function to calculate the standard deviation of daily returns for TSLA\n",
    "std_dev_daily_return = daily_returns.std()['close']\n",
    "std_dev_daily_return"
   ]
  },
  {
   "cell_type": "markdown",
   "metadata": {},
   "source": [
    "### Run the Monte Carlo Simulation and Save Results to DataFrame"
   ]
  },
  {
   "cell_type": "code",
   "execution_count": 8,
   "metadata": {},
   "outputs": [
    {
     "data": {
      "text/html": [
       "<div>\n",
       "<style scoped>\n",
       "    .dataframe tbody tr th:only-of-type {\n",
       "        vertical-align: middle;\n",
       "    }\n",
       "\n",
       "    .dataframe tbody tr th {\n",
       "        vertical-align: top;\n",
       "    }\n",
       "\n",
       "    .dataframe thead th {\n",
       "        text-align: right;\n",
       "    }\n",
       "</style>\n",
       "<table border=\"1\" class=\"dataframe\">\n",
       "  <thead>\n",
       "    <tr style=\"text-align: right;\">\n",
       "      <th></th>\n",
       "      <th>Simulation 1</th>\n",
       "      <th>Simulation 2</th>\n",
       "      <th>Simulation 3</th>\n",
       "      <th>Simulation 4</th>\n",
       "      <th>Simulation 5</th>\n",
       "      <th>Simulation 6</th>\n",
       "      <th>Simulation 7</th>\n",
       "      <th>Simulation 8</th>\n",
       "      <th>Simulation 9</th>\n",
       "      <th>Simulation 10</th>\n",
       "      <th>...</th>\n",
       "      <th>Simulation 991</th>\n",
       "      <th>Simulation 992</th>\n",
       "      <th>Simulation 993</th>\n",
       "      <th>Simulation 994</th>\n",
       "      <th>Simulation 995</th>\n",
       "      <th>Simulation 996</th>\n",
       "      <th>Simulation 997</th>\n",
       "      <th>Simulation 998</th>\n",
       "      <th>Simulation 999</th>\n",
       "      <th>Simulation 1000</th>\n",
       "    </tr>\n",
       "  </thead>\n",
       "  <tbody>\n",
       "    <tr>\n",
       "      <th>0</th>\n",
       "      <td>204.500000</td>\n",
       "      <td>204.500000</td>\n",
       "      <td>204.500000</td>\n",
       "      <td>204.500000</td>\n",
       "      <td>204.500000</td>\n",
       "      <td>204.500000</td>\n",
       "      <td>204.500000</td>\n",
       "      <td>204.500000</td>\n",
       "      <td>204.500000</td>\n",
       "      <td>204.500000</td>\n",
       "      <td>...</td>\n",
       "      <td>204.500000</td>\n",
       "      <td>204.500000</td>\n",
       "      <td>204.500000</td>\n",
       "      <td>204.500000</td>\n",
       "      <td>204.500000</td>\n",
       "      <td>204.500000</td>\n",
       "      <td>204.500000</td>\n",
       "      <td>204.500000</td>\n",
       "      <td>204.500000</td>\n",
       "      <td>204.500000</td>\n",
       "    </tr>\n",
       "    <tr>\n",
       "      <th>1</th>\n",
       "      <td>200.012069</td>\n",
       "      <td>207.822095</td>\n",
       "      <td>209.259750</td>\n",
       "      <td>206.304968</td>\n",
       "      <td>210.525911</td>\n",
       "      <td>188.923057</td>\n",
       "      <td>203.900236</td>\n",
       "      <td>210.802885</td>\n",
       "      <td>200.209795</td>\n",
       "      <td>199.951962</td>\n",
       "      <td>...</td>\n",
       "      <td>200.484566</td>\n",
       "      <td>213.173847</td>\n",
       "      <td>197.762198</td>\n",
       "      <td>219.815994</td>\n",
       "      <td>212.418568</td>\n",
       "      <td>197.944364</td>\n",
       "      <td>206.887599</td>\n",
       "      <td>197.239678</td>\n",
       "      <td>209.978594</td>\n",
       "      <td>210.071855</td>\n",
       "    </tr>\n",
       "    <tr>\n",
       "      <th>2</th>\n",
       "      <td>203.918491</td>\n",
       "      <td>213.331549</td>\n",
       "      <td>210.762108</td>\n",
       "      <td>205.006002</td>\n",
       "      <td>209.282487</td>\n",
       "      <td>186.733469</td>\n",
       "      <td>217.628216</td>\n",
       "      <td>213.530357</td>\n",
       "      <td>207.030651</td>\n",
       "      <td>202.125190</td>\n",
       "      <td>...</td>\n",
       "      <td>201.704713</td>\n",
       "      <td>200.621407</td>\n",
       "      <td>191.302609</td>\n",
       "      <td>223.702473</td>\n",
       "      <td>215.254025</td>\n",
       "      <td>199.283822</td>\n",
       "      <td>200.659091</td>\n",
       "      <td>210.773910</td>\n",
       "      <td>198.698236</td>\n",
       "      <td>225.137447</td>\n",
       "    </tr>\n",
       "    <tr>\n",
       "      <th>3</th>\n",
       "      <td>192.834853</td>\n",
       "      <td>216.863183</td>\n",
       "      <td>215.794540</td>\n",
       "      <td>199.584562</td>\n",
       "      <td>205.669711</td>\n",
       "      <td>181.341453</td>\n",
       "      <td>218.293604</td>\n",
       "      <td>218.821558</td>\n",
       "      <td>218.222862</td>\n",
       "      <td>194.964657</td>\n",
       "      <td>...</td>\n",
       "      <td>194.153868</td>\n",
       "      <td>212.470690</td>\n",
       "      <td>185.654540</td>\n",
       "      <td>227.230528</td>\n",
       "      <td>214.472479</td>\n",
       "      <td>198.008533</td>\n",
       "      <td>197.361645</td>\n",
       "      <td>214.490265</td>\n",
       "      <td>202.700111</td>\n",
       "      <td>213.482921</td>\n",
       "    </tr>\n",
       "    <tr>\n",
       "      <th>4</th>\n",
       "      <td>197.008131</td>\n",
       "      <td>207.002393</td>\n",
       "      <td>220.105695</td>\n",
       "      <td>205.542462</td>\n",
       "      <td>205.447662</td>\n",
       "      <td>182.529880</td>\n",
       "      <td>222.303932</td>\n",
       "      <td>202.678788</td>\n",
       "      <td>214.527745</td>\n",
       "      <td>191.252883</td>\n",
       "      <td>...</td>\n",
       "      <td>192.846565</td>\n",
       "      <td>196.546958</td>\n",
       "      <td>166.282177</td>\n",
       "      <td>227.087562</td>\n",
       "      <td>211.932369</td>\n",
       "      <td>203.093126</td>\n",
       "      <td>200.034070</td>\n",
       "      <td>222.865719</td>\n",
       "      <td>204.355934</td>\n",
       "      <td>210.533066</td>\n",
       "    </tr>\n",
       "  </tbody>\n",
       "</table>\n",
       "<p>5 rows × 1000 columns</p>\n",
       "</div>"
      ],
      "text/plain": [
       "   Simulation 1  Simulation 2  Simulation 3  Simulation 4  Simulation 5  \\\n",
       "0    204.500000    204.500000    204.500000    204.500000    204.500000   \n",
       "1    200.012069    207.822095    209.259750    206.304968    210.525911   \n",
       "2    203.918491    213.331549    210.762108    205.006002    209.282487   \n",
       "3    192.834853    216.863183    215.794540    199.584562    205.669711   \n",
       "4    197.008131    207.002393    220.105695    205.542462    205.447662   \n",
       "\n",
       "   Simulation 6  Simulation 7  Simulation 8  Simulation 9  Simulation 10  ...  \\\n",
       "0    204.500000    204.500000    204.500000    204.500000     204.500000  ...   \n",
       "1    188.923057    203.900236    210.802885    200.209795     199.951962  ...   \n",
       "2    186.733469    217.628216    213.530357    207.030651     202.125190  ...   \n",
       "3    181.341453    218.293604    218.821558    218.222862     194.964657  ...   \n",
       "4    182.529880    222.303932    202.678788    214.527745     191.252883  ...   \n",
       "\n",
       "   Simulation 991  Simulation 992  Simulation 993  Simulation 994  \\\n",
       "0      204.500000      204.500000      204.500000      204.500000   \n",
       "1      200.484566      213.173847      197.762198      219.815994   \n",
       "2      201.704713      200.621407      191.302609      223.702473   \n",
       "3      194.153868      212.470690      185.654540      227.230528   \n",
       "4      192.846565      196.546958      166.282177      227.087562   \n",
       "\n",
       "   Simulation 995  Simulation 996  Simulation 997  Simulation 998  \\\n",
       "0      204.500000      204.500000      204.500000      204.500000   \n",
       "1      212.418568      197.944364      206.887599      197.239678   \n",
       "2      215.254025      199.283822      200.659091      210.773910   \n",
       "3      214.472479      198.008533      197.361645      214.490265   \n",
       "4      211.932369      203.093126      200.034070      222.865719   \n",
       "\n",
       "   Simulation 999  Simulation 1000  \n",
       "0      204.500000       204.500000  \n",
       "1      209.978594       210.071855  \n",
       "2      198.698236       225.137447  \n",
       "3      202.700111       213.482921  \n",
       "4      204.355934       210.533066  \n",
       "\n",
       "[5 rows x 1000 columns]"
      ]
     },
     "execution_count": 8,
     "metadata": {},
     "output_type": "execute_result"
    }
   ],
   "source": [
    "# Set number of simulations, trading days, and get last closing price of TSLA from DataFrame\n",
    "num_simulations = 1000\n",
    "num_trading_days = 252 * 3\n",
    "tsla_last_price = df['close'][-1]\n",
    "\n",
    "# Initialize empty DataFrame to hold simulated prices for each simulation\n",
    "simulated_price_df = pd.DataFrame()\n",
    "\n",
    "# Run the simulation of projecting stock prices for the next trading year, `1000` times\n",
    "for n in range(num_simulations):\n",
    "\n",
    "    # Initialize the simulated prices list with the last closing price of TSLA\n",
    "    simulated_tsla_prices = [tsla_last_price]\n",
    "    \n",
    "    # Simulate the returns for 252 * 3 days\n",
    "    for i in range(num_trading_days):\n",
    "        # Calculate the simulated price using the last price within the list\n",
    "        simulated_price = simulated_tsla_prices[-1] * (1 + np.random.normal(avg_daily_return, std_dev_daily_return))\n",
    "        # Append the simulated price to the list\n",
    "        simulated_tsla_prices.append(simulated_price)\n",
    "    \n",
    "    # Append a simulated prices of each simulation to DataFrame\n",
    "    simulated_price_df[f\"Simulation {n+1}\"] = pd.Series(simulated_tsla_prices)\n",
    "\n",
    "# Print head of DataFrame\n",
    "simulated_price_df.head()"
   ]
  },
  {
   "cell_type": "markdown",
   "metadata": {},
   "source": [
    "### Plot the Multiple Simulations of Stock Price Trajectory for TSLA over the Next 3 Years (252 * 3 Trading Days)"
   ]
  },
  {
   "cell_type": "code",
   "execution_count": 9,
   "metadata": {},
   "outputs": [
    {
     "data": {
      "text/plain": [
       "<matplotlib.axes._subplots.AxesSubplot at 0x1122ed320>"
      ]
     },
     "execution_count": 9,
     "metadata": {},
     "output_type": "execute_result"
    },
    {
     "data": {
      "image/png": "[encoded data removed]",
      "text/plain": [
       "<Figure size 432x288 with 1 Axes>"
      ]
     },
     "metadata": {},
     "output_type": "display_data"
    }
   ],
   "source": [
    "# Use the `plot` function to plot the trajectory of TSLA stock based on a 252 * 3 trading day simulation\n",
    "plot_title = f\"{n+1} Simulations of TSLA Stock Price Trajectory Over the Next 252 Trading Days\"\n",
    "simulated_price_df.plot(legend=None, title=plot_title)"
   ]
  },
  {
   "cell_type": "code",
   "execution_count": 20,
   "metadata": {},
   "outputs": [
    {
     "data": {
      "text/plain": [
       "Simulation 1    153.563171\n",
       "Simulation 2    183.473902\n",
       "Simulation 3     19.030102\n",
       "Simulation 4     44.873813\n",
       "Simulation 5     16.815588\n",
       "Name: 756, dtype: float64"
      ]
     },
     "execution_count": 20,
     "metadata": {},
     "output_type": "execute_result"
    }
   ],
   "source": [
    "# Select the last row for project stock prices (prices of each simulation on the last simulated trading day)\n",
    "simulated_ending_prices = simulated_price_df.iloc[-1, :]\n",
    "simulated_ending_prices.head()"
   ]
  },
  {
   "cell_type": "markdown",
   "metadata": {},
   "source": [
    "### Plot the Frequency Distribution of Simulated Ending Prices on the Last Simulated Trading Day"
   ]
  },
  {
   "cell_type": "code",
   "execution_count": 11,
   "metadata": {},
   "outputs": [
    {
     "data": {
      "text/plain": [
       "<matplotlib.axes._subplots.AxesSubplot at 0x121050860>"
      ]
     },
     "execution_count": 11,
     "metadata": {},
     "output_type": "execute_result"
    },
    {
     "data": {
      "image/png": "[encoded data removed]",
      "text/plain": [
       "<Figure size 432x288 with 1 Axes>"
      ]
     },
     "metadata": {},
     "output_type": "display_data"
    }
   ],
   "source": [
    "# Use the `plot` function to plot a frequency distribution of simulated ending prices\n",
    "simulated_ending_prices.plot(kind='hist', bins=20)"
   ]
  },
  {
   "cell_type": "markdown",
   "metadata": {},
   "source": [
    "### View the Probability Distribution of Simulated Ending Price Ranges on the Last Simualted Trading Day"
   ]
  },
  {
   "cell_type": "code",
   "execution_count": 12,
   "metadata": {},
   "outputs": [
    {
     "data": {
      "text/plain": [
       "(-0.642, 64.678]        0.613\n",
       "(64.678, 128.717]       0.224\n",
       "(128.717, 192.756]      0.067\n",
       "(192.756, 256.795]      0.042\n",
       "(256.795, 320.834]      0.017\n",
       "(384.873, 448.912]      0.013\n",
       "(320.834, 384.873]      0.008\n",
       "(448.912, 512.951]      0.005\n",
       "(512.951, 576.99]       0.004\n",
       "(1153.34, 1217.378]     0.001\n",
       "(1217.378, 1281.417]    0.001\n",
       "(641.028, 705.067]      0.001\n",
       "(769.106, 833.145]      0.001\n",
       "(833.145, 897.184]      0.001\n",
       "(897.184, 961.223]      0.001\n",
       "(576.99, 641.028]       0.001\n",
       "(705.067, 769.106]      0.000\n",
       "(961.223, 1025.262]     0.000\n",
       "(1025.262, 1089.301]    0.000\n",
       "(1089.301, 1153.34]     0.000\n",
       "Name: 756, dtype: float64"
      ]
     },
     "execution_count": 12,
     "metadata": {},
     "output_type": "execute_result"
    }
   ],
   "source": [
    "# Use the `value_counts` function to create the frequency distribution and \n",
    "# sort the data into 20 bins. Divid the value counts of each bin by the total\n",
    "# number of prices to return the probability of each range\n",
    "simulated_ending_prices.value_counts(bins=20) / len(simulated_ending_prices)"
   ]
  },
  {
   "cell_type": "markdown",
   "metadata": {},
   "source": [
    "### Calculate Lower and Upper Bounds of 95% Confidence Interval for Simulated Ending Stock Prices of TSLA"
   ]
  },
  {
   "cell_type": "code",
   "execution_count": 13,
   "metadata": {},
   "outputs": [
    {
     "data": {
      "text/plain": [
       "0.025      6.474137\n",
       "0.975    402.740230\n",
       "Name: 756, dtype: float64"
      ]
     },
     "execution_count": 13,
     "metadata": {},
     "output_type": "execute_result"
    }
   ],
   "source": [
    "# Use the `quantile` function to calculate the 95% confidence interval for simulated ending prices\n",
    "confidence_interval = simulated_ending_prices.quantile(q=[0.025, 0.975])\n",
    "confidence_interval"
   ]
  },
  {
   "cell_type": "markdown",
   "metadata": {},
   "source": [
    "### Plot the Probability Distribution and 95% Confidence Interval of Simulated Ending Prices "
   ]
  },
  {
   "cell_type": "code",
   "execution_count": 14,
   "metadata": {},
   "outputs": [
    {
     "data": {
      "text/plain": [
       "<matplotlib.lines.Line2D at 0x1211b74a8>"
      ]
     },
     "execution_count": 14,
     "metadata": {},
     "output_type": "execute_result"
    },
    {
     "data": {
      "image/png": "[encoded data removed]",
      "text/plain": [
       "<Figure size 432x288 with 1 Axes>"
      ]
     },
     "metadata": {},
     "output_type": "display_data"
    }
   ],
   "source": [
    "# Use the `plot` function to create a probability distribution histogram of simulated ending prices\n",
    "# with markings for a 95% confidence interval\n",
    "plt.figure();\n",
    "simulated_ending_prices.plot(kind='hist', density=True, bins=20)\n",
    "plt.axvline(confidence_interval.iloc[0], color='r')\n",
    "plt.axvline(confidence_interval.iloc[1], color='r')"
   ]
  },
  {
   "cell_type": "markdown",
   "metadata": {},
   "source": [
    "### Calculate 95% Confidence Interval of An Initial Investment of 10,000 in TSLA over the Next 3 Years (252 * 3) Trading Days"
   ]
  },
  {
   "cell_type": "code",
   "execution_count": 15,
   "metadata": {},
   "outputs": [
    {
     "name": "stdout",
     "output_type": "stream",
     "text": [
      "There is a 95% chance that an initial investment of $10,000 in TSLA over the next 252 trading days will end within in the range of $316.58369601329287 and $19693.898760207303\n"
     ]
    }
   ],
   "source": [
    "# Set initial investment\n",
    "initial_investment = 10000\n",
    "\n",
    "# Calculate cumulative profit/loss of lower and upper bound\n",
    "cumulative_pnl_lower_bound = initial_investment * ((confidence_interval.iloc[0] - tsla_last_price) / tsla_last_price)\n",
    "cumulative_pnl_upper_bound = initial_investment * ((confidence_interval.iloc[1] - tsla_last_price) / tsla_last_price)\n",
    "\n",
    "# Add the initial investment to the cumulative profit/loss of lower and upper bound\n",
    "ending_investment_lower_bound = initial_investment + cumulative_pnl_lower_bound\n",
    "ending_investment_upper_bound = initial_investment + cumulative_pnl_upper_bound\n",
    "\n",
    "# Print the results\n",
    "print(f\"There is a 95% chance that an initial investment of $10,000 in TSLA\"\n",
    "      f\" over the next (252 * 3) trading days will end within in the range of\"\n",
    "      f\" ${ending_investment_lower_bound} and ${ending_investment_upper_bound}\")"
   ]
  }
 ],
 "metadata": {
  "kernel_info": {
   "name": "python3"
  },
  "kernelspec": {
   "display_name": "Python 3",
   "language": "python",
   "name": "python3"
  },
  "language_info": {
   "codemirror_mode": {
    "name": "ipython",
    "version": 3
   },
   "file_extension": ".py",
   "mimetype": "text/x-python",
   "name": "python",
   "nbconvert_exporter": "python",
   "pygments_lexer": "ipython3",
   "version": "3.7.2"
  },
  "nteract": {
   "version": "0.12.3"
  }
 },
 "nbformat": 4,
 "nbformat_minor": 2
}
