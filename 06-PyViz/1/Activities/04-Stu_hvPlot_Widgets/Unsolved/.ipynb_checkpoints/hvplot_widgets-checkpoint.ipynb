{
  "cells": [
    {
      "cell_type": "markdown",
      "source": [
        "# hvPlot Widgets"
      ],
      "metadata": {}
    },
    {
      "cell_type": "markdown",
      "source": [
        "Your parents need help identifying the best states to move to that have the lowest Diabetes care costs. Use hvPlot and its widgets to visualize hospital claims data in order to identify potential states for recommendation."
      ],
      "metadata": {}
    },
    {
      "cell_type": "code",
      "source": [
        "import pandas as pd\n",
        "import hvplot.pandas\n",
        "from pathlib import Path"
      ],
      "outputs": [],
      "execution_count": null,
      "metadata": {}
    },
    {
      "cell_type": "markdown",
      "source": [
        "### Prep Data"
      ],
      "metadata": {}
    },
    {
      "cell_type": "code",
      "source": [
        "# Read in hospital claims data\n",
        "hospital_data = pd.read_csv(Path(\"../Resources/hospital_claims.csv\"), header=0)\n",
        "hospital_data.head()"
      ],
      "outputs": [],
      "execution_count": null,
      "metadata": {}
    },
    {
      "cell_type": "code",
      "source": [
        "# Slice the data\n",
        "procedure_699_charges = hospital_data[\n",
        "    hospital_data[\"DRG Definition\"] == \"638 - DIABETES W CC\"\n",
        "]\n",
        "\n",
        "# Select data just for NJ to get a baseline for Diabetes costs\n",
        "procedure_NJ_charges = procedure_699_charges.loc[\n",
        "    hospital_data[\"Provider State\"] == \"NJ\"\n",
        "]\n",
        "\n",
        "# Select Average Medicare Payments and Provider ID Series\n",
        "procedure_medicare_charges = procedure_NJ_charges[\n",
        "    [\"Average Medicare Payments\", \"Provider Id\"]\n",
        "]"
      ],
      "outputs": [],
      "execution_count": null,
      "metadata": {}
    },
    {
      "cell_type": "markdown",
      "source": [
        "### Plot and Explore Average Total Payments by State"
      ],
      "metadata": {}
    },
    {
      "cell_type": "code",
      "source": [
        "# Group data by state and average total payments, and then sum\n",
        "\n\n",
        "# Plot data using hvplot.bar\n"
      ],
      "outputs": [],
      "execution_count": null,
      "metadata": {}
    },
    {
      "cell_type": "markdown",
      "source": [
        "### Sort the cost data from low to high and then plot"
      ],
      "metadata": {}
    },
    {
      "cell_type": "code",
      "source": [
        "# Sort data values\n"
      ],
      "outputs": [],
      "execution_count": null,
      "metadata": {}
    }
  ],
  "metadata": {
    "kernelspec": {
      "name": "python3",
      "language": "python",
      "display_name": "Python 3"
    },
    "language_info": {
      "name": "python",
      "version": "3.7.3",
      "mimetype": "text/x-python",
      "codemirror_mode": {
        "name": "ipython",
        "version": 3
      },
      "pygments_lexer": "ipython3",
      "nbconvert_exporter": "python",
      "file_extension": ".py"
    },
    "kernel_info": {
      "name": "python3"
    },
    "nteract": {
      "version": "0.12.3"
    }
  },
  "nbformat": 4,
  "nbformat_minor": 2
}