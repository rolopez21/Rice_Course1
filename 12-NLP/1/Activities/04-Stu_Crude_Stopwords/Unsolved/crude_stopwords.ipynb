{
 "cells": [
  {
   "cell_type": "markdown",
   "metadata": {},
   "source": [
    "# Students Do: Crude Stopwords\n",
    "For this activity, create a function that takes in an article and outputs a list of words that is free of stopwords and any non-letter characters. After looking at the results, define your own list of stopwords to add to the NLTK default set. "
   ]
  },
  {
   "cell_type": "code",
   "execution_count": 1,
   "metadata": {},
   "outputs": [],
   "source": [
    "from nltk.corpus import reuters, stopwords\n",
    "from nltk.tokenize import word_tokenize\n",
    "import re"
   ]
  },
  {
   "cell_type": "code",
   "execution_count": 2,
   "metadata": {},
   "outputs": [],
   "source": [
    "crude_article = reuters.raw(fileids=reuters.fileids(categories='crude')[2])"
   ]
  },
  {
   "cell_type": "code",
   "execution_count": 3,
   "metadata": {},
   "outputs": [
    {
     "name": "stdout",
     "output_type": "stream",
     "text": [
      "TURKEY CALLS FOR DIALOGUE TO SOLVE DISPUTE\n",
      "  Turkey said today its disputes with\n",
      "  Greece, including rights on the continental shelf in the Aegean\n",
      "  Sea, should be solved through negotiations.\n",
      "      A Foreign Ministry statement said the latest crisis between\n",
      "  the two NATO members stemmed from the continental shelf dispute\n",
      "  and an agreement on this issue would effect the security,\n",
      "  economy and other rights of both countries.\n",
      "      \"As the issue is basicly political, a solution can only be\n",
      "  found by bilateral negotiations,\" the statement said. Greece has\n",
      "  repeatedly said the issue was legal and could be solved at the\n",
      "  International Court of Justice.\n",
      "      The two countries approached armed confrontation last month\n",
      "  after Greece announced it planned oil exploration work in the\n",
      "  Aegean and Turkey said it would also search for oil.\n",
      "      A face-off was averted when Turkey confined its research to\n",
      "  territorrial waters. \"The latest crises created an historic\n",
      "  opportunity to solve the disputes between the two countries,\"\n",
      "  the Foreign Ministry statement said.\n",
      "      Turkey's ambassador in Athens, Nazmi Akiman, was due to\n",
      "  meet Prime Minister Andreas Papandreou today for the Greek\n",
      "  reply to a message sent last week by Turkish Prime Minister\n",
      "  Turgut Ozal. The contents of the message were not disclosed.\n",
      "  \n",
      "\n",
      "\n"
     ]
    }
   ],
   "source": [
    "print(crude_article)"
   ]
  },
  {
   "cell_type": "code",
   "execution_count": null,
   "metadata": {},
   "outputs": [],
   "source": [
    "# define stopwording and regex \n",
    "def clean_text(article):"
   ]
  }
 ],
 "metadata": {
  "kernelspec": {
   "display_name": "Python 3",
   "language": "python",
   "name": "python3"
  },
  "language_info": {
   "codemirror_mode": {
    "name": "ipython",
    "version": 3
   },
   "file_extension": ".py",
   "mimetype": "text/x-python",
   "name": "python",
   "nbconvert_exporter": "python",
   "pygments_lexer": "ipython3",
   "version": "3.6.5"
  }
 },
 "nbformat": 4,
 "nbformat_minor": 2
}
