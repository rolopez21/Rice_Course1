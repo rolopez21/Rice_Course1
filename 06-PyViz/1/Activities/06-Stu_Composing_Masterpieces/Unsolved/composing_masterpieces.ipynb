{
  "cells": [
    {
      "cell_type": "markdown",
      "source": [
        "# Composing Masterpieces"
      ],
      "metadata": {}
    },
    {
      "cell_type": "markdown",
      "source": [
        "You've been offered the opportunity to interview with REMAX, an international real estate company. The interview is for a Data Analyst role, which requires both development and visualization skills. All applicants are required to present a portfolio upon interview. You currently do not have a portfolio, so use the provided state loan data to come up with some snazzy visualizations to showcase in the interview."
      ],
      "metadata": {}
    },
    {
      "cell_type": "code",
      "source": [
        "import pandas as pd\n",
        "import hvplot.pandas\n",
        "from pathlib import Path"
      ],
      "outputs": [],
      "execution_count": null,
      "metadata": {}
    },
    {
      "cell_type": "markdown",
      "source": [
        "### Prep the data"
      ],
      "metadata": {}
    },
    {
      "cell_type": "code",
      "source": [
        "# Read in loan data\n",
        "loan_data = pd.read_csv(Path(\"../Resources/state_loan_data.csv\"))\n",
        "\n",
        "# Group data by state for state-level analysis\n",
        "loan_data = loan_data.groupby('State Code').sum()\n",
        "loan_data.head()"
      ],
      "outputs": [],
      "execution_count": null,
      "metadata": {}
    },
    {
      "cell_type": "markdown",
      "source": [
        "### Plot Total Average Loan Amount"
      ],
      "metadata": {}
    },
    {
      "cell_type": "code",
      "source": [
        "# Slice for Total Average Loan Amount\n",
        "\n\n",
        "# Plot Total Average Loan Amount\n"
      ],
      "outputs": [],
      "execution_count": null,
      "metadata": {}
    },
    {
      "cell_type": "markdown",
      "source": [
        "### Plot Total Average Loan Amount for 2015 - 2016 and 2010 - 2014"
      ],
      "metadata": {}
    },
    {
      "cell_type": "code",
      "source": [
        "# Slice data for Total Average Loan Amount by 2015-2016 and 2010-2014 date ranges\n",
        "\n\n",
        "# Plot data for date ranges\n"
      ],
      "outputs": [],
      "execution_count": null,
      "metadata": {}
    },
    {
      "cell_type": "markdown",
      "source": [
        "### Compose plots for 2015 - 2016 and 2010 - 2014 using `+` operator"
      ],
      "metadata": {}
    },
    {
      "cell_type": "code",
      "source": [
        "# Compose plots\n"
      ],
      "outputs": [],
      "execution_count": null,
      "metadata": {}
    },
    {
      "cell_type": "markdown",
      "source": [
        "### Compose plots for state averages, 2015 - 2016, and 2010 2014 using `+` operator"
      ],
      "metadata": {}
    },
    {
      "cell_type": "code",
      "source": [
        "# Compose plots\n"
      ],
      "outputs": [],
      "execution_count": null,
      "metadata": {}
    },
    {
      "cell_type": "markdown",
      "source": [
        "### Compose plots for state averages, 2015 - 2016, and 2010 2014 using `*` operator"
      ],
      "metadata": {}
    },
    {
      "cell_type": "code",
      "source": [
        "# Overlay plots\n"
      ],
      "outputs": [],
      "execution_count": null,
      "metadata": {}
    }
  ],
  "metadata": {
    "kernelspec": {
      "name": "python3",
      "language": "python",
      "display_name": "Python 3"
    },
    "language_info": {
      "name": "python",
      "version": "3.7.3",
      "mimetype": "text/x-python",
      "codemirror_mode": {
        "name": "ipython",
        "version": 3
      },
      "pygments_lexer": "ipython3",
      "nbconvert_exporter": "python",
      "file_extension": ".py"
    },
    "kernel_info": {
      "name": "python3"
    },
    "nteract": {
      "version": "0.12.3"
    }
  },
  "nbformat": 4,
  "nbformat_minor": 2
}