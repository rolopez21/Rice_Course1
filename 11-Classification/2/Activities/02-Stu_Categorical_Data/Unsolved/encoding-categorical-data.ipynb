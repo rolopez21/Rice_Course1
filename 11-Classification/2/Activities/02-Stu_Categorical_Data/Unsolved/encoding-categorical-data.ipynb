{
 "cells": [
  {
   "cell_type": "markdown",
   "metadata": {},
   "source": [
    "# Students Do: Encoding Categorical Data for Machine Learning\n",
    "\n",
    "In this activity, you are tasked to encode some categorical and text features of a dataset that contains `2097` loans applications. In forthcoming activities, you will use this dataset to predict defaulted loan applications.\n",
    "\n",
    "## Dataset Description.\n",
    "\n",
    "The data provided, is based on the dataset used in the research paper entitled [_“Should This Loan be Approved or Denied?”: A Large Dataset with Class Assignment Guidelines_](https://doi.org/10.1080/10691898.2018.1434342) published by Min Li, Amy Mickel & Stanley Taylor from the California State University on the Journal of Statistics Education.\n",
    "\n",
    "This dataset contains information about loans applications managed by the U.S. Small Business Administration (SBA), it was adapted for Today's class. The dataset is distributed under the [Creative Commons (CC BY-SA 4.0) license](https://creativecommons.org/licenses/by-sa/4.0/).\n",
    "\n",
    "The columns in the dataset are the following:\n",
    "\n",
    "* `Year`: The fiscal year of the loan application.\n",
    "* `Month`: Month of the fiscal year.\n",
    "* `Amount`: The loan amount issued.\n",
    "* `Term`: Loan's term in months\n",
    "* `Bank`: Name of the bank that issued the loan.\n",
    "* `State`: Borrower state.\n",
    "* `City`: Borrower city.\n",
    "* `Zip`: Borrower zipcode.\n",
    "* `CreateJob`: Number of jobs created using the loan.\n",
    "* `NoEmp`: Number of business employees.\n",
    "* `RealEstate`: Define if loan is backed by real estate.\n",
    "* `RevLineCr`: Indicates if it's a revolving line of credit.\n",
    "* `UrbanRural`: Location type of the borrower.\n",
    "* `Default`: Indicates if the loan was defaulted (`1`) or not (`0`)."
   ]
  },
  {
   "cell_type": "code",
   "execution_count": null,
   "metadata": {},
   "outputs": [],
   "source": [
    "# Initial imports\n",
    "import pandas as pd\n",
    "from path import Path\n",
    "import calendar\n",
    "from sklearn.preprocessing import LabelEncoder\n"
   ]
  },
  {
   "cell_type": "markdown",
   "metadata": {},
   "source": [
    "## Loading the Data\n",
    "\n",
    "Load the `sba_loans.csv` data in a Pandas DataFame. Show the `head` to get familiar with the columns and data values."
   ]
  },
  {
   "cell_type": "code",
   "execution_count": null,
   "metadata": {},
   "outputs": [],
   "source": [
    "\n"
   ]
  },
  {
   "cell_type": "markdown",
   "metadata": {},
   "source": [
    "## Integer Encoding\n",
    "\n",
    "### Manual Integer Encoding\n",
    "\n",
    "Perform a manual integer encoding of the `Month` column, use a dictionary to map months names with their corresponding numerical value."
   ]
  },
  {
   "cell_type": "code",
   "execution_count": null,
   "metadata": {},
   "outputs": [],
   "source": [
    "# Months dictionary\n",
    "\n",
    "\n"
   ]
  },
  {
   "cell_type": "code",
   "execution_count": null,
   "metadata": {},
   "outputs": [],
   "source": [
    "# Encode month name\n",
    "\n"
   ]
  },
  {
   "cell_type": "markdown",
   "metadata": {},
   "source": [
    "### Encoding Data using `LabelEncoder`\n",
    "\n",
    "Use the `LabelEncoder` method from `sklearn` to perform an integer encoding of the `RealEstate`, `RevLineCr` and `UrbanRural` columns."
   ]
  },
  {
   "cell_type": "code",
   "execution_count": null,
   "metadata": {},
   "outputs": [],
   "source": [
    "# Create the LabelEncoder instance\n",
    "\n"
   ]
  },
  {
   "cell_type": "code",
   "execution_count": null,
   "metadata": {},
   "outputs": [],
   "source": [
    "# Fitting and encoding the columns with the LabelEncoder\n",
    "\n",
    "# RealEstate column\n",
    "\n",
    "\n",
    "# Encoding RevLineCr column\n",
    "\n",
    "\n",
    "# Encoding UrbanRural column\n",
    "\n"
   ]
  },
  {
   "cell_type": "markdown",
   "metadata": {},
   "source": [
    "### Encoding Data using `get_dummies()`\n",
    "\n",
    "Perform a binary encoding on the `Bank`, `State` and `City` columns using the Pandas `get_dummies()` function."
   ]
  },
  {
   "cell_type": "code",
   "execution_count": null,
   "metadata": {},
   "outputs": [],
   "source": [
    "# Encoding the Bank, State and City columns\n",
    "\n"
   ]
  },
  {
   "cell_type": "markdown",
   "metadata": {},
   "source": [
    "## Save the Preprocessed File\n",
    "\n",
    "Finally, save the preprocessed file as `sba_loans_encoded.csv` for forthcoming usage."
   ]
  },
  {
   "cell_type": "code",
   "execution_count": null,
   "metadata": {},
   "outputs": [],
   "source": [
    "# Save the file for forthcoming usage\n",
    "\n"
   ]
  }
 ],
 "metadata": {
  "file_extension": ".py",
  "kernelspec": {
   "display_name": "Python 3",
   "language": "python",
   "name": "python3"
  },
  "language_info": {
   "codemirror_mode": {
    "name": "ipython",
    "version": 3
   },
   "file_extension": ".py",
   "mimetype": "text/x-python",
   "name": "python",
   "nbconvert_exporter": "python",
   "pygments_lexer": "ipython3",
   "version": "3.7.3"
  },
  "mimetype": "text/x-python",
  "name": "python",
  "npconvert_exporter": "python",
  "pygments_lexer": "ipython3",
  "version": 3
 },
 "nbformat": 4,
 "nbformat_minor": 2
}
