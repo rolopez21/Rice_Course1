{
 "cells": [
  {
   "cell_type": "markdown",
   "metadata": {},
   "source": [
    "# Sentiment Analysis Dashboard\n",
    "\n",
    "In this notebook, you will compile the visualizations from the previous analysis into functions that can be used for a Panel dashboard."
   ]
  },
  {
   "cell_type": "code",
   "execution_count": null,
   "metadata": {},
   "outputs": [],
   "source": [
    "# Initial imports\n",
    "import os\n",
    "from path import Path\n",
    "import pandas as pd\n",
    "import hvplot.pandas\n",
    "from wordcloud import WordCloud\n",
    "import plotly.express as px\n",
    "import matplotlib.pyplot as plt\n",
    "import matplotlib as mpl\n",
    "import panel as pn\n",
    "\n",
    "plt.style.use(\"seaborn-whitegrid\")\n",
    "pn.extension(\"plotly\")\n"
   ]
  },
  {
   "cell_type": "markdown",
   "metadata": {},
   "source": [
    "## Loading Data\n",
    "\n",
    "In this section, you will load the CSV files you created on the analysis notebook:\n",
    "\n",
    "* The `news_vader.csv` file with all the news articles and the VADER sentiment scores.\n",
    "* The `tone_data.csv` file with the IBM Watson Tone Analyzer results.\n",
    "* The `top_words_data.cvs` file with the top 20 words for creating the word cloud based on the bag-of-words method.\n",
    "* The `top_words_tfidf_data.cvs` file with the top 20 words for creating the word cloud based on TF-IDF."
   ]
  },
  {
   "cell_type": "code",
   "execution_count": null,
   "metadata": {},
   "outputs": [],
   "source": [
    "crisis_news_df = pd.read_csv(Path(\"Data/news_vader.csv\"), index_col=\"date\")\n",
    "tone_df = pd.read_csv(Path(\"Data/tone_data.csv\"))\n",
    "top_words = pd.read_csv(Path(\"Data/top_words_data.csv\"))\n",
    "top_words_tfidf = pd.read_csv(Path(\"Data/top_wors_tfidf_data.csv\"))\n"
   ]
  },
  {
   "cell_type": "markdown",
   "metadata": {},
   "source": [
    "## Plots Functions\n",
    "\n",
    "In this section, you will copy the code for each plot type from your analysis notebook and place it into separate functions that Panel can use to create panes for the dashboard. These functions will convert the plot object to a Panel pane.\n",
    "\n",
    "Be sure to include any DataFrame transformation/manipulation code required along with the plotting code. Return a Panel pane object from each function that can be used to build the dashboard.\n",
    "\n",
    "**Note:** Remove any `.show()` lines from the code. We want to return the plots instead of showing them. The Panel dashboard will then display the plots."
   ]
  },
  {
   "cell_type": "code",
   "execution_count": null,
   "metadata": {},
   "outputs": [],
   "source": [
    "def avg_sent_plot():\n",
    "    \"\"\"\n",
    "    Creates the averange sentiment line plot (compound and normalized scores)\n",
    "    \"\"\"\n",
    "    \n",
    "\n",
    "    return avg_sent_plot\n",
    "\n",
    "\n",
    "def sentiment_bar_chart():\n",
    "    \"\"\"\n",
    "    Creates the average sentiment distribution bar chart\n",
    "    \"\"\"\n",
    "    \n",
    "\n",
    "    return sentiment_bar_chart\n",
    "\n",
    "\n",
    "def pos_news_table():\n",
    "    \"\"\"\n",
    "    Create a table with the top 10 positive news articles\n",
    "    \"\"\"\n",
    "    \n",
    "    return pos_news_table\n",
    "\n",
    "\n",
    "def neg_news_table():\n",
    "    \"\"\"\n",
    "    Create a table with the top 10 negative news articles\n",
    "    \"\"\"\n",
    "    \n",
    "\n",
    "    return neg_news_table\n",
    "\n",
    "\n",
    "def source_sentiment_chart():\n",
    "    \"\"\"\n",
    "    Creates the sentiment per news source bar chart\n",
    "    \"\"\"\n",
    "    \n",
    "\n",
    "    return source_sentiment_chart\n",
    "\n",
    "\n",
    "def bow_wordcloud():\n",
    "    \"\"\"\n",
    "    Creates the wordcloud based on the bag-of-word method\n",
    "    \"\"\"\n",
    "    \n",
    "\n",
    "    return pn.pane.Matplotlib(fig_bow_cloud, tight=True, width=500)\n",
    "\n",
    "\n",
    "def tfidf_wordcloud():\n",
    "    \"\"\"\n",
    "    Creates the wordcloud based on TF-IDF\n",
    "    \"\"\"\n",
    "    \n",
    "\n",
    "    return pn.pane.Matplotlib(fig_tfidf_cloud, tight=True, width=500)\n",
    "\n",
    "\n",
    "def tone_radar():\n",
    "    \"\"\"\n",
    "    Creates the tone analysis radar plot\n",
    "    \"\"\"\n",
    "    \n",
    "\n",
    "    return pn.pane.Plotly(tone_radar)\n",
    "\n"
   ]
  },
  {
   "cell_type": "markdown",
   "metadata": {},
   "source": [
    "## Dashboard Creation\n",
    "\n",
    "In this section, you will combine all of the plots into a single dashboard view using Panel. Be creative with your dashboard design!"
   ]
  },
  {
   "cell_type": "code",
   "execution_count": null,
   "metadata": {},
   "outputs": [],
   "source": [
    "# Define dashboard title\n",
    "\n",
    "\n"
   ]
  },
  {
   "cell_type": "code",
   "execution_count": null,
   "metadata": {},
   "outputs": [],
   "source": [
    "# Define dashboard welcome text\n",
    "\n",
    "\n"
   ]
  },
  {
   "cell_type": "code",
   "execution_count": null,
   "metadata": {},
   "outputs": [],
   "source": [
    "# Create a tab layout for the dashboard\n",
    "\n"
   ]
  },
  {
   "cell_type": "markdown",
   "metadata": {},
   "source": [
    "## Serve the Panel Dashboard"
   ]
  },
  {
   "cell_type": "code",
   "execution_count": null,
   "metadata": {},
   "outputs": [],
   "source": [
    "panel.servable()\n"
   ]
  }
 ],
 "metadata": {
  "file_extension": ".py",
  "kernelspec": {
   "display_name": "Python 3",
   "language": "python",
   "name": "python3"
  },
  "language_info": {
   "codemirror_mode": {
    "name": "ipython",
    "version": 3
   },
   "file_extension": ".py",
   "mimetype": "text/x-python",
   "name": "python",
   "nbconvert_exporter": "python",
   "pygments_lexer": "ipython3",
   "version": "3.7.3"
  },
  "mimetype": "text/x-python",
  "name": "python",
  "npconvert_exporter": "python",
  "pygments_lexer": "ipython3",
  "version": 3
 },
 "nbformat": 4,
 "nbformat_minor": 2
}
