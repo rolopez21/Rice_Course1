{
 "cells": [
  {
   "cell_type": "code",
   "execution_count": 12,
   "metadata": {},
   "outputs": [],
   "source": [
    "import pandas as pd\n",
    "import numpy as np\n",
    "import hvplot.pandas"
   ]
  },
  {
   "cell_type": "code",
   "execution_count": 13,
   "metadata": {},
   "outputs": [],
   "source": [
    "# Use numpy to create random ints\n",
    "flight_nums = np.random.randint(low=2000, high=7000, size=20)\n",
    "num_passengers = np.random.randint(low=10, high=75, size=20)\n",
    "\n",
    "flight_data = pd.DataFrame(data=num_passengers, index=flight_nums)"
   ]
  },
  {
   "cell_type": "code",
   "execution_count": 14,
   "metadata": {},
   "outputs": [],
   "source": [
    "flight_data= flight_data.reset_index()"
   ]
  },
  {
   "cell_type": "code",
   "execution_count": 15,
   "metadata": {},
   "outputs": [],
   "source": [
    "flight_data.columns=[\"flight_nums\",\"num_passengers\"]"
   ]
  },
  {
   "cell_type": "code",
   "execution_count": 16,
   "metadata": {},
   "outputs": [
    {
     "data": {
      "application/javascript": [
       "\n",
       "// Ugly hack - see HoloViews #2574 for more information\n",
       "if (!(document.getElementById('1450')) && !(document.getElementById('_anim_imgNone'))) {\n",
       "  console.log(\"Creating DOM nodes dynamically for assumed nbconvert export. To generate clean HTML output set HV_DOC_HTML as an environment variable.\")\n",
       "  var htmlObject = document.createElement('div');\n",
       "  htmlObject.innerHTML = `<div id='1450' style='display: table; margin: 0 auto;'>\n",
       "\n",
       "\n",
       "\n",
       "\n",
       "\n",
       "  <div class=\"bk-root\" id=\"5bb49c3a-7cbd-4fb9-a0c0-b8468b0f4d0d\" data-root-id=\"1450\"></div>\n",
       "</div>`;\n",
       "  var scriptTags = document.getElementsByTagName('script');\n",
       "  var parentTag = scriptTags[scriptTags.length-1].parentNode;\n",
       "  if (parentTag.attributes.length && (parentTag.attributes[0].name == 'data-shell-mode')) {\n",
       "    alert('Displaying PyViz objects in JupyterLab requires the jupyterlab_pyviz extension to be installed, install it with:\\n\\n\\tjupyter labextension install @pyviz/jupyterlab_pyviz');\n",
       "  } else {\n",
       "    parentTag.append(htmlObject)\n",
       "  }\n",
       "}\n",
       "(function(root) {\n",
       "  function embed_document(root) {\n",
       "    \n",
       "  var docs_json = {\"a584f7e4-d7c9-4a48-93f6-bbf4655edd6a\":{\"roots\":{\"references\":[{\"attributes\":{\"below\":[{\"id\":\"1458\",\"type\":\"CategoricalAxis\"}],\"left\":[{\"id\":\"1462\",\"type\":\"LinearAxis\"}],\"min_border_bottom\":10,\"min_border_left\":10,\"min_border_right\":10,\"min_border_top\":10,\"plot_height\":300,\"plot_width\":700,\"renderers\":[{\"id\":\"1458\",\"type\":\"CategoricalAxis\"},{\"id\":\"1461\",\"type\":\"Grid\"},{\"id\":\"1462\",\"type\":\"LinearAxis\"},{\"id\":\"1466\",\"type\":\"Grid\"},{\"id\":\"1476\",\"type\":\"BoxAnnotation\"},{\"id\":\"1487\",\"type\":\"GlyphRenderer\"}],\"title\":{\"id\":\"1449\",\"type\":\"Title\"},\"toolbar\":{\"id\":\"1472\",\"type\":\"Toolbar\"},\"x_range\":{\"id\":\"1446\",\"type\":\"FactorRange\"},\"x_scale\":{\"id\":\"1454\",\"type\":\"CategoricalScale\"},\"y_range\":{\"id\":\"1447\",\"type\":\"Range1d\"},\"y_scale\":{\"id\":\"1456\",\"type\":\"LinearScale\"}},\"id\":\"1450\",\"subtype\":\"Figure\",\"type\":\"Plot\"},{\"attributes\":{\"overlay\":{\"id\":\"1476\",\"type\":\"BoxAnnotation\"}},\"id\":\"1470\",\"type\":\"BoxZoomTool\"},{\"attributes\":{},\"id\":\"1459\",\"type\":\"CategoricalTicker\"},{\"attributes\":{},\"id\":\"1471\",\"type\":\"ResetTool\"},{\"attributes\":{\"plot\":null,\"text\":\"\",\"text_color\":{\"value\":\"black\"},\"text_font_size\":{\"value\":\"12pt\"}},\"id\":\"1449\",\"type\":\"Title\"},{\"attributes\":{\"active_drag\":\"auto\",\"active_inspect\":\"auto\",\"active_multi\":null,\"active_scroll\":\"auto\",\"active_tap\":\"auto\",\"tools\":[{\"id\":\"1448\",\"type\":\"HoverTool\"},{\"id\":\"1467\",\"type\":\"SaveTool\"},{\"id\":\"1468\",\"type\":\"PanTool\"},{\"id\":\"1469\",\"type\":\"WheelZoomTool\"},{\"id\":\"1470\",\"type\":\"BoxZoomTool\"},{\"id\":\"1471\",\"type\":\"ResetTool\"}]},\"id\":\"1472\",\"type\":\"Toolbar\"},{\"attributes\":{\"callback\":null,\"renderers\":[{\"id\":\"1487\",\"type\":\"GlyphRenderer\"}],\"tooltips\":[[\"flight_nums\",\"@{flight_nums}\"],[\"num_passengers\",\"@{num_passengers}\"]]},\"id\":\"1448\",\"type\":\"HoverTool\"},{\"attributes\":{\"bottom_units\":\"screen\",\"fill_alpha\":{\"value\":0.5},\"fill_color\":{\"value\":\"lightgrey\"},\"left_units\":\"screen\",\"level\":\"overlay\",\"line_alpha\":{\"value\":1.0},\"line_color\":{\"value\":\"black\"},\"line_dash\":[4,4],\"line_width\":{\"value\":2},\"plot\":null,\"render_mode\":\"css\",\"right_units\":\"screen\",\"top_units\":\"screen\"},\"id\":\"1476\",\"type\":\"BoxAnnotation\"},{\"attributes\":{\"fill_color\":{\"value\":\"#1f77b4\"},\"top\":{\"field\":\"num_passengers\"},\"width\":{\"value\":0.8},\"x\":{\"field\":\"flight_nums\"}},\"id\":\"1484\",\"type\":\"VBar\"},{\"attributes\":{},\"id\":\"1454\",\"type\":\"CategoricalScale\"},{\"attributes\":{\"fill_alpha\":{\"value\":0.1},\"fill_color\":{\"value\":\"#1f77b4\"},\"line_alpha\":{\"value\":0.1},\"line_color\":{\"value\":\"black\"},\"top\":{\"field\":\"num_passengers\"},\"width\":{\"value\":0.8},\"x\":{\"field\":\"flight_nums\"}},\"id\":\"1485\",\"type\":\"VBar\"},{\"attributes\":{\"callback\":null,\"data\":{\"flight_nums\":[\"5115\",\"5831\",\"5786\",\"4152\",\"4763\",\"4431\",\"6664\",\"2226\",\"2470\",\"5485\",\"6066\",\"4007\",\"5327\",\"2124\",\"6731\",\"3918\",\"6478\",\"6580\",\"6030\",\"5738\"],\"num_passengers\":[48,72,57,52,15,59,57,30,49,17,69,65,45,26,55,37,26,49,36,35]},\"selected\":{\"id\":\"1482\",\"type\":\"Selection\"},\"selection_policy\":{\"id\":\"1499\",\"type\":\"UnionRenderers\"}},\"id\":\"1481\",\"type\":\"ColumnDataSource\"},{\"attributes\":{\"axis_label\":\"flight_nums\",\"bounds\":\"auto\",\"formatter\":{\"id\":\"1489\",\"type\":\"CategoricalTickFormatter\"},\"major_label_orientation\":\"horizontal\",\"plot\":{\"id\":\"1450\",\"subtype\":\"Figure\",\"type\":\"Plot\"},\"ticker\":{\"id\":\"1459\",\"type\":\"CategoricalTicker\"}},\"id\":\"1458\",\"type\":\"CategoricalAxis\"},{\"attributes\":{\"fill_alpha\":{\"value\":0.2},\"fill_color\":{\"value\":\"#1f77b4\"},\"line_alpha\":{\"value\":0.2},\"line_color\":{\"value\":\"black\"},\"top\":{\"field\":\"num_passengers\"},\"width\":{\"value\":0.8},\"x\":{\"field\":\"flight_nums\"}},\"id\":\"1486\",\"type\":\"VBar\"},{\"attributes\":{\"data_source\":{\"id\":\"1481\",\"type\":\"ColumnDataSource\"},\"glyph\":{\"id\":\"1484\",\"type\":\"VBar\"},\"hover_glyph\":null,\"muted_glyph\":{\"id\":\"1486\",\"type\":\"VBar\"},\"nonselection_glyph\":{\"id\":\"1485\",\"type\":\"VBar\"},\"selection_glyph\":null,\"view\":{\"id\":\"1488\",\"type\":\"CDSView\"}},\"id\":\"1487\",\"type\":\"GlyphRenderer\"},{\"attributes\":{\"source\":{\"id\":\"1481\",\"type\":\"ColumnDataSource\"}},\"id\":\"1488\",\"type\":\"CDSView\"},{\"attributes\":{\"grid_line_color\":{\"value\":null},\"plot\":{\"id\":\"1450\",\"subtype\":\"Figure\",\"type\":\"Plot\"},\"ticker\":{\"id\":\"1459\",\"type\":\"CategoricalTicker\"}},\"id\":\"1461\",\"type\":\"Grid\"},{\"attributes\":{\"axis_label\":\"num_passengers\",\"bounds\":\"auto\",\"formatter\":{\"id\":\"1491\",\"type\":\"BasicTickFormatter\"},\"major_label_orientation\":\"horizontal\",\"plot\":{\"id\":\"1450\",\"subtype\":\"Figure\",\"type\":\"Plot\"},\"ticker\":{\"id\":\"1463\",\"type\":\"BasicTicker\"}},\"id\":\"1462\",\"type\":\"LinearAxis\"},{\"attributes\":{},\"id\":\"1491\",\"type\":\"BasicTickFormatter\"},{\"attributes\":{},\"id\":\"1463\",\"type\":\"BasicTicker\"},{\"attributes\":{\"dimension\":1,\"grid_line_color\":{\"value\":null},\"plot\":{\"id\":\"1450\",\"subtype\":\"Figure\",\"type\":\"Plot\"},\"ticker\":{\"id\":\"1463\",\"type\":\"BasicTicker\"}},\"id\":\"1466\",\"type\":\"Grid\"},{\"attributes\":{},\"id\":\"1489\",\"type\":\"CategoricalTickFormatter\"},{\"attributes\":{\"callback\":null,\"factors\":[\"5115\",\"5831\",\"5786\",\"4152\",\"4763\",\"4431\",\"6664\",\"2226\",\"2470\",\"5485\",\"6066\",\"4007\",\"5327\",\"2124\",\"6731\",\"3918\",\"6478\",\"6580\",\"6030\",\"5738\"],\"tags\":[[[\"flight_nums\",\"flight_nums\",null]]]},\"id\":\"1446\",\"type\":\"FactorRange\"},{\"attributes\":{},\"id\":\"1482\",\"type\":\"Selection\"},{\"attributes\":{},\"id\":\"1499\",\"type\":\"UnionRenderers\"},{\"attributes\":{},\"id\":\"1467\",\"type\":\"SaveTool\"},{\"attributes\":{},\"id\":\"1456\",\"type\":\"LinearScale\"},{\"attributes\":{},\"id\":\"1468\",\"type\":\"PanTool\"},{\"attributes\":{\"callback\":null,\"end\":72.0,\"reset_end\":72.0,\"reset_start\":0,\"tags\":[[[\"num_passengers\",\"num_passengers\",null]]]},\"id\":\"1447\",\"type\":\"Range1d\"},{\"attributes\":{},\"id\":\"1469\",\"type\":\"WheelZoomTool\"}],\"root_ids\":[\"1450\"]},\"title\":\"Bokeh Application\",\"version\":\"1.0.4\"}};\n",
       "  var render_items = [{\"docid\":\"a584f7e4-d7c9-4a48-93f6-bbf4655edd6a\",\"roots\":{\"1450\":\"5bb49c3a-7cbd-4fb9-a0c0-b8468b0f4d0d\"}}];\n",
       "  root.Bokeh.embed.embed_items_notebook(docs_json, render_items);\n",
       "\n",
       "  }\n",
       "  if (root.Bokeh !== undefined) {\n",
       "    embed_document(root);\n",
       "  } else {\n",
       "    var attempts = 0;\n",
       "    var timer = setInterval(function(root) {\n",
       "      if (root.Bokeh !== undefined) {\n",
       "        embed_document(root);\n",
       "        clearInterval(timer);\n",
       "      }\n",
       "      attempts++;\n",
       "      if (attempts > 100) {\n",
       "        console.log(\"Bokeh: ERROR: Unable to run BokehJS code because BokehJS library is missing\");\n",
       "        clearInterval(timer);\n",
       "      }\n",
       "    }, 10, root)\n",
       "  }\n",
       "})(window);"
      ],
      "application/vnd.holoviews_exec.v0+json": "",
      "text/html": [
       "<div id='1450' style='display: table; margin: 0 auto;'>\n",
       "\n",
       "\n",
       "\n",
       "\n",
       "\n",
       "  <div class=\"bk-root\" id=\"5bb49c3a-7cbd-4fb9-a0c0-b8468b0f4d0d\" data-root-id=\"1450\"></div>\n",
       "</div>"
      ],
      "text/plain": [
       ":Bars   [flight_nums]   (num_passengers)"
      ]
     },
     "execution_count": 16,
     "metadata": {
      "application/vnd.holoviews_exec.v0+json": {
       "id": "1450"
      }
     },
     "output_type": "execute_result"
    }
   ],
   "source": [
    "# Plot data\n",
    "flight_data.hvplot.bar(x=\"flight_nums\", y=\"num_passengers\")"
   ]
  },
  {
   "cell_type": "code",
   "execution_count": null,
   "metadata": {},
   "outputs": [],
   "source": []
  }
 ],
 "metadata": {
  "file_extension": ".py",
  "kernelspec": {
   "display_name": "Python 3",
   "language": "python",
   "name": "python3"
  },
  "language_info": {
   "codemirror_mode": {
    "name": "ipython",
    "version": 3
   },
   "file_extension": ".py",
   "mimetype": "text/x-python",
   "name": "python",
   "nbconvert_exporter": "python",
   "pygments_lexer": "ipython3",
   "version": "3.7.1"
  },
  "mimetype": "text/x-python",
  "name": "python",
  "npconvert_exporter": "python",
  "pygments_lexer": "ipython3",
  "version": 3
 },
 "nbformat": 4,
 "nbformat_minor": 4
}
