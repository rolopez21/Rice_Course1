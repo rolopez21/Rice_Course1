{
  "cells": [
    {
      "cell_type": "markdown",
      "source": [
        "# Picture Perfect"
      ],
      "metadata": {}
    },
    {
      "cell_type": "markdown",
      "source": [
        "Perfect your visualizations by adding in some finishing touches. Use the hvPlot options and customization attributes to change the look and feel of each visualization, paying particular attention to the legibility of axis labels and the availability of titles and labels."
      ],
      "metadata": {}
    },
    {
      "cell_type": "code",
      "source": [
        "import pandas as pd\n",
        "import hvplot.pandas\n",
        "from pathlib import Path"
      ],
      "outputs": [],
      "execution_count": null,
      "metadata": {}
    },
    {
      "cell_type": "markdown",
      "source": [
        "### Prep the data"
      ],
      "metadata": {}
    },
    {
      "cell_type": "code",
      "source": [
        "# Read in loan data\n",
        "loan_data = pd.read_csv(Path(\"../../Resources/state_loan_data.csv\"))\n",
        "\n",
        "# Group data by state for state-level analysis\n",
        "loan_data = loan_data.groupby('State Code').sum()\n",
        "loan_data.head()"
      ],
      "outputs": [],
      "execution_count": null,
      "metadata": {}
    },
    {
      "cell_type": "markdown",
      "source": [
        "### Rotate x axis labels and format y axis values using yformatter"
      ],
      "metadata": {}
    },
    {
      "cell_type": "code",
      "source": [
        "# Slice for Total Average Loan Amount\n",
        "loan_data_state = loan_data['Total Average Loan Amount']\n",
        "loan_data_avg_grp = loan_data_state.sort_values()\n",
        "\n",
        "# Use rot and yformatter attributes/options\n",
        "plot_state_avgs = loan_data_avg_grp.hvplot.bar(label='2019 Total Average Amount')\n",
        "plot_state_avgs"
      ],
      "outputs": [],
      "execution_count": null,
      "metadata": {}
    },
    {
      "cell_type": "code",
      "source": [
        "# Slice data for Total Average Loan Amount by 2015-2016 and 2010-2014 date ranges\n",
        "loan_data_range_1 = loan_data['2015 - 2016']\n",
        "loan_data_range_2 = loan_data['2010 - 2014']\n",
        "loan_data_range_grp = loan_data_range_1.sort_values()\n",
        "loan_data_range_grp_2 = loan_data_range_2.sort_values()\n",
        "\n",
        "# Use rot argument and yformatter option to customize formatting\n",
        "plot_2015_2016 = loan_data_range_grp.hvplot(label='2015 - 2016')\n",
        "plot_2010_2014 = loan_data_range_grp_2.hvplot(label='2010 - 2014')\n",
        "\nplot_2015_2016 + plot_2010_2014"
      ],
      "outputs": [],
      "execution_count": null,
      "metadata": {}
    },
    {
      "cell_type": "markdown",
      "source": [
        "### Use title option to customize title"
      ],
      "metadata": {}
    },
    {
      "cell_type": "code",
      "source": [
        "# Use opts function to customize title and width\n",
        "(plot_state_avgs * plot_2015_2016 * plot_2010_2014)"
      ],
      "outputs": [],
      "execution_count": null,
      "metadata": {}
    }
  ],
  "metadata": {
    "kernelspec": {
      "name": "python3",
      "language": "python",
      "display_name": "Python 3"
    },
    "language_info": {
      "name": "python",
      "version": "3.7.3",
      "mimetype": "text/x-python",
      "codemirror_mode": {
        "name": "ipython",
        "version": 3
      },
      "pygments_lexer": "ipython3",
      "nbconvert_exporter": "python",
      "file_extension": ".py"
    },
    "kernel_info": {
      "name": "python3"
    },
    "nteract": {
      "version": "0.12.3"
    }
  },
  "nbformat": 4,
  "nbformat_minor": 2
}