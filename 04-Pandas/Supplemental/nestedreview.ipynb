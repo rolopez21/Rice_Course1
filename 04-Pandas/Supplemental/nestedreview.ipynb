{
 "cells": [
  {
   "cell_type": "code",
   "execution_count": 1,
   "metadata": {},
   "outputs": [],
   "source": [
    "my_list = [\"apple\", \"banana\", \"mango\"]"
   ]
  },
  {
   "cell_type": "code",
   "execution_count": 2,
   "metadata": {},
   "outputs": [
    {
     "data": {
      "text/plain": [
       "'apple'"
      ]
     },
     "execution_count": 2,
     "metadata": {},
     "output_type": "execute_result"
    }
   ],
   "source": [
    "my_list[0]"
   ]
  },
  {
   "cell_type": "code",
   "execution_count": 3,
   "metadata": {},
   "outputs": [
    {
     "data": {
      "text/plain": [
       "'mango'"
      ]
     },
     "execution_count": 3,
     "metadata": {},
     "output_type": "execute_result"
    }
   ],
   "source": [
    "my_list[2]"
   ]
  },
  {
   "cell_type": "code",
   "execution_count": 5,
   "metadata": {},
   "outputs": [],
   "source": [
    "my_dict = {\n",
    "    \"name\":\"apple\",\n",
    "    \"vareties\": [\"fuji\", \"pink lady\", \"granny smith\", \"honeycrisp\"],\n",
    "    \"size\":\"medium\"\n",
    "    \n",
    "}"
   ]
  },
  {
   "cell_type": "code",
   "execution_count": 9,
   "metadata": {},
   "outputs": [
    {
     "data": {
      "text/plain": [
       "'pink lady'"
      ]
     },
     "execution_count": 9,
     "metadata": {},
     "output_type": "execute_result"
    }
   ],
   "source": [
    "my_dict[\"vareties\"][1]"
   ]
  },
  {
   "cell_type": "code",
   "execution_count": 12,
   "metadata": {},
   "outputs": [],
   "source": [
    "grocery_store = {\n",
    "    \"pharm\":{\n",
    "        \"products\":[{\n",
    "            \"name\":\"vitamins\",\n",
    "            \"use\": \"general health\"\n",
    "        },\n",
    "        {\n",
    "            \"name\":\"aspirin\",\n",
    "            \"use\":\"pain relief\"\n",
    "        },\n",
    "        {\n",
    "            \"name\":\"aluminum zirconium tetrachrolohydrex glycine\",\n",
    "            \"use\": \"deodorant\"\n",
    "        }],\n",
    "        \"employees\":[\"Sharon\", \"Sarah\", \"Mike\"],\n",
    "        \n",
    "    },\n",
    "    \"produce\":{\n",
    "        \"products\":[{\n",
    "            \"name\":\"apple\",\n",
    "            \"price/lb\":0.30\n",
    "        },\n",
    "        {\n",
    "            \"name\":\"mango\",\n",
    "            \"price/lb\":0.45\n",
    "        },{\n",
    "            \"name\":\"blackberries\",\n",
    "            \"price/lb\":1.30\n",
    "        }],\n",
    "        \"employees\":[\"Jules\", \"Jimmy\"]\n",
    "    }\n",
    "    \n",
    "}"
   ]
  },
  {
   "cell_type": "code",
   "execution_count": 20,
   "metadata": {},
   "outputs": [
    {
     "data": {
      "text/plain": [
       "'aluminum zirconium tetrachrolohydrex glycine'"
      ]
     },
     "execution_count": 20,
     "metadata": {},
     "output_type": "execute_result"
    }
   ],
   "source": [
    "grocery_store[\"pharm\"][\"products\"][2][\"name\"]"
   ]
  },
  {
   "cell_type": "code",
   "execution_count": 21,
   "metadata": {},
   "outputs": [],
   "source": [
    "# PSEUDOCODE!!"
   ]
  },
  {
   "cell_type": "code",
   "execution_count": 23,
   "metadata": {},
   "outputs": [],
   "source": [
    "# loop over products in produce - fresh_produce\n",
    "# multiply each value by five\n",
    "# add multiplied values together\n",
    "# print total"
   ]
  },
  {
   "cell_type": "code",
   "execution_count": 26,
   "metadata": {},
   "outputs": [],
   "source": [
    "fresh_produce = grocery_store[\"produce\"][\"products\"]"
   ]
  },
  {
   "cell_type": "code",
   "execution_count": 27,
   "metadata": {},
   "outputs": [
    {
     "data": {
      "text/plain": [
       "[{'name': 'apple', 'price/lb': 0.3},\n",
       " {'name': 'mango', 'price/lb': 0.45},\n",
       " {'name': 'blackberries', 'price/lb': 1.3}]"
      ]
     },
     "execution_count": 27,
     "metadata": {},
     "output_type": "execute_result"
    }
   ],
   "source": [
    "fresh_produce"
   ]
  },
  {
   "cell_type": "code",
   "execution_count": 31,
   "metadata": {},
   "outputs": [
    {
     "name": "stdout",
     "output_type": "stream",
     "text": [
      "10.25\n"
     ]
    }
   ],
   "source": [
    "total = 0\n",
    "\n",
    "for fruit in fresh_produce:\n",
    "    total += fruit[\"price/lb\"]*5\n",
    "\n",
    "print(total)"
   ]
  },
  {
   "cell_type": "code",
   "execution_count": 32,
   "metadata": {},
   "outputs": [
    {
     "ename": "ValueError",
     "evalue": "invalid literal for int() with base 10: '$1.20'",
     "output_type": "error",
     "traceback": [
      "\u001b[0;31m---------------------------------------------------------------------------\u001b[0m",
      "\u001b[0;31mValueError\u001b[0m                                Traceback (most recent call last)",
      "\u001b[0;32m<ipython-input-32-8ce6df220b08>\u001b[0m in \u001b[0;36m<module>\u001b[0;34m\u001b[0m\n\u001b[0;32m----> 1\u001b[0;31m \u001b[0mint\u001b[0m\u001b[0;34m(\u001b[0m\u001b[0;34m\"$1.20\"\u001b[0m\u001b[0;34m)\u001b[0m\u001b[0;34m\u001b[0m\u001b[0;34m\u001b[0m\u001b[0m\n\u001b[0m",
      "\u001b[0;31mValueError\u001b[0m: invalid literal for int() with base 10: '$1.20'"
     ]
    }
   ],
   "source": [
    "int(\"$1.20\")"
   ]
  },
  {
   "cell_type": "code",
   "execution_count": 39,
   "metadata": {},
   "outputs": [
    {
     "data": {
      "text/plain": [
       "'1.20'"
      ]
     },
     "execution_count": 39,
     "metadata": {},
     "output_type": "execute_result"
    }
   ],
   "source": [
    "\"$1.20\"[1:]"
   ]
  },
  {
   "cell_type": "code",
   "execution_count": 40,
   "metadata": {},
   "outputs": [
    {
     "data": {
      "text/plain": [
       "'1.20'"
      ]
     },
     "execution_count": 40,
     "metadata": {},
     "output_type": "execute_result"
    }
   ],
   "source": [
    "\"$1.20\".replace(\"$\",\"\")"
   ]
  },
  {
   "cell_type": "code",
   "execution_count": 36,
   "metadata": {},
   "outputs": [
    {
     "data": {
      "text/plain": [
       "'at'"
      ]
     },
     "execution_count": 36,
     "metadata": {},
     "output_type": "execute_result"
    }
   ],
   "source": [
    "\"cat\"[1:4]"
   ]
  },
  {
   "cell_type": "code",
   "execution_count": 41,
   "metadata": {},
   "outputs": [],
   "source": [
    "grocery_store = {\n",
    "    \"pharm\":{\n",
    "        \"products\":[{\n",
    "            \"name\":\"vitamins\",\n",
    "            \"use\": \"general health\"\n",
    "        },\n",
    "        {\n",
    "            \"name\":\"aspirin\",\n",
    "            \"use\":\"pain relief\"\n",
    "        },\n",
    "        {\n",
    "            \"name\":\"aluminum zirconium tetrachrolohydrex glycine\",\n",
    "            \"use\": \"deodorant\"\n",
    "        }],\n",
    "        \"employees\":[\"Sharon\", \"Sarah\", \"Mike\"],\n",
    "        \n",
    "    },\n",
    "    \"produce\":{\n",
    "        \"products\":[{\n",
    "            \"name\":\"apple\",\n",
    "            \"price/lb\":\"$0.30\"\n",
    "        },\n",
    "        {\n",
    "            \"name\":\"mango\",\n",
    "            \"price/lb\":\"$0.45\"\n",
    "        },{\n",
    "            \"name\":\"blackberries\",\n",
    "            \"price/lb\":\"$1.30\"\n",
    "        }],\n",
    "        \"employees\":[\"Jules\", \"Jimmy\"]\n",
    "    }\n",
    "    \n",
    "}"
   ]
  },
  {
   "cell_type": "code",
   "execution_count": 42,
   "metadata": {},
   "outputs": [],
   "source": [
    "fresh_produce = grocery_store[\"produce\"][\"products\"]"
   ]
  },
  {
   "cell_type": "code",
   "execution_count": 49,
   "metadata": {},
   "outputs": [
    {
     "name": "stdout",
     "output_type": "stream",
     "text": [
      "10.25\n"
     ]
    }
   ],
   "source": [
    "total = 0\n",
    "\n",
    "for fruit in fresh_produce:\n",
    "    total += float(fruit[\"price/lb\"].replace(\"$\",\"\"))*5\n",
    "\n",
    "print(total)"
   ]
  },
  {
   "cell_type": "code",
   "execution_count": 50,
   "metadata": {},
   "outputs": [
    {
     "name": "stdout",
     "output_type": "stream",
     "text": [
      "10.25\n"
     ]
    }
   ],
   "source": [
    "total = 0\n",
    "\n",
    "for product in fresh_produce:\n",
    "    \n",
    "    price_per_pound = float(product[\"price/lb\"].replace(\"$\",\"\"))\n",
    "    pounds = 5\n",
    "    \n",
    "    total += price_per_pound * pounds\n",
    "\n",
    "print(total)"
   ]
  },
  {
   "cell_type": "code",
   "execution_count": null,
   "metadata": {},
   "outputs": [],
   "source": []
  }
 ],
 "metadata": {
  "kernelspec": {
   "display_name": "Python 3",
   "language": "python",
   "name": "python3"
  },
  "language_info": {
   "codemirror_mode": {
    "name": "ipython",
    "version": 3
   },
   "file_extension": ".py",
   "mimetype": "text/x-python",
   "name": "python",
   "nbconvert_exporter": "python",
   "pygments_lexer": "ipython3",
   "version": "3.7.1"
  }
 },
 "nbformat": 4,
 "nbformat_minor": 2
}
