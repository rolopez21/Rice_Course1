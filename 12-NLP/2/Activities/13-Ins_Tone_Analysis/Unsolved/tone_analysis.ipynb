{
 "cells": [
  {
   "cell_type": "markdown",
   "metadata": {},
   "source": [
    "# Instructor Do: Tone Alysis"
   ]
  },
  {
   "cell_type": "code",
   "execution_count": null,
   "metadata": {},
   "outputs": [],
   "source": [
    "# Initial imports\n",
    "import os\n",
    "import json\n",
    "from pandas.io.json import json_normalize\n",
    "from ibm_watson import ToneAnalyzerV3\n",
    "\n"
   ]
  },
  {
   "cell_type": "code",
   "execution_count": null,
   "metadata": {},
   "outputs": [],
   "source": [
    "# Get the Tone Analyzer API Key and URL\n",
    "tone_api = os.getenv(\"tone_api\")\n",
    "tone_url = os.getenv(\"tone_url\")\n",
    "\n"
   ]
  },
  {
   "cell_type": "code",
   "execution_count": null,
   "metadata": {},
   "outputs": [],
   "source": [
    "# Initialize Tone Analyser Client\n"
   ]
  },
  {
   "cell_type": "markdown",
   "metadata": {},
   "source": [
    "## General Tone Analysis Test"
   ]
  },
  {
   "cell_type": "code",
   "execution_count": null,
   "metadata": {},
   "outputs": [],
   "source": [
    "# Define text to analyze\n",
    "text = \"\"\"\n",
    "Team, I know that times are tough!\n",
    "Product sales have been disappointing for the past three quarters.\n",
    "We have a competitive product, but we need to do a better job of selling it!\n",
    "\"\"\"\n",
    "\n",
    "# Analyze the text's tone with the 'tone()' method.\n",
    "\n",
    "\n",
    "# Display tone analysis results\n"
   ]
  },
  {
   "cell_type": "markdown",
   "metadata": {},
   "source": [
    "### Transform Tone Analysis json to a DataFrame"
   ]
  },
  {
   "cell_type": "code",
   "execution_count": null,
   "metadata": {},
   "outputs": [],
   "source": [
    "# Document Tones\n",
    "\n"
   ]
  },
  {
   "cell_type": "code",
   "execution_count": null,
   "metadata": {},
   "outputs": [],
   "source": [
    "# Sentences Tones\n",
    "\n"
   ]
  },
  {
   "cell_type": "markdown",
   "metadata": {},
   "source": [
    "## Customer Engagement Tone Analysis"
   ]
  },
  {
   "cell_type": "code",
   "execution_count": null,
   "metadata": {},
   "outputs": [],
   "source": [
    "# Define conversational utterances\n",
    "utterances = [\n",
    "    {\"text\": \"Hello, I'm having a problem with your product.\", \"user\": \"customer\"},\n",
    "    {\"text\": \"OK, let me know what's going on, please.\", \"user\": \"agent\"},\n",
    "    {\"text\": \"Well, nothing is working :(\", \"user\": \"customer\"},\n",
    "    {\"text\": \"Sorry to hear that.\", \"user\": \"agent\"},\n",
    "]\n",
    "\n",
    "# Analyze utterances using the 'tone_chat()' method\n",
    "\n"
   ]
  },
  {
   "cell_type": "markdown",
   "metadata": {},
   "source": [
    "### Transform Chat Analysis json to DataFrame"
   ]
  },
  {
   "cell_type": "code",
   "execution_count": null,
   "metadata": {},
   "outputs": [],
   "source": [
    "\n"
   ]
  }
 ],
 "metadata": {
  "file_extension": ".py",
  "kernelspec": {
   "display_name": "Python 3",
   "language": "python",
   "name": "python3"
  },
  "language_info": {
   "codemirror_mode": {
    "name": "ipython",
    "version": 3
   },
   "file_extension": ".py",
   "mimetype": "text/x-python",
   "name": "python",
   "nbconvert_exporter": "python",
   "pygments_lexer": "ipython3",
   "version": "3.7.3"
  },
  "mimetype": "text/x-python",
  "name": "python",
  "npconvert_exporter": "python",
  "pygments_lexer": "ipython3",
  "version": 3
 },
 "nbformat": 4,
 "nbformat_minor": 2
}
