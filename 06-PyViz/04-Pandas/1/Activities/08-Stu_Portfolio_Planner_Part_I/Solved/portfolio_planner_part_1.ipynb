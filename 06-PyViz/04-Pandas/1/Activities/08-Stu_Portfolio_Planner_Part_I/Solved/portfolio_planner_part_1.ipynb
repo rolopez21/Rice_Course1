{
 "cells": [
  {
   "cell_type": "markdown",
   "metadata": {},
   "source": [
    "### Student Activity: Portfolio Planner Part I\n",
    "\n",
    "This program is part 1 of a two-part student activity and begins the following:\n",
    "\n",
    "`PART 1: Portfolio Optimization via Risk Evaluation`\n",
    "\n",
    "Reads in the CSV datasets of 10 stocks, calculates the volatility of each stock, drops the top-five highly volatile stocks, sets allocations for the remaining stocks based on risk/volatility, and calculates the returns of a hypothetical `$10,000` investment for the constructed portfolio.\n",
    "\n",
    "`PART 2: Portfolio Optimization via Correlation and Return-to-Risk (Sharpe Ratio) Evaluations`\n",
    "\n",
    "To be continued in the second part!\n"
   ]
  },
  {
   "cell_type": "code",
   "execution_count": 1,
   "metadata": {},
   "outputs": [],
   "source": [
    "# Import libraries and dependencies\n",
    "import numpy as np\n",
    "import pandas as pd\n",
    "from pathlib import Path\n",
    "%matplotlib inline"
   ]
  },
  {
   "cell_type": "markdown",
   "metadata": {},
   "source": [
    "### Read CSVs as DataFrames "
   ]
  },
  {
   "cell_type": "code",
   "execution_count": 2,
   "metadata": {},
   "outputs": [
    {
     "data": {
      "text/html": [
       "<div>\n",
       "<style scoped>\n",
       "    .dataframe tbody tr th:only-of-type {\n",
       "        vertical-align: middle;\n",
       "    }\n",
       "\n",
       "    .dataframe tbody tr th {\n",
       "        vertical-align: top;\n",
       "    }\n",
       "\n",
       "    .dataframe thead th {\n",
       "        text-align: right;\n",
       "    }\n",
       "</style>\n",
       "<table border=\"1\" class=\"dataframe\">\n",
       "  <thead>\n",
       "    <tr style=\"text-align: right;\">\n",
       "      <th></th>\n",
       "      <th>close</th>\n",
       "    </tr>\n",
       "    <tr>\n",
       "      <th>date</th>\n",
       "      <th></th>\n",
       "    </tr>\n",
       "  </thead>\n",
       "  <tbody>\n",
       "    <tr>\n",
       "      <th>2019-05-20</th>\n",
       "      <td>35.15</td>\n",
       "    </tr>\n",
       "    <tr>\n",
       "      <th>2019-05-17</th>\n",
       "      <td>36.66</td>\n",
       "    </tr>\n",
       "    <tr>\n",
       "      <th>2019-05-16</th>\n",
       "      <td>37.42</td>\n",
       "    </tr>\n",
       "    <tr>\n",
       "      <th>2019-05-15</th>\n",
       "      <td>37.44</td>\n",
       "    </tr>\n",
       "    <tr>\n",
       "      <th>2019-05-14</th>\n",
       "      <td>37.19</td>\n",
       "    </tr>\n",
       "  </tbody>\n",
       "</table>\n",
       "</div>"
      ],
      "text/plain": [
       "            close\n",
       "date             \n",
       "2019-05-20  35.15\n",
       "2019-05-17  36.66\n",
       "2019-05-16  37.42\n",
       "2019-05-15  37.44\n",
       "2019-05-14  37.19"
      ]
     },
     "execution_count": 2,
     "metadata": {},
     "output_type": "execute_result"
    }
   ],
   "source": [
    "# Set the file paths\n",
    "bk_data = Path(\"../Resources/bk_data.csv\")\n",
    "fang_data = Path(\"../Resources/fang_data.csv\")\n",
    "jnj_data = Path(\"../Resources/jnj_data.csv\")\n",
    "luv_data = Path(\"../Resources/luv_data.csv\")\n",
    "mu_data = Path(\"../Resources/mu_data.csv\")\n",
    "nke_data = Path(\"../Resources/nke_data.csv\")\n",
    "sbux_data = Path(\"../Resources/sbux_data.csv\")\n",
    "t_data = Path(\"../Resources/t_data.csv\")\n",
    "wdc_data = Path(\"../Resources/wdc_data.csv\")\n",
    "wrk_data = Path(\"../Resources/wrk_data.csv\")\n",
    "\n",
    "# Read the CSVs and set the `date` column as a datetime index to the DataFrame\n",
    "bk_df = pd.read_csv(bk_data, index_col=\"date\", infer_datetime_format=True, parse_dates=True)\n",
    "fang_df = pd.read_csv(fang_data, index_col=\"date\", infer_datetime_format=True, parse_dates=True)\n",
    "jnj_df = pd.read_csv(jnj_data, index_col=\"date\", infer_datetime_format=True, parse_dates=True)\n",
    "luv_df = pd.read_csv(luv_data, index_col=\"date\", infer_datetime_format=True, parse_dates=True)\n",
    "mu_df = pd.read_csv(mu_data, index_col=\"date\", infer_datetime_format=True, parse_dates=True)\n",
    "nke_df = pd.read_csv(nke_data, index_col=\"date\", infer_datetime_format=True, parse_dates=True)\n",
    "sbux_df = pd.read_csv(sbux_data, index_col=\"date\", infer_datetime_format=True, parse_dates=True)\n",
    "t_df = pd.read_csv(t_data, index_col=\"date\", infer_datetime_format=True, parse_dates=True)\n",
    "wdc_df = pd.read_csv(wdc_data, index_col=\"date\", infer_datetime_format=True, parse_dates=True)\n",
    "wrk_df = pd.read_csv(wrk_data, index_col=\"date\", infer_datetime_format=True, parse_dates=True)\n",
    "\n",
    "# Display a few rows\n",
    "wrk_df.head()"
   ]
  },
  {
   "cell_type": "markdown",
   "metadata": {},
   "source": [
    "### Combine DataFrames, Sort Index, and Rename Columns"
   ]
  },
  {
   "cell_type": "code",
   "execution_count": 3,
   "metadata": {},
   "outputs": [
    {
     "data": {
      "text/html": [
       "<div>\n",
       "<style scoped>\n",
       "    .dataframe tbody tr th:only-of-type {\n",
       "        vertical-align: middle;\n",
       "    }\n",
       "\n",
       "    .dataframe tbody tr th {\n",
       "        vertical-align: top;\n",
       "    }\n",
       "\n",
       "    .dataframe thead th {\n",
       "        text-align: right;\n",
       "    }\n",
       "</style>\n",
       "<table border=\"1\" class=\"dataframe\">\n",
       "  <thead>\n",
       "    <tr style=\"text-align: right;\">\n",
       "      <th></th>\n",
       "      <th>BK</th>\n",
       "      <th>FANG</th>\n",
       "      <th>JNJ</th>\n",
       "      <th>LUV</th>\n",
       "      <th>MU</th>\n",
       "      <th>NKE</th>\n",
       "      <th>SBUX</th>\n",
       "      <th>T</th>\n",
       "      <th>WDC</th>\n",
       "      <th>WRK</th>\n",
       "    </tr>\n",
       "    <tr>\n",
       "      <th>date</th>\n",
       "      <th></th>\n",
       "      <th></th>\n",
       "      <th></th>\n",
       "      <th></th>\n",
       "      <th></th>\n",
       "      <th></th>\n",
       "      <th></th>\n",
       "      <th></th>\n",
       "      <th></th>\n",
       "      <th></th>\n",
       "    </tr>\n",
       "  </thead>\n",
       "  <tbody>\n",
       "    <tr>\n",
       "      <th>2015-06-24</th>\n",
       "      <td>43.29</td>\n",
       "      <td>77.955</td>\n",
       "      <td>77.955</td>\n",
       "      <td>34.35</td>\n",
       "      <td>24.06</td>\n",
       "      <td>53.110</td>\n",
       "      <td>53.710</td>\n",
       "      <td>35.78</td>\n",
       "      <td>87.73</td>\n",
       "      <td>58.5699</td>\n",
       "    </tr>\n",
       "    <tr>\n",
       "      <th>2015-06-25</th>\n",
       "      <td>42.85</td>\n",
       "      <td>76.390</td>\n",
       "      <td>76.390</td>\n",
       "      <td>34.49</td>\n",
       "      <td>24.02</td>\n",
       "      <td>52.610</td>\n",
       "      <td>54.070</td>\n",
       "      <td>36.18</td>\n",
       "      <td>85.95</td>\n",
       "      <td>57.2022</td>\n",
       "    </tr>\n",
       "    <tr>\n",
       "      <th>2015-06-26</th>\n",
       "      <td>42.98</td>\n",
       "      <td>75.250</td>\n",
       "      <td>75.250</td>\n",
       "      <td>34.32</td>\n",
       "      <td>19.66</td>\n",
       "      <td>54.855</td>\n",
       "      <td>54.620</td>\n",
       "      <td>36.12</td>\n",
       "      <td>84.45</td>\n",
       "      <td>57.2022</td>\n",
       "    </tr>\n",
       "    <tr>\n",
       "      <th>2015-06-29</th>\n",
       "      <td>41.79</td>\n",
       "      <td>75.160</td>\n",
       "      <td>75.160</td>\n",
       "      <td>33.18</td>\n",
       "      <td>18.73</td>\n",
       "      <td>53.835</td>\n",
       "      <td>53.550</td>\n",
       "      <td>35.77</td>\n",
       "      <td>81.96</td>\n",
       "      <td>56.1857</td>\n",
       "    </tr>\n",
       "    <tr>\n",
       "      <th>2015-06-30</th>\n",
       "      <td>41.97</td>\n",
       "      <td>75.380</td>\n",
       "      <td>75.380</td>\n",
       "      <td>33.09</td>\n",
       "      <td>18.84</td>\n",
       "      <td>54.010</td>\n",
       "      <td>53.615</td>\n",
       "      <td>35.52</td>\n",
       "      <td>78.42</td>\n",
       "      <td>56.2781</td>\n",
       "    </tr>\n",
       "  </tbody>\n",
       "</table>\n",
       "</div>"
      ],
      "text/plain": [
       "               BK    FANG     JNJ    LUV     MU     NKE    SBUX      T    WDC  \\\n",
       "date                                                                            \n",
       "2015-06-24  43.29  77.955  77.955  34.35  24.06  53.110  53.710  35.78  87.73   \n",
       "2015-06-25  42.85  76.390  76.390  34.49  24.02  52.610  54.070  36.18  85.95   \n",
       "2015-06-26  42.98  75.250  75.250  34.32  19.66  54.855  54.620  36.12  84.45   \n",
       "2015-06-29  41.79  75.160  75.160  33.18  18.73  53.835  53.550  35.77  81.96   \n",
       "2015-06-30  41.97  75.380  75.380  33.09  18.84  54.010  53.615  35.52  78.42   \n",
       "\n",
       "                WRK  \n",
       "date                 \n",
       "2015-06-24  58.5699  \n",
       "2015-06-25  57.2022  \n",
       "2015-06-26  57.2022  \n",
       "2015-06-29  56.1857  \n",
       "2015-06-30  56.2781  "
      ]
     },
     "execution_count": 3,
     "metadata": {},
     "output_type": "execute_result"
    }
   ],
   "source": [
    "# Create a new pivot table where the columns are the closing prices for each ticker\n",
    "combined_df = pd.concat([bk_df, fang_df, jnj_df, luv_df, mu_df, nke_df, sbux_df, t_df, wdc_df, wrk_df], axis=\"columns\", join=\"inner\")\n",
    "\n",
    "# Sort datetime index in ascending order (past to present)\n",
    "combined_df.sort_index(inplace=True)\n",
    "\n",
    "# Set column names\n",
    "combined_df.columns = ['BK', 'FANG', 'JNJ', 'LUV', 'MU', 'NKE', 'SBUX', 'T', 'WDC', 'WRK']\n",
    "\n",
    "# Display a few rows\n",
    "combined_df.head()"
   ]
  },
  {
   "cell_type": "markdown",
   "metadata": {},
   "source": [
    "### Calculate Daily Returns"
   ]
  },
  {
   "cell_type": "code",
   "execution_count": 4,
   "metadata": {},
   "outputs": [
    {
     "data": {
      "text/html": [
       "<div>\n",
       "<style scoped>\n",
       "    .dataframe tbody tr th:only-of-type {\n",
       "        vertical-align: middle;\n",
       "    }\n",
       "\n",
       "    .dataframe tbody tr th {\n",
       "        vertical-align: top;\n",
       "    }\n",
       "\n",
       "    .dataframe thead th {\n",
       "        text-align: right;\n",
       "    }\n",
       "</style>\n",
       "<table border=\"1\" class=\"dataframe\">\n",
       "  <thead>\n",
       "    <tr style=\"text-align: right;\">\n",
       "      <th></th>\n",
       "      <th>BK</th>\n",
       "      <th>FANG</th>\n",
       "      <th>JNJ</th>\n",
       "      <th>LUV</th>\n",
       "      <th>MU</th>\n",
       "      <th>NKE</th>\n",
       "      <th>SBUX</th>\n",
       "      <th>T</th>\n",
       "      <th>WDC</th>\n",
       "      <th>WRK</th>\n",
       "    </tr>\n",
       "    <tr>\n",
       "      <th>date</th>\n",
       "      <th></th>\n",
       "      <th></th>\n",
       "      <th></th>\n",
       "      <th></th>\n",
       "      <th></th>\n",
       "      <th></th>\n",
       "      <th></th>\n",
       "      <th></th>\n",
       "      <th></th>\n",
       "      <th></th>\n",
       "    </tr>\n",
       "  </thead>\n",
       "  <tbody>\n",
       "    <tr>\n",
       "      <th>2015-06-24</th>\n",
       "      <td>NaN</td>\n",
       "      <td>NaN</td>\n",
       "      <td>NaN</td>\n",
       "      <td>NaN</td>\n",
       "      <td>NaN</td>\n",
       "      <td>NaN</td>\n",
       "      <td>NaN</td>\n",
       "      <td>NaN</td>\n",
       "      <td>NaN</td>\n",
       "      <td>NaN</td>\n",
       "    </tr>\n",
       "    <tr>\n",
       "      <th>2015-06-25</th>\n",
       "      <td>-0.010164</td>\n",
       "      <td>-0.020076</td>\n",
       "      <td>-0.020076</td>\n",
       "      <td>0.004076</td>\n",
       "      <td>-0.001663</td>\n",
       "      <td>-0.009414</td>\n",
       "      <td>0.006703</td>\n",
       "      <td>0.011179</td>\n",
       "      <td>-0.020290</td>\n",
       "      <td>-0.023352</td>\n",
       "    </tr>\n",
       "    <tr>\n",
       "      <th>2015-06-26</th>\n",
       "      <td>0.003034</td>\n",
       "      <td>-0.014923</td>\n",
       "      <td>-0.014923</td>\n",
       "      <td>-0.004929</td>\n",
       "      <td>-0.181515</td>\n",
       "      <td>0.042672</td>\n",
       "      <td>0.010172</td>\n",
       "      <td>-0.001658</td>\n",
       "      <td>-0.017452</td>\n",
       "      <td>0.000000</td>\n",
       "    </tr>\n",
       "    <tr>\n",
       "      <th>2015-06-29</th>\n",
       "      <td>-0.027687</td>\n",
       "      <td>-0.001196</td>\n",
       "      <td>-0.001196</td>\n",
       "      <td>-0.033217</td>\n",
       "      <td>-0.047304</td>\n",
       "      <td>-0.018594</td>\n",
       "      <td>-0.019590</td>\n",
       "      <td>-0.009690</td>\n",
       "      <td>-0.029485</td>\n",
       "      <td>-0.017770</td>\n",
       "    </tr>\n",
       "    <tr>\n",
       "      <th>2015-06-30</th>\n",
       "      <td>0.004307</td>\n",
       "      <td>0.002927</td>\n",
       "      <td>0.002927</td>\n",
       "      <td>-0.002712</td>\n",
       "      <td>0.005873</td>\n",
       "      <td>0.003251</td>\n",
       "      <td>0.001214</td>\n",
       "      <td>-0.006989</td>\n",
       "      <td>-0.043192</td>\n",
       "      <td>0.001645</td>\n",
       "    </tr>\n",
       "  </tbody>\n",
       "</table>\n",
       "</div>"
      ],
      "text/plain": [
       "                  BK      FANG       JNJ       LUV        MU       NKE  \\\n",
       "date                                                                     \n",
       "2015-06-24       NaN       NaN       NaN       NaN       NaN       NaN   \n",
       "2015-06-25 -0.010164 -0.020076 -0.020076  0.004076 -0.001663 -0.009414   \n",
       "2015-06-26  0.003034 -0.014923 -0.014923 -0.004929 -0.181515  0.042672   \n",
       "2015-06-29 -0.027687 -0.001196 -0.001196 -0.033217 -0.047304 -0.018594   \n",
       "2015-06-30  0.004307  0.002927  0.002927 -0.002712  0.005873  0.003251   \n",
       "\n",
       "                SBUX         T       WDC       WRK  \n",
       "date                                                \n",
       "2015-06-24       NaN       NaN       NaN       NaN  \n",
       "2015-06-25  0.006703  0.011179 -0.020290 -0.023352  \n",
       "2015-06-26  0.010172 -0.001658 -0.017452  0.000000  \n",
       "2015-06-29 -0.019590 -0.009690 -0.029485 -0.017770  \n",
       "2015-06-30  0.001214 -0.006989 -0.043192  0.001645  "
      ]
     },
     "execution_count": 4,
     "metadata": {},
     "output_type": "execute_result"
    }
   ],
   "source": [
    "# Use the `pct_change` function to calculate daily returns\n",
    "daily_returns = combined_df.pct_change()\n",
    "daily_returns.head()"
   ]
  },
  {
   "cell_type": "markdown",
   "metadata": {},
   "source": [
    "### Evaluate Riskiness of Stocks"
   ]
  },
  {
   "cell_type": "code",
   "execution_count": 5,
   "metadata": {},
   "outputs": [
    {
     "data": {
      "text/plain": [
       "T       0.187579\n",
       "SBUX    0.206805\n",
       "BK      0.224967\n",
       "NKE     0.246045\n",
       "LUV     0.280021\n",
       "WRK     0.303601\n",
       "FANG    0.370840\n",
       "JNJ     0.370840\n",
       "WDC     0.415605\n",
       "MU      0.479955\n",
       "dtype: float64"
      ]
     },
     "execution_count": 5,
     "metadata": {},
     "output_type": "execute_result"
    }
   ],
   "source": [
    "# Use the `std` function and multiply by the square root of the number of trading days in a year to get annualized volatility\n",
    "volatility = daily_returns.std() * np.sqrt(252)\n",
    "volatility.sort_values(inplace=True)\n",
    "volatility"
   ]
  },
  {
   "cell_type": "markdown",
   "metadata": {},
   "source": [
    "### Drop High Volatility Stocks"
   ]
  },
  {
   "cell_type": "code",
   "execution_count": 6,
   "metadata": {},
   "outputs": [
    {
     "data": {
      "text/html": [
       "<div>\n",
       "<style scoped>\n",
       "    .dataframe tbody tr th:only-of-type {\n",
       "        vertical-align: middle;\n",
       "    }\n",
       "\n",
       "    .dataframe tbody tr th {\n",
       "        vertical-align: top;\n",
       "    }\n",
       "\n",
       "    .dataframe thead th {\n",
       "        text-align: right;\n",
       "    }\n",
       "</style>\n",
       "<table border=\"1\" class=\"dataframe\">\n",
       "  <thead>\n",
       "    <tr style=\"text-align: right;\">\n",
       "      <th></th>\n",
       "      <th>BK</th>\n",
       "      <th>LUV</th>\n",
       "      <th>NKE</th>\n",
       "      <th>SBUX</th>\n",
       "      <th>T</th>\n",
       "    </tr>\n",
       "    <tr>\n",
       "      <th>date</th>\n",
       "      <th></th>\n",
       "      <th></th>\n",
       "      <th></th>\n",
       "      <th></th>\n",
       "      <th></th>\n",
       "    </tr>\n",
       "  </thead>\n",
       "  <tbody>\n",
       "    <tr>\n",
       "      <th>2015-06-24</th>\n",
       "      <td>NaN</td>\n",
       "      <td>NaN</td>\n",
       "      <td>NaN</td>\n",
       "      <td>NaN</td>\n",
       "      <td>NaN</td>\n",
       "    </tr>\n",
       "    <tr>\n",
       "      <th>2015-06-25</th>\n",
       "      <td>-0.010164</td>\n",
       "      <td>0.004076</td>\n",
       "      <td>-0.009414</td>\n",
       "      <td>0.006703</td>\n",
       "      <td>0.011179</td>\n",
       "    </tr>\n",
       "    <tr>\n",
       "      <th>2015-06-26</th>\n",
       "      <td>0.003034</td>\n",
       "      <td>-0.004929</td>\n",
       "      <td>0.042672</td>\n",
       "      <td>0.010172</td>\n",
       "      <td>-0.001658</td>\n",
       "    </tr>\n",
       "    <tr>\n",
       "      <th>2015-06-29</th>\n",
       "      <td>-0.027687</td>\n",
       "      <td>-0.033217</td>\n",
       "      <td>-0.018594</td>\n",
       "      <td>-0.019590</td>\n",
       "      <td>-0.009690</td>\n",
       "    </tr>\n",
       "    <tr>\n",
       "      <th>2015-06-30</th>\n",
       "      <td>0.004307</td>\n",
       "      <td>-0.002712</td>\n",
       "      <td>0.003251</td>\n",
       "      <td>0.001214</td>\n",
       "      <td>-0.006989</td>\n",
       "    </tr>\n",
       "  </tbody>\n",
       "</table>\n",
       "</div>"
      ],
      "text/plain": [
       "                  BK       LUV       NKE      SBUX         T\n",
       "date                                                        \n",
       "2015-06-24       NaN       NaN       NaN       NaN       NaN\n",
       "2015-06-25 -0.010164  0.004076 -0.009414  0.006703  0.011179\n",
       "2015-06-26  0.003034 -0.004929  0.042672  0.010172 -0.001658\n",
       "2015-06-29 -0.027687 -0.033217 -0.018594 -0.019590 -0.009690\n",
       "2015-06-30  0.004307 -0.002712  0.003251  0.001214 -0.006989"
      ]
     },
     "execution_count": 6,
     "metadata": {},
     "output_type": "execute_result"
    }
   ],
   "source": [
    "# Drop the five stocks with the highest volatility in daily returns\n",
    "daily_returns.drop(columns=['MU', 'WDC', 'JNJ', 'FANG', 'WRK'], inplace=True)\n",
    "daily_returns.head()"
   ]
  },
  {
   "cell_type": "markdown",
   "metadata": {},
   "source": [
    "### Set Portfolio Allocations/Weights and Calculate Portfolio Daily Returns"
   ]
  },
  {
   "cell_type": "code",
   "execution_count": 7,
   "metadata": {},
   "outputs": [
    {
     "data": {
      "text/plain": [
       "date\n",
       "2015-06-24         NaN\n",
       "2015-06-25    0.004668\n",
       "2015-06-26    0.005681\n",
       "2015-06-29   -0.016436\n",
       "2015-06-30   -0.002416\n",
       "dtype: float64"
      ]
     },
     "execution_count": 7,
     "metadata": {},
     "output_type": "execute_result"
    }
   ],
   "source": [
    "# Set weights for corresponding risk profile of stocks, use the `dot` function to multiply each weight by the corresponding stock daily return\n",
    "# BK, LUV, NKE, SBUX, T\n",
    "weights = [0.15, 0.05, 0.10, 0.20, 0.50]\n",
    "portfolio_returns = daily_returns.dot(weights)\n",
    "portfolio_returns.head()"
   ]
  },
  {
   "cell_type": "markdown",
   "metadata": {},
   "source": [
    "### Calculate Cumulative Returns"
   ]
  },
  {
   "cell_type": "code",
   "execution_count": 13,
   "metadata": {},
   "outputs": [
    {
     "data": {
      "text/plain": [
       "date\n",
       "2015-06-24         NaN\n",
       "2015-06-25    1.004668\n",
       "2015-06-26    1.010376\n",
       "2015-06-29    0.993769\n",
       "2015-06-30    0.991368\n",
       "dtype: float64"
      ]
     },
     "execution_count": 13,
     "metadata": {},
     "output_type": "execute_result"
    }
   ],
   "source": [
    "# Use the `cumprod` function to calculate cumulative returns\n",
    "cumulative_returns = (1 + portfolio_returns).cumprod() \n",
    "cumulative_returns.head()"
   ]
  },
  {
   "cell_type": "markdown",
   "metadata": {},
   "source": [
    "### Plot Return of Portfolio Starting with Initial Investment of `$10,000`"
   ]
  },
  {
   "cell_type": "code",
   "execution_count": 14,
   "metadata": {},
   "outputs": [
    {
     "data": {
      "text/plain": [
       "<matplotlib.axes._subplots.AxesSubplot at 0x11425f2e8>"
      ]
     },
     "execution_count": 14,
     "metadata": {},
     "output_type": "execute_result"
    },
    {
     "data": {
      "image/png": "[encoded data removed]",
      "text/plain": [
       "<Figure size 432x288 with 1 Axes>"
      ]
     },
     "metadata": {
      "needs_background": "light"
     },
     "output_type": "display_data"
    }
   ],
   "source": [
    "# Plot the returns of the portfolio in terms of money\n",
    "initial_investment = 10000\n",
    "cumulative_profit = initial_investment * cumulative_returns\n",
    "cumulative_profit.plot()"
   ]
  },
  {
   "cell_type": "code",
   "execution_count": 10,
   "metadata": {},
   "outputs": [
    {
     "data": {
      "text/plain": [
       "date\n",
       "2019-05-14    11323.129925\n",
       "2019-05-15    11363.320167\n",
       "2019-05-16    11474.996918\n",
       "2019-05-17    11491.066286\n",
       "2019-05-20    11465.985279\n",
       "dtype: float64"
      ]
     },
     "execution_count": 10,
     "metadata": {},
     "output_type": "execute_result"
    }
   ],
   "source": [
    "cumulative_profit.tail()"
   ]
  },
  {
   "cell_type": "code",
   "execution_count": null,
   "metadata": {},
   "outputs": [],
   "source": []
  }
 ],
 "metadata": {
  "kernelspec": {
   "display_name": "Python 3",
   "language": "python",
   "name": "python3"
  },
  "language_info": {
   "codemirror_mode": {
    "name": "ipython",
    "version": 3
   },
   "file_extension": ".py",
   "mimetype": "text/x-python",
   "name": "python",
   "nbconvert_exporter": "python",
   "pygments_lexer": "ipython3",
   "version": "3.7.1"
  }
 },
 "nbformat": 4,
 "nbformat_minor": 2
}
