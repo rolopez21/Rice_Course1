{
 "cells": [
  {
   "cell_type": "markdown",
   "metadata": {},
   "source": [
    "# Correlating Returns"
   ]
  },
  {
   "cell_type": "code",
   "execution_count": 1,
   "metadata": {},
   "outputs": [],
   "source": [
    "from iexfinance.stocks import Stock\n",
    "import pandas as pd\n",
    "from newsapi.newsapi_client import NewsApiClient\n",
    "from datetime import date, datetime, timedelta\n",
    "import os\n",
    "from nltk.sentiment.vader import SentimentIntensityAnalyzer\n",
    "\n"
   ]
  },
  {
   "cell_type": "code",
   "execution_count": 2,
   "metadata": {},
   "outputs": [],
   "source": [
    "newsapi = NewsApiClient(api_key=os.environ[\"NEWS_API_KEY\"])\n",
    "aapl = Stock(\"AAPL\", token=os.environ[\"IEX_API_SECRET\"])\n",
    "\n"
   ]
  },
  {
   "cell_type": "code",
   "execution_count": 3,
   "metadata": {},
   "outputs": [],
   "source": [
    "# Get current date and the date one month ago\n",
    "current_date = date.today()\n",
    "past_date = date.today() - timedelta(weeks=4)\n",
    "\n"
   ]
  },
  {
   "cell_type": "code",
   "execution_count": 4,
   "metadata": {},
   "outputs": [],
   "source": [
    "# Get AAPL returns for past month\n",
    "aapl_returns = pd.DataFrame(aapl.get_historical_prices())[\n",
    "    [\"date\", \"changePercent\"]\n",
    "].set_index(\"date\")\n",
    "\n"
   ]
  },
  {
   "cell_type": "code",
   "execution_count": 5,
   "metadata": {},
   "outputs": [],
   "source": [
    "# Use newsapi client to get most relevant 20 headlines per day in the past month\n",
    "def get_headlines(keyword):\n",
    "    all_headlines = []\n",
    "    all_dates = []\n",
    "    date = current_date\n",
    "    print(f\"Fetching news about '{keyword}'\")\n",
    "    print(\"*\" * 30)\n",
    "    while date > past_date:\n",
    "        print(f\"retrieving news from: {date}\")\n",
    "        articles = newsapi.get_everything(\n",
    "            q=keyword,\n",
    "            from_param=str(date),\n",
    "            to=str(date),\n",
    "            language=\"en\",\n",
    "            sort_by=\"relevancy\",\n",
    "            page=1,\n",
    "        )\n",
    "        headlines = []\n",
    "        for i in range(0, len(articles[\"articles\"])):\n",
    "            headlines.append(articles[\"articles\"][i][\"title\"])\n",
    "        all_headlines.append(headlines)\n",
    "        all_dates.append(date)\n",
    "        date = date - timedelta(days=1)\n",
    "    return all_headlines, all_dates\n",
    "\n"
   ]
  },
  {
   "cell_type": "code",
   "execution_count": 6,
   "metadata": {},
   "outputs": [
    {
     "name": "stdout",
     "output_type": "stream",
     "text": [
      "Fetching news about 'apple'\n",
      "******************************\n",
      "retrieving news from: 2019-10-07\n",
      "retrieving news from: 2019-10-06\n",
      "retrieving news from: 2019-10-05\n",
      "retrieving news from: 2019-10-04\n",
      "retrieving news from: 2019-10-03\n",
      "retrieving news from: 2019-10-02\n",
      "retrieving news from: 2019-10-01\n",
      "retrieving news from: 2019-09-30\n",
      "retrieving news from: 2019-09-29\n",
      "retrieving news from: 2019-09-28\n",
      "retrieving news from: 2019-09-27\n",
      "retrieving news from: 2019-09-26\n",
      "retrieving news from: 2019-09-25\n",
      "retrieving news from: 2019-09-24\n",
      "retrieving news from: 2019-09-23\n",
      "retrieving news from: 2019-09-22\n",
      "retrieving news from: 2019-09-21\n",
      "retrieving news from: 2019-09-20\n",
      "retrieving news from: 2019-09-19\n",
      "retrieving news from: 2019-09-18\n",
      "retrieving news from: 2019-09-17\n",
      "retrieving news from: 2019-09-16\n",
      "retrieving news from: 2019-09-15\n",
      "retrieving news from: 2019-09-14\n",
      "retrieving news from: 2019-09-13\n",
      "retrieving news from: 2019-09-12\n",
      "retrieving news from: 2019-09-11\n",
      "retrieving news from: 2019-09-10\n"
     ]
    }
   ],
   "source": [
    "aapl_headlines, dates = get_headlines(\"apple\")\n",
    "\n"
   ]
  },
  {
   "cell_type": "code",
   "execution_count": 7,
   "metadata": {},
   "outputs": [
    {
     "name": "stdout",
     "output_type": "stream",
     "text": [
      "Fetching news about 'trade'\n",
      "******************************\n",
      "retrieving news from: 2019-10-07\n",
      "retrieving news from: 2019-10-06\n",
      "retrieving news from: 2019-10-05\n",
      "retrieving news from: 2019-10-04\n",
      "retrieving news from: 2019-10-03\n",
      "retrieving news from: 2019-10-02\n",
      "retrieving news from: 2019-10-01\n",
      "retrieving news from: 2019-09-30\n",
      "retrieving news from: 2019-09-29\n",
      "retrieving news from: 2019-09-28\n",
      "retrieving news from: 2019-09-27\n",
      "retrieving news from: 2019-09-26\n",
      "retrieving news from: 2019-09-25\n",
      "retrieving news from: 2019-09-24\n",
      "retrieving news from: 2019-09-23\n",
      "retrieving news from: 2019-09-22\n",
      "retrieving news from: 2019-09-21\n",
      "retrieving news from: 2019-09-20\n",
      "retrieving news from: 2019-09-19\n",
      "retrieving news from: 2019-09-18\n",
      "retrieving news from: 2019-09-17\n",
      "retrieving news from: 2019-09-16\n",
      "retrieving news from: 2019-09-15\n",
      "retrieving news from: 2019-09-14\n",
      "retrieving news from: 2019-09-13\n",
      "retrieving news from: 2019-09-12\n",
      "retrieving news from: 2019-09-11\n",
      "retrieving news from: 2019-09-10\n"
     ]
    }
   ],
   "source": [
    "trade_headlines, _ = get_headlines(\"trade\")\n",
    "\n"
   ]
  },
  {
   "cell_type": "code",
   "execution_count": 8,
   "metadata": {},
   "outputs": [
    {
     "name": "stdout",
     "output_type": "stream",
     "text": [
      "Fetching news about 'economy'\n",
      "******************************\n",
      "retrieving news from: 2019-10-07\n",
      "retrieving news from: 2019-10-06\n",
      "retrieving news from: 2019-10-05\n",
      "retrieving news from: 2019-10-04\n",
      "retrieving news from: 2019-10-03\n",
      "retrieving news from: 2019-10-02\n",
      "retrieving news from: 2019-10-01\n",
      "retrieving news from: 2019-09-30\n",
      "retrieving news from: 2019-09-29\n",
      "retrieving news from: 2019-09-28\n",
      "retrieving news from: 2019-09-27\n",
      "retrieving news from: 2019-09-26\n",
      "retrieving news from: 2019-09-25\n",
      "retrieving news from: 2019-09-24\n",
      "retrieving news from: 2019-09-23\n",
      "retrieving news from: 2019-09-22\n",
      "retrieving news from: 2019-09-21\n",
      "retrieving news from: 2019-09-20\n",
      "retrieving news from: 2019-09-19\n",
      "retrieving news from: 2019-09-18\n",
      "retrieving news from: 2019-09-17\n",
      "retrieving news from: 2019-09-16\n",
      "retrieving news from: 2019-09-15\n",
      "retrieving news from: 2019-09-14\n",
      "retrieving news from: 2019-09-13\n",
      "retrieving news from: 2019-09-12\n",
      "retrieving news from: 2019-09-11\n",
      "retrieving news from: 2019-09-10\n"
     ]
    }
   ],
   "source": [
    "economy_headlines, _ = get_headlines(\"economy\")\n",
    "\n"
   ]
  },
  {
   "cell_type": "code",
   "execution_count": 9,
   "metadata": {},
   "outputs": [
    {
     "name": "stdout",
     "output_type": "stream",
     "text": [
      "Fetching news about 'iphone'\n",
      "******************************\n",
      "retrieving news from: 2019-10-07\n",
      "retrieving news from: 2019-10-06\n",
      "retrieving news from: 2019-10-05\n",
      "retrieving news from: 2019-10-04\n",
      "retrieving news from: 2019-10-03\n",
      "retrieving news from: 2019-10-02\n",
      "retrieving news from: 2019-10-01\n",
      "retrieving news from: 2019-09-30\n",
      "retrieving news from: 2019-09-29\n",
      "retrieving news from: 2019-09-28\n",
      "retrieving news from: 2019-09-27\n",
      "retrieving news from: 2019-09-26\n",
      "retrieving news from: 2019-09-25\n",
      "retrieving news from: 2019-09-24\n",
      "retrieving news from: 2019-09-23\n",
      "retrieving news from: 2019-09-22\n",
      "retrieving news from: 2019-09-21\n",
      "retrieving news from: 2019-09-20\n",
      "retrieving news from: 2019-09-19\n",
      "retrieving news from: 2019-09-18\n",
      "retrieving news from: 2019-09-17\n",
      "retrieving news from: 2019-09-16\n",
      "retrieving news from: 2019-09-15\n",
      "retrieving news from: 2019-09-14\n",
      "retrieving news from: 2019-09-13\n",
      "retrieving news from: 2019-09-12\n",
      "retrieving news from: 2019-09-11\n",
      "retrieving news from: 2019-09-10\n"
     ]
    }
   ],
   "source": [
    "iphone_headlines, _ = get_headlines(\"iphone\")\n",
    "\n"
   ]
  },
  {
   "cell_type": "code",
   "execution_count": 10,
   "metadata": {},
   "outputs": [
    {
     "name": "stdout",
     "output_type": "stream",
     "text": [
      "Fetching news about 'gold'\n",
      "******************************\n",
      "retrieving news from: 2019-10-07\n",
      "retrieving news from: 2019-10-06\n",
      "retrieving news from: 2019-10-05\n",
      "retrieving news from: 2019-10-04\n",
      "retrieving news from: 2019-10-03\n",
      "retrieving news from: 2019-10-02\n",
      "retrieving news from: 2019-10-01\n",
      "retrieving news from: 2019-09-30\n",
      "retrieving news from: 2019-09-29\n",
      "retrieving news from: 2019-09-28\n",
      "retrieving news from: 2019-09-27\n",
      "retrieving news from: 2019-09-26\n",
      "retrieving news from: 2019-09-25\n",
      "retrieving news from: 2019-09-24\n",
      "retrieving news from: 2019-09-23\n",
      "retrieving news from: 2019-09-22\n",
      "retrieving news from: 2019-09-21\n",
      "retrieving news from: 2019-09-20\n",
      "retrieving news from: 2019-09-19\n",
      "retrieving news from: 2019-09-18\n",
      "retrieving news from: 2019-09-17\n",
      "retrieving news from: 2019-09-16\n",
      "retrieving news from: 2019-09-15\n",
      "retrieving news from: 2019-09-14\n",
      "retrieving news from: 2019-09-13\n",
      "retrieving news from: 2019-09-12\n",
      "retrieving news from: 2019-09-11\n",
      "retrieving news from: 2019-09-10\n"
     ]
    }
   ],
   "source": [
    "gold_headlines, _ = get_headlines(\"gold\")\n",
    "\n"
   ]
  },
  {
   "cell_type": "code",
   "execution_count": 11,
   "metadata": {},
   "outputs": [],
   "source": [
    "sid = SentimentIntensityAnalyzer()\n",
    "\n"
   ]
  },
  {
   "cell_type": "code",
   "execution_count": 12,
   "metadata": {},
   "outputs": [],
   "source": [
    "# Create function that computes average compound sentiment of headlines for each day\n",
    "def headline_sentiment_summarizer_avg(headlines):\n",
    "    sentiment = []\n",
    "    for day in headlines:\n",
    "        day_score = []\n",
    "        for h in day:\n",
    "            if h == None:\n",
    "                continue\n",
    "            else:\n",
    "                day_score.append(sid.polarity_scores(h)[\"compound\"])\n",
    "        sentiment.append(sum(day_score) / len(day_score))\n",
    "    return sentiment\n",
    "\n"
   ]
  },
  {
   "cell_type": "code",
   "execution_count": 13,
   "metadata": {},
   "outputs": [],
   "source": [
    "aapl_avg = headline_sentiment_summarizer_avg(aapl_headlines)\n",
    "trade_avg = headline_sentiment_summarizer_avg(trade_headlines)\n",
    "economy_avg = headline_sentiment_summarizer_avg(economy_headlines)\n",
    "iphone_avg = headline_sentiment_summarizer_avg(iphone_headlines)\n",
    "gold_avg = headline_sentiment_summarizer_avg(gold_headlines)\n",
    "\n"
   ]
  },
  {
   "cell_type": "code",
   "execution_count": 14,
   "metadata": {},
   "outputs": [],
   "source": [
    "topic_sentiments = pd.DataFrame(\n",
    "    {\n",
    "        \"aapl_avg\": aapl_avg,\n",
    "        \"trade_avg\": trade_avg,\n",
    "        \"economy_avg\": economy_avg,\n",
    "        \"iphone_avg\": iphone_avg,\n",
    "        \"gold_avg\": gold_avg,\n",
    "    }\n",
    ")\n",
    "\n"
   ]
  },
  {
   "cell_type": "code",
   "execution_count": 15,
   "metadata": {},
   "outputs": [],
   "source": [
    "topic_sentiments.index = pd.to_datetime(dates)\n",
    "\n"
   ]
  },
  {
   "cell_type": "code",
   "execution_count": 16,
   "metadata": {},
   "outputs": [],
   "source": [
    "# merge with AAPL returns\n",
    "topic_sentiments = aapl_returns.join(topic_sentiments).dropna(how=\"any\")\n",
    "\n"
   ]
  },
  {
   "cell_type": "code",
   "execution_count": 17,
   "metadata": {},
   "outputs": [
    {
     "data": {
      "text/html": [
       "<style  type=\"text/css\" >\n",
       "    #T_cc309278_e919_11e9_9fbd_acde48001122row0_col0 {\n",
       "            background-color:  #023858;\n",
       "            color:  #f1f1f1;\n",
       "        }    #T_cc309278_e919_11e9_9fbd_acde48001122row0_col1 {\n",
       "            background-color:  #efe9f3;\n",
       "            color:  #000000;\n",
       "        }    #T_cc309278_e919_11e9_9fbd_acde48001122row0_col2 {\n",
       "            background-color:  #faf2f8;\n",
       "            color:  #000000;\n",
       "        }    #T_cc309278_e919_11e9_9fbd_acde48001122row0_col3 {\n",
       "            background-color:  #a1bbda;\n",
       "            color:  #000000;\n",
       "        }    #T_cc309278_e919_11e9_9fbd_acde48001122row0_col4 {\n",
       "            background-color:  #dedcec;\n",
       "            color:  #000000;\n",
       "        }    #T_cc309278_e919_11e9_9fbd_acde48001122row0_col5 {\n",
       "            background-color:  #b8c6e0;\n",
       "            color:  #000000;\n",
       "        }    #T_cc309278_e919_11e9_9fbd_acde48001122row1_col0 {\n",
       "            background-color:  #d4d4e8;\n",
       "            color:  #000000;\n",
       "        }    #T_cc309278_e919_11e9_9fbd_acde48001122row1_col1 {\n",
       "            background-color:  #023858;\n",
       "            color:  #f1f1f1;\n",
       "        }    #T_cc309278_e919_11e9_9fbd_acde48001122row1_col2 {\n",
       "            background-color:  #d9d8ea;\n",
       "            color:  #000000;\n",
       "        }    #T_cc309278_e919_11e9_9fbd_acde48001122row1_col3 {\n",
       "            background-color:  #e7e3f0;\n",
       "            color:  #000000;\n",
       "        }    #T_cc309278_e919_11e9_9fbd_acde48001122row1_col4 {\n",
       "            background-color:  #6ba5cd;\n",
       "            color:  #000000;\n",
       "        }    #T_cc309278_e919_11e9_9fbd_acde48001122row1_col5 {\n",
       "            background-color:  #fbf3f9;\n",
       "            color:  #000000;\n",
       "        }    #T_cc309278_e919_11e9_9fbd_acde48001122row2_col0 {\n",
       "            background-color:  #fff7fb;\n",
       "            color:  #000000;\n",
       "        }    #T_cc309278_e919_11e9_9fbd_acde48001122row2_col1 {\n",
       "            background-color:  #f8f1f8;\n",
       "            color:  #000000;\n",
       "        }    #T_cc309278_e919_11e9_9fbd_acde48001122row2_col2 {\n",
       "            background-color:  #023858;\n",
       "            color:  #f1f1f1;\n",
       "        }    #T_cc309278_e919_11e9_9fbd_acde48001122row2_col3 {\n",
       "            background-color:  #60a1ca;\n",
       "            color:  #000000;\n",
       "        }    #T_cc309278_e919_11e9_9fbd_acde48001122row2_col4 {\n",
       "            background-color:  #fff7fb;\n",
       "            color:  #000000;\n",
       "        }    #T_cc309278_e919_11e9_9fbd_acde48001122row2_col5 {\n",
       "            background-color:  #cacee5;\n",
       "            color:  #000000;\n",
       "        }    #T_cc309278_e919_11e9_9fbd_acde48001122row3_col0 {\n",
       "            background-color:  #88b1d4;\n",
       "            color:  #000000;\n",
       "        }    #T_cc309278_e919_11e9_9fbd_acde48001122row3_col1 {\n",
       "            background-color:  #eee9f3;\n",
       "            color:  #000000;\n",
       "        }    #T_cc309278_e919_11e9_9fbd_acde48001122row3_col2 {\n",
       "            background-color:  #4094c3;\n",
       "            color:  #000000;\n",
       "        }    #T_cc309278_e919_11e9_9fbd_acde48001122row3_col3 {\n",
       "            background-color:  #023858;\n",
       "            color:  #f1f1f1;\n",
       "        }    #T_cc309278_e919_11e9_9fbd_acde48001122row3_col4 {\n",
       "            background-color:  #eae6f1;\n",
       "            color:  #000000;\n",
       "        }    #T_cc309278_e919_11e9_9fbd_acde48001122row3_col5 {\n",
       "            background-color:  #86b0d3;\n",
       "            color:  #000000;\n",
       "        }    #T_cc309278_e919_11e9_9fbd_acde48001122row4_col0 {\n",
       "            background-color:  #e6e2ef;\n",
       "            color:  #000000;\n",
       "        }    #T_cc309278_e919_11e9_9fbd_acde48001122row4_col1 {\n",
       "            background-color:  #96b6d7;\n",
       "            color:  #000000;\n",
       "        }    #T_cc309278_e919_11e9_9fbd_acde48001122row4_col2 {\n",
       "            background-color:  #fff7fb;\n",
       "            color:  #000000;\n",
       "        }    #T_cc309278_e919_11e9_9fbd_acde48001122row4_col3 {\n",
       "            background-color:  #fff7fb;\n",
       "            color:  #000000;\n",
       "        }    #T_cc309278_e919_11e9_9fbd_acde48001122row4_col4 {\n",
       "            background-color:  #023858;\n",
       "            color:  #f1f1f1;\n",
       "        }    #T_cc309278_e919_11e9_9fbd_acde48001122row4_col5 {\n",
       "            background-color:  #fff7fb;\n",
       "            color:  #000000;\n",
       "        }    #T_cc309278_e919_11e9_9fbd_acde48001122row5_col0 {\n",
       "            background-color:  #9cb9d9;\n",
       "            color:  #000000;\n",
       "        }    #T_cc309278_e919_11e9_9fbd_acde48001122row5_col1 {\n",
       "            background-color:  #fff7fb;\n",
       "            color:  #000000;\n",
       "        }    #T_cc309278_e919_11e9_9fbd_acde48001122row5_col2 {\n",
       "            background-color:  #a5bddb;\n",
       "            color:  #000000;\n",
       "        }    #T_cc309278_e919_11e9_9fbd_acde48001122row5_col3 {\n",
       "            background-color:  #83afd3;\n",
       "            color:  #000000;\n",
       "        }    #T_cc309278_e919_11e9_9fbd_acde48001122row5_col4 {\n",
       "            background-color:  #e7e3f0;\n",
       "            color:  #000000;\n",
       "        }    #T_cc309278_e919_11e9_9fbd_acde48001122row5_col5 {\n",
       "            background-color:  #023858;\n",
       "            color:  #f1f1f1;\n",
       "        }</style><table id=\"T_cc309278_e919_11e9_9fbd_acde48001122\" ><thead>    <tr>        <th class=\"blank level0\" ></th>        <th class=\"col_heading level0 col0\" >changePercent</th>        <th class=\"col_heading level0 col1\" >aapl_avg</th>        <th class=\"col_heading level0 col2\" >trade_avg</th>        <th class=\"col_heading level0 col3\" >economy_avg</th>        <th class=\"col_heading level0 col4\" >iphone_avg</th>        <th class=\"col_heading level0 col5\" >gold_avg</th>    </tr></thead><tbody>\n",
       "                <tr>\n",
       "                        <th id=\"T_cc309278_e919_11e9_9fbd_acde48001122level0_row0\" class=\"row_heading level0 row0\" >changePercent</th>\n",
       "                        <td id=\"T_cc309278_e919_11e9_9fbd_acde48001122row0_col0\" class=\"data row0 col0\" >1</td>\n",
       "                        <td id=\"T_cc309278_e919_11e9_9fbd_acde48001122row0_col1\" class=\"data row0 col1\" >0.0912129</td>\n",
       "                        <td id=\"T_cc309278_e919_11e9_9fbd_acde48001122row0_col2\" class=\"data row0 col2\" >-0.186344</td>\n",
       "                        <td id=\"T_cc309278_e919_11e9_9fbd_acde48001122row0_col3\" class=\"data row0 col3\" >0.347815</td>\n",
       "                        <td id=\"T_cc309278_e919_11e9_9fbd_acde48001122row0_col4\" class=\"data row0 col4\" >-0.00232707</td>\n",
       "                        <td id=\"T_cc309278_e919_11e9_9fbd_acde48001122row0_col5\" class=\"data row0 col5\" >0.289405</td>\n",
       "            </tr>\n",
       "            <tr>\n",
       "                        <th id=\"T_cc309278_e919_11e9_9fbd_acde48001122level0_row1\" class=\"row_heading level0 row1\" >aapl_avg</th>\n",
       "                        <td id=\"T_cc309278_e919_11e9_9fbd_acde48001122row1_col0\" class=\"data row1 col0\" >0.0912129</td>\n",
       "                        <td id=\"T_cc309278_e919_11e9_9fbd_acde48001122row1_col1\" class=\"data row1 col1\" >1</td>\n",
       "                        <td id=\"T_cc309278_e919_11e9_9fbd_acde48001122row1_col2\" class=\"data row1 col2\" >0.0263632</td>\n",
       "                        <td id=\"T_cc309278_e919_11e9_9fbd_acde48001122row1_col3\" class=\"data row1 col3\" >0.0928824</td>\n",
       "                        <td id=\"T_cc309278_e919_11e9_9fbd_acde48001122row1_col4\" class=\"data row1 col4\" >0.405709</td>\n",
       "                        <td id=\"T_cc309278_e919_11e9_9fbd_acde48001122row1_col5\" class=\"data row1 col5\" >-0.0191869</td>\n",
       "            </tr>\n",
       "            <tr>\n",
       "                        <th id=\"T_cc309278_e919_11e9_9fbd_acde48001122level0_row2\" class=\"row_heading level0 row2\" >trade_avg</th>\n",
       "                        <td id=\"T_cc309278_e919_11e9_9fbd_acde48001122row2_col0\" class=\"data row2 col0\" >-0.186344</td>\n",
       "                        <td id=\"T_cc309278_e919_11e9_9fbd_acde48001122row2_col1\" class=\"data row2 col1\" >0.0263632</td>\n",
       "                        <td id=\"T_cc309278_e919_11e9_9fbd_acde48001122row2_col2\" class=\"data row2 col2\" >1</td>\n",
       "                        <td id=\"T_cc309278_e919_11e9_9fbd_acde48001122row2_col3\" class=\"data row2 col3\" >0.510172</td>\n",
       "                        <td id=\"T_cc309278_e919_11e9_9fbd_acde48001122row2_col4\" class=\"data row2 col4\" >-0.233836</td>\n",
       "                        <td id=\"T_cc309278_e919_11e9_9fbd_acde48001122row2_col5\" class=\"data row2 col5\" >0.231946</td>\n",
       "            </tr>\n",
       "            <tr>\n",
       "                        <th id=\"T_cc309278_e919_11e9_9fbd_acde48001122level0_row3\" class=\"row_heading level0 row3\" >economy_avg</th>\n",
       "                        <td id=\"T_cc309278_e919_11e9_9fbd_acde48001122row3_col0\" class=\"data row3 col0\" >0.347815</td>\n",
       "                        <td id=\"T_cc309278_e919_11e9_9fbd_acde48001122row3_col1\" class=\"data row3 col1\" >0.0928824</td>\n",
       "                        <td id=\"T_cc309278_e919_11e9_9fbd_acde48001122row3_col2\" class=\"data row3 col2\" >0.510172</td>\n",
       "                        <td id=\"T_cc309278_e919_11e9_9fbd_acde48001122row3_col3\" class=\"data row3 col3\" >1</td>\n",
       "                        <td id=\"T_cc309278_e919_11e9_9fbd_acde48001122row3_col4\" class=\"data row3 col4\" >-0.0679223</td>\n",
       "                        <td id=\"T_cc309278_e919_11e9_9fbd_acde48001122row3_col5\" class=\"data row3 col5\" >0.426399</td>\n",
       "            </tr>\n",
       "            <tr>\n",
       "                        <th id=\"T_cc309278_e919_11e9_9fbd_acde48001122level0_row4\" class=\"row_heading level0 row4\" >iphone_avg</th>\n",
       "                        <td id=\"T_cc309278_e919_11e9_9fbd_acde48001122row4_col0\" class=\"data row4 col0\" >-0.00232707</td>\n",
       "                        <td id=\"T_cc309278_e919_11e9_9fbd_acde48001122row4_col1\" class=\"data row4 col1\" >0.405709</td>\n",
       "                        <td id=\"T_cc309278_e919_11e9_9fbd_acde48001122row4_col2\" class=\"data row4 col2\" >-0.233836</td>\n",
       "                        <td id=\"T_cc309278_e919_11e9_9fbd_acde48001122row4_col3\" class=\"data row4 col3\" >-0.0679223</td>\n",
       "                        <td id=\"T_cc309278_e919_11e9_9fbd_acde48001122row4_col4\" class=\"data row4 col4\" >1</td>\n",
       "                        <td id=\"T_cc309278_e919_11e9_9fbd_acde48001122row4_col5\" class=\"data row4 col5\" >-0.0499534</td>\n",
       "            </tr>\n",
       "            <tr>\n",
       "                        <th id=\"T_cc309278_e919_11e9_9fbd_acde48001122level0_row5\" class=\"row_heading level0 row5\" >gold_avg</th>\n",
       "                        <td id=\"T_cc309278_e919_11e9_9fbd_acde48001122row5_col0\" class=\"data row5 col0\" >0.289405</td>\n",
       "                        <td id=\"T_cc309278_e919_11e9_9fbd_acde48001122row5_col1\" class=\"data row5 col1\" >-0.0191869</td>\n",
       "                        <td id=\"T_cc309278_e919_11e9_9fbd_acde48001122row5_col2\" class=\"data row5 col2\" >0.231946</td>\n",
       "                        <td id=\"T_cc309278_e919_11e9_9fbd_acde48001122row5_col3\" class=\"data row5 col3\" >0.426399</td>\n",
       "                        <td id=\"T_cc309278_e919_11e9_9fbd_acde48001122row5_col4\" class=\"data row5 col4\" >-0.0499534</td>\n",
       "                        <td id=\"T_cc309278_e919_11e9_9fbd_acde48001122row5_col5\" class=\"data row5 col5\" >1</td>\n",
       "            </tr>\n",
       "    </tbody></table>"
      ],
      "text/plain": [
       "<pandas.io.formats.style.Styler at 0x1a22962c50>"
      ]
     },
     "execution_count": 17,
     "metadata": {},
     "output_type": "execute_result"
    }
   ],
   "source": [
    "topic_sentiments.corr().style.background_gradient()\n",
    "\n"
   ]
  }
 ],
 "metadata": {
  "file_extension": ".py",
  "kernelspec": {
   "display_name": "Python 3",
   "language": "python",
   "name": "python3"
  },
  "language_info": {
   "codemirror_mode": {
    "name": "ipython",
    "version": 3
   },
   "file_extension": ".py",
   "mimetype": "text/x-python",
   "name": "python",
   "nbconvert_exporter": "python",
   "pygments_lexer": "ipython3",
   "version": "3.7.1"
  },
  "mimetype": "text/x-python",
  "name": "python",
  "npconvert_exporter": "python",
  "pygments_lexer": "ipython3",
  "version": 3
 },
 "nbformat": 4,
 "nbformat_minor": 4
}
