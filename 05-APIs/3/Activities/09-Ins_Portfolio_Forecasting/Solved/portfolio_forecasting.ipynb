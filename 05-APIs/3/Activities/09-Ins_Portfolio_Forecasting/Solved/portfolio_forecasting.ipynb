{
 "cells": [
  {
   "cell_type": "markdown",
   "metadata": {},
   "source": [
    "### Instructor Demo: Stock Portfolio Forecasting\n",
    "\n",
    "This program executes `1000` simulations of stock price trajectory for `JNJ` and `MU` over the next `252` trading days (or year of trading), based on a normal probability distribution of potential daily returns derived from the corresponding sample means and standard deviations. Daily and cumulative portfolio returns are then calculated, using `60%` of capital allocated to `JNJ` and `40%` of capital allocated to `MU`, to analyze the probability distribution and confidence interval of potential ending cumulative portfolio returns."
   ]
  },
  {
   "cell_type": "code",
   "execution_count": 1,
   "metadata": {},
   "outputs": [],
   "source": [
    "# Import libraries and dependencies\n",
    "import numpy as np\n",
    "import pandas as pd\n",
    "from datetime import datetime, timedelta\n",
    "from iexfinance.stocks import get_historical_data\n",
    "from iexfinance.refdata import get_symbols\n",
    "import matplotlib.pyplot as plt\n",
    "%matplotlib inline"
   ]
  },
  {
   "cell_type": "markdown",
   "metadata": {},
   "source": [
    "### Check Available Tickers from IEX Cloud API"
   ]
  },
  {
   "cell_type": "code",
   "execution_count": 2,
   "metadata": {
    "collapsed": false,
    "inputHidden": false,
    "outputHidden": false
   },
   "outputs": [
    {
     "data": {
      "text/html": [
       "<div>\n",
       "<style scoped>\n",
       "    .dataframe tbody tr th:only-of-type {\n",
       "        vertical-align: middle;\n",
       "    }\n",
       "\n",
       "    .dataframe tbody tr th {\n",
       "        vertical-align: top;\n",
       "    }\n",
       "\n",
       "    .dataframe thead th {\n",
       "        text-align: right;\n",
       "    }\n",
       "</style>\n",
       "<table border=\"1\" class=\"dataframe\">\n",
       "  <thead>\n",
       "    <tr style=\"text-align: right;\">\n",
       "      <th></th>\n",
       "      <th>currency</th>\n",
       "      <th>date</th>\n",
       "      <th>exchange</th>\n",
       "      <th>iexId</th>\n",
       "      <th>isEnabled</th>\n",
       "      <th>name</th>\n",
       "      <th>region</th>\n",
       "      <th>symbol</th>\n",
       "      <th>type</th>\n",
       "    </tr>\n",
       "  </thead>\n",
       "  <tbody>\n",
       "    <tr>\n",
       "      <th>0</th>\n",
       "      <td>USD</td>\n",
       "      <td>2019-08-24</td>\n",
       "      <td>NYS</td>\n",
       "      <td>IEX_46574843354B2D52</td>\n",
       "      <td>True</td>\n",
       "      <td>Agilent Technologies Inc.</td>\n",
       "      <td>US</td>\n",
       "      <td>A</td>\n",
       "      <td>cs</td>\n",
       "    </tr>\n",
       "    <tr>\n",
       "      <th>1</th>\n",
       "      <td>USD</td>\n",
       "      <td>2019-08-24</td>\n",
       "      <td>NYS</td>\n",
       "      <td>IEX_4238333734532D52</td>\n",
       "      <td>True</td>\n",
       "      <td>Alcoa Corp.</td>\n",
       "      <td>US</td>\n",
       "      <td>AA</td>\n",
       "      <td>cs</td>\n",
       "    </tr>\n",
       "    <tr>\n",
       "      <th>2</th>\n",
       "      <td>USD</td>\n",
       "      <td>2019-08-24</td>\n",
       "      <td>PSE</td>\n",
       "      <td>IEX_474B433136332D52</td>\n",
       "      <td>True</td>\n",
       "      <td>Perth Mint Physical Gold ETF</td>\n",
       "      <td>US</td>\n",
       "      <td>AAAU</td>\n",
       "      <td>et</td>\n",
       "    </tr>\n",
       "    <tr>\n",
       "      <th>3</th>\n",
       "      <td>USD</td>\n",
       "      <td>2019-08-24</td>\n",
       "      <td>NAS</td>\n",
       "      <td>IEX_4E5434354A302D52</td>\n",
       "      <td>True</td>\n",
       "      <td>Altaba Inc.</td>\n",
       "      <td>US</td>\n",
       "      <td>AABA</td>\n",
       "      <td>cef</td>\n",
       "    </tr>\n",
       "    <tr>\n",
       "      <th>4</th>\n",
       "      <td>USD</td>\n",
       "      <td>2019-08-24</td>\n",
       "      <td>NYS</td>\n",
       "      <td>IEX_4843364642592D52</td>\n",
       "      <td>True</td>\n",
       "      <td>AAC Holdings Inc.</td>\n",
       "      <td>US</td>\n",
       "      <td>AAC</td>\n",
       "      <td>cs</td>\n",
       "    </tr>\n",
       "  </tbody>\n",
       "</table>\n",
       "</div>"
      ],
      "text/plain": [
       "  currency        date exchange                 iexId  isEnabled  \\\n",
       "0      USD  2019-08-24      NYS  IEX_46574843354B2D52       True   \n",
       "1      USD  2019-08-24      NYS  IEX_4238333734532D52       True   \n",
       "2      USD  2019-08-24      PSE  IEX_474B433136332D52       True   \n",
       "3      USD  2019-08-24      NAS  IEX_4E5434354A302D52       True   \n",
       "4      USD  2019-08-24      NYS  IEX_4843364642592D52       True   \n",
       "\n",
       "                           name region symbol type  \n",
       "0     Agilent Technologies Inc.     US      A   cs  \n",
       "1                   Alcoa Corp.     US     AA   cs  \n",
       "2  Perth Mint Physical Gold ETF     US   AAAU   et  \n",
       "3                   Altaba Inc.     US   AABA  cef  \n",
       "4             AAC Holdings Inc.     US    AAC   cs  "
      ]
     },
     "execution_count": 2,
     "metadata": {},
     "output_type": "execute_result"
    }
   ],
   "source": [
    "# Return available tickers from API\n",
    "tickers=pd.DataFrame(get_symbols())\n",
    "tickers.head()"
   ]
  },
  {
   "cell_type": "markdown",
   "metadata": {},
   "source": [
    "### Get 1 Year's Worth of Data via API Call and Read in as DataFrame "
   ]
  },
  {
   "cell_type": "code",
   "execution_count": 3,
   "metadata": {},
   "outputs": [
    {
     "data": {
      "text/html": [
       "<div>\n",
       "<style scoped>\n",
       "    .dataframe tbody tr th:only-of-type {\n",
       "        vertical-align: middle;\n",
       "    }\n",
       "\n",
       "    .dataframe tbody tr th {\n",
       "        vertical-align: top;\n",
       "    }\n",
       "\n",
       "    .dataframe thead tr th {\n",
       "        text-align: left;\n",
       "    }\n",
       "\n",
       "    .dataframe thead tr:last-of-type th {\n",
       "        text-align: right;\n",
       "    }\n",
       "</style>\n",
       "<table border=\"1\" class=\"dataframe\">\n",
       "  <thead>\n",
       "    <tr>\n",
       "      <th></th>\n",
       "      <th colspan=\"5\" halign=\"left\">JNJ</th>\n",
       "      <th colspan=\"5\" halign=\"left\">MU</th>\n",
       "    </tr>\n",
       "    <tr>\n",
       "      <th></th>\n",
       "      <th>open</th>\n",
       "      <th>high</th>\n",
       "      <th>low</th>\n",
       "      <th>close</th>\n",
       "      <th>volume</th>\n",
       "      <th>open</th>\n",
       "      <th>high</th>\n",
       "      <th>low</th>\n",
       "      <th>close</th>\n",
       "      <th>volume</th>\n",
       "    </tr>\n",
       "    <tr>\n",
       "      <th>date</th>\n",
       "      <th></th>\n",
       "      <th></th>\n",
       "      <th></th>\n",
       "      <th></th>\n",
       "      <th></th>\n",
       "      <th></th>\n",
       "      <th></th>\n",
       "      <th></th>\n",
       "      <th></th>\n",
       "      <th></th>\n",
       "    </tr>\n",
       "  </thead>\n",
       "  <tbody>\n",
       "    <tr>\n",
       "      <th>2018-08-24</th>\n",
       "      <td>135.11</td>\n",
       "      <td>136.15</td>\n",
       "      <td>134.83</td>\n",
       "      <td>135.95</td>\n",
       "      <td>4809565</td>\n",
       "      <td>49.92</td>\n",
       "      <td>50.82</td>\n",
       "      <td>49.92</td>\n",
       "      <td>50.70</td>\n",
       "      <td>24785525</td>\n",
       "    </tr>\n",
       "    <tr>\n",
       "      <th>2018-08-27</th>\n",
       "      <td>135.50</td>\n",
       "      <td>136.05</td>\n",
       "      <td>134.21</td>\n",
       "      <td>134.92</td>\n",
       "      <td>4325878</td>\n",
       "      <td>51.35</td>\n",
       "      <td>52.45</td>\n",
       "      <td>51.17</td>\n",
       "      <td>52.07</td>\n",
       "      <td>29134051</td>\n",
       "    </tr>\n",
       "    <tr>\n",
       "      <th>2018-08-28</th>\n",
       "      <td>134.78</td>\n",
       "      <td>134.90</td>\n",
       "      <td>133.89</td>\n",
       "      <td>134.32</td>\n",
       "      <td>6037517</td>\n",
       "      <td>52.42</td>\n",
       "      <td>52.56</td>\n",
       "      <td>51.47</td>\n",
       "      <td>52.34</td>\n",
       "      <td>26198827</td>\n",
       "    </tr>\n",
       "    <tr>\n",
       "      <th>2018-08-29</th>\n",
       "      <td>134.32</td>\n",
       "      <td>134.94</td>\n",
       "      <td>133.94</td>\n",
       "      <td>134.86</td>\n",
       "      <td>4648795</td>\n",
       "      <td>52.09</td>\n",
       "      <td>52.16</td>\n",
       "      <td>51.30</td>\n",
       "      <td>51.83</td>\n",
       "      <td>31450783</td>\n",
       "    </tr>\n",
       "    <tr>\n",
       "      <th>2018-08-30</th>\n",
       "      <td>134.70</td>\n",
       "      <td>135.60</td>\n",
       "      <td>134.60</td>\n",
       "      <td>134.95</td>\n",
       "      <td>4822040</td>\n",
       "      <td>51.56</td>\n",
       "      <td>53.68</td>\n",
       "      <td>51.40</td>\n",
       "      <td>52.76</td>\n",
       "      <td>32416605</td>\n",
       "    </tr>\n",
       "  </tbody>\n",
       "</table>\n",
       "</div>"
      ],
      "text/plain": [
       "               JNJ                                      MU                \\\n",
       "              open    high     low   close   volume   open   high    low   \n",
       "date                                                                       \n",
       "2018-08-24  135.11  136.15  134.83  135.95  4809565  49.92  50.82  49.92   \n",
       "2018-08-27  135.50  136.05  134.21  134.92  4325878  51.35  52.45  51.17   \n",
       "2018-08-28  134.78  134.90  133.89  134.32  6037517  52.42  52.56  51.47   \n",
       "2018-08-29  134.32  134.94  133.94  134.86  4648795  52.09  52.16  51.30   \n",
       "2018-08-30  134.70  135.60  134.60  134.95  4822040  51.56  53.68  51.40   \n",
       "\n",
       "                             \n",
       "            close    volume  \n",
       "date                         \n",
       "2018-08-24  50.70  24785525  \n",
       "2018-08-27  52.07  29134051  \n",
       "2018-08-28  52.34  26198827  \n",
       "2018-08-29  51.83  31450783  \n",
       "2018-08-30  52.76  32416605  "
      ]
     },
     "execution_count": 3,
     "metadata": {},
     "output_type": "execute_result"
    }
   ],
   "source": [
    "# Set the list of tickers\n",
    "tickers = [\"JNJ\", \"MU\"]\n",
    "\n",
    "# Set start and end datetimes of 1 year, between now and 365 days ago.\n",
    "end_date = datetime.now()\n",
    "start_date = end_date + timedelta(-365)\n",
    "\n",
    "# Get 1 year's worth of historical data for AAPL\n",
    "df = get_historical_data(tickers, start_date, end_date,  output_format='pandas')\n",
    "df.head()"
   ]
  },
  {
   "cell_type": "markdown",
   "metadata": {},
   "source": [
    "### Drop Extraneous Columns"
   ]
  },
  {
   "cell_type": "code",
   "execution_count": 5,
   "metadata": {},
   "outputs": [
    {
     "data": {
      "text/html": [
       "<div>\n",
       "<style scoped>\n",
       "    .dataframe tbody tr th:only-of-type {\n",
       "        vertical-align: middle;\n",
       "    }\n",
       "\n",
       "    .dataframe tbody tr th {\n",
       "        vertical-align: top;\n",
       "    }\n",
       "\n",
       "    .dataframe thead tr th {\n",
       "        text-align: left;\n",
       "    }\n",
       "\n",
       "    .dataframe thead tr:last-of-type th {\n",
       "        text-align: right;\n",
       "    }\n",
       "</style>\n",
       "<table border=\"1\" class=\"dataframe\">\n",
       "  <thead>\n",
       "    <tr>\n",
       "      <th></th>\n",
       "      <th>JNJ</th>\n",
       "      <th>MU</th>\n",
       "    </tr>\n",
       "    <tr>\n",
       "      <th></th>\n",
       "      <th>close</th>\n",
       "      <th>close</th>\n",
       "    </tr>\n",
       "    <tr>\n",
       "      <th>date</th>\n",
       "      <th></th>\n",
       "      <th></th>\n",
       "    </tr>\n",
       "  </thead>\n",
       "  <tbody>\n",
       "    <tr>\n",
       "      <th>2018-08-24</th>\n",
       "      <td>135.95</td>\n",
       "      <td>50.70</td>\n",
       "    </tr>\n",
       "    <tr>\n",
       "      <th>2018-08-27</th>\n",
       "      <td>134.92</td>\n",
       "      <td>52.07</td>\n",
       "    </tr>\n",
       "    <tr>\n",
       "      <th>2018-08-28</th>\n",
       "      <td>134.32</td>\n",
       "      <td>52.34</td>\n",
       "    </tr>\n",
       "    <tr>\n",
       "      <th>2018-08-29</th>\n",
       "      <td>134.86</td>\n",
       "      <td>51.83</td>\n",
       "    </tr>\n",
       "    <tr>\n",
       "      <th>2018-08-30</th>\n",
       "      <td>134.95</td>\n",
       "      <td>52.76</td>\n",
       "    </tr>\n",
       "  </tbody>\n",
       "</table>\n",
       "</div>"
      ],
      "text/plain": [
       "               JNJ     MU\n",
       "             close  close\n",
       "date                     \n",
       "2018-08-24  135.95  50.70\n",
       "2018-08-27  134.92  52.07\n",
       "2018-08-28  134.32  52.34\n",
       "2018-08-29  134.86  51.83\n",
       "2018-08-30  134.95  52.76"
      ]
     },
     "execution_count": 5,
     "metadata": {},
     "output_type": "execute_result"
    }
   ],
   "source": [
    "# Use the `drop` function with the `level` parameter to drop extra columns in the multi-index DataFrame\n",
    "df.drop(columns=['open', 'high', 'low', 'volume'], level=1, inplace=True)\n",
    "df.head()"
   ]
  },
  {
   "cell_type": "markdown",
   "metadata": {},
   "source": [
    "### Calculate Daily Returns"
   ]
  },
  {
   "cell_type": "code",
   "execution_count": 6,
   "metadata": {},
   "outputs": [
    {
     "data": {
      "text/html": [
       "<div>\n",
       "<style scoped>\n",
       "    .dataframe tbody tr th:only-of-type {\n",
       "        vertical-align: middle;\n",
       "    }\n",
       "\n",
       "    .dataframe tbody tr th {\n",
       "        vertical-align: top;\n",
       "    }\n",
       "\n",
       "    .dataframe thead tr th {\n",
       "        text-align: left;\n",
       "    }\n",
       "\n",
       "    .dataframe thead tr:last-of-type th {\n",
       "        text-align: right;\n",
       "    }\n",
       "</style>\n",
       "<table border=\"1\" class=\"dataframe\">\n",
       "  <thead>\n",
       "    <tr>\n",
       "      <th></th>\n",
       "      <th>JNJ</th>\n",
       "      <th>MU</th>\n",
       "    </tr>\n",
       "    <tr>\n",
       "      <th></th>\n",
       "      <th>close</th>\n",
       "      <th>close</th>\n",
       "    </tr>\n",
       "    <tr>\n",
       "      <th>date</th>\n",
       "      <th></th>\n",
       "      <th></th>\n",
       "    </tr>\n",
       "  </thead>\n",
       "  <tbody>\n",
       "    <tr>\n",
       "      <th>2018-08-24</th>\n",
       "      <td>NaN</td>\n",
       "      <td>NaN</td>\n",
       "    </tr>\n",
       "    <tr>\n",
       "      <th>2018-08-27</th>\n",
       "      <td>-0.007576</td>\n",
       "      <td>0.027022</td>\n",
       "    </tr>\n",
       "    <tr>\n",
       "      <th>2018-08-28</th>\n",
       "      <td>-0.004447</td>\n",
       "      <td>0.005185</td>\n",
       "    </tr>\n",
       "    <tr>\n",
       "      <th>2018-08-29</th>\n",
       "      <td>0.004020</td>\n",
       "      <td>-0.009744</td>\n",
       "    </tr>\n",
       "    <tr>\n",
       "      <th>2018-08-30</th>\n",
       "      <td>0.000667</td>\n",
       "      <td>0.017943</td>\n",
       "    </tr>\n",
       "  </tbody>\n",
       "</table>\n",
       "</div>"
      ],
      "text/plain": [
       "                 JNJ        MU\n",
       "               close     close\n",
       "date                          \n",
       "2018-08-24       NaN       NaN\n",
       "2018-08-27 -0.007576  0.027022\n",
       "2018-08-28 -0.004447  0.005185\n",
       "2018-08-29  0.004020 -0.009744\n",
       "2018-08-30  0.000667  0.017943"
      ]
     },
     "execution_count": 6,
     "metadata": {},
     "output_type": "execute_result"
    }
   ],
   "source": [
    "# Use the `pct_change` function to calculate daily returns of `JNJ` and `MU`.\n",
    "daily_returns = df.pct_change()\n",
    "daily_returns.head()"
   ]
  },
  {
   "cell_type": "markdown",
   "metadata": {},
   "source": [
    "### Calculate Value of Average Daily Returns"
   ]
  },
  {
   "cell_type": "code",
   "execution_count": 7,
   "metadata": {},
   "outputs": [
    {
     "data": {
      "text/plain": [
       "-0.00020375937265484012"
      ]
     },
     "execution_count": 7,
     "metadata": {},
     "output_type": "execute_result"
    }
   ],
   "source": [
    "# Use the `mean` function to calculate the mean of daily returns for `JNJ` and `MU`, respectively\n",
    "avg_daily_return_jnj = daily_returns.mean()['JNJ']['close']\n",
    "avg_daily_return_mu = daily_returns.mean()['MU']['close']\n",
    "avg_daily_return_mu"
   ]
  },
  {
   "cell_type": "markdown",
   "metadata": {},
   "source": [
    "### Calculate Value of Standard Deviation of Daily Returns"
   ]
  },
  {
   "cell_type": "code",
   "execution_count": 9,
   "metadata": {},
   "outputs": [
    {
     "data": {
      "text/plain": [
       "0.03038635504522042"
      ]
     },
     "execution_count": 9,
     "metadata": {},
     "output_type": "execute_result"
    }
   ],
   "source": [
    "# Use the `std` function to calculate the standard deviation of daily returns for `JNJ` and `MU`, respectively\n",
    "std_dev_daily_return_jnj = daily_returns.std()['JNJ']['close']\n",
    "std_dev_daily_return_mu = daily_returns.std()['MU']['close']\n",
    "std_dev_daily_return_mu"
   ]
  },
  {
   "cell_type": "markdown",
   "metadata": {},
   "source": [
    "### Run the Monte Carlo Simulation and Save Results to DataFrame"
   ]
  },
  {
   "cell_type": "code",
   "execution_count": 10,
   "metadata": {},
   "outputs": [
    {
     "data": {
      "text/html": [
       "<div>\n",
       "<style scoped>\n",
       "    .dataframe tbody tr th:only-of-type {\n",
       "        vertical-align: middle;\n",
       "    }\n",
       "\n",
       "    .dataframe tbody tr th {\n",
       "        vertical-align: top;\n",
       "    }\n",
       "\n",
       "    .dataframe thead th {\n",
       "        text-align: right;\n",
       "    }\n",
       "</style>\n",
       "<table border=\"1\" class=\"dataframe\">\n",
       "  <thead>\n",
       "    <tr style=\"text-align: right;\">\n",
       "      <th></th>\n",
       "      <th>0</th>\n",
       "      <th>1</th>\n",
       "      <th>2</th>\n",
       "      <th>3</th>\n",
       "      <th>4</th>\n",
       "      <th>5</th>\n",
       "      <th>6</th>\n",
       "      <th>7</th>\n",
       "      <th>8</th>\n",
       "      <th>9</th>\n",
       "      <th>...</th>\n",
       "      <th>990</th>\n",
       "      <th>991</th>\n",
       "      <th>992</th>\n",
       "      <th>993</th>\n",
       "      <th>994</th>\n",
       "      <th>995</th>\n",
       "      <th>996</th>\n",
       "      <th>997</th>\n",
       "      <th>998</th>\n",
       "      <th>999</th>\n",
       "    </tr>\n",
       "  </thead>\n",
       "  <tbody>\n",
       "    <tr>\n",
       "      <th>0</th>\n",
       "      <td>1.000000</td>\n",
       "      <td>1.000000</td>\n",
       "      <td>1.000000</td>\n",
       "      <td>1.000000</td>\n",
       "      <td>1.000000</td>\n",
       "      <td>1.000000</td>\n",
       "      <td>1.000000</td>\n",
       "      <td>1.000000</td>\n",
       "      <td>1.000000</td>\n",
       "      <td>1.000000</td>\n",
       "      <td>...</td>\n",
       "      <td>1.000000</td>\n",
       "      <td>1.000000</td>\n",
       "      <td>1.000000</td>\n",
       "      <td>1.000000</td>\n",
       "      <td>1.000000</td>\n",
       "      <td>1.000000</td>\n",
       "      <td>1.000000</td>\n",
       "      <td>1.000000</td>\n",
       "      <td>1.000000</td>\n",
       "      <td>1.000000</td>\n",
       "    </tr>\n",
       "    <tr>\n",
       "      <th>1</th>\n",
       "      <td>0.977632</td>\n",
       "      <td>1.012406</td>\n",
       "      <td>0.997878</td>\n",
       "      <td>1.019921</td>\n",
       "      <td>1.010549</td>\n",
       "      <td>1.028372</td>\n",
       "      <td>1.003039</td>\n",
       "      <td>0.993129</td>\n",
       "      <td>1.001706</td>\n",
       "      <td>1.005817</td>\n",
       "      <td>...</td>\n",
       "      <td>0.989827</td>\n",
       "      <td>0.989375</td>\n",
       "      <td>1.012891</td>\n",
       "      <td>0.986708</td>\n",
       "      <td>1.006824</td>\n",
       "      <td>1.004260</td>\n",
       "      <td>0.959292</td>\n",
       "      <td>1.009977</td>\n",
       "      <td>1.034140</td>\n",
       "      <td>0.997982</td>\n",
       "    </tr>\n",
       "    <tr>\n",
       "      <th>2</th>\n",
       "      <td>0.969081</td>\n",
       "      <td>1.022376</td>\n",
       "      <td>1.019304</td>\n",
       "      <td>1.008208</td>\n",
       "      <td>1.014895</td>\n",
       "      <td>1.043378</td>\n",
       "      <td>0.996477</td>\n",
       "      <td>1.007949</td>\n",
       "      <td>0.990332</td>\n",
       "      <td>0.992067</td>\n",
       "      <td>...</td>\n",
       "      <td>0.997549</td>\n",
       "      <td>0.976717</td>\n",
       "      <td>1.014919</td>\n",
       "      <td>0.979443</td>\n",
       "      <td>1.032702</td>\n",
       "      <td>1.036002</td>\n",
       "      <td>0.960965</td>\n",
       "      <td>0.990371</td>\n",
       "      <td>1.031001</td>\n",
       "      <td>0.980653</td>\n",
       "    </tr>\n",
       "    <tr>\n",
       "      <th>3</th>\n",
       "      <td>0.990891</td>\n",
       "      <td>1.011040</td>\n",
       "      <td>1.023441</td>\n",
       "      <td>0.980454</td>\n",
       "      <td>1.051321</td>\n",
       "      <td>1.050026</td>\n",
       "      <td>1.005025</td>\n",
       "      <td>1.024598</td>\n",
       "      <td>0.997824</td>\n",
       "      <td>0.991672</td>\n",
       "      <td>...</td>\n",
       "      <td>0.987586</td>\n",
       "      <td>0.971376</td>\n",
       "      <td>1.026910</td>\n",
       "      <td>0.998085</td>\n",
       "      <td>1.037389</td>\n",
       "      <td>1.044444</td>\n",
       "      <td>0.975436</td>\n",
       "      <td>0.997426</td>\n",
       "      <td>1.025703</td>\n",
       "      <td>0.979045</td>\n",
       "    </tr>\n",
       "    <tr>\n",
       "      <th>4</th>\n",
       "      <td>0.989962</td>\n",
       "      <td>0.987962</td>\n",
       "      <td>1.021535</td>\n",
       "      <td>0.968359</td>\n",
       "      <td>1.040851</td>\n",
       "      <td>1.047811</td>\n",
       "      <td>0.983892</td>\n",
       "      <td>1.015039</td>\n",
       "      <td>1.002174</td>\n",
       "      <td>1.015039</td>\n",
       "      <td>...</td>\n",
       "      <td>0.998472</td>\n",
       "      <td>0.976481</td>\n",
       "      <td>1.013124</td>\n",
       "      <td>0.997858</td>\n",
       "      <td>1.047375</td>\n",
       "      <td>1.035255</td>\n",
       "      <td>0.977306</td>\n",
       "      <td>0.988911</td>\n",
       "      <td>1.024404</td>\n",
       "      <td>0.962899</td>\n",
       "    </tr>\n",
       "  </tbody>\n",
       "</table>\n",
       "<p>5 rows × 1000 columns</p>\n",
       "</div>"
      ],
      "text/plain": [
       "        0         1         2         3         4         5         6    \\\n",
       "0  1.000000  1.000000  1.000000  1.000000  1.000000  1.000000  1.000000   \n",
       "1  0.977632  1.012406  0.997878  1.019921  1.010549  1.028372  1.003039   \n",
       "2  0.969081  1.022376  1.019304  1.008208  1.014895  1.043378  0.996477   \n",
       "3  0.990891  1.011040  1.023441  0.980454  1.051321  1.050026  1.005025   \n",
       "4  0.989962  0.987962  1.021535  0.968359  1.040851  1.047811  0.983892   \n",
       "\n",
       "        7         8         9      ...          990       991       992  \\\n",
       "0  1.000000  1.000000  1.000000    ...     1.000000  1.000000  1.000000   \n",
       "1  0.993129  1.001706  1.005817    ...     0.989827  0.989375  1.012891   \n",
       "2  1.007949  0.990332  0.992067    ...     0.997549  0.976717  1.014919   \n",
       "3  1.024598  0.997824  0.991672    ...     0.987586  0.971376  1.026910   \n",
       "4  1.015039  1.002174  1.015039    ...     0.998472  0.976481  1.013124   \n",
       "\n",
       "        993       994       995       996       997       998       999  \n",
       "0  1.000000  1.000000  1.000000  1.000000  1.000000  1.000000  1.000000  \n",
       "1  0.986708  1.006824  1.004260  0.959292  1.009977  1.034140  0.997982  \n",
       "2  0.979443  1.032702  1.036002  0.960965  0.990371  1.031001  0.980653  \n",
       "3  0.998085  1.037389  1.044444  0.975436  0.997426  1.025703  0.979045  \n",
       "4  0.997858  1.047375  1.035255  0.977306  0.988911  1.024404  0.962899  \n",
       "\n",
       "[5 rows x 1000 columns]"
      ]
     },
     "execution_count": 10,
     "metadata": {},
     "output_type": "execute_result"
    }
   ],
   "source": [
    "# Set number of simulations and trading days\n",
    "num_simulations = 1000\n",
    "num_trading_days = 252\n",
    "\n",
    "# Set last closing prices of `JNJ` and `MU`\n",
    "jnj_last_price = df['JNJ']['close'][-1]\n",
    "mu_last_price = df['MU']['close'][-1]\n",
    "\n",
    "# Initialize empty DataFrame to hold simulated prices for each simulation\n",
    "simulated_price_df = pd.DataFrame()\n",
    "portfolio_cumulative_returns = pd.DataFrame()\n",
    "\n",
    "# Run the simulation of projecting stock prices for the next trading year, `1000` times\n",
    "for n in range(num_simulations):\n",
    "\n",
    "    # Initialize the simulated prices list with the last closing price of `JNJ` and `MU`\n",
    "    simulated_jnj_prices = [jnj_last_price]\n",
    "    simulated_mu_prices = [mu_last_price]\n",
    "    \n",
    "    # Simulate the returns for 252 days\n",
    "    for i in range(num_trading_days):\n",
    "        \n",
    "        # Calculate the simulated price using the last price within the list\n",
    "        simulated_jnj_price = simulated_jnj_prices[-1] * (1 + np.random.normal(avg_daily_return_jnj, std_dev_daily_return_jnj))\n",
    "        simulated_mu_price = simulated_mu_prices[-1] * (1 + np.random.normal(avg_daily_return_mu, std_dev_daily_return_mu))\n",
    "        \n",
    "        # Append the simulated price to the list\n",
    "        simulated_jnj_prices.append(simulated_jnj_price)\n",
    "        simulated_mu_prices.append(simulated_mu_price)\n",
    "    \n",
    "    # Append a simulated prices of each simulation to DataFrame\n",
    "    simulated_price_df[\"JNJ prices\"] = pd.Series(simulated_jnj_prices)\n",
    "    simulated_price_df[\"MU prices\"] = pd.Series(simulated_mu_prices)\n",
    "    \n",
    "    # Calculate the daily returns of simulated prices\n",
    "    simulated_daily_returns = simulated_price_df.pct_change()\n",
    "    \n",
    "    # Set the portfolio weights (60% JNJ; 40% MU)\n",
    "    weights = [0.60, 0.40]\n",
    "\n",
    "    # Use the `dot` function with the weights to multiply weights with each column's simulated daily returns\n",
    "    portfolio_daily_returns = simulated_daily_returns.dot(weights)\n",
    "    \n",
    "    # Calculate the normalized, cumulative return series\n",
    "    portfolio_cumulative_returns[n] = (1 + portfolio_daily_returns.fillna(0)).cumprod()\n",
    "\n",
    "# Print records from the DataFrame\n",
    "portfolio_cumulative_returns.head()"
   ]
  },
  {
   "cell_type": "markdown",
   "metadata": {},
   "source": [
    "### Plot the Multiple Simulations of Potential Cumulative Portfolio Returns over the Next Year (252 Trading Days)"
   ]
  },
  {
   "cell_type": "code",
   "execution_count": 11,
   "metadata": {},
   "outputs": [
    {
     "data": {
      "text/plain": [
       "<matplotlib.axes._subplots.AxesSubplot at 0x1215fd8d0>"
      ]
     },
     "execution_count": 11,
     "metadata": {},
     "output_type": "execute_result"
    },
    {
     "data": {
      "image/png": "[encoded data removed]",
      "text/plain": [
       "<Figure size 432x288 with 1 Axes>"
      ]
     },
     "metadata": {
      "needs_background": "light"
     },
     "output_type": "display_data"
    }
   ],
   "source": [
    "# Use the `plot` function to plot `1000` simulations of the potential trajectories of the portfolio based on 252 trading days\n",
    "plot_title = f\"{n+1} Simulations of Cumulative Portfolio Return Trajectories Over the Next 252 Trading Days\"\n",
    "portfolio_cumulative_returns.plot(legend=None, title=plot_title)"
   ]
  },
  {
   "cell_type": "code",
   "execution_count": 12,
   "metadata": {},
   "outputs": [
    {
     "data": {
      "text/plain": [
       "0    0.767242\n",
       "1    0.931244\n",
       "2    0.844129\n",
       "3    1.001070\n",
       "4    1.109120\n",
       "Name: 252, dtype: float64"
      ]
     },
     "execution_count": 12,
     "metadata": {},
     "output_type": "execute_result"
    }
   ],
   "source": [
    "# Select the last row for project stock prices (prices of each simulation on the 252nd trading day)\n",
    "ending_cumulative_returns = portfolio_cumulative_returns.iloc[-1, :]\n",
    "ending_cumulative_returns.head()"
   ]
  },
  {
   "cell_type": "markdown",
   "metadata": {},
   "source": [
    "### Plot the Frequency Distribution of Simulated Ending Portfolio Cumulative Returns on the 252nd Trading Day"
   ]
  },
  {
   "cell_type": "code",
   "execution_count": 13,
   "metadata": {},
   "outputs": [
    {
     "data": {
      "text/plain": [
       "<matplotlib.axes._subplots.AxesSubplot at 0x1233451d0>"
      ]
     },
     "execution_count": 13,
     "metadata": {},
     "output_type": "execute_result"
    },
    {
     "data": {
      "image/png": "[encoded data removed]",
      "text/plain": [
       "<Figure size 432x288 with 1 Axes>"
      ]
     },
     "metadata": {
      "needs_background": "light"
     },
     "output_type": "display_data"
    }
   ],
   "source": [
    "# Use the `plot` function to plot a frequency distribution of simulated ending prices\n",
    "ending_cumulative_returns.plot(kind='hist', bins=10)"
   ]
  },
  {
   "cell_type": "markdown",
   "metadata": {},
   "source": [
    "### Calculate the Probability Distribution of Ending Cumulative Return Ranges"
   ]
  },
  {
   "cell_type": "code",
   "execution_count": 14,
   "metadata": {},
   "outputs": [
    {
     "data": {
      "text/plain": [
       "(0.838, 0.971]    0.249\n",
       "(0.705, 0.838]    0.227\n",
       "(0.971, 1.105]    0.192\n",
       "(1.105, 1.238]    0.110\n",
       "(0.572, 0.705]    0.091\n",
       "(1.238, 1.371]    0.071\n",
       "(1.371, 1.504]    0.027\n",
       "(0.436, 0.572]    0.016\n",
       "(1.504, 1.637]    0.010\n",
       "(1.637, 1.771]    0.007\n",
       "Name: 252, dtype: float64"
      ]
     },
     "execution_count": 14,
     "metadata": {},
     "output_type": "execute_result"
    }
   ],
   "source": [
    "ending_cumulative_returns.value_counts(bins=10) / len(ending_cumulative_returns)"
   ]
  },
  {
   "cell_type": "markdown",
   "metadata": {},
   "source": [
    "### Calculate Lower and Upper Bounds of 95% Confidence Interval for Simulated Ending Cumulative Portfolio Returns"
   ]
  },
  {
   "cell_type": "code",
   "execution_count": 15,
   "metadata": {},
   "outputs": [
    {
     "data": {
      "text/plain": [
       "0.025    0.600868\n",
       "0.975    1.432483\n",
       "Name: 252, dtype: float64"
      ]
     },
     "execution_count": 15,
     "metadata": {},
     "output_type": "execute_result"
    }
   ],
   "source": [
    "# Use the `quantile` function to calculate the 95% confidence interval for simulated ending prices\n",
    "confidence_interval = ending_cumulative_returns.quantile(q=[0.025, 0.975])\n",
    "confidence_interval"
   ]
  },
  {
   "cell_type": "markdown",
   "metadata": {},
   "source": [
    "### Plot the Probability Distribution and 95% Confidence Interval of Simulated Ending Cumulative Portfolio Returns "
   ]
  },
  {
   "cell_type": "code",
   "execution_count": 16,
   "metadata": {},
   "outputs": [
    {
     "data": {
      "text/plain": [
       "<matplotlib.lines.Line2D at 0x12347fb00>"
      ]
     },
     "execution_count": 16,
     "metadata": {},
     "output_type": "execute_result"
    },
    {
     "data": {
      "image/png": "[encoded data removed]",
      "text/plain": [
       "<Figure size 432x288 with 1 Axes>"
      ]
     },
     "metadata": {
      "needs_background": "light"
     },
     "output_type": "display_data"
    }
   ],
   "source": [
    "# Use the `plot` function to create a probability distribution histogram of simulated ending prices\n",
    "# with markings for a 95% confidence interval\n",
    "plt.figure();\n",
    "ending_cumulative_returns.plot(kind='hist', density=True, bins=10)\n",
    "plt.axvline(confidence_interval.iloc[0], color='r')\n",
    "plt.axvline(confidence_interval.iloc[1], color='r')"
   ]
  },
  {
   "cell_type": "markdown",
   "metadata": {},
   "source": [
    "### Calculate 95% Confidence Interval of An Initial Investment of 10,000 in the Portfolio over the Next 252 Trading Days"
   ]
  },
  {
   "cell_type": "code",
   "execution_count": 17,
   "metadata": {},
   "outputs": [
    {
     "name": "stdout",
     "output_type": "stream",
     "text": [
      "There is a 95% chance that an initial investment of $10,000 in the portfolio over the next 252 trading days will end within in the range of $16008.67690772816 and $24324.826862141348\n"
     ]
    }
   ],
   "source": [
    "# Set initial investment\n",
    "initial_investment = 10000\n",
    "\n",
    "# Calculate investment profit/loss of lower and upper bound cumulative portfolio returns\n",
    "investment_pnl_lower_bound = initial_investment + (initial_investment * confidence_interval.iloc[0])\n",
    "investment_pnl_upper_bound = initial_investment + (initial_investment * confidence_interval.iloc[1])\n",
    "                                                    \n",
    "# Print the results\n",
    "print(f\"There is a 95% chance that an initial investment of $10,000 in the portfolio\"\n",
    "      f\" over the next 252 trading days will end within in the range of\"\n",
    "      f\" ${investment_pnl_lower_bound} and ${investment_pnl_upper_bound}\")"
   ]
  },
  {
   "cell_type": "code",
   "execution_count": null,
   "metadata": {},
   "outputs": [],
   "source": []
  }
 ],
 "metadata": {
  "kernel_info": {
   "name": "python3"
  },
  "kernelspec": {
   "display_name": "Python 3",
   "language": "python",
   "name": "python3"
  },
  "language_info": {
   "codemirror_mode": {
    "name": "ipython",
    "version": 3
   },
   "file_extension": ".py",
   "mimetype": "text/x-python",
   "name": "python",
   "nbconvert_exporter": "python",
   "pygments_lexer": "ipython3",
   "version": "3.7.1"
  },
  "nteract": {
   "version": "0.12.3"
  }
 },
 "nbformat": 4,
 "nbformat_minor": 2
}
