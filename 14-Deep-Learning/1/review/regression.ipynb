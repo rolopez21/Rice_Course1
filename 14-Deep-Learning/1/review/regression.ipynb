{
 "cells": [
  {
   "cell_type": "code",
   "execution_count": 1,
   "metadata": {},
   "outputs": [],
   "source": [
    "api_key = \"320d3649d072d10f295c182cd1f3b068e4726ba8a78289d1e1881718b8d30d0d\""
   ]
  },
  {
   "cell_type": "code",
   "execution_count": null,
   "metadata": {},
   "outputs": [],
   "source": [
    "https://min-api.cryptocompare.com/data/v2/histoday?fsym=ETH&tsym=USD&limit=100"
   ]
  },
  {
   "cell_type": "code",
   "execution_count": 26,
   "metadata": {},
   "outputs": [],
   "source": [
    "import requests"
   ]
  },
  {
   "cell_type": "code",
   "execution_count": 66,
   "metadata": {},
   "outputs": [],
   "source": [
    "def get_crypto_hist(ticker):\n",
    "    \"\"\"\n",
    "    makes request to cryptocompare to grab 100 day historical \n",
    "    trade value vs USD for BTC or ETH\n",
    "    \n",
    "    Arguments:\n",
    "        ticker(string) -  BTC or ETH or BCH\n",
    "    \"\"\"\n",
    "    ticker = ticker.upper()\n",
    "    valid_tick = [\"BTC\", \"ETH\", \"BCH\"]\n",
    "    \n",
    "    if ticker in valid_tick: \n",
    "    \n",
    "        url= f\"https://min-api.cryptocompare.com/data/v2/histoday?fsym={ticker}&tsym=USD&limit=100\"\n",
    "        url=url+f\"&api_key={api_key}\"\n",
    "\n",
    "        res = requests.get(url)\n",
    "        res = res.json()\n",
    "        \n",
    "        if res[\"Response\"] == \"Success\":\n",
    "            return res[\"Data\"][\"Data\"]\n",
    "        \n",
    "        else:\n",
    "            \n",
    "            raise Error(\"Response not successful! Error from request: \" + res[\"Response\"])\n",
    "    \n",
    "    else:\n",
    "        raise ValueError(\"You lack a valid ticker symbol (Use BTC, ETH, BCH)\")\n",
    "        \n",
    "def preprocess(historical_list, ticker):\n",
    "    #extract data\n",
    "    \n",
    "    df = pd.DataFrame(historical_list)\n",
    "    df[\"conversionSymbol\"] = ticker\n",
    "    \n",
    "    return df[[\"time\", \"close\",\"conversionSymbol\", \"volumeto\", \"volumefrom\"]]\n",
    "\n",
    "def get_and_process(ticker):\n",
    "    return preprocess(get_crypto_hist(ticker), ticker)"
   ]
  },
  {
   "cell_type": "code",
   "execution_count": 43,
   "metadata": {},
   "outputs": [],
   "source": [
    "from pprint import pprint"
   ]
  },
  {
   "cell_type": "code",
   "execution_count": 60,
   "metadata": {},
   "outputs": [
    {
     "name": "stdout",
     "output_type": "stream",
     "text": [
      "{'close': 307.86,\n",
      " 'conversionSymbol': '',\n",
      " 'conversionType': 'direct',\n",
      " 'high': 315.39,\n",
      " 'low': 295.51,\n",
      " 'open': 314.47,\n",
      " 'time': 1563494400,\n",
      " 'volumefrom': 163669.56,\n",
      " 'volumeto': 50081406.36}\n"
     ]
    }
   ],
   "source": [
    "pprint(toy[1])\n",
    "# want close, time, conversionSymbol, volumediff`"
   ]
  },
  {
   "cell_type": "code",
   "execution_count": 62,
   "metadata": {},
   "outputs": [
    {
     "data": {
      "text/html": [
       "<div>\n",
       "<style scoped>\n",
       "    .dataframe tbody tr th:only-of-type {\n",
       "        vertical-align: middle;\n",
       "    }\n",
       "\n",
       "    .dataframe tbody tr th {\n",
       "        vertical-align: top;\n",
       "    }\n",
       "\n",
       "    .dataframe thead th {\n",
       "        text-align: right;\n",
       "    }\n",
       "</style>\n",
       "<table border=\"1\" class=\"dataframe\">\n",
       "  <thead>\n",
       "    <tr style=\"text-align: right;\">\n",
       "      <th></th>\n",
       "      <th>time</th>\n",
       "      <th>close</th>\n",
       "      <th>conversionSymbol</th>\n",
       "      <th>volumeto</th>\n",
       "      <th>volumefrom</th>\n",
       "    </tr>\n",
       "  </thead>\n",
       "  <tbody>\n",
       "    <tr>\n",
       "      <td>0</td>\n",
       "      <td>1563408000</td>\n",
       "      <td>225.85</td>\n",
       "      <td>eth</td>\n",
       "      <td>9.402744e+08</td>\n",
       "      <td>4163229.42</td>\n",
       "    </tr>\n",
       "    <tr>\n",
       "      <td>1</td>\n",
       "      <td>1563494400</td>\n",
       "      <td>221.30</td>\n",
       "      <td>eth</td>\n",
       "      <td>7.486286e+08</td>\n",
       "      <td>3382912.40</td>\n",
       "    </tr>\n",
       "    <tr>\n",
       "      <td>2</td>\n",
       "      <td>1563580800</td>\n",
       "      <td>228.75</td>\n",
       "      <td>eth</td>\n",
       "      <td>7.862826e+08</td>\n",
       "      <td>3437372.01</td>\n",
       "    </tr>\n",
       "    <tr>\n",
       "      <td>3</td>\n",
       "      <td>1563667200</td>\n",
       "      <td>225.39</td>\n",
       "      <td>eth</td>\n",
       "      <td>7.173821e+08</td>\n",
       "      <td>3182833.04</td>\n",
       "    </tr>\n",
       "    <tr>\n",
       "      <td>4</td>\n",
       "      <td>1563753600</td>\n",
       "      <td>217.15</td>\n",
       "      <td>eth</td>\n",
       "      <td>6.107801e+08</td>\n",
       "      <td>2812671.28</td>\n",
       "    </tr>\n",
       "    <tr>\n",
       "      <td>...</td>\n",
       "      <td>...</td>\n",
       "      <td>...</td>\n",
       "      <td>...</td>\n",
       "      <td>...</td>\n",
       "      <td>...</td>\n",
       "    </tr>\n",
       "    <tr>\n",
       "      <td>96</td>\n",
       "      <td>1571702400</td>\n",
       "      <td>171.38</td>\n",
       "      <td>eth</td>\n",
       "      <td>3.230591e+08</td>\n",
       "      <td>1885090.78</td>\n",
       "    </tr>\n",
       "    <tr>\n",
       "      <td>97</td>\n",
       "      <td>1571788800</td>\n",
       "      <td>162.53</td>\n",
       "      <td>eth</td>\n",
       "      <td>6.150865e+08</td>\n",
       "      <td>3784439.92</td>\n",
       "    </tr>\n",
       "    <tr>\n",
       "      <td>98</td>\n",
       "      <td>1571875200</td>\n",
       "      <td>161.02</td>\n",
       "      <td>eth</td>\n",
       "      <td>3.545701e+08</td>\n",
       "      <td>2202051.68</td>\n",
       "    </tr>\n",
       "    <tr>\n",
       "      <td>99</td>\n",
       "      <td>1571961600</td>\n",
       "      <td>181.66</td>\n",
       "      <td>eth</td>\n",
       "      <td>5.924185e+08</td>\n",
       "      <td>3261147.03</td>\n",
       "    </tr>\n",
       "    <tr>\n",
       "      <td>100</td>\n",
       "      <td>1572048000</td>\n",
       "      <td>179.96</td>\n",
       "      <td>eth</td>\n",
       "      <td>1.007325e+08</td>\n",
       "      <td>536329.06</td>\n",
       "    </tr>\n",
       "  </tbody>\n",
       "</table>\n",
       "<p>101 rows × 5 columns</p>\n",
       "</div>"
      ],
      "text/plain": [
       "           time   close conversionSymbol      volumeto  volumefrom\n",
       "0    1563408000  225.85              eth  9.402744e+08  4163229.42\n",
       "1    1563494400  221.30              eth  7.486286e+08  3382912.40\n",
       "2    1563580800  228.75              eth  7.862826e+08  3437372.01\n",
       "3    1563667200  225.39              eth  7.173821e+08  3182833.04\n",
       "4    1563753600  217.15              eth  6.107801e+08  2812671.28\n",
       "..          ...     ...              ...           ...         ...\n",
       "96   1571702400  171.38              eth  3.230591e+08  1885090.78\n",
       "97   1571788800  162.53              eth  6.150865e+08  3784439.92\n",
       "98   1571875200  161.02              eth  3.545701e+08  2202051.68\n",
       "99   1571961600  181.66              eth  5.924185e+08  3261147.03\n",
       "100  1572048000  179.96              eth  1.007325e+08   536329.06\n",
       "\n",
       "[101 rows x 5 columns]"
      ]
     },
     "execution_count": 62,
     "metadata": {},
     "output_type": "execute_result"
    }
   ],
   "source": [
    "get_and_process(\"eth\")"
   ]
  },
  {
   "cell_type": "code",
   "execution_count": 46,
   "metadata": {},
   "outputs": [],
   "source": [
    "import pandas as pd"
   ]
  },
  {
   "cell_type": "code",
   "execution_count": 65,
   "metadata": {},
   "outputs": [
    {
     "data": {
      "text/html": [
       "<div>\n",
       "<style scoped>\n",
       "    .dataframe tbody tr th:only-of-type {\n",
       "        vertical-align: middle;\n",
       "    }\n",
       "\n",
       "    .dataframe tbody tr th {\n",
       "        vertical-align: top;\n",
       "    }\n",
       "\n",
       "    .dataframe thead th {\n",
       "        text-align: right;\n",
       "    }\n",
       "</style>\n",
       "<table border=\"1\" class=\"dataframe\">\n",
       "  <thead>\n",
       "    <tr style=\"text-align: right;\">\n",
       "      <th></th>\n",
       "      <th>time</th>\n",
       "      <th>close</th>\n",
       "      <th>conversionSymbol</th>\n",
       "      <th>volumeto</th>\n",
       "      <th>volumefrom</th>\n",
       "    </tr>\n",
       "  </thead>\n",
       "  <tbody>\n",
       "    <tr>\n",
       "      <td>0</td>\n",
       "      <td>1563408000</td>\n",
       "      <td>225.85</td>\n",
       "      <td>eth</td>\n",
       "      <td>9.402744e+08</td>\n",
       "      <td>4163229.42</td>\n",
       "    </tr>\n",
       "    <tr>\n",
       "      <td>1</td>\n",
       "      <td>1563494400</td>\n",
       "      <td>221.30</td>\n",
       "      <td>eth</td>\n",
       "      <td>7.486286e+08</td>\n",
       "      <td>3382912.40</td>\n",
       "    </tr>\n",
       "    <tr>\n",
       "      <td>2</td>\n",
       "      <td>1563580800</td>\n",
       "      <td>228.75</td>\n",
       "      <td>eth</td>\n",
       "      <td>7.862826e+08</td>\n",
       "      <td>3437372.01</td>\n",
       "    </tr>\n",
       "    <tr>\n",
       "      <td>3</td>\n",
       "      <td>1563667200</td>\n",
       "      <td>225.39</td>\n",
       "      <td>eth</td>\n",
       "      <td>7.173821e+08</td>\n",
       "      <td>3182833.04</td>\n",
       "    </tr>\n",
       "    <tr>\n",
       "      <td>4</td>\n",
       "      <td>1563753600</td>\n",
       "      <td>217.15</td>\n",
       "      <td>eth</td>\n",
       "      <td>6.107801e+08</td>\n",
       "      <td>2812671.28</td>\n",
       "    </tr>\n",
       "    <tr>\n",
       "      <td>...</td>\n",
       "      <td>...</td>\n",
       "      <td>...</td>\n",
       "      <td>...</td>\n",
       "      <td>...</td>\n",
       "      <td>...</td>\n",
       "    </tr>\n",
       "    <tr>\n",
       "      <td>96</td>\n",
       "      <td>1571702400</td>\n",
       "      <td>8034.50</td>\n",
       "      <td>btc</td>\n",
       "      <td>2.005939e+08</td>\n",
       "      <td>24453.79</td>\n",
       "    </tr>\n",
       "    <tr>\n",
       "      <td>97</td>\n",
       "      <td>1571788800</td>\n",
       "      <td>7479.54</td>\n",
       "      <td>btc</td>\n",
       "      <td>4.576725e+08</td>\n",
       "      <td>60122.39</td>\n",
       "    </tr>\n",
       "    <tr>\n",
       "      <td>98</td>\n",
       "      <td>1571875200</td>\n",
       "      <td>7444.20</td>\n",
       "      <td>btc</td>\n",
       "      <td>2.136631e+08</td>\n",
       "      <td>28580.18</td>\n",
       "    </tr>\n",
       "    <tr>\n",
       "      <td>99</td>\n",
       "      <td>1571961600</td>\n",
       "      <td>8671.10</td>\n",
       "      <td>btc</td>\n",
       "      <td>6.565748e+08</td>\n",
       "      <td>79777.72</td>\n",
       "    </tr>\n",
       "    <tr>\n",
       "      <td>100</td>\n",
       "      <td>1572048000</td>\n",
       "      <td>9171.64</td>\n",
       "      <td>btc</td>\n",
       "      <td>1.267604e+09</td>\n",
       "      <td>133752.89</td>\n",
       "    </tr>\n",
       "  </tbody>\n",
       "</table>\n",
       "<p>202 rows × 5 columns</p>\n",
       "</div>"
      ],
      "text/plain": [
       "           time    close conversionSymbol      volumeto  volumefrom\n",
       "0    1563408000   225.85              eth  9.402744e+08  4163229.42\n",
       "1    1563494400   221.30              eth  7.486286e+08  3382912.40\n",
       "2    1563580800   228.75              eth  7.862826e+08  3437372.01\n",
       "3    1563667200   225.39              eth  7.173821e+08  3182833.04\n",
       "4    1563753600   217.15              eth  6.107801e+08  2812671.28\n",
       "..          ...      ...              ...           ...         ...\n",
       "96   1571702400  8034.50              btc  2.005939e+08    24453.79\n",
       "97   1571788800  7479.54              btc  4.576725e+08    60122.39\n",
       "98   1571875200  7444.20              btc  2.136631e+08    28580.18\n",
       "99   1571961600  8671.10              btc  6.565748e+08    79777.72\n",
       "100  1572048000  9171.64              btc  1.267604e+09   133752.89\n",
       "\n",
       "[202 rows x 5 columns]"
      ]
     },
     "execution_count": 65,
     "metadata": {},
     "output_type": "execute_result"
    }
   ],
   "source": [
    "df = pd.concat([get_and_process(\"eth\"),get_and_process(\"btc\")], axis=0)\n",
    "df"
   ]
  },
  {
   "cell_type": "code",
   "execution_count": 69,
   "metadata": {},
   "outputs": [],
   "source": [
    "closings = df[\"close\"]"
   ]
  },
  {
   "cell_type": "code",
   "execution_count": 70,
   "metadata": {},
   "outputs": [
    {
     "data": {
      "text/plain": [
       "<matplotlib.axes._subplots.AxesSubplot at 0x117bfbbe0>"
      ]
     },
     "execution_count": 70,
     "metadata": {},
     "output_type": "execute_result"
    },
    {
     "data": {
      "image/png": "[encoded data removed]",
      "text/plain": [
       "<Figure size 432x288 with 1 Axes>"
      ]
     },
     "metadata": {
      "needs_background": "light"
     },
     "output_type": "display_data"
    }
   ],
   "source": [
    "closings.plot()"
   ]
  },
  {
   "cell_type": "code",
   "execution_count": 103,
   "metadata": {},
   "outputs": [],
   "source": [
    "from sklearn.preprocessing import LabelEncoder"
   ]
  },
  {
   "cell_type": "code",
   "execution_count": 105,
   "metadata": {},
   "outputs": [],
   "source": [
    "encoder = LabelEncoder()"
   ]
  },
  {
   "cell_type": "code",
   "execution_count": 108,
   "metadata": {},
   "outputs": [],
   "source": [
    "df[\"encoded\"] = encoder.fit_transform(df[\"conversionSymbol\"])"
   ]
  },
  {
   "cell_type": "code",
   "execution_count": 73,
   "metadata": {},
   "outputs": [],
   "source": [
    "from sklearn.linear_model import LogisticRegression"
   ]
  },
  {
   "cell_type": "code",
   "execution_count": 121,
   "metadata": {},
   "outputs": [],
   "source": [
    "y = df[\"encoded\"].values.reshape(-1,1)\n",
    "X = df.drop(columns=[\"conversionSymbol\",\"encoded\"])"
   ]
  },
  {
   "cell_type": "code",
   "execution_count": 122,
   "metadata": {},
   "outputs": [],
   "source": [
    "model = LogisticRegression(solver=\"lbfgs\")"
   ]
  },
  {
   "cell_type": "code",
   "execution_count": 113,
   "metadata": {},
   "outputs": [
    {
     "data": {
      "text/plain": [
       "1    101\n",
       "0    101\n",
       "Name: encoded, dtype: int64"
      ]
     },
     "execution_count": 113,
     "metadata": {},
     "output_type": "execute_result"
    }
   ],
   "source": [
    "df[\"encoded\"].value_counts()"
   ]
  },
  {
   "cell_type": "code",
   "execution_count": 114,
   "metadata": {},
   "outputs": [
    {
     "data": {
      "text/plain": [
       "0"
      ]
     },
     "execution_count": 114,
     "metadata": {},
     "output_type": "execute_result"
    }
   ],
   "source": [
    "df[\"encoded\"].isnull().sum()"
   ]
  },
  {
   "cell_type": "code",
   "execution_count": 115,
   "metadata": {},
   "outputs": [
    {
     "data": {
      "text/plain": [
       "0"
      ]
     },
     "execution_count": 115,
     "metadata": {},
     "output_type": "execute_result"
    }
   ],
   "source": [
    "df.duplicated().sum()"
   ]
  },
  {
   "cell_type": "code",
   "execution_count": 116,
   "metadata": {},
   "outputs": [
    {
     "data": {
      "text/plain": [
       "0"
      ]
     },
     "execution_count": 116,
     "metadata": {},
     "output_type": "execute_result"
    }
   ],
   "source": [
    "df[\"close\"].isna().sum()"
   ]
  },
  {
   "cell_type": "code",
   "execution_count": 123,
   "metadata": {},
   "outputs": [],
   "source": [
    "from sklearn.model_selection import train_test_split"
   ]
  },
  {
   "cell_type": "code",
   "execution_count": 124,
   "metadata": {},
   "outputs": [],
   "source": [
    "X_train, X_test, y_train, y_test = train_test_split(X,y)"
   ]
  },
  {
   "cell_type": "code",
   "execution_count": 125,
   "metadata": {},
   "outputs": [
    {
     "name": "stderr",
     "output_type": "stream",
     "text": [
      "/anaconda3/lib/python3.7/site-packages/sklearn/utils/validation.py:724: DataConversionWarning: A column-vector y was passed when a 1d array was expected. Please change the shape of y to (n_samples, ), for example using ravel().\n",
      "  y = column_or_1d(y, warn=True)\n"
     ]
    },
    {
     "data": {
      "text/plain": [
       "LogisticRegression(C=1.0, class_weight=None, dual=False, fit_intercept=True,\n",
       "                   intercept_scaling=1, l1_ratio=None, max_iter=100,\n",
       "                   multi_class='warn', n_jobs=None, penalty='l2',\n",
       "                   random_state=None, solver='lbfgs', tol=0.0001, verbose=0,\n",
       "                   warm_start=False)"
      ]
     },
     "execution_count": 125,
     "metadata": {},
     "output_type": "execute_result"
    }
   ],
   "source": [
    "model.fit(X = X_train, y= y_train)"
   ]
  },
  {
   "cell_type": "code",
   "execution_count": 128,
   "metadata": {},
   "outputs": [],
   "source": [
    "result = model.predict(X_test)"
   ]
  },
  {
   "cell_type": "code",
   "execution_count": 150,
   "metadata": {},
   "outputs": [],
   "source": [
    "y_test_array= y_test.reshape(1,len(y_test))[0]"
   ]
  },
  {
   "cell_type": "code",
   "execution_count": 151,
   "metadata": {},
   "outputs": [],
   "source": [
    "prediction_results = pd.DataFrame({\n",
    "    \"actual\": y_test_array,\n",
    "    \"predicted\":result\n",
    "})"
   ]
  },
  {
   "cell_type": "code",
   "execution_count": 153,
   "metadata": {},
   "outputs": [
    {
     "data": {
      "text/html": [
       "<div>\n",
       "<style scoped>\n",
       "    .dataframe tbody tr th:only-of-type {\n",
       "        vertical-align: middle;\n",
       "    }\n",
       "\n",
       "    .dataframe tbody tr th {\n",
       "        vertical-align: top;\n",
       "    }\n",
       "\n",
       "    .dataframe thead th {\n",
       "        text-align: right;\n",
       "    }\n",
       "</style>\n",
       "<table border=\"1\" class=\"dataframe\">\n",
       "  <thead>\n",
       "    <tr style=\"text-align: right;\">\n",
       "      <th></th>\n",
       "      <th>actual</th>\n",
       "      <th>predicted</th>\n",
       "    </tr>\n",
       "  </thead>\n",
       "  <tbody>\n",
       "    <tr>\n",
       "      <td>0</td>\n",
       "      <td>1</td>\n",
       "      <td>1</td>\n",
       "    </tr>\n",
       "    <tr>\n",
       "      <td>1</td>\n",
       "      <td>1</td>\n",
       "      <td>1</td>\n",
       "    </tr>\n",
       "    <tr>\n",
       "      <td>2</td>\n",
       "      <td>0</td>\n",
       "      <td>0</td>\n",
       "    </tr>\n",
       "    <tr>\n",
       "      <td>3</td>\n",
       "      <td>0</td>\n",
       "      <td>0</td>\n",
       "    </tr>\n",
       "    <tr>\n",
       "      <td>4</td>\n",
       "      <td>1</td>\n",
       "      <td>1</td>\n",
       "    </tr>\n",
       "  </tbody>\n",
       "</table>\n",
       "</div>"
      ],
      "text/plain": [
       "   actual  predicted\n",
       "0       1          1\n",
       "1       1          1\n",
       "2       0          0\n",
       "3       0          0\n",
       "4       1          1"
      ]
     },
     "execution_count": 153,
     "metadata": {},
     "output_type": "execute_result"
    }
   ],
   "source": [
    "prediction_results.head()"
   ]
  },
  {
   "cell_type": "code",
   "execution_count": 154,
   "metadata": {},
   "outputs": [],
   "source": [
    "from sklearn.metrics import confusion_matrix, accuracy_score, classification_report"
   ]
  },
  {
   "cell_type": "code",
   "execution_count": 156,
   "metadata": {},
   "outputs": [
    {
     "data": {
      "text/plain": [
       "array([[22,  0],\n",
       "       [ 0, 29]])"
      ]
     },
     "execution_count": 156,
     "metadata": {},
     "output_type": "execute_result"
    }
   ],
   "source": [
    "confusion_matrix(y_test_array, result)"
   ]
  },
  {
   "cell_type": "code",
   "execution_count": 157,
   "metadata": {},
   "outputs": [
    {
     "data": {
      "text/plain": [
       "1.0"
      ]
     },
     "execution_count": 157,
     "metadata": {},
     "output_type": "execute_result"
    }
   ],
   "source": [
    "accuracy_score(y_test_array, result)"
   ]
  },
  {
   "cell_type": "code",
   "execution_count": 158,
   "metadata": {},
   "outputs": [
    {
     "data": {
      "text/plain": [
       "'              precision    recall  f1-score   support\\n\\n           0       1.00      1.00      1.00        22\\n           1       1.00      1.00      1.00        29\\n\\n    accuracy                           1.00        51\\n   macro avg       1.00      1.00      1.00        51\\nweighted avg       1.00      1.00      1.00        51\\n'"
      ]
     },
     "execution_count": 158,
     "metadata": {},
     "output_type": "execute_result"
    }
   ],
   "source": [
    "classification_report(y_test_array, result)"
   ]
  },
  {
   "cell_type": "code",
   "execution_count": 159,
   "metadata": {},
   "outputs": [],
   "source": [
    "from sklearn.ensemble import RandomForestClassifier"
   ]
  },
  {
   "cell_type": "code",
   "execution_count": 161,
   "metadata": {},
   "outputs": [],
   "source": [
    "class_model = RandomForestClassifier(n_estimators = 200)"
   ]
  },
  {
   "cell_type": "code",
   "execution_count": 162,
   "metadata": {},
   "outputs": [
    {
     "name": "stderr",
     "output_type": "stream",
     "text": [
      "/anaconda3/lib/python3.7/site-packages/ipykernel_launcher.py:1: DataConversionWarning: A column-vector y was passed when a 1d array was expected. Please change the shape of y to (n_samples,), for example using ravel().\n",
      "  \"\"\"Entry point for launching an IPython kernel.\n"
     ]
    },
    {
     "data": {
      "text/plain": [
       "RandomForestClassifier(bootstrap=True, class_weight=None, criterion='gini',\n",
       "                       max_depth=None, max_features='auto', max_leaf_nodes=None,\n",
       "                       min_impurity_decrease=0.0, min_impurity_split=None,\n",
       "                       min_samples_leaf=1, min_samples_split=2,\n",
       "                       min_weight_fraction_leaf=0.0, n_estimators=200,\n",
       "                       n_jobs=None, oob_score=False, random_state=None,\n",
       "                       verbose=0, warm_start=False)"
      ]
     },
     "execution_count": 162,
     "metadata": {},
     "output_type": "execute_result"
    }
   ],
   "source": [
    "class_model.fit(X_train, y_train)"
   ]
  },
  {
   "cell_type": "code",
   "execution_count": 164,
   "metadata": {},
   "outputs": [],
   "source": [
    "forest_predictions = class_model.predict(X_test)"
   ]
  },
  {
   "cell_type": "code",
   "execution_count": 165,
   "metadata": {},
   "outputs": [
    {
     "data": {
      "text/plain": [
       "1.0"
      ]
     },
     "execution_count": 165,
     "metadata": {},
     "output_type": "execute_result"
    }
   ],
   "source": [
    "accuracy_score(y_test_array, forest_predictions)"
   ]
  },
  {
   "cell_type": "code",
   "execution_count": 167,
   "metadata": {},
   "outputs": [
    {
     "data": {
      "text/plain": [
       "[(0.5039296350997167, 'close'),\n",
       " (0.4558688402378726, 'volumefrom'),\n",
       " (0.03648457327193778, 'volumeto'),\n",
       " (0.0037169513904729908, 'time')]"
      ]
     },
     "execution_count": 167,
     "metadata": {},
     "output_type": "execute_result"
    }
   ],
   "source": [
    "sorted(zip(class_model.feature_importances_, X.columns), reverse=True)"
   ]
  },
  {
   "cell_type": "code",
   "execution_count": null,
   "metadata": {},
   "outputs": [],
   "source": []
  }
 ],
 "metadata": {
  "kernelspec": {
   "display_name": "Python 3",
   "language": "python",
   "name": "python3"
  },
  "language_info": {
   "codemirror_mode": {
    "name": "ipython",
    "version": 3
   },
   "file_extension": ".py",
   "mimetype": "text/x-python",
   "name": "python",
   "nbconvert_exporter": "python",
   "pygments_lexer": "ipython3",
   "version": "3.7.1"
  }
 },
 "nbformat": 4,
 "nbformat_minor": 4
}
