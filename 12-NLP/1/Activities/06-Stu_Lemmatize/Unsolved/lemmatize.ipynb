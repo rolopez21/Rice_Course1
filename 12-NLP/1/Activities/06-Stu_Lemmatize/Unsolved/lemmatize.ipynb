{
 "cells": [
  {
   "cell_type": "markdown",
   "metadata": {},
   "source": [
    "# Students Do: Lemmatize\n",
    "In this activity, create a function that performs stopwording, regex cleaning of non-letter characters, word tokenizing, and lemmatization on each word in the article"
   ]
  },
  {
   "cell_type": "code",
   "execution_count": 1,
   "metadata": {},
   "outputs": [],
   "source": [
    "from nltk.stem import WordNetLemmatizer \n",
    "from nltk.tokenize import word_tokenize\n",
    "from nltk.corpus import reuters, stopwords\n",
    "import re"
   ]
  },
  {
   "cell_type": "code",
   "execution_count": 2,
   "metadata": {},
   "outputs": [],
   "source": [
    "# Instantiate the lemmatizer\n",
    "lemmatizer = WordNetLemmatizer()"
   ]
  },
  {
   "cell_type": "code",
   "execution_count": 3,
   "metadata": {},
   "outputs": [
    {
     "name": "stdout",
     "output_type": "stream",
     "text": [
      "HUNGARY RAISES PRICES IN EFFORT TO CURB DEFICIT\n",
      "  Hungary has announced sharp price\n",
      "  increases for a range of food and consumer products as part of\n",
      "  its efforts to curb a soaring budget deficit.\n",
      "      The official MTI news agency said the government decided\n",
      "  consumer price subsidies had to be cut to reduce state\n",
      "  spending. From today the price of meat will rise by an average\n",
      "  18 pct and that of beer and spirits by 10 pct, MTI said.\n",
      "      MTI said consumer goods will also become more expensive,\n",
      "  with the price of refrigerators rising some five pct. It also\n",
      "  announced a number of measures to ease hardship, including\n",
      "  higher pensions and family allowances.\n",
      "      Statistics indicate the budget deficit tripled in 1986 to\n",
      "  47 billion forints. Central banker Janos Fekete has said the\n",
      "  Finance Ministry is trying to cut the 1987 shortfall to between\n",
      "  30 and 35 billion from a planned 43.8 billion.\n",
      "      A major tax reform, including the introduction of a\n",
      "  Western-style valued added tax, is planned for January 1988 in\n",
      "  an effort to cure problems in state spending.\n",
      "      But diplomats said the latest announcement shows the\n",
      "  authorities were forced to act quickly to keep this year's\n",
      "  deficit under control.\n",
      "      The measures are also aimed at cooling an overheated\n",
      "  economy, and could help dampen Hungarians' appetite for\n",
      "  imported Western goods which consume increasingly expensive\n",
      "  hard currency, the diplomats said.\n",
      "      The diplomats also said, however, that they did not expect\n",
      "  the kind of social unrest that followed sharp price rises in\n",
      "  other East Bloc states, notably Poland.\n",
      "  \n",
      "\n",
      "\n"
     ]
    }
   ],
   "source": [
    "article = reuters.raw(fileids=reuters.fileids(categories='cpi')[2])\n",
    "print(article)"
   ]
  },
  {
   "cell_type": "code",
   "execution_count": 13,
   "metadata": {},
   "outputs": [],
   "source": [
    "# Define function\n",
    "def process_text(article):"
   ]
  },
  {
   "cell_type": "code",
   "execution_count": null,
   "metadata": {},
   "outputs": [],
   "source": []
  }
 ],
 "metadata": {
  "kernelspec": {
   "display_name": "Python 3",
   "language": "python",
   "name": "python3"
  },
  "language_info": {
   "codemirror_mode": {
    "name": "ipython",
    "version": 3
   },
   "file_extension": ".py",
   "mimetype": "text/x-python",
   "name": "python",
   "nbconvert_exporter": "python",
   "pygments_lexer": "ipython3",
   "version": "3.6.5"
  }
 },
 "nbformat": 4,
 "nbformat_minor": 2
}
