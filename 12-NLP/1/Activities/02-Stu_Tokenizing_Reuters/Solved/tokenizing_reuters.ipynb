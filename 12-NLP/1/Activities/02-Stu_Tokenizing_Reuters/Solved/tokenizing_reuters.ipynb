{
 "cells": [
  {
   "cell_type": "markdown",
   "metadata": {},
   "source": [
    "# Student Activity: Tokenizing Reuters"
   ]
  },
  {
   "cell_type": "code",
   "execution_count": 13,
   "metadata": {},
   "outputs": [],
   "source": [
    "from nltk.corpus import reuters\n",
    "from nltk.tokenize import sent_tokenize, word_tokenize\n",
    "import pandas as pd"
   ]
  },
  {
   "cell_type": "code",
   "execution_count": 14,
   "metadata": {},
   "outputs": [
    {
     "name": "stdout",
     "output_type": "stream",
     "text": [
      "['acq', 'alum', 'barley', 'bop', 'carcass', 'castor-oil', 'cocoa', 'coconut', 'coconut-oil', 'coffee', 'copper', 'copra-cake', 'corn', 'cotton', 'cotton-oil', 'cpi', 'cpu', 'crude', 'dfl', 'dlr', 'dmk', 'earn', 'fuel', 'gas', 'gnp', 'gold', 'grain', 'groundnut', 'groundnut-oil', 'heat', 'hog', 'housing', 'income', 'instal-debt', 'interest', 'ipi', 'iron-steel', 'jet', 'jobs', 'l-cattle', 'lead', 'lei', 'lin-oil', 'livestock', 'lumber', 'meal-feed', 'money-fx', 'money-supply', 'naphtha', 'nat-gas', 'nickel', 'nkr', 'nzdlr', 'oat', 'oilseed', 'orange', 'palladium', 'palm-oil', 'palmkernel', 'pet-chem', 'platinum', 'potato', 'propane', 'rand', 'rape-oil', 'rapeseed', 'reserves', 'retail', 'rice', 'rubber', 'rye', 'ship', 'silver', 'sorghum', 'soy-meal', 'soy-oil', 'soybean', 'strategic-metal', 'sugar', 'sun-meal', 'sun-oil', 'sunseed', 'tea', 'tin', 'trade', 'veg-oil', 'wheat', 'wpi', 'yen', 'zinc']\n"
     ]
    }
   ],
   "source": [
    "# Search through all categories\n",
    "print(reuters.categories())"
   ]
  },
  {
   "cell_type": "code",
   "execution_count": 15,
   "metadata": {},
   "outputs": [],
   "source": [
    "# Get all fileids associated with cpi\n",
    "cpi_ids = reuters.fileids(categories = 'cpi')"
   ]
  },
  {
   "cell_type": "code",
   "execution_count": 16,
   "metadata": {},
   "outputs": [],
   "source": [
    "# get all raw stories\n",
    "raw_stories = []\n",
    "ids = []\n",
    "for id in cpi_ids:\n",
    "    raw_stories.append(reuters.raw(id))\n",
    "    ids.append(id)"
   ]
  },
  {
   "cell_type": "code",
   "execution_count": 17,
   "metadata": {},
   "outputs": [],
   "source": [
    "# sentence tokenize stories\n",
    "sentence_tokenized = [sent_tokenize(i) for i in raw_stories]"
   ]
  },
  {
   "cell_type": "code",
   "execution_count": 18,
   "metadata": {},
   "outputs": [],
   "source": [
    "# word tokenize all sentences\n",
    "word_tokenized = []\n",
    "\n",
    "for story in sentence_tokenized:\n",
    "    # get all for each article, which is already sentence tokenized\n",
    "    words = []\n",
    "    for sent in story:\n",
    "        words = words + word_tokenize(sent)\n",
    "    # append all words for each article to the word_tokenized list\n",
    "    word_tokenized.append(words)"
   ]
  },
  {
   "cell_type": "code",
   "execution_count": 19,
   "metadata": {},
   "outputs": [],
   "source": [
    "# Put everything into a DataFrame\n",
    "reuters_cpi = pd.DataFrame({'raw_stories': raw_stories,\n",
    "                             'sentence_tokenized': sentence_tokenized,\n",
    "                             'word_tokenized': word_tokenized\n",
    "                            })\n",
    "reuters_cpi.index = ids"
   ]
  },
  {
   "cell_type": "code",
   "execution_count": 20,
   "metadata": {},
   "outputs": [
    {
     "data": {
      "text/html": [
       "<div>\n",
       "<style scoped>\n",
       "    .dataframe tbody tr th:only-of-type {\n",
       "        vertical-align: middle;\n",
       "    }\n",
       "\n",
       "    .dataframe tbody tr th {\n",
       "        vertical-align: top;\n",
       "    }\n",
       "\n",
       "    .dataframe thead th {\n",
       "        text-align: right;\n",
       "    }\n",
       "</style>\n",
       "<table border=\"1\" class=\"dataframe\">\n",
       "  <thead>\n",
       "    <tr style=\"text-align: right;\">\n",
       "      <th></th>\n",
       "      <th>raw_stories</th>\n",
       "      <th>sentence_tokenized</th>\n",
       "      <th>word_tokenized</th>\n",
       "    </tr>\n",
       "  </thead>\n",
       "  <tbody>\n",
       "    <tr>\n",
       "      <th>test/14891</th>\n",
       "      <td>ECONOMIC SPOTLIGHT - KUWAITI ECONOMY\\n  Kuwait...</td>\n",
       "      <td>[ECONOMIC SPOTLIGHT - KUWAITI ECONOMY\\n  Kuwai...</td>\n",
       "      <td>[ECONOMIC, SPOTLIGHT, -, KUWAITI, ECONOMY, Kuw...</td>\n",
       "    </tr>\n",
       "    <tr>\n",
       "      <th>test/14918</th>\n",
       "      <td>INDONESIAN INFLATION RATE 8.8 PCT IN 1986/87\\n...</td>\n",
       "      <td>[INDONESIAN INFLATION RATE 8.8 PCT IN 1986/87\\...</td>\n",
       "      <td>[INDONESIAN, INFLATION, RATE, 8.8, PCT, IN, 19...</td>\n",
       "    </tr>\n",
       "    <tr>\n",
       "      <th>test/16103</th>\n",
       "      <td>HUNGARY RAISES PRICES IN EFFORT TO CURB DEFICI...</td>\n",
       "      <td>[HUNGARY RAISES PRICES IN EFFORT TO CURB DEFIC...</td>\n",
       "      <td>[HUNGARY, RAISES, PRICES, IN, EFFORT, TO, CURB...</td>\n",
       "    </tr>\n",
       "    <tr>\n",
       "      <th>test/16108</th>\n",
       "      <td>AUSTRALIAN GOVERNMENT MUST CUT SPENDING, ANZ S...</td>\n",
       "      <td>[AUSTRALIAN GOVERNMENT MUST CUT SPENDING, ANZ ...</td>\n",
       "      <td>[AUSTRALIAN, GOVERNMENT, MUST, CUT, SPENDING, ...</td>\n",
       "    </tr>\n",
       "    <tr>\n",
       "      <th>test/16118</th>\n",
       "      <td>YUGOSLAV ECONOMY WORSENED IN 1986, BANK DATA S...</td>\n",
       "      <td>[YUGOSLAV ECONOMY WORSENED IN 1986, BANK DATA ...</td>\n",
       "      <td>[YUGOSLAV, ECONOMY, WORSENED, IN, 1986, ,, BAN...</td>\n",
       "    </tr>\n",
       "  </tbody>\n",
       "</table>\n",
       "</div>"
      ],
      "text/plain": [
       "                                                  raw_stories  \\\n",
       "test/14891  ECONOMIC SPOTLIGHT - KUWAITI ECONOMY\\n  Kuwait...   \n",
       "test/14918  INDONESIAN INFLATION RATE 8.8 PCT IN 1986/87\\n...   \n",
       "test/16103  HUNGARY RAISES PRICES IN EFFORT TO CURB DEFICI...   \n",
       "test/16108  AUSTRALIAN GOVERNMENT MUST CUT SPENDING, ANZ S...   \n",
       "test/16118  YUGOSLAV ECONOMY WORSENED IN 1986, BANK DATA S...   \n",
       "\n",
       "                                           sentence_tokenized  \\\n",
       "test/14891  [ECONOMIC SPOTLIGHT - KUWAITI ECONOMY\\n  Kuwai...   \n",
       "test/14918  [INDONESIAN INFLATION RATE 8.8 PCT IN 1986/87\\...   \n",
       "test/16103  [HUNGARY RAISES PRICES IN EFFORT TO CURB DEFIC...   \n",
       "test/16108  [AUSTRALIAN GOVERNMENT MUST CUT SPENDING, ANZ ...   \n",
       "test/16118  [YUGOSLAV ECONOMY WORSENED IN 1986, BANK DATA ...   \n",
       "\n",
       "                                               word_tokenized  \n",
       "test/14891  [ECONOMIC, SPOTLIGHT, -, KUWAITI, ECONOMY, Kuw...  \n",
       "test/14918  [INDONESIAN, INFLATION, RATE, 8.8, PCT, IN, 19...  \n",
       "test/16103  [HUNGARY, RAISES, PRICES, IN, EFFORT, TO, CURB...  \n",
       "test/16108  [AUSTRALIAN, GOVERNMENT, MUST, CUT, SPENDING, ...  \n",
       "test/16118  [YUGOSLAV, ECONOMY, WORSENED, IN, 1986, ,, BAN...  "
      ]
     },
     "execution_count": 20,
     "metadata": {},
     "output_type": "execute_result"
    }
   ],
   "source": [
    "reuters_cpi.head()"
   ]
  },
  {
   "cell_type": "code",
   "execution_count": null,
   "metadata": {},
   "outputs": [],
   "source": []
  }
 ],
 "metadata": {
  "kernelspec": {
   "display_name": "Python 3",
   "language": "python",
   "name": "python3"
  },
  "language_info": {
   "codemirror_mode": {
    "name": "ipython",
    "version": 3
   },
   "file_extension": ".py",
   "mimetype": "text/x-python",
   "name": "python",
   "nbconvert_exporter": "python",
   "pygments_lexer": "ipython3",
   "version": "3.6.5"
  }
 },
 "nbformat": 4,
 "nbformat_minor": 2
}
