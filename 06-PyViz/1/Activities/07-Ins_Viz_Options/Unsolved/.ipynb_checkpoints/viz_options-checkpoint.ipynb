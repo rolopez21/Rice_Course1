{
  "cells": [
    {
      "cell_type": "code",
      "source": [
        "from pathlib import Path\n",
        "import pandas as pd\n",
        "import hvplot.pandas"
      ],
      "outputs": [],
      "execution_count": null,
      "metadata": {}
    },
    {
      "cell_type": "markdown",
      "source": [
        "### Prep Data"
      ],
      "metadata": {}
    },
    {
      "cell_type": "code",
      "source": [
        "# Read in data, filter, and slice\n",
        "home_sale_prices = pd.read_csv(\n",
        "    Path(\"../Resources/housing_sale_data.csv\"), index_col=\"salesHistoryKey\"\n",
        ")\n",
        "home_sale_prices = home_sale_prices.loc[\n",
        "    (home_sale_prices[\"saleDate\"] > \"2019-06-01\")\n",
        "    & (home_sale_prices[\"saleDate\"] < \"2019-06-31\")\n",
        "]\n",
        "\n",
        "# Slice data\n",
        "sale_prices_by_year = (\n",
        "    home_sale_prices[[\"saleAmt\", \"saleDate\"]]\n",
        "    .groupby(\"saleDate\")\n",
        "    .mean()\n",
        "    .sort_values(\"saleDate\")\n",
        ")"
      ],
      "outputs": [],
      "execution_count": null,
      "metadata": {}
    },
    {
      "cell_type": "markdown",
      "source": [
        "### Plot data"
      ],
      "metadata": {}
    },
    {
      "cell_type": "code",
      "source": [
        "# Plot data without rotation\n",
        "sale_prices_by_year.hvplot.bar(x='saleDate', y='saleAmt')"
      ],
      "outputs": [],
      "execution_count": null,
      "metadata": {}
    },
    {
      "cell_type": "markdown",
      "source": [
        "### Rotate x axis labels"
      ],
      "metadata": {}
    },
    {
      "cell_type": "code",
      "source": [
        "# Plot data with rotation\n"
      ],
      "outputs": [],
      "execution_count": null,
      "metadata": {}
    },
    {
      "cell_type": "markdown",
      "source": [
        "### Format axis labels"
      ],
      "metadata": {}
    },
    {
      "cell_type": "code",
      "source": [
        "# Use string formatting to show no decimal places for saleAmt\n"
      ],
      "outputs": [],
      "execution_count": null,
      "metadata": {}
    },
    {
      "cell_type": "markdown",
      "source": [
        "### Set title"
      ],
      "metadata": {}
    },
    {
      "cell_type": "code",
      "source": [
        "# Set title\n"
      ],
      "outputs": [],
      "execution_count": null,
      "metadata": {}
    },
    {
      "cell_type": "markdown",
      "source": [
        "### Invert axes"
      ],
      "metadata": {}
    },
    {
      "cell_type": "code",
      "source": [
        "# Invert axes\n"
      ],
      "outputs": [],
      "execution_count": null,
      "metadata": {}
    }
  ],
  "metadata": {
    "kernelspec": {
      "name": "python3",
      "language": "python",
      "display_name": "Python 3"
    },
    "language_info": {
      "name": "python",
      "version": "3.7.3",
      "mimetype": "text/x-python",
      "codemirror_mode": {
        "name": "ipython",
        "version": 3
      },
      "pygments_lexer": "ipython3",
      "nbconvert_exporter": "python",
      "file_extension": ".py"
    },
    "kernel_info": {
      "name": "python3"
    },
    "nteract": {
      "version": "0.12.3"
    }
  },
  "nbformat": 4,
  "nbformat_minor": 2
}