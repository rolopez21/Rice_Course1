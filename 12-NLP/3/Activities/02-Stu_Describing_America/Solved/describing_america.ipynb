{
 "cells": [
  {
   "cell_type": "markdown",
   "metadata": {},
   "source": [
    "# Describing America"
   ]
  },
  {
   "cell_type": "code",
   "execution_count": 1,
   "metadata": {},
   "outputs": [],
   "source": [
    "%matplotlib inline"
   ]
  },
  {
   "cell_type": "code",
   "execution_count": 2,
   "metadata": {},
   "outputs": [
    {
     "name": "stderr",
     "output_type": "stream",
     "text": [
      "[nltk_data] Downloading package inaugural to\n",
      "[nltk_data]     /Users/camden/nltk_data...\n",
      "[nltk_data]   Package inaugural is already up-to-date!\n"
     ]
    }
   ],
   "source": [
    "from nltk.corpus import inaugural\n",
    "from collections import Counter\n",
    "import spacy\n",
    "import pandas as pd\n",
    "\n",
    "# Download NLTK's inaugural corpora\n",
    "import nltk\n",
    "nltk.download(\"inaugural\")\n",
    "\n",
    "nlp = spacy.load(\"en_core_web_sm\")"
   ]
  },
  {
   "cell_type": "code",
   "execution_count": 3,
   "metadata": {},
   "outputs": [],
   "source": [
    "# get ids and texts of inaugural addresses\n",
    "ids = inaugural.fileids()\n",
    "texts = [inaugural.raw(i) for i in ids]"
   ]
  },
  {
   "cell_type": "markdown",
   "metadata": {},
   "source": [
    "## Most frequent adjective from each speech"
   ]
  },
  {
   "cell_type": "code",
   "execution_count": 4,
   "metadata": {},
   "outputs": [],
   "source": [
    "# Function to get most common adjective from each text\n",
    "def most_freq_adj(text):\n",
    "    doc = nlp(text)\n",
    "    adjs = [token.text.lower() for token in doc if token.pos_ == 'ADJ']\n",
    "    return Counter(adjs).most_common(1)"
   ]
  },
  {
   "cell_type": "code",
   "execution_count": 5,
   "metadata": {},
   "outputs": [],
   "source": [
    "# Create a list of top adjectives for each inaugural\n",
    "adjs = [most_freq_adj(text) for text in texts]"
   ]
  },
  {
   "cell_type": "code",
   "execution_count": 6,
   "metadata": {},
   "outputs": [
    {
     "data": {
      "text/html": [
       "<div>\n",
       "<style scoped>\n",
       "    .dataframe tbody tr th:only-of-type {\n",
       "        vertical-align: middle;\n",
       "    }\n",
       "\n",
       "    .dataframe tbody tr th {\n",
       "        vertical-align: top;\n",
       "    }\n",
       "\n",
       "    .dataframe thead th {\n",
       "        text-align: right;\n",
       "    }\n",
       "</style>\n",
       "<table border=\"1\" class=\"dataframe\">\n",
       "  <thead>\n",
       "    <tr style=\"text-align: right;\">\n",
       "      <th></th>\n",
       "      <th>inauguration</th>\n",
       "      <th>adjective</th>\n",
       "    </tr>\n",
       "  </thead>\n",
       "  <tbody>\n",
       "    <tr>\n",
       "      <td>0</td>\n",
       "      <td>1789-Washington.txt</td>\n",
       "      <td>[(public, 6)]</td>\n",
       "    </tr>\n",
       "    <tr>\n",
       "      <td>1</td>\n",
       "      <td>1793-Washington.txt</td>\n",
       "      <td>[(fellow, 1)]</td>\n",
       "    </tr>\n",
       "    <tr>\n",
       "      <td>2</td>\n",
       "      <td>1797-Adams.txt</td>\n",
       "      <td>[(foreign, 8)]</td>\n",
       "    </tr>\n",
       "    <tr>\n",
       "      <td>3</td>\n",
       "      <td>1801-Jefferson.txt</td>\n",
       "      <td>[(own, 6)]</td>\n",
       "    </tr>\n",
       "    <tr>\n",
       "      <td>4</td>\n",
       "      <td>1805-Jefferson.txt</td>\n",
       "      <td>[(public, 14)]</td>\n",
       "    </tr>\n",
       "    <tr>\n",
       "      <td>5</td>\n",
       "      <td>1809-Madison.txt</td>\n",
       "      <td>[(public, 6)]</td>\n",
       "    </tr>\n",
       "    <tr>\n",
       "      <td>6</td>\n",
       "      <td>1813-Madison.txt</td>\n",
       "      <td>[(other, 4)]</td>\n",
       "    </tr>\n",
       "    <tr>\n",
       "      <td>7</td>\n",
       "      <td>1817-Monroe.txt</td>\n",
       "      <td>[(great, 20)]</td>\n",
       "    </tr>\n",
       "    <tr>\n",
       "      <td>8</td>\n",
       "      <td>1821-Monroe.txt</td>\n",
       "      <td>[(great, 26)]</td>\n",
       "    </tr>\n",
       "    <tr>\n",
       "      <td>9</td>\n",
       "      <td>1825-Adams.txt</td>\n",
       "      <td>[(other, 10)]</td>\n",
       "    </tr>\n",
       "    <tr>\n",
       "      <td>10</td>\n",
       "      <td>1829-Jackson.txt</td>\n",
       "      <td>[(public, 8)]</td>\n",
       "    </tr>\n",
       "    <tr>\n",
       "      <td>11</td>\n",
       "      <td>1833-Jackson.txt</td>\n",
       "      <td>[(fellow, 3)]</td>\n",
       "    </tr>\n",
       "    <tr>\n",
       "      <td>12</td>\n",
       "      <td>1837-VanBuren.txt</td>\n",
       "      <td>[(other, 8)]</td>\n",
       "    </tr>\n",
       "    <tr>\n",
       "      <td>13</td>\n",
       "      <td>1841-Harrison.txt</td>\n",
       "      <td>[(other, 26)]</td>\n",
       "    </tr>\n",
       "    <tr>\n",
       "      <td>14</td>\n",
       "      <td>1845-Polk.txt</td>\n",
       "      <td>[(free, 12)]</td>\n",
       "    </tr>\n",
       "    <tr>\n",
       "      <td>15</td>\n",
       "      <td>1849-Taylor.txt</td>\n",
       "      <td>[(own, 5)]</td>\n",
       "    </tr>\n",
       "    <tr>\n",
       "      <td>16</td>\n",
       "      <td>1853-Pierce.txt</td>\n",
       "      <td>[(great, 8)]</td>\n",
       "    </tr>\n",
       "    <tr>\n",
       "      <td>17</td>\n",
       "      <td>1857-Buchanan.txt</td>\n",
       "      <td>[(great, 11)]</td>\n",
       "    </tr>\n",
       "    <tr>\n",
       "      <td>18</td>\n",
       "      <td>1861-Lincoln.txt</td>\n",
       "      <td>[(such, 15)]</td>\n",
       "    </tr>\n",
       "    <tr>\n",
       "      <td>19</td>\n",
       "      <td>1865-Lincoln.txt</td>\n",
       "      <td>[(other, 3)]</td>\n",
       "    </tr>\n",
       "    <tr>\n",
       "      <td>20</td>\n",
       "      <td>1869-Grant.txt</td>\n",
       "      <td>[(best, 5)]</td>\n",
       "    </tr>\n",
       "    <tr>\n",
       "      <td>21</td>\n",
       "      <td>1873-Grant.txt</td>\n",
       "      <td>[(great, 5)]</td>\n",
       "    </tr>\n",
       "    <tr>\n",
       "      <td>22</td>\n",
       "      <td>1877-Hayes.txt</td>\n",
       "      <td>[(political, 10)]</td>\n",
       "    </tr>\n",
       "    <tr>\n",
       "      <td>23</td>\n",
       "      <td>1881-Garfield.txt</td>\n",
       "      <td>[(great, 11)]</td>\n",
       "    </tr>\n",
       "    <tr>\n",
       "      <td>24</td>\n",
       "      <td>1885-Cleveland.txt</td>\n",
       "      <td>[(public, 11)]</td>\n",
       "    </tr>\n",
       "    <tr>\n",
       "      <td>25</td>\n",
       "      <td>1889-Harrison.txt</td>\n",
       "      <td>[(public, 17)]</td>\n",
       "    </tr>\n",
       "    <tr>\n",
       "      <td>26</td>\n",
       "      <td>1893-Cleveland.txt</td>\n",
       "      <td>[(public, 8)]</td>\n",
       "    </tr>\n",
       "    <tr>\n",
       "      <td>27</td>\n",
       "      <td>1897-McKinley.txt</td>\n",
       "      <td>[(great, 15)]</td>\n",
       "    </tr>\n",
       "    <tr>\n",
       "      <td>28</td>\n",
       "      <td>1901-McKinley.txt</td>\n",
       "      <td>[(american, 7)]</td>\n",
       "    </tr>\n",
       "    <tr>\n",
       "      <td>29</td>\n",
       "      <td>1905-Roosevelt.txt</td>\n",
       "      <td>[(great, 5)]</td>\n",
       "    </tr>\n",
       "    <tr>\n",
       "      <td>30</td>\n",
       "      <td>1909-Taft.txt</td>\n",
       "      <td>[(proper, 15)]</td>\n",
       "    </tr>\n",
       "    <tr>\n",
       "      <td>31</td>\n",
       "      <td>1913-Wilson.txt</td>\n",
       "      <td>[(great, 14)]</td>\n",
       "    </tr>\n",
       "    <tr>\n",
       "      <td>32</td>\n",
       "      <td>1917-Wilson.txt</td>\n",
       "      <td>[(own, 15)]</td>\n",
       "    </tr>\n",
       "    <tr>\n",
       "      <td>33</td>\n",
       "      <td>1921-Harding.txt</td>\n",
       "      <td>[(new, 13)]</td>\n",
       "    </tr>\n",
       "    <tr>\n",
       "      <td>34</td>\n",
       "      <td>1925-Coolidge.txt</td>\n",
       "      <td>[(great, 15)]</td>\n",
       "    </tr>\n",
       "    <tr>\n",
       "      <td>35</td>\n",
       "      <td>1929-Hoover.txt</td>\n",
       "      <td>[(public, 10)]</td>\n",
       "    </tr>\n",
       "    <tr>\n",
       "      <td>36</td>\n",
       "      <td>1933-Roosevelt.txt</td>\n",
       "      <td>[(national, 9)]</td>\n",
       "    </tr>\n",
       "    <tr>\n",
       "      <td>37</td>\n",
       "      <td>1937-Roosevelt.txt</td>\n",
       "      <td>[(good, 7)]</td>\n",
       "    </tr>\n",
       "    <tr>\n",
       "      <td>38</td>\n",
       "      <td>1941-Roosevelt.txt</td>\n",
       "      <td>[(human, 5)]</td>\n",
       "    </tr>\n",
       "    <tr>\n",
       "      <td>39</td>\n",
       "      <td>1945-Roosevelt.txt</td>\n",
       "      <td>[(simple, 2)]</td>\n",
       "    </tr>\n",
       "    <tr>\n",
       "      <td>40</td>\n",
       "      <td>1949-Truman.txt</td>\n",
       "      <td>[(free, 11)]</td>\n",
       "    </tr>\n",
       "    <tr>\n",
       "      <td>41</td>\n",
       "      <td>1953-Eisenhower.txt</td>\n",
       "      <td>[(free, 21)]</td>\n",
       "    </tr>\n",
       "    <tr>\n",
       "      <td>42</td>\n",
       "      <td>1957-Eisenhower.txt</td>\n",
       "      <td>[(own, 9)]</td>\n",
       "    </tr>\n",
       "    <tr>\n",
       "      <td>43</td>\n",
       "      <td>1961-Kennedy.txt</td>\n",
       "      <td>[(new, 7)]</td>\n",
       "    </tr>\n",
       "    <tr>\n",
       "      <td>44</td>\n",
       "      <td>1965-Johnson.txt</td>\n",
       "      <td>[(old, 7)]</td>\n",
       "    </tr>\n",
       "    <tr>\n",
       "      <td>45</td>\n",
       "      <td>1969-Nixon.txt</td>\n",
       "      <td>[(new, 8)]</td>\n",
       "    </tr>\n",
       "    <tr>\n",
       "      <td>46</td>\n",
       "      <td>1973-Nixon.txt</td>\n",
       "      <td>[(new, 13)]</td>\n",
       "    </tr>\n",
       "    <tr>\n",
       "      <td>47</td>\n",
       "      <td>1977-Carter.txt</td>\n",
       "      <td>[(new, 9)]</td>\n",
       "    </tr>\n",
       "    <tr>\n",
       "      <td>48</td>\n",
       "      <td>1981-Reagan.txt</td>\n",
       "      <td>[(other, 4)]</td>\n",
       "    </tr>\n",
       "    <tr>\n",
       "      <td>49</td>\n",
       "      <td>1985-Reagan.txt</td>\n",
       "      <td>[(new, 9)]</td>\n",
       "    </tr>\n",
       "    <tr>\n",
       "      <td>50</td>\n",
       "      <td>1989-Bush.txt</td>\n",
       "      <td>[(new, 14)]</td>\n",
       "    </tr>\n",
       "    <tr>\n",
       "      <td>51</td>\n",
       "      <td>1993-Clinton.txt</td>\n",
       "      <td>[(new, 9)]</td>\n",
       "    </tr>\n",
       "    <tr>\n",
       "      <td>52</td>\n",
       "      <td>1997-Clinton.txt</td>\n",
       "      <td>[(new, 29)]</td>\n",
       "    </tr>\n",
       "    <tr>\n",
       "      <td>53</td>\n",
       "      <td>2001-Bush.txt</td>\n",
       "      <td>[(common, 5)]</td>\n",
       "    </tr>\n",
       "    <tr>\n",
       "      <td>54</td>\n",
       "      <td>2005-Bush.txt</td>\n",
       "      <td>[(own, 9)]</td>\n",
       "    </tr>\n",
       "    <tr>\n",
       "      <td>55</td>\n",
       "      <td>2009-Obama.txt</td>\n",
       "      <td>[(new, 11)]</td>\n",
       "    </tr>\n",
       "    <tr>\n",
       "      <td>56</td>\n",
       "      <td>2013-Obama.txt</td>\n",
       "      <td>[(new, 6)]</td>\n",
       "    </tr>\n",
       "    <tr>\n",
       "      <td>57</td>\n",
       "      <td>2017-Trump.txt</td>\n",
       "      <td>[(american, 11)]</td>\n",
       "    </tr>\n",
       "  </tbody>\n",
       "</table>\n",
       "</div>"
      ],
      "text/plain": [
       "           inauguration          adjective\n",
       "0   1789-Washington.txt      [(public, 6)]\n",
       "1   1793-Washington.txt      [(fellow, 1)]\n",
       "2        1797-Adams.txt     [(foreign, 8)]\n",
       "3    1801-Jefferson.txt         [(own, 6)]\n",
       "4    1805-Jefferson.txt     [(public, 14)]\n",
       "5      1809-Madison.txt      [(public, 6)]\n",
       "6      1813-Madison.txt       [(other, 4)]\n",
       "7       1817-Monroe.txt      [(great, 20)]\n",
       "8       1821-Monroe.txt      [(great, 26)]\n",
       "9        1825-Adams.txt      [(other, 10)]\n",
       "10     1829-Jackson.txt      [(public, 8)]\n",
       "11     1833-Jackson.txt      [(fellow, 3)]\n",
       "12    1837-VanBuren.txt       [(other, 8)]\n",
       "13    1841-Harrison.txt      [(other, 26)]\n",
       "14        1845-Polk.txt       [(free, 12)]\n",
       "15      1849-Taylor.txt         [(own, 5)]\n",
       "16      1853-Pierce.txt       [(great, 8)]\n",
       "17    1857-Buchanan.txt      [(great, 11)]\n",
       "18     1861-Lincoln.txt       [(such, 15)]\n",
       "19     1865-Lincoln.txt       [(other, 3)]\n",
       "20       1869-Grant.txt        [(best, 5)]\n",
       "21       1873-Grant.txt       [(great, 5)]\n",
       "22       1877-Hayes.txt  [(political, 10)]\n",
       "23    1881-Garfield.txt      [(great, 11)]\n",
       "24   1885-Cleveland.txt     [(public, 11)]\n",
       "25    1889-Harrison.txt     [(public, 17)]\n",
       "26   1893-Cleveland.txt      [(public, 8)]\n",
       "27    1897-McKinley.txt      [(great, 15)]\n",
       "28    1901-McKinley.txt    [(american, 7)]\n",
       "29   1905-Roosevelt.txt       [(great, 5)]\n",
       "30        1909-Taft.txt     [(proper, 15)]\n",
       "31      1913-Wilson.txt      [(great, 14)]\n",
       "32      1917-Wilson.txt        [(own, 15)]\n",
       "33     1921-Harding.txt        [(new, 13)]\n",
       "34    1925-Coolidge.txt      [(great, 15)]\n",
       "35      1929-Hoover.txt     [(public, 10)]\n",
       "36   1933-Roosevelt.txt    [(national, 9)]\n",
       "37   1937-Roosevelt.txt        [(good, 7)]\n",
       "38   1941-Roosevelt.txt       [(human, 5)]\n",
       "39   1945-Roosevelt.txt      [(simple, 2)]\n",
       "40      1949-Truman.txt       [(free, 11)]\n",
       "41  1953-Eisenhower.txt       [(free, 21)]\n",
       "42  1957-Eisenhower.txt         [(own, 9)]\n",
       "43     1961-Kennedy.txt         [(new, 7)]\n",
       "44     1965-Johnson.txt         [(old, 7)]\n",
       "45       1969-Nixon.txt         [(new, 8)]\n",
       "46       1973-Nixon.txt        [(new, 13)]\n",
       "47      1977-Carter.txt         [(new, 9)]\n",
       "48      1981-Reagan.txt       [(other, 4)]\n",
       "49      1985-Reagan.txt         [(new, 9)]\n",
       "50        1989-Bush.txt        [(new, 14)]\n",
       "51     1993-Clinton.txt         [(new, 9)]\n",
       "52     1997-Clinton.txt        [(new, 29)]\n",
       "53        2001-Bush.txt      [(common, 5)]\n",
       "54        2005-Bush.txt         [(own, 9)]\n",
       "55       2009-Obama.txt        [(new, 11)]\n",
       "56       2013-Obama.txt         [(new, 6)]\n",
       "57       2017-Trump.txt   [(american, 11)]"
      ]
     },
     "execution_count": 6,
     "metadata": {},
     "output_type": "execute_result"
    }
   ],
   "source": [
    "pd.DataFrame({'inauguration':ids, 'adjective':adjs})"
   ]
  },
  {
   "cell_type": "markdown",
   "metadata": {},
   "source": [
    "## Adjectives over time"
   ]
  },
  {
   "cell_type": "code",
   "execution_count": 7,
   "metadata": {},
   "outputs": [],
   "source": [
    "from nltk.tokenize import word_tokenize"
   ]
  },
  {
   "cell_type": "code",
   "execution_count": 8,
   "metadata": {},
   "outputs": [],
   "source": [
    "# Define a function returning ALL adjectives for each text\n",
    "def all_adj(text):\n",
    "    doc = nlp(text)\n",
    "    adjs = [token.text.lower() for token in doc if token.pos_ == 'ADJ']\n",
    "    return adjs"
   ]
  },
  {
   "cell_type": "code",
   "execution_count": 9,
   "metadata": {},
   "outputs": [],
   "source": [
    "adjectives = []\n",
    "for text in texts:\n",
    "    adjectives = adjectives + all_adj(text)"
   ]
  },
  {
   "cell_type": "code",
   "execution_count": 10,
   "metadata": {},
   "outputs": [
    {
     "data": {
      "text/plain": [
       "[('great', 329), ('other', 264), ('own', 246)]"
      ]
     },
     "execution_count": 10,
     "metadata": {},
     "output_type": "execute_result"
    }
   ],
   "source": [
    "Counter(adjectives).most_common(3)"
   ]
  },
  {
   "cell_type": "code",
   "execution_count": 11,
   "metadata": {},
   "outputs": [],
   "source": [
    "# return counts of each word in each text\n",
    "def get_counts(text, word):\n",
    "    tok = word_tokenize(text)\n",
    "    tok = [word.lower() for word in tok]\n",
    "    return tok.count(word)"
   ]
  },
  {
   "cell_type": "code",
   "execution_count": 12,
   "metadata": {},
   "outputs": [],
   "source": [
    "great = [get_counts(text,'great') for text in texts]\n",
    "other = [get_counts(text,'other') for text in texts]\n",
    "own = [get_counts(text,'own') for text in texts]"
   ]
  },
  {
   "cell_type": "code",
   "execution_count": 13,
   "metadata": {},
   "outputs": [],
   "source": [
    "# get years from fileids\n",
    "dates = [i.split('-')[0] for i in ids]"
   ]
  },
  {
   "cell_type": "code",
   "execution_count": 14,
   "metadata": {},
   "outputs": [],
   "source": [
    "adj_df = pd.DataFrame({'great':great, 'other':other, 'own':own})\n",
    "adj_df.index = pd.to_datetime(dates)"
   ]
  },
  {
   "cell_type": "code",
   "execution_count": 15,
   "metadata": {},
   "outputs": [
    {
     "data": {
      "text/plain": [
       "<matplotlib.axes._subplots.AxesSubplot at 0x1a2f4ef128>"
      ]
     },
     "execution_count": 15,
     "metadata": {},
     "output_type": "execute_result"
    },
    {
     "data": {
      "image/png": "[encoded data removed]",
      "text/plain": [
       "<Figure size 432x288 with 1 Axes>"
      ]
     },
     "metadata": {
      "needs_background": "light"
     },
     "output_type": "display_data"
    }
   ],
   "source": [
    "# plot frequencies of each word\n",
    "adj_df.plot(kind='line')"
   ]
  },
  {
   "cell_type": "markdown",
   "metadata": {},
   "source": [
    "## Adjectives describing America"
   ]
  },
  {
   "cell_type": "code",
   "execution_count": 16,
   "metadata": {},
   "outputs": [],
   "source": [
    "def describe_america(text):\n",
    "    doc = nlp(text)\n",
    "    adjs = [token.text.lower() for token in doc if (token.pos_ == 'ADJ' and token.head.text == 'America')]\n",
    "    return adjs"
   ]
  },
  {
   "cell_type": "code",
   "execution_count": 17,
   "metadata": {},
   "outputs": [],
   "source": [
    "descriptions = []\n",
    "for text in texts:\n",
    "    descriptions = descriptions + describe_america(text)"
   ]
  },
  {
   "cell_type": "code",
   "execution_count": 18,
   "metadata": {},
   "outputs": [
    {
     "data": {
      "text/plain": [
       "['productive', 'strong', 'stronger']"
      ]
     },
     "execution_count": 18,
     "metadata": {},
     "output_type": "execute_result"
    }
   ],
   "source": [
    "descriptions"
   ]
  }
 ],
 "metadata": {
  "kernelspec": {
   "display_name": "Python 3",
   "language": "python",
   "name": "python3"
  },
  "language_info": {
   "codemirror_mode": {
    "name": "ipython",
    "version": 3
   },
   "file_extension": ".py",
   "mimetype": "text/x-python",
   "name": "python",
   "nbconvert_exporter": "python",
   "pygments_lexer": "ipython3",
   "version": "3.7.1"
  }
 },
 "nbformat": 4,
 "nbformat_minor": 4
}
