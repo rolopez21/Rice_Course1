{
 "cells": [
  {
   "cell_type": "markdown",
   "metadata": {},
   "source": [
    "# Extending Plotting"
   ]
  },
  {
   "cell_type": "markdown",
   "metadata": {},
   "source": [
    "It's time to extend your plotting skills. Over the past two lessons, you've learned how to create a range of interactive plots using hvPlot and Plotly Express; however, you haven't had one centralized location to embed these plots. Now you do! Integrate Plotly map visualizations with hvPlot scatter plots to create a Population and Crimes dashboard."
   ]
  },
  {
   "cell_type": "code",
   "execution_count": null,
   "metadata": {},
   "outputs": [],
   "source": [
    "import plotly.express as px\n",
    "import hvplot.pandas\n",
    "import panel as pn\n",
    "import pandas as pd\n",
    "import os\n",
    "from pathlib import Path"
   ]
  },
  {
   "cell_type": "markdown",
   "metadata": {},
   "source": [
    "### Use extension function to specify plugin"
   ]
  },
  {
   "cell_type": "code",
   "execution_count": null,
   "metadata": {},
   "outputs": [],
   "source": [
    "# Set up Panel Plotly extension\n",
    "pn.extension('plotly')"
   ]
  },
  {
   "cell_type": "markdown",
   "metadata": {},
   "source": [
    "### Set up Mapbox token and prepare data"
   ]
  },
  {
   "cell_type": "code",
   "execution_count": null,
   "metadata": {},
   "outputs": [],
   "source": [
    "# Extract token\n",
    "mapbox_token = os.getenv(\"MAPBOX_API_KEY\")\n",
    "\n",
    "# Set token using Plotly Express set function\n",
    "px.set_mapbox_access_token(mapbox_token)\n",
    "\n",
    "# Read in data\n",
    "city_pop = pd.read_csv(Path(\"../Resources/population_counts.csv\")).drop_duplicates()\n",
    "crime_rates = pd.read_csv(Path(\"../Resources/crime_rates.csv\")).drop_duplicates()\n",
    "\n",
    "pop_with_index = city_pop.set_index(\"city\")\n",
    "crime_with_index = crime_rates.set_index(\"city\")\n",
    "population_crime = (\n",
    "    pd.concat([pop_with_index, crime_with_index], axis=1, sort=True)\n",
    "    .dropna()\n",
    "    .reset_index()\n",
    ")"
   ]
  },
  {
   "cell_type": "markdown",
   "metadata": {},
   "source": [
    "### Create plots"
   ]
  },
  {
   "cell_type": "code",
   "execution_count": null,
   "metadata": {},
   "outputs": [],
   "source": [
    "# Create plots\n",
    "population_plot = px.scatter_mapbox(\n",
    "    population_crime,\n",
    "    lat=\"latitude\",\n",
    "    lon=\"longitude\",\n",
    "    size=\"pop_2015\",\n",
    "    color=\"index\",\n",
    "    color_continuous_scale=px.colors.cyclical.IceFire,\n",
    "    title=\"City Population\",\n",
    "    zoom=3,\n",
    "    width=1000,\n",
    ")\n",
    "\n",
    "crime_plot = px.scatter_mapbox(\n",
    "    population_crime,\n",
    "    lat=\"latitude\",\n",
    "    lon=\"longitude\",\n",
    "    size=\"violent_crime\",\n",
    "    color=\"index\",\n",
    "    color_continuous_scale=px.colors.cyclical.IceFire,\n",
    "    title=\"City Crime\",\n",
    "    zoom=3,\n",
    "    width=1000,\n",
    ")\n",
    "\n",
    "population_violence = population_crime.hvplot.scatter(\n",
    "    x=\"pop_2015\",\n",
    "    y=\"violent_crime\",\n",
    "    title=\"Violent Crime by Population Correlation\",\n",
    "    width=1000,\n",
    ").opts(yformatter=\"%.0f\")\n",
    "\n",
    "violent_murder = population_crime.hvplot.scatter(\n",
    "    x=\"violent_crime\",\n",
    "    y=\"murder\",\n",
    "    title=\"Correlation Between Number of Violent Crimes and Murder\",\n",
    "    width=1000,\n",
    ").opts(yformatter=\"%.0f\")"
   ]
  },
  {
   "cell_type": "markdown",
   "metadata": {},
   "source": [
    "### Create Panel columns and tabs"
   ]
  },
  {
   "cell_type": "code",
   "execution_count": null,
   "metadata": {},
   "outputs": [],
   "source": [
    "# Create Panel column for Plotly map plots\n",
    "\n",
    "# Create Panel column for hv scatter plots\n",
    "\n",
    "# Add columns to Tab panel\n"
   ]
  }
 ],
 "metadata": {
  "kernelspec": {
   "display_name": "Python 3",
   "language": "python",
   "name": "python3"
  },
  "language_info": {
   "codemirror_mode": {
    "name": "ipython",
    "version": 3
   },
   "file_extension": ".py",
   "mimetype": "text/x-python",
   "name": "python",
   "nbconvert_exporter": "python",
   "pygments_lexer": "ipython3",
   "version": "3.7.3"
  }
 },
 "nbformat": 4,
 "nbformat_minor": 4
}
