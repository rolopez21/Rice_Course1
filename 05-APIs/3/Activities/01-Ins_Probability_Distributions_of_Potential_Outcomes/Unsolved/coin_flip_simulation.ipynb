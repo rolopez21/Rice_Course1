{
 "cells": [
  {
   "cell_type": "markdown",
   "metadata": {},
   "source": [
    "### Instructor Demo: Coin Flip Simulation\n",
    "\n",
    "This program executes `n` number of simulations of flipping a coin 10 times. Results are then saved to a DataFrame to calculate the frequency distribution and corresponding probability distribution of the coin landing on heads."
   ]
  },
  {
   "cell_type": "code",
   "execution_count": 1,
   "metadata": {},
   "outputs": [],
   "source": [
    "# Import libraries and dependencies\n"
   ]
  },
  {
   "cell_type": "markdown",
   "metadata": {},
   "source": [
    "### Perform `5` Monte Carlo Simulations and Create Pandas DataFrame From Results"
   ]
  },
  {
   "cell_type": "code",
   "execution_count": 2,
   "metadata": {},
   "outputs": [
    {
     "data": {
      "text/html": [
       "<div>\n",
       "<style scoped>\n",
       "    .dataframe tbody tr th:only-of-type {\n",
       "        vertical-align: middle;\n",
       "    }\n",
       "\n",
       "    .dataframe tbody tr th {\n",
       "        vertical-align: top;\n",
       "    }\n",
       "\n",
       "    .dataframe thead th {\n",
       "        text-align: right;\n",
       "    }\n",
       "</style>\n",
       "<table border=\"1\" class=\"dataframe\">\n",
       "  <thead>\n",
       "    <tr style=\"text-align: right;\">\n",
       "      <th></th>\n",
       "      <th>Simulation 0</th>\n",
       "      <th>Simulation 1</th>\n",
       "      <th>Simulation 2</th>\n",
       "      <th>Simulation 3</th>\n",
       "      <th>Simulation 4</th>\n",
       "    </tr>\n",
       "  </thead>\n",
       "  <tbody>\n",
       "    <tr>\n",
       "      <th>0</th>\n",
       "      <td>tails</td>\n",
       "      <td>tails</td>\n",
       "      <td>tails</td>\n",
       "      <td>heads</td>\n",
       "      <td>tails</td>\n",
       "    </tr>\n",
       "    <tr>\n",
       "      <th>1</th>\n",
       "      <td>heads</td>\n",
       "      <td>heads</td>\n",
       "      <td>heads</td>\n",
       "      <td>tails</td>\n",
       "      <td>tails</td>\n",
       "    </tr>\n",
       "    <tr>\n",
       "      <th>2</th>\n",
       "      <td>heads</td>\n",
       "      <td>heads</td>\n",
       "      <td>heads</td>\n",
       "      <td>tails</td>\n",
       "      <td>heads</td>\n",
       "    </tr>\n",
       "    <tr>\n",
       "      <th>3</th>\n",
       "      <td>tails</td>\n",
       "      <td>tails</td>\n",
       "      <td>tails</td>\n",
       "      <td>tails</td>\n",
       "      <td>heads</td>\n",
       "    </tr>\n",
       "    <tr>\n",
       "      <th>4</th>\n",
       "      <td>tails</td>\n",
       "      <td>tails</td>\n",
       "      <td>heads</td>\n",
       "      <td>tails</td>\n",
       "      <td>heads</td>\n",
       "    </tr>\n",
       "    <tr>\n",
       "      <th>5</th>\n",
       "      <td>heads</td>\n",
       "      <td>heads</td>\n",
       "      <td>tails</td>\n",
       "      <td>tails</td>\n",
       "      <td>tails</td>\n",
       "    </tr>\n",
       "    <tr>\n",
       "      <th>6</th>\n",
       "      <td>tails</td>\n",
       "      <td>heads</td>\n",
       "      <td>heads</td>\n",
       "      <td>heads</td>\n",
       "      <td>tails</td>\n",
       "    </tr>\n",
       "    <tr>\n",
       "      <th>7</th>\n",
       "      <td>heads</td>\n",
       "      <td>heads</td>\n",
       "      <td>tails</td>\n",
       "      <td>tails</td>\n",
       "      <td>tails</td>\n",
       "    </tr>\n",
       "    <tr>\n",
       "      <th>8</th>\n",
       "      <td>tails</td>\n",
       "      <td>tails</td>\n",
       "      <td>heads</td>\n",
       "      <td>heads</td>\n",
       "      <td>heads</td>\n",
       "    </tr>\n",
       "    <tr>\n",
       "      <th>9</th>\n",
       "      <td>heads</td>\n",
       "      <td>tails</td>\n",
       "      <td>heads</td>\n",
       "      <td>heads</td>\n",
       "      <td>tails</td>\n",
       "    </tr>\n",
       "  </tbody>\n",
       "</table>\n",
       "</div>"
      ],
      "text/plain": [
       "  Simulation 0 Simulation 1 Simulation 2 Simulation 3 Simulation 4\n",
       "0        tails        tails        tails        heads        tails\n",
       "1        heads        heads        heads        tails        tails\n",
       "2        heads        heads        heads        tails        heads\n",
       "3        tails        tails        tails        tails        heads\n",
       "4        tails        tails        heads        tails        heads\n",
       "5        heads        heads        tails        tails        tails\n",
       "6        tails        heads        heads        heads        tails\n",
       "7        heads        heads        tails        tails        tails\n",
       "8        tails        tails        heads        heads        heads\n",
       "9        heads        tails        heads        heads        tails"
      ]
     },
     "execution_count": 2,
     "metadata": {},
     "output_type": "execute_result"
    }
   ],
   "source": [
    "# Set number of simulations and coin flips\n",
    "\n",
    "\n",
    "# Set a list object acting as a coin: heads or tails\n",
    "\n",
    "\n",
    "# Set probability of events\n",
    "\n",
    "\n",
    "# Create an empty DataFrame to hold simulation results\n",
    "\n",
    "\n",
    "# Run n number of simulations\n",
    "\n",
    "\n",
    "    # Print simulation iteration\n",
    "\n",
    "    \n",
    "    # Set an empty list to hold flip results\n",
    "\n",
    "\n",
    "    # Flip the coin several times\n",
    "\n",
    "        \n",
    "        # Random int: 0 or 1\n",
    "\n",
    "        \n",
    "        # Print flip result\n",
    "\n",
    "\n",
    "        # Append flip result to list\n",
    "\n",
    "\n",
    "    # Append column for each simulation and flip results\n",
    "\n",
    "\n",
    "# Print the DataFrame\n"
   ]
  },
  {
   "cell_type": "markdown",
   "metadata": {},
   "source": [
    "### Calculate Frequency Distribution of Heads-to-Tails for `5` Simulations and Save Results to DataFrame"
   ]
  },
  {
   "cell_type": "code",
   "execution_count": 3,
   "metadata": {},
   "outputs": [
    {
     "data": {
      "text/html": [
       "<div>\n",
       "<style scoped>\n",
       "    .dataframe tbody tr th:only-of-type {\n",
       "        vertical-align: middle;\n",
       "    }\n",
       "\n",
       "    .dataframe tbody tr th {\n",
       "        vertical-align: top;\n",
       "    }\n",
       "\n",
       "    .dataframe thead th {\n",
       "        text-align: right;\n",
       "    }\n",
       "</style>\n",
       "<table border=\"1\" class=\"dataframe\">\n",
       "  <thead>\n",
       "    <tr style=\"text-align: right;\">\n",
       "      <th></th>\n",
       "      <th>heads</th>\n",
       "      <th>tails</th>\n",
       "    </tr>\n",
       "  </thead>\n",
       "  <tbody>\n",
       "    <tr>\n",
       "      <th>0</th>\n",
       "      <td>5</td>\n",
       "      <td>5</td>\n",
       "    </tr>\n",
       "    <tr>\n",
       "      <th>1</th>\n",
       "      <td>5</td>\n",
       "      <td>5</td>\n",
       "    </tr>\n",
       "    <tr>\n",
       "      <th>2</th>\n",
       "      <td>6</td>\n",
       "      <td>4</td>\n",
       "    </tr>\n",
       "    <tr>\n",
       "      <th>3</th>\n",
       "      <td>4</td>\n",
       "      <td>6</td>\n",
       "    </tr>\n",
       "    <tr>\n",
       "      <th>4</th>\n",
       "      <td>4</td>\n",
       "      <td>6</td>\n",
       "    </tr>\n",
       "  </tbody>\n",
       "</table>\n",
       "</div>"
      ],
      "text/plain": [
       "   heads  tails\n",
       "0      5      5\n",
       "1      5      5\n",
       "2      6      4\n",
       "3      4      6\n",
       "4      4      6"
      ]
     },
     "execution_count": 3,
     "metadata": {},
     "output_type": "execute_result"
    }
   ],
   "source": [
    "# Set empty DataFrame to hold frequency distribution values\n",
    "\n",
    "\n",
    "# Set empty lists to hold heads and tails results per simulation\n",
    "\n",
    "\n",
    "# Loop through the results of every simulation\n",
    "\n",
    "    \n",
    "    # Use the `value_counts` function to calculate the frequency distribution \n",
    "    # of heads-to-tails for every simulation, returns Series object\n",
    "\n",
    "    \n",
    "    # Append results of heads and tails to respective lists\n",
    "    # If `heads` and `tails key is present in the Series, append both results\n",
    "\n",
    "        \n",
    "    # If `heads` key is not present in the Series, append heads list with 0\n",
    "    # And append tails list with tails result (simulation must have returned all tails)\n",
    "\n",
    "        \n",
    "    # If `tails` key is not present in the Series, append tails list with 0\n",
    "    # And append heads list with heads result (simulation must have returned all heads)\n",
    "\n",
    "        \n",
    "# Create columns from heads and tails lists\n"
   ]
  },
  {
   "cell_type": "markdown",
   "metadata": {},
   "source": [
    "### Plot Frequency Distribution of Landing on Heads for `5` Simulations of 10 Coin Flips"
   ]
  },
  {
   "cell_type": "code",
   "execution_count": 4,
   "metadata": {},
   "outputs": [
    {
     "data": {
      "text/plain": [
       "<matplotlib.axes._subplots.AxesSubplot at 0x11e6aedd8>"
      ]
     },
     "execution_count": 4,
     "metadata": {},
     "output_type": "execute_result"
    },
    {
     "data": {
      "image/png": "[encoded data removed]",
      "text/plain": [
       "<Figure size 432x288 with 1 Axes>"
      ]
     },
     "metadata": {
      "needs_background": "light"
     },
     "output_type": "display_data"
    }
   ],
   "source": [
    "# Plot the data as a histogram\n"
   ]
  },
  {
   "cell_type": "code",
   "execution_count": 5,
   "metadata": {},
   "outputs": [
    {
     "data": {
      "text/plain": [
       "<matplotlib.axes._subplots.AxesSubplot at 0x12086b080>"
      ]
     },
     "execution_count": 5,
     "metadata": {},
     "output_type": "execute_result"
    },
    {
     "data": {
      "image/png": "[encoded data removed]",
      "text/plain": [
       "<Figure size 432x288 with 1 Axes>"
      ]
     },
     "metadata": {
      "needs_background": "light"
     },
     "output_type": "display_data"
    }
   ],
   "source": [
    "# Plot the data as a histogram but manually set the bin ranges\n"
   ]
  },
  {
   "cell_type": "markdown",
   "metadata": {},
   "source": [
    "### Plot Probability Distribution of Landing on Heads for `5` Simulations of 10 Coin Flips"
   ]
  },
  {
   "cell_type": "code",
   "execution_count": 6,
   "metadata": {},
   "outputs": [
    {
     "data": {
      "text/plain": [
       "<matplotlib.axes._subplots.AxesSubplot at 0x120956748>"
      ]
     },
     "execution_count": 6,
     "metadata": {},
     "output_type": "execute_result"
    },
    {
     "data": {
      "image/png": "[encoded data removed]",
      "text/plain": [
       "<Figure size 432x288 with 1 Axes>"
      ]
     },
     "metadata": {
      "needs_background": "light"
     },
     "output_type": "display_data"
    }
   ],
   "source": [
    "# Plot the data as a histogram with probabilities of \n"
   ]
  },
  {
   "cell_type": "markdown",
   "metadata": {},
   "source": [
    "---"
   ]
  },
  {
   "cell_type": "markdown",
   "metadata": {},
   "source": [
    "### Perform `100` Monte Carlo Simulations and Create Pandas DataFrame From Results"
   ]
  },
  {
   "cell_type": "code",
   "execution_count": 7,
   "metadata": {},
   "outputs": [
    {
     "data": {
      "text/html": [
       "<div>\n",
       "<style scoped>\n",
       "    .dataframe tbody tr th:only-of-type {\n",
       "        vertical-align: middle;\n",
       "    }\n",
       "\n",
       "    .dataframe tbody tr th {\n",
       "        vertical-align: top;\n",
       "    }\n",
       "\n",
       "    .dataframe thead th {\n",
       "        text-align: right;\n",
       "    }\n",
       "</style>\n",
       "<table border=\"1\" class=\"dataframe\">\n",
       "  <thead>\n",
       "    <tr style=\"text-align: right;\">\n",
       "      <th></th>\n",
       "      <th>Simulation 0</th>\n",
       "      <th>Simulation 1</th>\n",
       "      <th>Simulation 2</th>\n",
       "      <th>Simulation 3</th>\n",
       "      <th>Simulation 4</th>\n",
       "      <th>Simulation 5</th>\n",
       "      <th>Simulation 6</th>\n",
       "      <th>Simulation 7</th>\n",
       "      <th>Simulation 8</th>\n",
       "      <th>Simulation 9</th>\n",
       "      <th>...</th>\n",
       "      <th>Simulation 90</th>\n",
       "      <th>Simulation 91</th>\n",
       "      <th>Simulation 92</th>\n",
       "      <th>Simulation 93</th>\n",
       "      <th>Simulation 94</th>\n",
       "      <th>Simulation 95</th>\n",
       "      <th>Simulation 96</th>\n",
       "      <th>Simulation 97</th>\n",
       "      <th>Simulation 98</th>\n",
       "      <th>Simulation 99</th>\n",
       "    </tr>\n",
       "  </thead>\n",
       "  <tbody>\n",
       "    <tr>\n",
       "      <th>0</th>\n",
       "      <td>heads</td>\n",
       "      <td>tails</td>\n",
       "      <td>heads</td>\n",
       "      <td>tails</td>\n",
       "      <td>tails</td>\n",
       "      <td>tails</td>\n",
       "      <td>heads</td>\n",
       "      <td>tails</td>\n",
       "      <td>tails</td>\n",
       "      <td>tails</td>\n",
       "      <td>...</td>\n",
       "      <td>heads</td>\n",
       "      <td>tails</td>\n",
       "      <td>heads</td>\n",
       "      <td>tails</td>\n",
       "      <td>heads</td>\n",
       "      <td>tails</td>\n",
       "      <td>heads</td>\n",
       "      <td>tails</td>\n",
       "      <td>heads</td>\n",
       "      <td>tails</td>\n",
       "    </tr>\n",
       "    <tr>\n",
       "      <th>1</th>\n",
       "      <td>tails</td>\n",
       "      <td>heads</td>\n",
       "      <td>heads</td>\n",
       "      <td>heads</td>\n",
       "      <td>tails</td>\n",
       "      <td>heads</td>\n",
       "      <td>tails</td>\n",
       "      <td>heads</td>\n",
       "      <td>heads</td>\n",
       "      <td>tails</td>\n",
       "      <td>...</td>\n",
       "      <td>heads</td>\n",
       "      <td>heads</td>\n",
       "      <td>heads</td>\n",
       "      <td>tails</td>\n",
       "      <td>tails</td>\n",
       "      <td>heads</td>\n",
       "      <td>tails</td>\n",
       "      <td>tails</td>\n",
       "      <td>heads</td>\n",
       "      <td>heads</td>\n",
       "    </tr>\n",
       "    <tr>\n",
       "      <th>2</th>\n",
       "      <td>tails</td>\n",
       "      <td>heads</td>\n",
       "      <td>tails</td>\n",
       "      <td>tails</td>\n",
       "      <td>tails</td>\n",
       "      <td>tails</td>\n",
       "      <td>tails</td>\n",
       "      <td>tails</td>\n",
       "      <td>tails</td>\n",
       "      <td>heads</td>\n",
       "      <td>...</td>\n",
       "      <td>heads</td>\n",
       "      <td>tails</td>\n",
       "      <td>heads</td>\n",
       "      <td>heads</td>\n",
       "      <td>tails</td>\n",
       "      <td>heads</td>\n",
       "      <td>tails</td>\n",
       "      <td>heads</td>\n",
       "      <td>heads</td>\n",
       "      <td>heads</td>\n",
       "    </tr>\n",
       "    <tr>\n",
       "      <th>3</th>\n",
       "      <td>heads</td>\n",
       "      <td>heads</td>\n",
       "      <td>heads</td>\n",
       "      <td>heads</td>\n",
       "      <td>tails</td>\n",
       "      <td>heads</td>\n",
       "      <td>heads</td>\n",
       "      <td>tails</td>\n",
       "      <td>heads</td>\n",
       "      <td>tails</td>\n",
       "      <td>...</td>\n",
       "      <td>tails</td>\n",
       "      <td>tails</td>\n",
       "      <td>tails</td>\n",
       "      <td>heads</td>\n",
       "      <td>tails</td>\n",
       "      <td>heads</td>\n",
       "      <td>tails</td>\n",
       "      <td>heads</td>\n",
       "      <td>tails</td>\n",
       "      <td>heads</td>\n",
       "    </tr>\n",
       "    <tr>\n",
       "      <th>4</th>\n",
       "      <td>tails</td>\n",
       "      <td>tails</td>\n",
       "      <td>heads</td>\n",
       "      <td>tails</td>\n",
       "      <td>heads</td>\n",
       "      <td>tails</td>\n",
       "      <td>tails</td>\n",
       "      <td>tails</td>\n",
       "      <td>tails</td>\n",
       "      <td>tails</td>\n",
       "      <td>...</td>\n",
       "      <td>tails</td>\n",
       "      <td>tails</td>\n",
       "      <td>tails</td>\n",
       "      <td>tails</td>\n",
       "      <td>heads</td>\n",
       "      <td>heads</td>\n",
       "      <td>tails</td>\n",
       "      <td>heads</td>\n",
       "      <td>tails</td>\n",
       "      <td>heads</td>\n",
       "    </tr>\n",
       "    <tr>\n",
       "      <th>5</th>\n",
       "      <td>tails</td>\n",
       "      <td>tails</td>\n",
       "      <td>tails</td>\n",
       "      <td>heads</td>\n",
       "      <td>tails</td>\n",
       "      <td>heads</td>\n",
       "      <td>heads</td>\n",
       "      <td>heads</td>\n",
       "      <td>tails</td>\n",
       "      <td>heads</td>\n",
       "      <td>...</td>\n",
       "      <td>heads</td>\n",
       "      <td>heads</td>\n",
       "      <td>tails</td>\n",
       "      <td>tails</td>\n",
       "      <td>tails</td>\n",
       "      <td>heads</td>\n",
       "      <td>heads</td>\n",
       "      <td>heads</td>\n",
       "      <td>heads</td>\n",
       "      <td>heads</td>\n",
       "    </tr>\n",
       "    <tr>\n",
       "      <th>6</th>\n",
       "      <td>tails</td>\n",
       "      <td>tails</td>\n",
       "      <td>heads</td>\n",
       "      <td>heads</td>\n",
       "      <td>tails</td>\n",
       "      <td>heads</td>\n",
       "      <td>tails</td>\n",
       "      <td>heads</td>\n",
       "      <td>heads</td>\n",
       "      <td>heads</td>\n",
       "      <td>...</td>\n",
       "      <td>tails</td>\n",
       "      <td>tails</td>\n",
       "      <td>heads</td>\n",
       "      <td>tails</td>\n",
       "      <td>tails</td>\n",
       "      <td>heads</td>\n",
       "      <td>heads</td>\n",
       "      <td>tails</td>\n",
       "      <td>tails</td>\n",
       "      <td>heads</td>\n",
       "    </tr>\n",
       "    <tr>\n",
       "      <th>7</th>\n",
       "      <td>tails</td>\n",
       "      <td>heads</td>\n",
       "      <td>tails</td>\n",
       "      <td>heads</td>\n",
       "      <td>heads</td>\n",
       "      <td>tails</td>\n",
       "      <td>heads</td>\n",
       "      <td>heads</td>\n",
       "      <td>heads</td>\n",
       "      <td>tails</td>\n",
       "      <td>...</td>\n",
       "      <td>heads</td>\n",
       "      <td>heads</td>\n",
       "      <td>heads</td>\n",
       "      <td>tails</td>\n",
       "      <td>heads</td>\n",
       "      <td>heads</td>\n",
       "      <td>heads</td>\n",
       "      <td>tails</td>\n",
       "      <td>heads</td>\n",
       "      <td>tails</td>\n",
       "    </tr>\n",
       "    <tr>\n",
       "      <th>8</th>\n",
       "      <td>tails</td>\n",
       "      <td>heads</td>\n",
       "      <td>tails</td>\n",
       "      <td>heads</td>\n",
       "      <td>heads</td>\n",
       "      <td>heads</td>\n",
       "      <td>tails</td>\n",
       "      <td>heads</td>\n",
       "      <td>tails</td>\n",
       "      <td>tails</td>\n",
       "      <td>...</td>\n",
       "      <td>heads</td>\n",
       "      <td>heads</td>\n",
       "      <td>tails</td>\n",
       "      <td>heads</td>\n",
       "      <td>heads</td>\n",
       "      <td>heads</td>\n",
       "      <td>tails</td>\n",
       "      <td>heads</td>\n",
       "      <td>heads</td>\n",
       "      <td>tails</td>\n",
       "    </tr>\n",
       "    <tr>\n",
       "      <th>9</th>\n",
       "      <td>tails</td>\n",
       "      <td>heads</td>\n",
       "      <td>tails</td>\n",
       "      <td>tails</td>\n",
       "      <td>tails</td>\n",
       "      <td>tails</td>\n",
       "      <td>tails</td>\n",
       "      <td>tails</td>\n",
       "      <td>tails</td>\n",
       "      <td>heads</td>\n",
       "      <td>...</td>\n",
       "      <td>heads</td>\n",
       "      <td>tails</td>\n",
       "      <td>tails</td>\n",
       "      <td>heads</td>\n",
       "      <td>tails</td>\n",
       "      <td>tails</td>\n",
       "      <td>heads</td>\n",
       "      <td>heads</td>\n",
       "      <td>heads</td>\n",
       "      <td>heads</td>\n",
       "    </tr>\n",
       "  </tbody>\n",
       "</table>\n",
       "<p>10 rows × 100 columns</p>\n",
       "</div>"
      ],
      "text/plain": [
       "  Simulation 0 Simulation 1 Simulation 2 Simulation 3 Simulation 4  \\\n",
       "0        heads        tails        heads        tails        tails   \n",
       "1        tails        heads        heads        heads        tails   \n",
       "2        tails        heads        tails        tails        tails   \n",
       "3        heads        heads        heads        heads        tails   \n",
       "4        tails        tails        heads        tails        heads   \n",
       "5        tails        tails        tails        heads        tails   \n",
       "6        tails        tails        heads        heads        tails   \n",
       "7        tails        heads        tails        heads        heads   \n",
       "8        tails        heads        tails        heads        heads   \n",
       "9        tails        heads        tails        tails        tails   \n",
       "\n",
       "  Simulation 5 Simulation 6 Simulation 7 Simulation 8 Simulation 9  ...  \\\n",
       "0        tails        heads        tails        tails        tails  ...   \n",
       "1        heads        tails        heads        heads        tails  ...   \n",
       "2        tails        tails        tails        tails        heads  ...   \n",
       "3        heads        heads        tails        heads        tails  ...   \n",
       "4        tails        tails        tails        tails        tails  ...   \n",
       "5        heads        heads        heads        tails        heads  ...   \n",
       "6        heads        tails        heads        heads        heads  ...   \n",
       "7        tails        heads        heads        heads        tails  ...   \n",
       "8        heads        tails        heads        tails        tails  ...   \n",
       "9        tails        tails        tails        tails        heads  ...   \n",
       "\n",
       "  Simulation 90 Simulation 91 Simulation 92 Simulation 93 Simulation 94  \\\n",
       "0         heads         tails         heads         tails         heads   \n",
       "1         heads         heads         heads         tails         tails   \n",
       "2         heads         tails         heads         heads         tails   \n",
       "3         tails         tails         tails         heads         tails   \n",
       "4         tails         tails         tails         tails         heads   \n",
       "5         heads         heads         tails         tails         tails   \n",
       "6         tails         tails         heads         tails         tails   \n",
       "7         heads         heads         heads         tails         heads   \n",
       "8         heads         heads         tails         heads         heads   \n",
       "9         heads         tails         tails         heads         tails   \n",
       "\n",
       "  Simulation 95 Simulation 96 Simulation 97 Simulation 98 Simulation 99  \n",
       "0         tails         heads         tails         heads         tails  \n",
       "1         heads         tails         tails         heads         heads  \n",
       "2         heads         tails         heads         heads         heads  \n",
       "3         heads         tails         heads         tails         heads  \n",
       "4         heads         tails         heads         tails         heads  \n",
       "5         heads         heads         heads         heads         heads  \n",
       "6         heads         heads         tails         tails         heads  \n",
       "7         heads         heads         tails         heads         tails  \n",
       "8         heads         tails         heads         heads         tails  \n",
       "9         tails         heads         heads         heads         heads  \n",
       "\n",
       "[10 rows x 100 columns]"
      ]
     },
     "execution_count": 7,
     "metadata": {},
     "output_type": "execute_result"
    }
   ],
   "source": [
    "# Set number of simulations and coin flips\n",
    "\n",
    "\n",
    "# Set a list object acting as a coin: heads or tails\n",
    "\n",
    "\n",
    "# Set probability of events\n",
    "\n",
    "\n",
    "# Create an empty DataFrame to hold simulation results\n",
    "\n",
    "\n",
    "# Run n number of simulations\n",
    "\n",
    "\n",
    "    # Print simulation iteration\n",
    "\n",
    "    \n",
    "    # Set an empty list to hold flip results\n",
    "\n",
    "\n",
    "    # Flip the coin several times\n",
    "\n",
    "        \n",
    "        # Random int: 0 or 1\n",
    "\n",
    "        \n",
    "        # Print flip result\n",
    "\n",
    "\n",
    "        # Append flip result to list\n",
    "\n",
    "\n",
    "    # Append column for each simulation and flip results\n",
    "\n",
    "\n",
    "# Print the DataFrame\n"
   ]
  },
  {
   "cell_type": "markdown",
   "metadata": {},
   "source": [
    "### Calculate Frequency Distribution of Heads-to-Tails for `100` Simulations and Save Results to DataFrame"
   ]
  },
  {
   "cell_type": "code",
   "execution_count": 8,
   "metadata": {},
   "outputs": [
    {
     "data": {
      "text/html": [
       "<div>\n",
       "<style scoped>\n",
       "    .dataframe tbody tr th:only-of-type {\n",
       "        vertical-align: middle;\n",
       "    }\n",
       "\n",
       "    .dataframe tbody tr th {\n",
       "        vertical-align: top;\n",
       "    }\n",
       "\n",
       "    .dataframe thead th {\n",
       "        text-align: right;\n",
       "    }\n",
       "</style>\n",
       "<table border=\"1\" class=\"dataframe\">\n",
       "  <thead>\n",
       "    <tr style=\"text-align: right;\">\n",
       "      <th></th>\n",
       "      <th>heads</th>\n",
       "      <th>tails</th>\n",
       "    </tr>\n",
       "  </thead>\n",
       "  <tbody>\n",
       "    <tr>\n",
       "      <th>0</th>\n",
       "      <td>2</td>\n",
       "      <td>8</td>\n",
       "    </tr>\n",
       "    <tr>\n",
       "      <th>1</th>\n",
       "      <td>6</td>\n",
       "      <td>4</td>\n",
       "    </tr>\n",
       "    <tr>\n",
       "      <th>2</th>\n",
       "      <td>5</td>\n",
       "      <td>5</td>\n",
       "    </tr>\n",
       "    <tr>\n",
       "      <th>3</th>\n",
       "      <td>6</td>\n",
       "      <td>4</td>\n",
       "    </tr>\n",
       "    <tr>\n",
       "      <th>4</th>\n",
       "      <td>3</td>\n",
       "      <td>7</td>\n",
       "    </tr>\n",
       "  </tbody>\n",
       "</table>\n",
       "</div>"
      ],
      "text/plain": [
       "   heads  tails\n",
       "0      2      8\n",
       "1      6      4\n",
       "2      5      5\n",
       "3      6      4\n",
       "4      3      7"
      ]
     },
     "execution_count": 8,
     "metadata": {},
     "output_type": "execute_result"
    }
   ],
   "source": [
    "# Set empty DataFrame to hold frequency distribution values\n",
    "\n",
    "\n",
    "# Set empty lists to hold heads and tails results per simulation\n",
    "\n",
    "\n",
    "# Loop through the results of every simulation\n",
    "\n",
    "    \n",
    "    # Use the `value_counts` function to calculate the frequency distribution \n",
    "    # of heads-to-tails for every simulation, returns Series object\n",
    "\n",
    "    \n",
    "    # Append results of heads and tails to respective lists\n",
    "    # If `heads` and `tails key is present in the Series, append both results\n",
    "\n",
    "        \n",
    "    # If `heads` key is not present in the Series, append heads list with 0\n",
    "    # And append tails list with tails result (simulation must have returned all tails)\n",
    "\n",
    "        \n",
    "    # If `tails` key is not present in the Series, append tails list with 0\n",
    "    # And append heads list with heads result (simulation must have returned all heads)\n",
    "\n",
    "        \n",
    "# Create columns from heads and tails lists\n"
   ]
  },
  {
   "cell_type": "markdown",
   "metadata": {},
   "source": [
    "### Plot Frequency Distribution of Landing on Heads for `100` Simulations of 10 Coin Flips"
   ]
  },
  {
   "cell_type": "code",
   "execution_count": 9,
   "metadata": {},
   "outputs": [
    {
     "data": {
      "text/plain": [
       "<matplotlib.axes._subplots.AxesSubplot at 0x120a46390>"
      ]
     },
     "execution_count": 9,
     "metadata": {},
     "output_type": "execute_result"
    },
    {
     "data": {
      "image/png": "[encoded data removed]",
      "text/plain": [
       "<Figure size 432x288 with 1 Axes>"
      ]
     },
     "metadata": {
      "needs_background": "light"
     },
     "output_type": "display_data"
    }
   ],
   "source": [
    "# Plot the data as a histogram\n"
   ]
  },
  {
   "cell_type": "code",
   "execution_count": 10,
   "metadata": {},
   "outputs": [
    {
     "data": {
      "text/plain": [
       "<matplotlib.axes._subplots.AxesSubplot at 0x1208a2be0>"
      ]
     },
     "execution_count": 10,
     "metadata": {},
     "output_type": "execute_result"
    },
    {
     "data": {
      "image/png": "[encoded data removed]",
      "text/plain": [
       "<Figure size 432x288 with 1 Axes>"
      ]
     },
     "metadata": {
      "needs_background": "light"
     },
     "output_type": "display_data"
    }
   ],
   "source": [
    "# Plot the data as a histogram but manually set the bin ranges\n"
   ]
  },
  {
   "cell_type": "markdown",
   "metadata": {},
   "source": [
    "### Plot Probability Distribution of Landing on Heads for `100` Simulations of 10 Coin Flips"
   ]
  },
  {
   "cell_type": "code",
   "execution_count": 11,
   "metadata": {},
   "outputs": [
    {
     "data": {
      "text/plain": [
       "<matplotlib.axes._subplots.AxesSubplot at 0x120b75a58>"
      ]
     },
     "execution_count": 11,
     "metadata": {},
     "output_type": "execute_result"
    },
    {
     "data": {
      "image/png": "[encoded data removed]",
      "text/plain": [
       "<Figure size 432x288 with 1 Axes>"
      ]
     },
     "metadata": {
      "needs_background": "light"
     },
     "output_type": "display_data"
    }
   ],
   "source": [
    "# Plot the data as a histogram with probabilities of \n"
   ]
  },
  {
   "cell_type": "markdown",
   "metadata": {},
   "source": [
    "---"
   ]
  },
  {
   "cell_type": "markdown",
   "metadata": {},
   "source": [
    "### Perform `1000` Monte Carlo Simulations and Create Pandas DataFrame From Results"
   ]
  },
  {
   "cell_type": "code",
   "execution_count": 12,
   "metadata": {},
   "outputs": [
    {
     "data": {
      "text/html": [
       "<div>\n",
       "<style scoped>\n",
       "    .dataframe tbody tr th:only-of-type {\n",
       "        vertical-align: middle;\n",
       "    }\n",
       "\n",
       "    .dataframe tbody tr th {\n",
       "        vertical-align: top;\n",
       "    }\n",
       "\n",
       "    .dataframe thead th {\n",
       "        text-align: right;\n",
       "    }\n",
       "</style>\n",
       "<table border=\"1\" class=\"dataframe\">\n",
       "  <thead>\n",
       "    <tr style=\"text-align: right;\">\n",
       "      <th></th>\n",
       "      <th>Simulation 0</th>\n",
       "      <th>Simulation 1</th>\n",
       "      <th>Simulation 2</th>\n",
       "      <th>Simulation 3</th>\n",
       "      <th>Simulation 4</th>\n",
       "      <th>Simulation 5</th>\n",
       "      <th>Simulation 6</th>\n",
       "      <th>Simulation 7</th>\n",
       "      <th>Simulation 8</th>\n",
       "      <th>Simulation 9</th>\n",
       "      <th>...</th>\n",
       "      <th>Simulation 990</th>\n",
       "      <th>Simulation 991</th>\n",
       "      <th>Simulation 992</th>\n",
       "      <th>Simulation 993</th>\n",
       "      <th>Simulation 994</th>\n",
       "      <th>Simulation 995</th>\n",
       "      <th>Simulation 996</th>\n",
       "      <th>Simulation 997</th>\n",
       "      <th>Simulation 998</th>\n",
       "      <th>Simulation 999</th>\n",
       "    </tr>\n",
       "  </thead>\n",
       "  <tbody>\n",
       "    <tr>\n",
       "      <th>0</th>\n",
       "      <td>heads</td>\n",
       "      <td>tails</td>\n",
       "      <td>tails</td>\n",
       "      <td>heads</td>\n",
       "      <td>tails</td>\n",
       "      <td>tails</td>\n",
       "      <td>heads</td>\n",
       "      <td>heads</td>\n",
       "      <td>heads</td>\n",
       "      <td>heads</td>\n",
       "      <td>...</td>\n",
       "      <td>tails</td>\n",
       "      <td>heads</td>\n",
       "      <td>tails</td>\n",
       "      <td>heads</td>\n",
       "      <td>heads</td>\n",
       "      <td>tails</td>\n",
       "      <td>heads</td>\n",
       "      <td>tails</td>\n",
       "      <td>tails</td>\n",
       "      <td>heads</td>\n",
       "    </tr>\n",
       "    <tr>\n",
       "      <th>1</th>\n",
       "      <td>heads</td>\n",
       "      <td>heads</td>\n",
       "      <td>heads</td>\n",
       "      <td>heads</td>\n",
       "      <td>tails</td>\n",
       "      <td>tails</td>\n",
       "      <td>tails</td>\n",
       "      <td>tails</td>\n",
       "      <td>heads</td>\n",
       "      <td>tails</td>\n",
       "      <td>...</td>\n",
       "      <td>heads</td>\n",
       "      <td>tails</td>\n",
       "      <td>heads</td>\n",
       "      <td>heads</td>\n",
       "      <td>tails</td>\n",
       "      <td>heads</td>\n",
       "      <td>heads</td>\n",
       "      <td>heads</td>\n",
       "      <td>heads</td>\n",
       "      <td>heads</td>\n",
       "    </tr>\n",
       "    <tr>\n",
       "      <th>2</th>\n",
       "      <td>heads</td>\n",
       "      <td>tails</td>\n",
       "      <td>heads</td>\n",
       "      <td>heads</td>\n",
       "      <td>heads</td>\n",
       "      <td>heads</td>\n",
       "      <td>heads</td>\n",
       "      <td>tails</td>\n",
       "      <td>heads</td>\n",
       "      <td>tails</td>\n",
       "      <td>...</td>\n",
       "      <td>tails</td>\n",
       "      <td>heads</td>\n",
       "      <td>heads</td>\n",
       "      <td>heads</td>\n",
       "      <td>tails</td>\n",
       "      <td>tails</td>\n",
       "      <td>heads</td>\n",
       "      <td>tails</td>\n",
       "      <td>tails</td>\n",
       "      <td>heads</td>\n",
       "    </tr>\n",
       "    <tr>\n",
       "      <th>3</th>\n",
       "      <td>tails</td>\n",
       "      <td>tails</td>\n",
       "      <td>tails</td>\n",
       "      <td>heads</td>\n",
       "      <td>tails</td>\n",
       "      <td>tails</td>\n",
       "      <td>heads</td>\n",
       "      <td>heads</td>\n",
       "      <td>heads</td>\n",
       "      <td>tails</td>\n",
       "      <td>...</td>\n",
       "      <td>tails</td>\n",
       "      <td>heads</td>\n",
       "      <td>tails</td>\n",
       "      <td>tails</td>\n",
       "      <td>tails</td>\n",
       "      <td>tails</td>\n",
       "      <td>heads</td>\n",
       "      <td>heads</td>\n",
       "      <td>heads</td>\n",
       "      <td>tails</td>\n",
       "    </tr>\n",
       "    <tr>\n",
       "      <th>4</th>\n",
       "      <td>heads</td>\n",
       "      <td>tails</td>\n",
       "      <td>heads</td>\n",
       "      <td>tails</td>\n",
       "      <td>heads</td>\n",
       "      <td>heads</td>\n",
       "      <td>tails</td>\n",
       "      <td>tails</td>\n",
       "      <td>tails</td>\n",
       "      <td>heads</td>\n",
       "      <td>...</td>\n",
       "      <td>heads</td>\n",
       "      <td>tails</td>\n",
       "      <td>heads</td>\n",
       "      <td>tails</td>\n",
       "      <td>tails</td>\n",
       "      <td>tails</td>\n",
       "      <td>heads</td>\n",
       "      <td>tails</td>\n",
       "      <td>heads</td>\n",
       "      <td>tails</td>\n",
       "    </tr>\n",
       "    <tr>\n",
       "      <th>5</th>\n",
       "      <td>heads</td>\n",
       "      <td>heads</td>\n",
       "      <td>tails</td>\n",
       "      <td>heads</td>\n",
       "      <td>tails</td>\n",
       "      <td>tails</td>\n",
       "      <td>heads</td>\n",
       "      <td>heads</td>\n",
       "      <td>heads</td>\n",
       "      <td>tails</td>\n",
       "      <td>...</td>\n",
       "      <td>tails</td>\n",
       "      <td>heads</td>\n",
       "      <td>heads</td>\n",
       "      <td>tails</td>\n",
       "      <td>tails</td>\n",
       "      <td>tails</td>\n",
       "      <td>heads</td>\n",
       "      <td>tails</td>\n",
       "      <td>heads</td>\n",
       "      <td>tails</td>\n",
       "    </tr>\n",
       "    <tr>\n",
       "      <th>6</th>\n",
       "      <td>heads</td>\n",
       "      <td>tails</td>\n",
       "      <td>heads</td>\n",
       "      <td>tails</td>\n",
       "      <td>heads</td>\n",
       "      <td>tails</td>\n",
       "      <td>tails</td>\n",
       "      <td>tails</td>\n",
       "      <td>tails</td>\n",
       "      <td>tails</td>\n",
       "      <td>...</td>\n",
       "      <td>heads</td>\n",
       "      <td>heads</td>\n",
       "      <td>heads</td>\n",
       "      <td>tails</td>\n",
       "      <td>tails</td>\n",
       "      <td>heads</td>\n",
       "      <td>heads</td>\n",
       "      <td>heads</td>\n",
       "      <td>tails</td>\n",
       "      <td>heads</td>\n",
       "    </tr>\n",
       "    <tr>\n",
       "      <th>7</th>\n",
       "      <td>tails</td>\n",
       "      <td>tails</td>\n",
       "      <td>tails</td>\n",
       "      <td>tails</td>\n",
       "      <td>tails</td>\n",
       "      <td>tails</td>\n",
       "      <td>tails</td>\n",
       "      <td>tails</td>\n",
       "      <td>heads</td>\n",
       "      <td>heads</td>\n",
       "      <td>...</td>\n",
       "      <td>heads</td>\n",
       "      <td>heads</td>\n",
       "      <td>tails</td>\n",
       "      <td>tails</td>\n",
       "      <td>heads</td>\n",
       "      <td>tails</td>\n",
       "      <td>tails</td>\n",
       "      <td>tails</td>\n",
       "      <td>heads</td>\n",
       "      <td>heads</td>\n",
       "    </tr>\n",
       "    <tr>\n",
       "      <th>8</th>\n",
       "      <td>heads</td>\n",
       "      <td>tails</td>\n",
       "      <td>tails</td>\n",
       "      <td>heads</td>\n",
       "      <td>tails</td>\n",
       "      <td>tails</td>\n",
       "      <td>heads</td>\n",
       "      <td>tails</td>\n",
       "      <td>tails</td>\n",
       "      <td>heads</td>\n",
       "      <td>...</td>\n",
       "      <td>tails</td>\n",
       "      <td>heads</td>\n",
       "      <td>heads</td>\n",
       "      <td>tails</td>\n",
       "      <td>tails</td>\n",
       "      <td>tails</td>\n",
       "      <td>heads</td>\n",
       "      <td>heads</td>\n",
       "      <td>heads</td>\n",
       "      <td>tails</td>\n",
       "    </tr>\n",
       "    <tr>\n",
       "      <th>9</th>\n",
       "      <td>tails</td>\n",
       "      <td>heads</td>\n",
       "      <td>heads</td>\n",
       "      <td>tails</td>\n",
       "      <td>heads</td>\n",
       "      <td>heads</td>\n",
       "      <td>heads</td>\n",
       "      <td>tails</td>\n",
       "      <td>tails</td>\n",
       "      <td>tails</td>\n",
       "      <td>...</td>\n",
       "      <td>tails</td>\n",
       "      <td>tails</td>\n",
       "      <td>heads</td>\n",
       "      <td>tails</td>\n",
       "      <td>heads</td>\n",
       "      <td>heads</td>\n",
       "      <td>heads</td>\n",
       "      <td>tails</td>\n",
       "      <td>heads</td>\n",
       "      <td>heads</td>\n",
       "    </tr>\n",
       "  </tbody>\n",
       "</table>\n",
       "<p>10 rows × 1000 columns</p>\n",
       "</div>"
      ],
      "text/plain": [
       "  Simulation 0 Simulation 1 Simulation 2 Simulation 3 Simulation 4  \\\n",
       "0        heads        tails        tails        heads        tails   \n",
       "1        heads        heads        heads        heads        tails   \n",
       "2        heads        tails        heads        heads        heads   \n",
       "3        tails        tails        tails        heads        tails   \n",
       "4        heads        tails        heads        tails        heads   \n",
       "5        heads        heads        tails        heads        tails   \n",
       "6        heads        tails        heads        tails        heads   \n",
       "7        tails        tails        tails        tails        tails   \n",
       "8        heads        tails        tails        heads        tails   \n",
       "9        tails        heads        heads        tails        heads   \n",
       "\n",
       "  Simulation 5 Simulation 6 Simulation 7 Simulation 8 Simulation 9  ...  \\\n",
       "0        tails        heads        heads        heads        heads  ...   \n",
       "1        tails        tails        tails        heads        tails  ...   \n",
       "2        heads        heads        tails        heads        tails  ...   \n",
       "3        tails        heads        heads        heads        tails  ...   \n",
       "4        heads        tails        tails        tails        heads  ...   \n",
       "5        tails        heads        heads        heads        tails  ...   \n",
       "6        tails        tails        tails        tails        tails  ...   \n",
       "7        tails        tails        tails        heads        heads  ...   \n",
       "8        tails        heads        tails        tails        heads  ...   \n",
       "9        heads        heads        tails        tails        tails  ...   \n",
       "\n",
       "  Simulation 990 Simulation 991 Simulation 992 Simulation 993 Simulation 994  \\\n",
       "0          tails          heads          tails          heads          heads   \n",
       "1          heads          tails          heads          heads          tails   \n",
       "2          tails          heads          heads          heads          tails   \n",
       "3          tails          heads          tails          tails          tails   \n",
       "4          heads          tails          heads          tails          tails   \n",
       "5          tails          heads          heads          tails          tails   \n",
       "6          heads          heads          heads          tails          tails   \n",
       "7          heads          heads          tails          tails          heads   \n",
       "8          tails          heads          heads          tails          tails   \n",
       "9          tails          tails          heads          tails          heads   \n",
       "\n",
       "  Simulation 995 Simulation 996 Simulation 997 Simulation 998 Simulation 999  \n",
       "0          tails          heads          tails          tails          heads  \n",
       "1          heads          heads          heads          heads          heads  \n",
       "2          tails          heads          tails          tails          heads  \n",
       "3          tails          heads          heads          heads          tails  \n",
       "4          tails          heads          tails          heads          tails  \n",
       "5          tails          heads          tails          heads          tails  \n",
       "6          heads          heads          heads          tails          heads  \n",
       "7          tails          tails          tails          heads          heads  \n",
       "8          tails          heads          heads          heads          tails  \n",
       "9          heads          heads          tails          heads          heads  \n",
       "\n",
       "[10 rows x 1000 columns]"
      ]
     },
     "execution_count": 12,
     "metadata": {},
     "output_type": "execute_result"
    }
   ],
   "source": [
    "# Set number of simulations and coin flips\n",
    "\n",
    "\n",
    "# Set a list object acting as a coin: heads or tails\n",
    "\n",
    "\n",
    "# Set probability of events\n",
    "\n",
    "\n",
    "# Create an empty DataFrame to hold simulation results\n",
    "\n",
    "\n",
    "# Run n number of simulations\n",
    "\n",
    "\n",
    "    # Print simulation iteration\n",
    "\n",
    "    \n",
    "    # Set an empty list to hold flip results\n",
    "\n",
    "\n",
    "    # Flip the coin several times\n",
    "\n",
    "        \n",
    "        # Random int: 0 or 1\n",
    "\n",
    "        \n",
    "        # Print flip result\n",
    "\n",
    "\n",
    "        # Append flip result to list\n",
    "\n",
    "\n",
    "    # Append column for each simulation and flip results\n",
    "\n",
    "\n",
    "# Print the DataFrame\n"
   ]
  },
  {
   "cell_type": "markdown",
   "metadata": {},
   "source": [
    "### Calculate Frequency Distribution of Heads-to-Tails for `1000` Simulations and Save Results to DataFrame"
   ]
  },
  {
   "cell_type": "code",
   "execution_count": 13,
   "metadata": {},
   "outputs": [
    {
     "data": {
      "text/html": [
       "<div>\n",
       "<style scoped>\n",
       "    .dataframe tbody tr th:only-of-type {\n",
       "        vertical-align: middle;\n",
       "    }\n",
       "\n",
       "    .dataframe tbody tr th {\n",
       "        vertical-align: top;\n",
       "    }\n",
       "\n",
       "    .dataframe thead th {\n",
       "        text-align: right;\n",
       "    }\n",
       "</style>\n",
       "<table border=\"1\" class=\"dataframe\">\n",
       "  <thead>\n",
       "    <tr style=\"text-align: right;\">\n",
       "      <th></th>\n",
       "      <th>heads</th>\n",
       "      <th>tails</th>\n",
       "    </tr>\n",
       "  </thead>\n",
       "  <tbody>\n",
       "    <tr>\n",
       "      <th>0</th>\n",
       "      <td>7</td>\n",
       "      <td>3</td>\n",
       "    </tr>\n",
       "    <tr>\n",
       "      <th>1</th>\n",
       "      <td>3</td>\n",
       "      <td>7</td>\n",
       "    </tr>\n",
       "    <tr>\n",
       "      <th>2</th>\n",
       "      <td>5</td>\n",
       "      <td>5</td>\n",
       "    </tr>\n",
       "    <tr>\n",
       "      <th>3</th>\n",
       "      <td>6</td>\n",
       "      <td>4</td>\n",
       "    </tr>\n",
       "    <tr>\n",
       "      <th>4</th>\n",
       "      <td>4</td>\n",
       "      <td>6</td>\n",
       "    </tr>\n",
       "  </tbody>\n",
       "</table>\n",
       "</div>"
      ],
      "text/plain": [
       "   heads  tails\n",
       "0      7      3\n",
       "1      3      7\n",
       "2      5      5\n",
       "3      6      4\n",
       "4      4      6"
      ]
     },
     "execution_count": 13,
     "metadata": {},
     "output_type": "execute_result"
    }
   ],
   "source": [
    "# Set empty DataFrame to hold frequency distribution values\n",
    "\n",
    "\n",
    "# Set empty lists to hold heads and tails results per simulation\n",
    "\n",
    "\n",
    "# Loop through the results of every simulation\n",
    "\n",
    "    \n",
    "    # Use the `value_counts` function to calculate the frequency distribution \n",
    "    # of heads-to-tails for every simulation, returns Series object\n",
    "\n",
    "    \n",
    "    # Append results of heads and tails to respective lists\n",
    "    # If `heads` and `tails key is present in the Series, append both results\n",
    "\n",
    "        \n",
    "    # If `heads` key is not present in the Series, append heads list with 0\n",
    "    # And append tails list with tails result (simulation must have returned all tails)\n",
    "\n",
    "        \n",
    "    # If `tails` key is not present in the Series, append tails list with 0\n",
    "    # And append heads list with heads result (simulation must have returned all heads)\n",
    "\n",
    "        \n",
    "# Create columns from heads and tails lists\n"
   ]
  },
  {
   "cell_type": "markdown",
   "metadata": {},
   "source": [
    "### Plot Frequency Distribution of Landing on Heads for `1000` Simulations of 10 Coin Flips"
   ]
  },
  {
   "cell_type": "code",
   "execution_count": 14,
   "metadata": {},
   "outputs": [
    {
     "data": {
      "text/plain": [
       "<matplotlib.axes._subplots.AxesSubplot at 0x120eb8a90>"
      ]
     },
     "execution_count": 14,
     "metadata": {},
     "output_type": "execute_result"
    },
    {
     "data": {
      "image/png": "[encoded data removed]",
      "text/plain": [
       "<Figure size 432x288 with 1 Axes>"
      ]
     },
     "metadata": {
      "needs_background": "light"
     },
     "output_type": "display_data"
    }
   ],
   "source": [
    "# Plot the data as a histogram\n"
   ]
  },
  {
   "cell_type": "code",
   "execution_count": 15,
   "metadata": {},
   "outputs": [
    {
     "data": {
      "text/plain": [
       "<matplotlib.axes._subplots.AxesSubplot at 0x121047cc0>"
      ]
     },
     "execution_count": 15,
     "metadata": {},
     "output_type": "execute_result"
    },
    {
     "data": {
      "image/png": "[encoded data removed]",
      "text/plain": [
       "<Figure size 432x288 with 1 Axes>"
      ]
     },
     "metadata": {
      "needs_background": "light"
     },
     "output_type": "display_data"
    }
   ],
   "source": [
    "# Plot the data as a histogram but manually set the bin ranges\n"
   ]
  },
  {
   "cell_type": "markdown",
   "metadata": {},
   "source": [
    "### Plot Probability Distribution of Landing on Heads for `1000` Simulations of 10 Coin Flips"
   ]
  },
  {
   "cell_type": "code",
   "execution_count": 16,
   "metadata": {},
   "outputs": [
    {
     "data": {
      "text/plain": [
       "<matplotlib.axes._subplots.AxesSubplot at 0x12112c470>"
      ]
     },
     "execution_count": 16,
     "metadata": {},
     "output_type": "execute_result"
    },
    {
     "data": {
      "image/png": "[encoded data removed]",
      "text/plain": [
       "<Figure size 432x288 with 1 Axes>"
      ]
     },
     "metadata": {
      "needs_background": "light"
     },
     "output_type": "display_data"
    }
   ],
   "source": [
    "# Plot the data as a histogram with probabilities of \n"
   ]
  }
 ],
 "metadata": {
  "kernelspec": {
   "display_name": "Python 3",
   "language": "python",
   "name": "python3"
  },
  "language_info": {
   "codemirror_mode": {
    "name": "ipython",
    "version": 3
   },
   "file_extension": ".py",
   "mimetype": "text/x-python",
   "name": "python",
   "nbconvert_exporter": "python",
   "pygments_lexer": "ipython3",
   "version": "3.7.2"
  }
 },
 "nbformat": 4,
 "nbformat_minor": 2
}
