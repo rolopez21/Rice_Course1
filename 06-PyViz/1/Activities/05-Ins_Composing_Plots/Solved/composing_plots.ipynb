{
 "cells": [
  {
   "cell_type": "code",
   "execution_count": 16,
   "metadata": {},
   "outputs": [],
   "source": [
    "import pandas as pd\n",
    "import hvplot.pandas\n",
    "from pathlib import Path"
   ]
  },
  {
   "cell_type": "markdown",
   "metadata": {},
   "source": [
    "### Prep Data"
   ]
  },
  {
   "cell_type": "code",
   "execution_count": 17,
   "metadata": {},
   "outputs": [
    {
     "data": {
      "text/html": [
       "<div>\n",
       "<style scoped>\n",
       "    .dataframe tbody tr th:only-of-type {\n",
       "        vertical-align: middle;\n",
       "    }\n",
       "\n",
       "    .dataframe tbody tr th {\n",
       "        vertical-align: top;\n",
       "    }\n",
       "\n",
       "    .dataframe thead th {\n",
       "        text-align: right;\n",
       "    }\n",
       "</style>\n",
       "<table border=\"1\" class=\"dataframe\">\n",
       "  <thead>\n",
       "    <tr style=\"text-align: right;\">\n",
       "      <th></th>\n",
       "      <th>DRG Definition</th>\n",
       "      <th>Provider Id</th>\n",
       "      <th>Provider Name</th>\n",
       "      <th>Provider Street Address</th>\n",
       "      <th>Provider City</th>\n",
       "      <th>Provider State</th>\n",
       "      <th>Provider Zip Code</th>\n",
       "      <th>Hospital Referral Region Description</th>\n",
       "      <th>Total Discharges</th>\n",
       "      <th>Average Covered Charges</th>\n",
       "      <th>Average Total Payments</th>\n",
       "      <th>Average Medicare Payments</th>\n",
       "    </tr>\n",
       "  </thead>\n",
       "  <tbody>\n",
       "    <tr>\n",
       "      <th>0</th>\n",
       "      <td>039 - EXTRACRANIAL PROCEDURES W/O CC/MCC</td>\n",
       "      <td>10001</td>\n",
       "      <td>SOUTHEAST ALABAMA MEDICAL CENTER</td>\n",
       "      <td>1108 ROSS CLARK CIRCLE</td>\n",
       "      <td>DOTHAN</td>\n",
       "      <td>AL</td>\n",
       "      <td>36301</td>\n",
       "      <td>AL - Dothan</td>\n",
       "      <td>91</td>\n",
       "      <td>32963.07</td>\n",
       "      <td>5777.24</td>\n",
       "      <td>4763.73</td>\n",
       "    </tr>\n",
       "    <tr>\n",
       "      <th>1</th>\n",
       "      <td>039 - EXTRACRANIAL PROCEDURES W/O CC/MCC</td>\n",
       "      <td>10005</td>\n",
       "      <td>MARSHALL MEDICAL CENTER SOUTH</td>\n",
       "      <td>2505 U S HIGHWAY 431 NORTH</td>\n",
       "      <td>BOAZ</td>\n",
       "      <td>AL</td>\n",
       "      <td>35957</td>\n",
       "      <td>AL - Birmingham</td>\n",
       "      <td>14</td>\n",
       "      <td>15131.85</td>\n",
       "      <td>5787.57</td>\n",
       "      <td>4976.71</td>\n",
       "    </tr>\n",
       "    <tr>\n",
       "      <th>2</th>\n",
       "      <td>039 - EXTRACRANIAL PROCEDURES W/O CC/MCC</td>\n",
       "      <td>10006</td>\n",
       "      <td>ELIZA COFFEE MEMORIAL HOSPITAL</td>\n",
       "      <td>205 MARENGO STREET</td>\n",
       "      <td>FLORENCE</td>\n",
       "      <td>AL</td>\n",
       "      <td>35631</td>\n",
       "      <td>AL - Birmingham</td>\n",
       "      <td>24</td>\n",
       "      <td>37560.37</td>\n",
       "      <td>5434.95</td>\n",
       "      <td>4453.79</td>\n",
       "    </tr>\n",
       "    <tr>\n",
       "      <th>3</th>\n",
       "      <td>039 - EXTRACRANIAL PROCEDURES W/O CC/MCC</td>\n",
       "      <td>10011</td>\n",
       "      <td>ST VINCENT'S EAST</td>\n",
       "      <td>50 MEDICAL PARK EAST DRIVE</td>\n",
       "      <td>BIRMINGHAM</td>\n",
       "      <td>AL</td>\n",
       "      <td>35235</td>\n",
       "      <td>AL - Birmingham</td>\n",
       "      <td>25</td>\n",
       "      <td>13998.28</td>\n",
       "      <td>5417.56</td>\n",
       "      <td>4129.16</td>\n",
       "    </tr>\n",
       "    <tr>\n",
       "      <th>4</th>\n",
       "      <td>039 - EXTRACRANIAL PROCEDURES W/O CC/MCC</td>\n",
       "      <td>10016</td>\n",
       "      <td>SHELBY BAPTIST MEDICAL CENTER</td>\n",
       "      <td>1000 FIRST STREET NORTH</td>\n",
       "      <td>ALABASTER</td>\n",
       "      <td>AL</td>\n",
       "      <td>35007</td>\n",
       "      <td>AL - Birmingham</td>\n",
       "      <td>18</td>\n",
       "      <td>31633.27</td>\n",
       "      <td>5658.33</td>\n",
       "      <td>4851.44</td>\n",
       "    </tr>\n",
       "  </tbody>\n",
       "</table>\n",
       "</div>"
      ],
      "text/plain": [
       "                             DRG Definition  Provider Id  \\\n",
       "0  039 - EXTRACRANIAL PROCEDURES W/O CC/MCC        10001   \n",
       "1  039 - EXTRACRANIAL PROCEDURES W/O CC/MCC        10005   \n",
       "2  039 - EXTRACRANIAL PROCEDURES W/O CC/MCC        10006   \n",
       "3  039 - EXTRACRANIAL PROCEDURES W/O CC/MCC        10011   \n",
       "4  039 - EXTRACRANIAL PROCEDURES W/O CC/MCC        10016   \n",
       "\n",
       "                      Provider Name     Provider Street Address Provider City  \\\n",
       "0  SOUTHEAST ALABAMA MEDICAL CENTER      1108 ROSS CLARK CIRCLE        DOTHAN   \n",
       "1     MARSHALL MEDICAL CENTER SOUTH  2505 U S HIGHWAY 431 NORTH          BOAZ   \n",
       "2    ELIZA COFFEE MEMORIAL HOSPITAL          205 MARENGO STREET      FLORENCE   \n",
       "3                 ST VINCENT'S EAST  50 MEDICAL PARK EAST DRIVE    BIRMINGHAM   \n",
       "4     SHELBY BAPTIST MEDICAL CENTER     1000 FIRST STREET NORTH     ALABASTER   \n",
       "\n",
       "  Provider State  Provider Zip Code Hospital Referral Region Description  \\\n",
       "0             AL              36301                          AL - Dothan   \n",
       "1             AL              35957                      AL - Birmingham   \n",
       "2             AL              35631                      AL - Birmingham   \n",
       "3             AL              35235                      AL - Birmingham   \n",
       "4             AL              35007                      AL - Birmingham   \n",
       "\n",
       "   Total Discharges  Average Covered Charges  Average Total Payments  \\\n",
       "0                91                 32963.07                 5777.24   \n",
       "1                14                 15131.85                 5787.57   \n",
       "2                24                 37560.37                 5434.95   \n",
       "3                25                 13998.28                 5417.56   \n",
       "4                18                 31633.27                 5658.33   \n",
       "\n",
       "   Average Medicare Payments  \n",
       "0                    4763.73  \n",
       "1                    4976.71  \n",
       "2                    4453.79  \n",
       "3                    4129.16  \n",
       "4                    4851.44  "
      ]
     },
     "execution_count": 17,
     "metadata": {},
     "output_type": "execute_result"
    }
   ],
   "source": [
    "# Read in hospital claims data\n",
    "hospital_data = pd.read_csv(Path(\"../Resources/hospital_claims.csv\"), header=0)\n",
    "hospital_data.head()"
   ]
  },
  {
   "cell_type": "code",
   "execution_count": 18,
   "metadata": {},
   "outputs": [],
   "source": [
    "# Slice the data\n",
    "procedure_699_charges = hospital_data[\n",
    "    hospital_data[\"DRG Definition\"] == \"638 - DIABETES W CC\"\n",
    "]\n",
    "\n",
    "# Select data just for NJ to get a baseline for Diabetes costs\n",
    "procedure_NJ_charges = procedure_699_charges.loc[\n",
    "    hospital_data[\"Provider State\"] == \"NJ\"\n",
    "]\n",
    "\n",
    "# Select Average Medicare Payments and Provider ID Series\n",
    "procedure_medicare_charges = procedure_NJ_charges[\n",
    "    [\"Average Medicare Payments\", \"Provider Id\"]\n",
    "]\n",
    "\n",
    "# Group data by state and average total payments. and then sum\n",
    "payment_by_state = procedure_699_charges[[\"Average Total Payments\", \"Provider State\"]]\n",
    "total_payment_by_state = payment_by_state.groupby(\"Provider State\").sum()"
   ]
  },
  {
   "cell_type": "markdown",
   "metadata": {},
   "source": [
    "### Create plot objects to compose"
   ]
  },
  {
   "cell_type": "code",
   "execution_count": 19,
   "metadata": {},
   "outputs": [],
   "source": [
    "\n",
    "total_payment_by_state.reset_index(inplace=True)"
   ]
  },
  {
   "cell_type": "code",
   "execution_count": 20,
   "metadata": {},
   "outputs": [
    {
     "data": {
      "text/html": [
       "<div>\n",
       "<style scoped>\n",
       "    .dataframe tbody tr th:only-of-type {\n",
       "        vertical-align: middle;\n",
       "    }\n",
       "\n",
       "    .dataframe tbody tr th {\n",
       "        vertical-align: top;\n",
       "    }\n",
       "\n",
       "    .dataframe thead th {\n",
       "        text-align: right;\n",
       "    }\n",
       "</style>\n",
       "<table border=\"1\" class=\"dataframe\">\n",
       "  <thead>\n",
       "    <tr style=\"text-align: right;\">\n",
       "      <th></th>\n",
       "      <th>Provider State</th>\n",
       "      <th>Average Total Payments</th>\n",
       "    </tr>\n",
       "  </thead>\n",
       "  <tbody>\n",
       "    <tr>\n",
       "      <th>0</th>\n",
       "      <td>AK</td>\n",
       "      <td>15525.04</td>\n",
       "    </tr>\n",
       "    <tr>\n",
       "      <th>1</th>\n",
       "      <td>AL</td>\n",
       "      <td>194535.26</td>\n",
       "    </tr>\n",
       "    <tr>\n",
       "      <th>2</th>\n",
       "      <td>AR</td>\n",
       "      <td>111746.03</td>\n",
       "    </tr>\n",
       "    <tr>\n",
       "      <th>3</th>\n",
       "      <td>AZ</td>\n",
       "      <td>158308.98</td>\n",
       "    </tr>\n",
       "    <tr>\n",
       "      <th>4</th>\n",
       "      <td>CA</td>\n",
       "      <td>1201241.89</td>\n",
       "    </tr>\n",
       "  </tbody>\n",
       "</table>\n",
       "</div>"
      ],
      "text/plain": [
       "  Provider State  Average Total Payments\n",
       "0             AK                15525.04\n",
       "1             AL               194535.26\n",
       "2             AR               111746.03\n",
       "3             AZ               158308.98\n",
       "4             CA              1201241.89"
      ]
     },
     "execution_count": 20,
     "metadata": {},
     "output_type": "execute_result"
    }
   ],
   "source": [
    "total_payment_by_state.head()"
   ]
  },
  {
   "cell_type": "code",
   "execution_count": 21,
   "metadata": {},
   "outputs": [
    {
     "data": {},
     "metadata": {},
     "output_type": "display_data"
    },
    {
     "data": {
      "application/vnd.holoviews_exec.v0+json": "",
      "text/html": [
       "<div id='1626'>\n",
       "  <div class=\"bk-root\" id=\"74d92616-eb69-4bd9-80fb-cedafe040488\" data-root-id=\"1626\"></div>\n",
       "</div>\n",
       "<script type=\"application/javascript\">(function(root) {\n",
       "  function embed_document(root) {\n",
       "    var docs_json = {\"74fe2ea9-7ef9-4ad3-bb0e-e6363d0d42ad\":{\"defs\":[{\"extends\":null,\"module\":null,\"name\":\"ReactiveHTML1\",\"overrides\":[],\"properties\":[]},{\"extends\":null,\"module\":null,\"name\":\"FlexBox1\",\"overrides\":[],\"properties\":[{\"default\":\"flex-start\",\"kind\":null,\"name\":\"align_content\"},{\"default\":\"flex-start\",\"kind\":null,\"name\":\"align_items\"},{\"default\":\"row\",\"kind\":null,\"name\":\"flex_direction\"},{\"default\":\"wrap\",\"kind\":null,\"name\":\"flex_wrap\"},{\"default\":\"flex-start\",\"kind\":null,\"name\":\"justify_content\"}]},{\"extends\":null,\"module\":null,\"name\":\"GridStack1\",\"overrides\":[],\"properties\":[{\"default\":\"warn\",\"kind\":null,\"name\":\"mode\"},{\"default\":null,\"kind\":null,\"name\":\"ncols\"},{\"default\":null,\"kind\":null,\"name\":\"nrows\"},{\"default\":true,\"kind\":null,\"name\":\"allow_resize\"},{\"default\":true,\"kind\":null,\"name\":\"allow_drag\"},{\"default\":[],\"kind\":null,\"name\":\"state\"}]},{\"extends\":null,\"module\":null,\"name\":\"click1\",\"overrides\":[],\"properties\":[{\"default\":\"\",\"kind\":null,\"name\":\"terminal_output\"},{\"default\":\"\",\"kind\":null,\"name\":\"debug_name\"},{\"default\":0,\"kind\":null,\"name\":\"clears\"}]},{\"extends\":null,\"module\":null,\"name\":\"NotificationAreaBase1\",\"overrides\":[],\"properties\":[{\"default\":\"bottom-right\",\"kind\":null,\"name\":\"position\"},{\"default\":0,\"kind\":null,\"name\":\"_clear\"}]},{\"extends\":null,\"module\":null,\"name\":\"NotificationArea1\",\"overrides\":[],\"properties\":[{\"default\":[],\"kind\":null,\"name\":\"notifications\"},{\"default\":\"bottom-right\",\"kind\":null,\"name\":\"position\"},{\"default\":0,\"kind\":null,\"name\":\"_clear\"},{\"default\":[{\"background\":\"#ffc107\",\"icon\":{\"className\":\"fas fa-exclamation-triangle\",\"color\":\"white\",\"tagName\":\"i\"},\"type\":\"warning\"},{\"background\":\"#007bff\",\"icon\":{\"className\":\"fas fa-info-circle\",\"color\":\"white\",\"tagName\":\"i\"},\"type\":\"info\"}],\"kind\":null,\"name\":\"types\"}]},{\"extends\":null,\"module\":null,\"name\":\"Notification\",\"overrides\":[],\"properties\":[{\"default\":null,\"kind\":null,\"name\":\"background\"},{\"default\":3000,\"kind\":null,\"name\":\"duration\"},{\"default\":null,\"kind\":null,\"name\":\"icon\"},{\"default\":\"\",\"kind\":null,\"name\":\"message\"},{\"default\":null,\"kind\":null,\"name\":\"notification_type\"},{\"default\":false,\"kind\":null,\"name\":\"_destroyed\"}]},{\"extends\":null,\"module\":null,\"name\":\"TemplateActions1\",\"overrides\":[],\"properties\":[{\"default\":0,\"kind\":null,\"name\":\"open_modal\"},{\"default\":0,\"kind\":null,\"name\":\"close_modal\"}]},{\"extends\":null,\"module\":null,\"name\":\"MaterialTemplateActions1\",\"overrides\":[],\"properties\":[{\"default\":0,\"kind\":null,\"name\":\"open_modal\"},{\"default\":0,\"kind\":null,\"name\":\"close_modal\"}]}],\"roots\":{\"references\":[{\"attributes\":{},\"id\":\"1644\",\"type\":\"BasicTicker\"},{\"attributes\":{},\"id\":\"1648\",\"type\":\"PanTool\"},{\"attributes\":{},\"id\":\"1649\",\"type\":\"WheelZoomTool\"},{\"attributes\":{\"margin\":[5,5,5,5],\"name\":\"HSpacer01550\",\"sizing_mode\":\"stretch_width\"},\"id\":\"1685\",\"type\":\"Spacer\"},{\"attributes\":{\"children\":[{\"id\":\"1627\"},{\"id\":\"1631\"},{\"id\":\"1685\"}],\"margin\":[0,0,0,0],\"name\":\"Row01545\",\"tags\":[\"embedded\"]},\"id\":\"1626\",\"type\":\"Row\"},{\"attributes\":{},\"id\":\"1647\",\"type\":\"SaveTool\"},{\"attributes\":{\"axis\":{\"id\":\"1643\"},\"coordinates\":null,\"dimension\":1,\"grid_line_color\":null,\"group\":null,\"ticker\":null},\"id\":\"1646\",\"type\":\"Grid\"},{\"attributes\":{\"overlay\":{\"id\":\"1652\"}},\"id\":\"1650\",\"type\":\"BoxZoomTool\"},{\"attributes\":{},\"id\":\"1651\",\"type\":\"ResetTool\"},{\"attributes\":{\"end\":1320004.9989999998,\"reset_end\":1320004.9989999998,\"reset_start\":0.0,\"tags\":[[[\"Average Total Payments\",\"Average Total Payments\",null]]]},\"id\":\"1629\",\"type\":\"Range1d\"},{\"attributes\":{},\"id\":\"1636\",\"type\":\"CategoricalScale\"},{\"attributes\":{},\"id\":\"1673\",\"type\":\"BasicTickFormatter\"},{\"attributes\":{\"bottom_units\":\"screen\",\"coordinates\":null,\"fill_alpha\":0.5,\"fill_color\":\"lightgrey\",\"group\":null,\"left_units\":\"screen\",\"level\":\"overlay\",\"line_alpha\":1.0,\"line_color\":\"black\",\"line_dash\":[4,4],\"line_width\":2,\"right_units\":\"screen\",\"syncable\":false,\"top_units\":\"screen\"},\"id\":\"1652\",\"type\":\"BoxAnnotation\"},{\"attributes\":{},\"id\":\"1671\",\"type\":\"AllLabels\"},{\"attributes\":{\"factors\":[\"AK\",\"AL\",\"AR\",\"AZ\",\"CA\",\"CO\",\"CT\",\"DC\",\"DE\",\"FL\",\"GA\",\"HI\",\"IA\",\"ID\",\"IL\",\"IN\",\"KS\",\"KY\",\"LA\",\"MA\",\"MD\",\"ME\",\"MI\",\"MN\",\"MO\",\"MS\",\"MT\",\"NC\",\"ND\",\"NE\",\"NH\",\"NJ\",\"NM\",\"NV\",\"NY\",\"OH\",\"OK\",\"OR\",\"PA\",\"RI\",\"SC\",\"SD\",\"TN\",\"TX\",\"UT\",\"VA\",\"VT\",\"WA\",\"WI\",\"WV\",\"WY\"],\"tags\":[[[\"Provider State\",\"Provider State\",null]]]},\"id\":\"1628\",\"type\":\"FactorRange\"},{\"attributes\":{\"fill_color\":{\"value\":\"#30a2da\"},\"hatch_color\":{\"value\":\"#30a2da\"},\"top\":{\"field\":\"Average_Total_Payments\"},\"width\":{\"value\":0.8},\"x\":{\"field\":\"Provider_State\"}},\"id\":\"1663\",\"type\":\"VBar\"},{\"attributes\":{\"source\":{\"id\":\"1660\"}},\"id\":\"1667\",\"type\":\"CDSView\"},{\"attributes\":{\"tools\":[{\"id\":\"1630\"},{\"id\":\"1647\"},{\"id\":\"1648\"},{\"id\":\"1649\"},{\"id\":\"1650\"},{\"id\":\"1651\"}]},\"id\":\"1653\",\"type\":\"Toolbar\"},{\"attributes\":{\"fill_alpha\":{\"value\":0.1},\"fill_color\":{\"value\":\"#30a2da\"},\"hatch_alpha\":{\"value\":0.1},\"hatch_color\":{\"value\":\"#30a2da\"},\"line_alpha\":{\"value\":0.1},\"top\":{\"field\":\"Average_Total_Payments\"},\"width\":{\"value\":0.8},\"x\":{\"field\":\"Provider_State\"}},\"id\":\"1664\",\"type\":\"VBar\"},{\"attributes\":{},\"id\":\"1661\",\"type\":\"Selection\"},{\"attributes\":{\"bottom\":{\"value\":0},\"fill_alpha\":{\"value\":1.0},\"fill_color\":{\"value\":\"#30a2da\"},\"hatch_alpha\":{\"value\":1.0},\"hatch_color\":{\"value\":\"#30a2da\"},\"hatch_scale\":{\"value\":12.0},\"hatch_weight\":{\"value\":1.0},\"line_alpha\":{\"value\":1.0},\"line_cap\":{\"value\":\"butt\"},\"line_color\":{\"value\":\"black\"},\"line_dash\":{\"value\":[]},\"line_dash_offset\":{\"value\":0},\"line_join\":{\"value\":\"bevel\"},\"line_width\":{\"value\":1},\"top\":{\"field\":\"Average_Total_Payments\"},\"width\":{\"value\":0.8},\"x\":{\"field\":\"Provider_State\"}},\"id\":\"1668\",\"type\":\"VBar\"},{\"attributes\":{\"coordinates\":null,\"data_source\":{\"id\":\"1660\"},\"glyph\":{\"id\":\"1663\"},\"group\":null,\"hover_glyph\":null,\"muted_glyph\":{\"id\":\"1665\"},\"nonselection_glyph\":{\"id\":\"1664\"},\"selection_glyph\":{\"id\":\"1668\"},\"view\":{\"id\":\"1667\"}},\"id\":\"1666\",\"type\":\"GlyphRenderer\"},{\"attributes\":{\"fill_alpha\":{\"value\":0.2},\"fill_color\":{\"value\":\"#30a2da\"},\"hatch_alpha\":{\"value\":0.2},\"hatch_color\":{\"value\":\"#30a2da\"},\"line_alpha\":{\"value\":0.2},\"top\":{\"field\":\"Average_Total_Payments\"},\"width\":{\"value\":0.8},\"x\":{\"field\":\"Provider_State\"}},\"id\":\"1665\",\"type\":\"VBar\"},{\"attributes\":{},\"id\":\"1638\",\"type\":\"LinearScale\"},{\"attributes\":{\"axis_label\":\"Average Total Payments\",\"coordinates\":null,\"formatter\":{\"id\":\"1673\"},\"group\":null,\"major_label_policy\":{\"id\":\"1674\"},\"ticker\":{\"id\":\"1644\"}},\"id\":\"1643\",\"type\":\"LinearAxis\"},{\"attributes\":{\"callback\":null,\"renderers\":[{\"id\":\"1666\"}],\"tags\":[\"hv_created\"],\"tooltips\":[[\"Provider State\",\"@{Provider_State}\"],[\"Average Total Payments\",\"@{Average_Total_Payments}\"]]},\"id\":\"1630\",\"type\":\"HoverTool\"},{\"attributes\":{},\"id\":\"1682\",\"type\":\"UnionRenderers\"},{\"attributes\":{},\"id\":\"1670\",\"type\":\"CategoricalTickFormatter\"},{\"attributes\":{\"coordinates\":null,\"group\":null,\"text_color\":\"black\",\"text_font_size\":\"12pt\"},\"id\":\"1632\",\"type\":\"Title\"},{\"attributes\":{\"data\":{\"Average_Total_Payments\":{\"__ndarray__\":\"61G4HoVSzkBI4XoUOr8HQa5H4XogSPtAcT0K1ydTA0E9CtfjWVQyQa5H4XoYi/RASOF6FEIcAEFSuB6F40vmQML1KFx/8NxAMzMzs0ocJEGF61G4eQwTQexRuB5FKMtAuB6F69Wh9EAzMzMzA6XaQPYoXA9NvyBBSOF6FMpaCkFI4XoUjhfwQFyPwvUE0ghB9ihcjxhECEEpXI/Cnt0RQQAAAAB1KBNBCtejcCVD6EDsUbgepRUVQZqZmZkJS/lAMzMzM4FADUEK16Nwz9ICQUjhehQe89NACtejcLR5FUF7FK5HUZrVQJqZmZlJYt5A7FG4Hn3B4kB7FK5HjS8XQZqZmZmtCPNApHA9CrP58kBI4XqUQ5UqQY/C9ShuHhpBmpmZmQMNAUHXo3A98gvrQOxRuB5K9x1BzczMzGSX5kC4HoXroTkHQa5H4Xok59BA4XoUrhkVDUF7FK5HU/QlQVK4HoVT7eFAexSuRzH/DkHsUbgexc/TQPYoXI/cqQVBFa5H4Vz/AEEzMzMzI53zQGZmZmZmlcpA\",\"dtype\":\"float64\",\"order\":\"little\",\"shape\":[51]},\"Provider_State\":[\"AK\",\"AL\",\"AR\",\"AZ\",\"CA\",\"CO\",\"CT\",\"DC\",\"DE\",\"FL\",\"GA\",\"HI\",\"IA\",\"ID\",\"IL\",\"IN\",\"KS\",\"KY\",\"LA\",\"MA\",\"MD\",\"ME\",\"MI\",\"MN\",\"MO\",\"MS\",\"MT\",\"NC\",\"ND\",\"NE\",\"NH\",\"NJ\",\"NM\",\"NV\",\"NY\",\"OH\",\"OK\",\"OR\",\"PA\",\"RI\",\"SC\",\"SD\",\"TN\",\"TX\",\"UT\",\"VA\",\"VT\",\"WA\",\"WI\",\"WV\",\"WY\"]},\"selected\":{\"id\":\"1661\"},\"selection_policy\":{\"id\":\"1682\"}},\"id\":\"1660\",\"type\":\"ColumnDataSource\"},{\"attributes\":{},\"id\":\"1674\",\"type\":\"AllLabels\"},{\"attributes\":{\"below\":[{\"id\":\"1640\"}],\"center\":[{\"id\":\"1642\"},{\"id\":\"1646\"}],\"height\":300,\"left\":[{\"id\":\"1643\"}],\"margin\":[5,5,5,5],\"min_border_bottom\":10,\"min_border_left\":10,\"min_border_right\":10,\"min_border_top\":10,\"renderers\":[{\"id\":\"1666\"}],\"sizing_mode\":\"fixed\",\"title\":{\"id\":\"1632\"},\"toolbar\":{\"id\":\"1653\"},\"width\":700,\"x_range\":{\"id\":\"1628\"},\"x_scale\":{\"id\":\"1636\"},\"y_range\":{\"id\":\"1629\"},\"y_scale\":{\"id\":\"1638\"}},\"id\":\"1631\",\"subtype\":\"Figure\",\"type\":\"Plot\"},{\"attributes\":{\"axis_label\":\"Provider State\",\"coordinates\":null,\"formatter\":{\"id\":\"1670\"},\"group\":null,\"major_label_policy\":{\"id\":\"1671\"},\"ticker\":{\"id\":\"1641\"}},\"id\":\"1640\",\"type\":\"CategoricalAxis\"},{\"attributes\":{},\"id\":\"1641\",\"type\":\"CategoricalTicker\"},{\"attributes\":{\"axis\":{\"id\":\"1640\"},\"coordinates\":null,\"grid_line_color\":null,\"group\":null,\"ticker\":null},\"id\":\"1642\",\"type\":\"Grid\"},{\"attributes\":{\"margin\":[5,5,5,5],\"name\":\"HSpacer01549\",\"sizing_mode\":\"stretch_width\"},\"id\":\"1627\",\"type\":\"Spacer\"}],\"root_ids\":[\"1626\"]},\"title\":\"Bokeh Application\",\"version\":\"2.4.3\"}};\n",
       "    var render_items = [{\"docid\":\"74fe2ea9-7ef9-4ad3-bb0e-e6363d0d42ad\",\"root_ids\":[\"1626\"],\"roots\":{\"1626\":\"74d92616-eb69-4bd9-80fb-cedafe040488\"}}];\n",
       "    root.Bokeh.embed.embed_items_notebook(docs_json, render_items);\n",
       "  }\n",
       "  if (root.Bokeh !== undefined && root.Bokeh.Panel !== undefined) {\n",
       "    embed_document(root);\n",
       "  } else {\n",
       "    var attempts = 0;\n",
       "    var timer = setInterval(function(root) {\n",
       "      if (root.Bokeh !== undefined && root.Bokeh.Panel !== undefined) {\n",
       "        clearInterval(timer);\n",
       "        embed_document(root);\n",
       "      } else if (document.readyState == \"complete\") {\n",
       "        attempts++;\n",
       "        if (attempts > 200) {\n",
       "          clearInterval(timer);\n",
       "          console.log(\"Bokeh: ERROR: Unable to run BokehJS code because BokehJS library is missing\");\n",
       "        }\n",
       "      }\n",
       "    }, 25, root)\n",
       "  }\n",
       "})(window);</script>"
      ],
      "text/plain": [
       ":Bars   [Provider State]   (Average Total Payments)"
      ]
     },
     "execution_count": 21,
     "metadata": {
      "application/vnd.holoviews_exec.v0+json": {
       "id": "1626"
      }
     },
     "output_type": "execute_result"
    }
   ],
   "source": [
    "# Plot data using hvplot.bar\n",
    "total_payment_by_state.hvplot.bar(x=\"Provider State\", y=\"Average Total Payments\")"
   ]
  },
  {
   "cell_type": "code",
   "execution_count": 22,
   "metadata": {},
   "outputs": [
    {
     "data": {},
     "metadata": {},
     "output_type": "display_data"
    },
    {
     "data": {
      "application/vnd.holoviews_exec.v0+json": "",
      "text/html": [
       "<div id='1737'>\n",
       "  <div class=\"bk-root\" id=\"a377c5e4-09dc-4ed2-b0ee-7d6a7d92d3f6\" data-root-id=\"1737\"></div>\n",
       "</div>\n",
       "<script type=\"application/javascript\">(function(root) {\n",
       "  function embed_document(root) {\n",
       "    var docs_json = {\"d4493cb5-0259-415d-841d-9dd072c72a98\":{\"defs\":[{\"extends\":null,\"module\":null,\"name\":\"ReactiveHTML1\",\"overrides\":[],\"properties\":[]},{\"extends\":null,\"module\":null,\"name\":\"FlexBox1\",\"overrides\":[],\"properties\":[{\"default\":\"flex-start\",\"kind\":null,\"name\":\"align_content\"},{\"default\":\"flex-start\",\"kind\":null,\"name\":\"align_items\"},{\"default\":\"row\",\"kind\":null,\"name\":\"flex_direction\"},{\"default\":\"wrap\",\"kind\":null,\"name\":\"flex_wrap\"},{\"default\":\"flex-start\",\"kind\":null,\"name\":\"justify_content\"}]},{\"extends\":null,\"module\":null,\"name\":\"GridStack1\",\"overrides\":[],\"properties\":[{\"default\":\"warn\",\"kind\":null,\"name\":\"mode\"},{\"default\":null,\"kind\":null,\"name\":\"ncols\"},{\"default\":null,\"kind\":null,\"name\":\"nrows\"},{\"default\":true,\"kind\":null,\"name\":\"allow_resize\"},{\"default\":true,\"kind\":null,\"name\":\"allow_drag\"},{\"default\":[],\"kind\":null,\"name\":\"state\"}]},{\"extends\":null,\"module\":null,\"name\":\"click1\",\"overrides\":[],\"properties\":[{\"default\":\"\",\"kind\":null,\"name\":\"terminal_output\"},{\"default\":\"\",\"kind\":null,\"name\":\"debug_name\"},{\"default\":0,\"kind\":null,\"name\":\"clears\"}]},{\"extends\":null,\"module\":null,\"name\":\"NotificationAreaBase1\",\"overrides\":[],\"properties\":[{\"default\":\"bottom-right\",\"kind\":null,\"name\":\"position\"},{\"default\":0,\"kind\":null,\"name\":\"_clear\"}]},{\"extends\":null,\"module\":null,\"name\":\"NotificationArea1\",\"overrides\":[],\"properties\":[{\"default\":[],\"kind\":null,\"name\":\"notifications\"},{\"default\":\"bottom-right\",\"kind\":null,\"name\":\"position\"},{\"default\":0,\"kind\":null,\"name\":\"_clear\"},{\"default\":[{\"background\":\"#ffc107\",\"icon\":{\"className\":\"fas fa-exclamation-triangle\",\"color\":\"white\",\"tagName\":\"i\"},\"type\":\"warning\"},{\"background\":\"#007bff\",\"icon\":{\"className\":\"fas fa-info-circle\",\"color\":\"white\",\"tagName\":\"i\"},\"type\":\"info\"}],\"kind\":null,\"name\":\"types\"}]},{\"extends\":null,\"module\":null,\"name\":\"Notification\",\"overrides\":[],\"properties\":[{\"default\":null,\"kind\":null,\"name\":\"background\"},{\"default\":3000,\"kind\":null,\"name\":\"duration\"},{\"default\":null,\"kind\":null,\"name\":\"icon\"},{\"default\":\"\",\"kind\":null,\"name\":\"message\"},{\"default\":null,\"kind\":null,\"name\":\"notification_type\"},{\"default\":false,\"kind\":null,\"name\":\"_destroyed\"}]},{\"extends\":null,\"module\":null,\"name\":\"TemplateActions1\",\"overrides\":[],\"properties\":[{\"default\":0,\"kind\":null,\"name\":\"open_modal\"},{\"default\":0,\"kind\":null,\"name\":\"close_modal\"}]},{\"extends\":null,\"module\":null,\"name\":\"MaterialTemplateActions1\",\"overrides\":[],\"properties\":[{\"default\":0,\"kind\":null,\"name\":\"open_modal\"},{\"default\":0,\"kind\":null,\"name\":\"close_modal\"}]}],\"roots\":{\"references\":[{\"attributes\":{},\"id\":\"1758\",\"type\":\"SaveTool\"},{\"attributes\":{\"overlay\":{\"id\":\"1763\"}},\"id\":\"1761\",\"type\":\"BoxZoomTool\"},{\"attributes\":{},\"id\":\"1762\",\"type\":\"ResetTool\"},{\"attributes\":{\"factors\":[\"WY\",\"HI\",\"AK\",\"SD\",\"VT\",\"MT\",\"ND\",\"ID\",\"DE\",\"NE\",\"UT\",\"NH\",\"DC\",\"RI\",\"ME\",\"OR\",\"KS\",\"NV\",\"NM\",\"WV\",\"CO\",\"IA\",\"MN\",\"AR\",\"CT\",\"WI\",\"OK\",\"MS\",\"AZ\",\"WA\",\"SC\",\"AL\",\"LA\",\"KY\",\"IN\",\"TN\",\"MO\",\"VA\",\"MA\",\"GA\",\"MD\",\"MI\",\"NC\",\"NJ\",\"OH\",\"PA\",\"IL\",\"FL\",\"TX\",\"NY\",\"CA\"],\"tags\":[[[\"Provider State\",\"Provider State\",null]]]},\"id\":\"1739\",\"type\":\"FactorRange\"},{\"attributes\":{},\"id\":\"1784\",\"type\":\"BasicTickFormatter\"},{\"attributes\":{\"bottom_units\":\"screen\",\"coordinates\":null,\"fill_alpha\":0.5,\"fill_color\":\"lightgrey\",\"group\":null,\"left_units\":\"screen\",\"level\":\"overlay\",\"line_alpha\":1.0,\"line_color\":\"black\",\"line_dash\":[4,4],\"line_width\":2,\"right_units\":\"screen\",\"syncable\":false,\"top_units\":\"screen\"},\"id\":\"1763\",\"type\":\"BoxAnnotation\"},{\"attributes\":{},\"id\":\"1747\",\"type\":\"CategoricalScale\"},{\"attributes\":{\"end\":1320004.9989999998,\"reset_end\":1320004.9989999998,\"reset_start\":0.0,\"tags\":[[[\"Average Total Payments\",\"Average Total Payments\",null]]]},\"id\":\"1740\",\"type\":\"Range1d\"},{\"attributes\":{\"margin\":[5,5,5,5],\"name\":\"HSpacer01655\",\"sizing_mode\":\"stretch_width\"},\"id\":\"1796\",\"type\":\"Spacer\"},{\"attributes\":{\"tools\":[{\"id\":\"1741\"},{\"id\":\"1758\"},{\"id\":\"1759\"},{\"id\":\"1760\"},{\"id\":\"1761\"},{\"id\":\"1762\"}]},\"id\":\"1764\",\"type\":\"Toolbar\"},{\"attributes\":{},\"id\":\"1782\",\"type\":\"AllLabels\"},{\"attributes\":{},\"id\":\"1772\",\"type\":\"Selection\"},{\"attributes\":{\"bottom\":{\"value\":0},\"fill_alpha\":{\"value\":1.0},\"fill_color\":{\"value\":\"#30a2da\"},\"hatch_alpha\":{\"value\":1.0},\"hatch_color\":{\"value\":\"#30a2da\"},\"hatch_scale\":{\"value\":12.0},\"hatch_weight\":{\"value\":1.0},\"line_alpha\":{\"value\":1.0},\"line_cap\":{\"value\":\"butt\"},\"line_color\":{\"value\":\"black\"},\"line_dash\":{\"value\":[]},\"line_dash_offset\":{\"value\":0},\"line_join\":{\"value\":\"bevel\"},\"line_width\":{\"value\":1},\"top\":{\"field\":\"Average_Total_Payments\"},\"width\":{\"value\":0.8},\"x\":{\"field\":\"Provider_State\"}},\"id\":\"1779\",\"type\":\"VBar\"},{\"attributes\":{\"margin\":[5,5,5,5],\"name\":\"HSpacer01654\",\"sizing_mode\":\"stretch_width\"},\"id\":\"1738\",\"type\":\"Spacer\"},{\"attributes\":{\"coordinates\":null,\"data_source\":{\"id\":\"1771\"},\"glyph\":{\"id\":\"1774\"},\"group\":null,\"hover_glyph\":null,\"muted_glyph\":{\"id\":\"1776\"},\"nonselection_glyph\":{\"id\":\"1775\"},\"selection_glyph\":{\"id\":\"1779\"},\"view\":{\"id\":\"1778\"}},\"id\":\"1777\",\"type\":\"GlyphRenderer\"},{\"attributes\":{},\"id\":\"1749\",\"type\":\"LinearScale\"},{\"attributes\":{\"source\":{\"id\":\"1771\"}},\"id\":\"1778\",\"type\":\"CDSView\"},{\"attributes\":{\"callback\":null,\"renderers\":[{\"id\":\"1777\"}],\"tags\":[\"hv_created\"],\"tooltips\":[[\"Provider State\",\"@{Provider_State}\"],[\"Average Total Payments\",\"@{Average_Total_Payments}\"]]},\"id\":\"1741\",\"type\":\"HoverTool\"},{\"attributes\":{\"data\":{\"Average_Total_Payments\":{\"__ndarray__\":\"ZmZmZmaVykDsUbgeRSjLQOtRuB6FUs5ArkfheiTn0EDsUbgexc/TQEjhehQe89NAexSuR1Ga1UAzMzMzA6XaQML1KFx/8NxAmpmZmUli3kBSuB6FU+3hQOxRuB59weJAUrgeheNL5kDNzMzMZJfmQArXo3AlQ+hA16NwPfIL60BI4XoUjhfwQKRwPQqz+fJAmpmZma0I80AzMzMzI53zQK5H4XoYi/RAuB6F69Wh9ECamZmZCUv5QK5H4XogSPtASOF6FEIcAEEVrkfhXP8AQZqZmZkDDQFBCtejcM/SAkFxPQrXJ1MDQfYoXI/cqQVBuB6F66E5B0FI4XoUOr8HQfYoXI8YRAhBXI/C9QTSCEFI4XoUyloKQeF6FK4ZFQ1BMzMzM4FADUF7FK5HMf8OQSlcj8Ke3RFBhetRuHkME0EAAAAAdSgTQexRuB6lFRVBCtejcLR5FUF7FK5HjS8XQY/C9ShuHhpB7FG4Hkr3HUH2KFwPTb8gQTMzM7NKHCRBexSuR1P0JUFI4XqUQ5UqQT0K1+NZVDJB\",\"dtype\":\"float64\",\"order\":\"little\",\"shape\":[51]},\"Provider_State\":[\"WY\",\"HI\",\"AK\",\"SD\",\"VT\",\"MT\",\"ND\",\"ID\",\"DE\",\"NE\",\"UT\",\"NH\",\"DC\",\"RI\",\"ME\",\"OR\",\"KS\",\"NV\",\"NM\",\"WV\",\"CO\",\"IA\",\"MN\",\"AR\",\"CT\",\"WI\",\"OK\",\"MS\",\"AZ\",\"WA\",\"SC\",\"AL\",\"LA\",\"KY\",\"IN\",\"TN\",\"MO\",\"VA\",\"MA\",\"GA\",\"MD\",\"MI\",\"NC\",\"NJ\",\"OH\",\"PA\",\"IL\",\"FL\",\"TX\",\"NY\",\"CA\"]},\"selected\":{\"id\":\"1772\"},\"selection_policy\":{\"id\":\"1793\"}},\"id\":\"1771\",\"type\":\"ColumnDataSource\"},{\"attributes\":{\"fill_alpha\":{\"value\":0.1},\"fill_color\":{\"value\":\"#30a2da\"},\"hatch_alpha\":{\"value\":0.1},\"hatch_color\":{\"value\":\"#30a2da\"},\"line_alpha\":{\"value\":0.1},\"top\":{\"field\":\"Average_Total_Payments\"},\"width\":{\"value\":0.8},\"x\":{\"field\":\"Provider_State\"}},\"id\":\"1775\",\"type\":\"VBar\"},{\"attributes\":{\"fill_alpha\":{\"value\":0.2},\"fill_color\":{\"value\":\"#30a2da\"},\"hatch_alpha\":{\"value\":0.2},\"hatch_color\":{\"value\":\"#30a2da\"},\"line_alpha\":{\"value\":0.2},\"top\":{\"field\":\"Average_Total_Payments\"},\"width\":{\"value\":0.8},\"x\":{\"field\":\"Provider_State\"}},\"id\":\"1776\",\"type\":\"VBar\"},{\"attributes\":{\"coordinates\":null,\"group\":null,\"text_color\":\"black\",\"text_font_size\":\"12pt\"},\"id\":\"1743\",\"type\":\"Title\"},{\"attributes\":{\"below\":[{\"id\":\"1751\"}],\"center\":[{\"id\":\"1753\"},{\"id\":\"1757\"}],\"height\":300,\"left\":[{\"id\":\"1754\"}],\"margin\":[5,5,5,5],\"min_border_bottom\":10,\"min_border_left\":10,\"min_border_right\":10,\"min_border_top\":10,\"renderers\":[{\"id\":\"1777\"}],\"sizing_mode\":\"fixed\",\"title\":{\"id\":\"1743\"},\"toolbar\":{\"id\":\"1764\"},\"width\":700,\"x_range\":{\"id\":\"1739\"},\"x_scale\":{\"id\":\"1747\"},\"y_range\":{\"id\":\"1740\"},\"y_scale\":{\"id\":\"1749\"}},\"id\":\"1742\",\"subtype\":\"Figure\",\"type\":\"Plot\"},{\"attributes\":{},\"id\":\"1781\",\"type\":\"CategoricalTickFormatter\"},{\"attributes\":{\"axis_label\":\"Provider State\",\"coordinates\":null,\"formatter\":{\"id\":\"1781\"},\"group\":null,\"major_label_policy\":{\"id\":\"1782\"},\"ticker\":{\"id\":\"1752\"}},\"id\":\"1751\",\"type\":\"CategoricalAxis\"},{\"attributes\":{},\"id\":\"1752\",\"type\":\"CategoricalTicker\"},{\"attributes\":{},\"id\":\"1785\",\"type\":\"AllLabels\"},{\"attributes\":{\"axis\":{\"id\":\"1751\"},\"coordinates\":null,\"grid_line_color\":null,\"group\":null,\"ticker\":null},\"id\":\"1753\",\"type\":\"Grid\"},{\"attributes\":{\"fill_color\":{\"value\":\"#30a2da\"},\"hatch_color\":{\"value\":\"#30a2da\"},\"top\":{\"field\":\"Average_Total_Payments\"},\"width\":{\"value\":0.8},\"x\":{\"field\":\"Provider_State\"}},\"id\":\"1774\",\"type\":\"VBar\"},{\"attributes\":{},\"id\":\"1793\",\"type\":\"UnionRenderers\"},{\"attributes\":{\"children\":[{\"id\":\"1738\"},{\"id\":\"1742\"},{\"id\":\"1796\"}],\"margin\":[0,0,0,0],\"name\":\"Row01650\",\"tags\":[\"embedded\"]},\"id\":\"1737\",\"type\":\"Row\"},{\"attributes\":{},\"id\":\"1759\",\"type\":\"PanTool\"},{\"attributes\":{\"axis_label\":\"Average Total Payments\",\"coordinates\":null,\"formatter\":{\"id\":\"1784\"},\"group\":null,\"major_label_policy\":{\"id\":\"1785\"},\"ticker\":{\"id\":\"1755\"}},\"id\":\"1754\",\"type\":\"LinearAxis\"},{\"attributes\":{\"axis\":{\"id\":\"1754\"},\"coordinates\":null,\"dimension\":1,\"grid_line_color\":null,\"group\":null,\"ticker\":null},\"id\":\"1757\",\"type\":\"Grid\"},{\"attributes\":{},\"id\":\"1755\",\"type\":\"BasicTicker\"},{\"attributes\":{},\"id\":\"1760\",\"type\":\"WheelZoomTool\"}],\"root_ids\":[\"1737\"]},\"title\":\"Bokeh Application\",\"version\":\"2.4.3\"}};\n",
       "    var render_items = [{\"docid\":\"d4493cb5-0259-415d-841d-9dd072c72a98\",\"root_ids\":[\"1737\"],\"roots\":{\"1737\":\"a377c5e4-09dc-4ed2-b0ee-7d6a7d92d3f6\"}}];\n",
       "    root.Bokeh.embed.embed_items_notebook(docs_json, render_items);\n",
       "  }\n",
       "  if (root.Bokeh !== undefined && root.Bokeh.Panel !== undefined) {\n",
       "    embed_document(root);\n",
       "  } else {\n",
       "    var attempts = 0;\n",
       "    var timer = setInterval(function(root) {\n",
       "      if (root.Bokeh !== undefined && root.Bokeh.Panel !== undefined) {\n",
       "        clearInterval(timer);\n",
       "        embed_document(root);\n",
       "      } else if (document.readyState == \"complete\") {\n",
       "        attempts++;\n",
       "        if (attempts > 200) {\n",
       "          clearInterval(timer);\n",
       "          console.log(\"Bokeh: ERROR: Unable to run BokehJS code because BokehJS library is missing\");\n",
       "        }\n",
       "      }\n",
       "    }, 25, root)\n",
       "  }\n",
       "})(window);</script>"
      ],
      "text/plain": [
       ":Bars   [Provider State]   (Average Total Payments)"
      ]
     },
     "execution_count": 22,
     "metadata": {
      "application/vnd.holoviews_exec.v0+json": {
       "id": "1737"
      }
     },
     "output_type": "execute_result"
    }
   ],
   "source": [
    "# Sort data values\n",
    "sorted_data = total_payment_by_state.sort_values(\"Average Total Payments\")\n",
    "sorted_data.hvplot.bar(x=\"Provider State\", y=\"Average Total Payments\")"
   ]
  },
  {
   "cell_type": "code",
   "execution_count": 23,
   "metadata": {},
   "outputs": [
    {
     "data": {
      "text/plain": [
       "1200000.0"
      ]
     },
     "execution_count": 23,
     "metadata": {},
     "output_type": "execute_result"
    }
   ],
   "source": [
    "1.2*10**6"
   ]
  },
  {
   "cell_type": "code",
   "execution_count": 24,
   "metadata": {},
   "outputs": [
    {
     "data": {
      "text/plain": [
       "200000"
      ]
     },
     "execution_count": 24,
     "metadata": {},
     "output_type": "execute_result"
    }
   ],
   "source": [
    "2*10**5"
   ]
  },
  {
   "cell_type": "code",
   "execution_count": 25,
   "metadata": {},
   "outputs": [
    {
     "data": {
      "text/plain": [
       "13000.0"
      ]
     },
     "execution_count": 25,
     "metadata": {},
     "output_type": "execute_result"
    }
   ],
   "source": [
    "1.3*10**4"
   ]
  },
  {
   "cell_type": "code",
   "execution_count": null,
   "metadata": {},
   "outputs": [],
   "source": []
  },
  {
   "cell_type": "markdown",
   "metadata": {},
   "source": [
    "### Use compose operators"
   ]
  },
  {
   "cell_type": "code",
   "execution_count": 26,
   "metadata": {},
   "outputs": [
    {
     "data": {},
     "metadata": {},
     "output_type": "display_data"
    },
    {
     "data": {
      "application/vnd.holoviews_exec.v0+json": "",
      "text/html": [
       "<div id='1848'>\n",
       "  <div class=\"bk-root\" id=\"cb8553d9-d6a0-437b-8ccd-635c9ecff817\" data-root-id=\"1848\"></div>\n",
       "</div>\n",
       "<script type=\"application/javascript\">(function(root) {\n",
       "  function embed_document(root) {\n",
       "    var docs_json = {\"7b3c3f94-4dcd-496f-942a-da6de40dec01\":{\"defs\":[{\"extends\":null,\"module\":null,\"name\":\"ReactiveHTML1\",\"overrides\":[],\"properties\":[]},{\"extends\":null,\"module\":null,\"name\":\"FlexBox1\",\"overrides\":[],\"properties\":[{\"default\":\"flex-start\",\"kind\":null,\"name\":\"align_content\"},{\"default\":\"flex-start\",\"kind\":null,\"name\":\"align_items\"},{\"default\":\"row\",\"kind\":null,\"name\":\"flex_direction\"},{\"default\":\"wrap\",\"kind\":null,\"name\":\"flex_wrap\"},{\"default\":\"flex-start\",\"kind\":null,\"name\":\"justify_content\"}]},{\"extends\":null,\"module\":null,\"name\":\"GridStack1\",\"overrides\":[],\"properties\":[{\"default\":\"warn\",\"kind\":null,\"name\":\"mode\"},{\"default\":null,\"kind\":null,\"name\":\"ncols\"},{\"default\":null,\"kind\":null,\"name\":\"nrows\"},{\"default\":true,\"kind\":null,\"name\":\"allow_resize\"},{\"default\":true,\"kind\":null,\"name\":\"allow_drag\"},{\"default\":[],\"kind\":null,\"name\":\"state\"}]},{\"extends\":null,\"module\":null,\"name\":\"click1\",\"overrides\":[],\"properties\":[{\"default\":\"\",\"kind\":null,\"name\":\"terminal_output\"},{\"default\":\"\",\"kind\":null,\"name\":\"debug_name\"},{\"default\":0,\"kind\":null,\"name\":\"clears\"}]},{\"extends\":null,\"module\":null,\"name\":\"NotificationAreaBase1\",\"overrides\":[],\"properties\":[{\"default\":\"bottom-right\",\"kind\":null,\"name\":\"position\"},{\"default\":0,\"kind\":null,\"name\":\"_clear\"}]},{\"extends\":null,\"module\":null,\"name\":\"NotificationArea1\",\"overrides\":[],\"properties\":[{\"default\":[],\"kind\":null,\"name\":\"notifications\"},{\"default\":\"bottom-right\",\"kind\":null,\"name\":\"position\"},{\"default\":0,\"kind\":null,\"name\":\"_clear\"},{\"default\":[{\"background\":\"#ffc107\",\"icon\":{\"className\":\"fas fa-exclamation-triangle\",\"color\":\"white\",\"tagName\":\"i\"},\"type\":\"warning\"},{\"background\":\"#007bff\",\"icon\":{\"className\":\"fas fa-info-circle\",\"color\":\"white\",\"tagName\":\"i\"},\"type\":\"info\"}],\"kind\":null,\"name\":\"types\"}]},{\"extends\":null,\"module\":null,\"name\":\"Notification\",\"overrides\":[],\"properties\":[{\"default\":null,\"kind\":null,\"name\":\"background\"},{\"default\":3000,\"kind\":null,\"name\":\"duration\"},{\"default\":null,\"kind\":null,\"name\":\"icon\"},{\"default\":\"\",\"kind\":null,\"name\":\"message\"},{\"default\":null,\"kind\":null,\"name\":\"notification_type\"},{\"default\":false,\"kind\":null,\"name\":\"_destroyed\"}]},{\"extends\":null,\"module\":null,\"name\":\"TemplateActions1\",\"overrides\":[],\"properties\":[{\"default\":0,\"kind\":null,\"name\":\"open_modal\"},{\"default\":0,\"kind\":null,\"name\":\"close_modal\"}]},{\"extends\":null,\"module\":null,\"name\":\"MaterialTemplateActions1\",\"overrides\":[],\"properties\":[{\"default\":0,\"kind\":null,\"name\":\"open_modal\"},{\"default\":0,\"kind\":null,\"name\":\"close_modal\"}]}],\"roots\":{\"references\":[{\"attributes\":{\"fill_color\":{\"value\":\"#30a2da\"},\"hatch_color\":{\"value\":\"#30a2da\"},\"top\":{\"field\":\"Average_Total_Payments\"},\"width\":{\"value\":0.8},\"x\":{\"field\":\"Provider_State\"}},\"id\":\"1885\",\"type\":\"VBar\"},{\"attributes\":{\"children\":[{\"id\":\"1849\"},{\"id\":\"1968\"},{\"id\":\"1989\"}],\"margin\":[0,0,0,0],\"name\":\"Row01839\",\"tags\":[\"embedded\"]},\"id\":\"1848\",\"type\":\"Row\"},{\"attributes\":{},\"id\":\"1942\",\"type\":\"AllLabels\"},{\"attributes\":{\"coordinates\":null,\"group\":null,\"text_color\":\"black\",\"text_font_size\":\"12pt\"},\"id\":\"1854\",\"type\":\"Title\"},{\"attributes\":{\"callback\":null,\"renderers\":[{\"id\":\"1888\"}],\"tags\":[\"hv_created\"],\"tooltips\":[[\"Provider State\",\"@{Provider_State}\"],[\"Average Total Payments\",\"@{Average_Total_Payments}\"]]},\"id\":\"1852\",\"type\":\"HoverTool\"},{\"attributes\":{},\"id\":\"1896\",\"type\":\"AllLabels\"},{\"attributes\":{\"axis_label\":\"Provider State\",\"coordinates\":null,\"formatter\":{\"id\":\"1892\"},\"group\":null,\"major_label_policy\":{\"id\":\"1893\"},\"ticker\":{\"id\":\"1863\"}},\"id\":\"1862\",\"type\":\"CategoricalAxis\"},{\"attributes\":{},\"id\":\"1883\",\"type\":\"Selection\"},{\"attributes\":{\"children\":[{\"id\":\"1967\"},{\"id\":\"1965\"}]},\"id\":\"1968\",\"type\":\"Column\"},{\"attributes\":{},\"id\":\"1916\",\"type\":\"PanTool\"},{\"attributes\":{\"axis\":{\"id\":\"1862\"},\"coordinates\":null,\"grid_line_color\":null,\"group\":null,\"ticker\":null},\"id\":\"1864\",\"type\":\"Grid\"},{\"attributes\":{\"factors\":[\"AK\",\"AL\",\"AR\",\"AZ\",\"CA\",\"CO\",\"CT\",\"DC\",\"DE\",\"FL\",\"GA\",\"HI\",\"IA\",\"ID\",\"IL\",\"IN\",\"KS\",\"KY\",\"LA\",\"MA\",\"MD\",\"ME\",\"MI\",\"MN\",\"MO\",\"MS\",\"MT\",\"NC\",\"ND\",\"NE\",\"NH\",\"NJ\",\"NM\",\"NV\",\"NY\",\"OH\",\"OK\",\"OR\",\"PA\",\"RI\",\"SC\",\"SD\",\"TN\",\"TX\",\"UT\",\"VA\",\"VT\",\"WA\",\"WI\",\"WV\",\"WY\"],\"tags\":[[[\"Provider State\",\"Provider State\",null]]]},\"id\":\"1850\",\"type\":\"FactorRange\"},{\"attributes\":{\"axis_label\":\"Average Total Payments\",\"coordinates\":null,\"formatter\":{\"id\":\"1941\"},\"group\":null,\"major_label_policy\":{\"id\":\"1942\"},\"ticker\":{\"id\":\"1912\"}},\"id\":\"1911\",\"type\":\"LinearAxis\"},{\"attributes\":{\"toolbar\":{\"id\":\"1966\"},\"toolbar_location\":\"above\"},\"id\":\"1967\",\"type\":\"ToolbarBox\"},{\"attributes\":{\"end\":1320004.9989999998,\"reset_end\":1320004.9989999998,\"reset_start\":-105152.309,\"start\":-105152.309,\"tags\":[[[\"Average Total Payments\",\"Average Total Payments\",null]]]},\"id\":\"1851\",\"type\":\"Range1d\"},{\"attributes\":{\"axis\":{\"id\":\"1911\"},\"coordinates\":null,\"dimension\":1,\"grid_line_color\":null,\"group\":null,\"ticker\":null},\"id\":\"1914\",\"type\":\"Grid\"},{\"attributes\":{},\"id\":\"1870\",\"type\":\"PanTool\"},{\"attributes\":{},\"id\":\"1906\",\"type\":\"LinearScale\"},{\"attributes\":{\"axis_label\":\"Average Total Payments\",\"coordinates\":null,\"formatter\":{\"id\":\"1895\"},\"group\":null,\"major_label_policy\":{\"id\":\"1896\"},\"ticker\":{\"id\":\"1866\"}},\"id\":\"1865\",\"type\":\"LinearAxis\"},{\"attributes\":{\"axis_label\":\"Provider State\",\"coordinates\":null,\"formatter\":{\"id\":\"1938\"},\"group\":null,\"major_label_policy\":{\"id\":\"1939\"},\"ticker\":{\"id\":\"1909\"}},\"id\":\"1908\",\"type\":\"CategoricalAxis\"},{\"attributes\":{\"axis\":{\"id\":\"1865\"},\"coordinates\":null,\"dimension\":1,\"grid_line_color\":null,\"group\":null,\"ticker\":null},\"id\":\"1868\",\"type\":\"Grid\"},{\"attributes\":{\"margin\":[5,5,5,5],\"name\":\"HSpacer01844\",\"sizing_mode\":\"stretch_width\"},\"id\":\"1989\",\"type\":\"Spacer\"},{\"attributes\":{},\"id\":\"1866\",\"type\":\"BasicTicker\"},{\"attributes\":{},\"id\":\"1871\",\"type\":\"WheelZoomTool\"},{\"attributes\":{\"children\":[[{\"id\":\"1853\"},0,0],[{\"id\":\"1899\"},0,1]]},\"id\":\"1965\",\"type\":\"GridBox\"},{\"attributes\":{},\"id\":\"1869\",\"type\":\"SaveTool\"},{\"attributes\":{},\"id\":\"1909\",\"type\":\"CategoricalTicker\"},{\"attributes\":{\"line_alpha\":0.2,\"line_color\":\"#30a2da\",\"line_width\":2,\"x\":{\"field\":\"Provider State\"},\"y\":{\"field\":\"Average Total Payments\"}},\"id\":\"1933\",\"type\":\"Line\"},{\"attributes\":{\"overlay\":{\"id\":\"1874\"}},\"id\":\"1872\",\"type\":\"BoxZoomTool\"},{\"attributes\":{},\"id\":\"1912\",\"type\":\"BasicTicker\"},{\"attributes\":{},\"id\":\"1873\",\"type\":\"ResetTool\"},{\"attributes\":{},\"id\":\"1917\",\"type\":\"WheelZoomTool\"},{\"attributes\":{\"axis\":{\"id\":\"1908\"},\"coordinates\":null,\"grid_line_color\":null,\"group\":null,\"ticker\":null},\"id\":\"1910\",\"type\":\"Grid\"},{\"attributes\":{\"coordinates\":null,\"group\":null,\"text_color\":\"black\",\"text_font_size\":\"12pt\"},\"id\":\"1900\",\"type\":\"Title\"},{\"attributes\":{\"bottom_units\":\"screen\",\"coordinates\":null,\"fill_alpha\":0.5,\"fill_color\":\"lightgrey\",\"group\":null,\"left_units\":\"screen\",\"level\":\"overlay\",\"line_alpha\":1.0,\"line_color\":\"black\",\"line_dash\":[4,4],\"line_width\":2,\"right_units\":\"screen\",\"syncable\":false,\"top_units\":\"screen\"},\"id\":\"1874\",\"type\":\"BoxAnnotation\"},{\"attributes\":{},\"id\":\"1893\",\"type\":\"AllLabels\"},{\"attributes\":{},\"id\":\"1915\",\"type\":\"SaveTool\"},{\"attributes\":{},\"id\":\"1892\",\"type\":\"CategoricalTickFormatter\"},{\"attributes\":{},\"id\":\"1895\",\"type\":\"BasicTickFormatter\"},{\"attributes\":{\"overlay\":{\"id\":\"1920\"}},\"id\":\"1918\",\"type\":\"BoxZoomTool\"},{\"attributes\":{},\"id\":\"1919\",\"type\":\"ResetTool\"},{\"attributes\":{\"fill_alpha\":{\"value\":0.2},\"fill_color\":{\"value\":\"#30a2da\"},\"hatch_alpha\":{\"value\":0.2},\"hatch_color\":{\"value\":\"#30a2da\"},\"line_alpha\":{\"value\":0.2},\"top\":{\"field\":\"Average_Total_Payments\"},\"width\":{\"value\":0.8},\"x\":{\"field\":\"Provider_State\"}},\"id\":\"1887\",\"type\":\"VBar\"},{\"attributes\":{},\"id\":\"1961\",\"type\":\"UnionRenderers\"},{\"attributes\":{\"callback\":null,\"renderers\":[{\"id\":\"1934\"}],\"tags\":[\"hv_created\"],\"tooltips\":[[\"Provider State\",\"@{Provider_State}\"],[\"Average Total Payments\",\"@{Average_Total_Payments}\"]]},\"id\":\"1898\",\"type\":\"HoverTool\"},{\"attributes\":{\"below\":[{\"id\":\"1908\"}],\"center\":[{\"id\":\"1910\"},{\"id\":\"1914\"}],\"height\":300,\"left\":[{\"id\":\"1911\"}],\"margin\":null,\"min_border_bottom\":10,\"min_border_left\":10,\"min_border_right\":10,\"min_border_top\":10,\"renderers\":[{\"id\":\"1934\"}],\"sizing_mode\":\"fixed\",\"title\":{\"id\":\"1900\"},\"toolbar\":{\"id\":\"1921\"},\"toolbar_location\":null,\"width\":700,\"x_range\":{\"id\":\"1850\"},\"x_scale\":{\"id\":\"1904\"},\"y_range\":{\"id\":\"1851\"},\"y_scale\":{\"id\":\"1906\"}},\"id\":\"1899\",\"subtype\":\"Figure\",\"type\":\"Plot\"},{\"attributes\":{},\"id\":\"1858\",\"type\":\"CategoricalScale\"},{\"attributes\":{\"bottom_units\":\"screen\",\"coordinates\":null,\"fill_alpha\":0.5,\"fill_color\":\"lightgrey\",\"group\":null,\"left_units\":\"screen\",\"level\":\"overlay\",\"line_alpha\":1.0,\"line_color\":\"black\",\"line_dash\":[4,4],\"line_width\":2,\"right_units\":\"screen\",\"syncable\":false,\"top_units\":\"screen\"},\"id\":\"1920\",\"type\":\"BoxAnnotation\"},{\"attributes\":{\"bottom\":{\"value\":0},\"fill_alpha\":{\"value\":1.0},\"fill_color\":{\"value\":\"#30a2da\"},\"hatch_alpha\":{\"value\":1.0},\"hatch_color\":{\"value\":\"#30a2da\"},\"hatch_scale\":{\"value\":12.0},\"hatch_weight\":{\"value\":1.0},\"line_alpha\":{\"value\":1.0},\"line_cap\":{\"value\":\"butt\"},\"line_color\":{\"value\":\"black\"},\"line_dash\":{\"value\":[]},\"line_dash_offset\":{\"value\":0},\"line_join\":{\"value\":\"bevel\"},\"line_width\":{\"value\":1},\"top\":{\"field\":\"Average_Total_Payments\"},\"width\":{\"value\":0.8},\"x\":{\"field\":\"Provider_State\"}},\"id\":\"1890\",\"type\":\"VBar\"},{\"attributes\":{\"source\":{\"id\":\"1882\"}},\"id\":\"1889\",\"type\":\"CDSView\"},{\"attributes\":{\"source\":{\"id\":\"1928\"}},\"id\":\"1935\",\"type\":\"CDSView\"},{\"attributes\":{\"coordinates\":null,\"data_source\":{\"id\":\"1882\"},\"glyph\":{\"id\":\"1885\"},\"group\":null,\"hover_glyph\":null,\"muted_glyph\":{\"id\":\"1887\"},\"nonselection_glyph\":{\"id\":\"1886\"},\"selection_glyph\":{\"id\":\"1890\"},\"view\":{\"id\":\"1889\"}},\"id\":\"1888\",\"type\":\"GlyphRenderer\"},{\"attributes\":{},\"id\":\"1929\",\"type\":\"Selection\"},{\"attributes\":{\"tools\":[{\"id\":\"1898\"},{\"id\":\"1915\"},{\"id\":\"1916\"},{\"id\":\"1917\"},{\"id\":\"1918\"},{\"id\":\"1919\"}]},\"id\":\"1921\",\"type\":\"Toolbar\"},{\"attributes\":{},\"id\":\"1938\",\"type\":\"CategoricalTickFormatter\"},{\"attributes\":{\"line_color\":\"#30a2da\",\"line_width\":2,\"x\":{\"field\":\"Provider State\"},\"y\":{\"field\":\"Average Total Payments\"}},\"id\":\"1931\",\"type\":\"Line\"},{\"attributes\":{\"line_alpha\":0.1,\"line_color\":\"#30a2da\",\"line_width\":2,\"x\":{\"field\":\"Provider State\"},\"y\":{\"field\":\"Average Total Payments\"}},\"id\":\"1932\",\"type\":\"Line\"},{\"attributes\":{\"line_color\":\"#30a2da\",\"line_width\":2,\"x\":{\"field\":\"Provider State\"},\"y\":{\"field\":\"Average Total Payments\"}},\"id\":\"1936\",\"type\":\"Line\"},{\"attributes\":{\"coordinates\":null,\"data_source\":{\"id\":\"1928\"},\"glyph\":{\"id\":\"1931\"},\"group\":null,\"hover_glyph\":null,\"muted_glyph\":{\"id\":\"1933\"},\"nonselection_glyph\":{\"id\":\"1932\"},\"selection_glyph\":{\"id\":\"1936\"},\"view\":{\"id\":\"1935\"}},\"id\":\"1934\",\"type\":\"GlyphRenderer\"},{\"attributes\":{},\"id\":\"1904\",\"type\":\"CategoricalScale\"},{\"attributes\":{\"tools\":[{\"id\":\"1852\"},{\"id\":\"1869\"},{\"id\":\"1870\"},{\"id\":\"1871\"},{\"id\":\"1872\"},{\"id\":\"1873\"}]},\"id\":\"1875\",\"type\":\"Toolbar\"},{\"attributes\":{\"fill_alpha\":{\"value\":0.1},\"fill_color\":{\"value\":\"#30a2da\"},\"hatch_alpha\":{\"value\":0.1},\"hatch_color\":{\"value\":\"#30a2da\"},\"line_alpha\":{\"value\":0.1},\"top\":{\"field\":\"Average_Total_Payments\"},\"width\":{\"value\":0.8},\"x\":{\"field\":\"Provider_State\"}},\"id\":\"1886\",\"type\":\"VBar\"},{\"attributes\":{\"toolbars\":[{\"id\":\"1875\"},{\"id\":\"1921\"}],\"tools\":[{\"id\":\"1852\"},{\"id\":\"1869\"},{\"id\":\"1870\"},{\"id\":\"1871\"},{\"id\":\"1872\"},{\"id\":\"1873\"},{\"id\":\"1898\"},{\"id\":\"1915\"},{\"id\":\"1916\"},{\"id\":\"1917\"},{\"id\":\"1918\"},{\"id\":\"1919\"}]},\"id\":\"1966\",\"type\":\"ProxyToolbar\"},{\"attributes\":{\"margin\":[5,5,5,5],\"name\":\"HSpacer01843\",\"sizing_mode\":\"stretch_width\"},\"id\":\"1849\",\"type\":\"Spacer\"},{\"attributes\":{\"below\":[{\"id\":\"1862\"}],\"center\":[{\"id\":\"1864\"},{\"id\":\"1868\"}],\"height\":300,\"left\":[{\"id\":\"1865\"}],\"margin\":null,\"min_border_bottom\":10,\"min_border_left\":10,\"min_border_right\":10,\"min_border_top\":10,\"renderers\":[{\"id\":\"1888\"}],\"sizing_mode\":\"fixed\",\"title\":{\"id\":\"1854\"},\"toolbar\":{\"id\":\"1875\"},\"toolbar_location\":null,\"width\":700,\"x_range\":{\"id\":\"1850\"},\"x_scale\":{\"id\":\"1858\"},\"y_range\":{\"id\":\"1851\"},\"y_scale\":{\"id\":\"1860\"}},\"id\":\"1853\",\"subtype\":\"Figure\",\"type\":\"Plot\"},{\"attributes\":{},\"id\":\"1941\",\"type\":\"BasicTickFormatter\"},{\"attributes\":{\"data\":{\"Average Total Payments\":{\"__ndarray__\":\"ZmZmZmaVykDsUbgeRSjLQOtRuB6FUs5ArkfheiTn0EDsUbgexc/TQEjhehQe89NAexSuR1Ga1UAzMzMzA6XaQML1KFx/8NxAmpmZmUli3kBSuB6FU+3hQOxRuB59weJAUrgeheNL5kDNzMzMZJfmQArXo3AlQ+hA16NwPfIL60BI4XoUjhfwQKRwPQqz+fJAmpmZma0I80AzMzMzI53zQK5H4XoYi/RAuB6F69Wh9ECamZmZCUv5QK5H4XogSPtASOF6FEIcAEEVrkfhXP8AQZqZmZkDDQFBCtejcM/SAkFxPQrXJ1MDQfYoXI/cqQVBuB6F66E5B0FI4XoUOr8HQfYoXI8YRAhBXI/C9QTSCEFI4XoUyloKQeF6FK4ZFQ1BMzMzM4FADUF7FK5HMf8OQSlcj8Ke3RFBhetRuHkME0EAAAAAdSgTQexRuB6lFRVBCtejcLR5FUF7FK5HjS8XQY/C9ShuHhpB7FG4Hkr3HUH2KFwPTb8gQTMzM7NKHCRBexSuR1P0JUFI4XqUQ5UqQT0K1+NZVDJB\",\"dtype\":\"float64\",\"order\":\"little\",\"shape\":[51]},\"Average_Total_Payments\":{\"__ndarray__\":\"ZmZmZmaVykDsUbgeRSjLQOtRuB6FUs5ArkfheiTn0EDsUbgexc/TQEjhehQe89NAexSuR1Ga1UAzMzMzA6XaQML1KFx/8NxAmpmZmUli3kBSuB6FU+3hQOxRuB59weJAUrgeheNL5kDNzMzMZJfmQArXo3AlQ+hA16NwPfIL60BI4XoUjhfwQKRwPQqz+fJAmpmZma0I80AzMzMzI53zQK5H4XoYi/RAuB6F69Wh9ECamZmZCUv5QK5H4XogSPtASOF6FEIcAEEVrkfhXP8AQZqZmZkDDQFBCtejcM/SAkFxPQrXJ1MDQfYoXI/cqQVBuB6F66E5B0FI4XoUOr8HQfYoXI8YRAhBXI/C9QTSCEFI4XoUyloKQeF6FK4ZFQ1BMzMzM4FADUF7FK5HMf8OQSlcj8Ke3RFBhetRuHkME0EAAAAAdSgTQexRuB6lFRVBCtejcLR5FUF7FK5HjS8XQY/C9ShuHhpB7FG4Hkr3HUH2KFwPTb8gQTMzM7NKHCRBexSuR1P0JUFI4XqUQ5UqQT0K1+NZVDJB\",\"dtype\":\"float64\",\"order\":\"little\",\"shape\":[51]},\"Provider State\":[\"WY\",\"HI\",\"AK\",\"SD\",\"VT\",\"MT\",\"ND\",\"ID\",\"DE\",\"NE\",\"UT\",\"NH\",\"DC\",\"RI\",\"ME\",\"OR\",\"KS\",\"NV\",\"NM\",\"WV\",\"CO\",\"IA\",\"MN\",\"AR\",\"CT\",\"WI\",\"OK\",\"MS\",\"AZ\",\"WA\",\"SC\",\"AL\",\"LA\",\"KY\",\"IN\",\"TN\",\"MO\",\"VA\",\"MA\",\"GA\",\"MD\",\"MI\",\"NC\",\"NJ\",\"OH\",\"PA\",\"IL\",\"FL\",\"TX\",\"NY\",\"CA\"],\"Provider_State\":[\"WY\",\"HI\",\"AK\",\"SD\",\"VT\",\"MT\",\"ND\",\"ID\",\"DE\",\"NE\",\"UT\",\"NH\",\"DC\",\"RI\",\"ME\",\"OR\",\"KS\",\"NV\",\"NM\",\"WV\",\"CO\",\"IA\",\"MN\",\"AR\",\"CT\",\"WI\",\"OK\",\"MS\",\"AZ\",\"WA\",\"SC\",\"AL\",\"LA\",\"KY\",\"IN\",\"TN\",\"MO\",\"VA\",\"MA\",\"GA\",\"MD\",\"MI\",\"NC\",\"NJ\",\"OH\",\"PA\",\"IL\",\"FL\",\"TX\",\"NY\",\"CA\"]},\"selected\":{\"id\":\"1929\"},\"selection_policy\":{\"id\":\"1961\"}},\"id\":\"1928\",\"type\":\"ColumnDataSource\"},{\"attributes\":{},\"id\":\"1860\",\"type\":\"LinearScale\"},{\"attributes\":{},\"id\":\"1950\",\"type\":\"UnionRenderers\"},{\"attributes\":{\"data\":{\"Average_Total_Payments\":{\"__ndarray__\":\"61G4HoVSzkBI4XoUOr8HQa5H4XogSPtAcT0K1ydTA0E9CtfjWVQyQa5H4XoYi/RASOF6FEIcAEFSuB6F40vmQML1KFx/8NxAMzMzs0ocJEGF61G4eQwTQexRuB5FKMtAuB6F69Wh9EAzMzMzA6XaQPYoXA9NvyBBSOF6FMpaCkFI4XoUjhfwQFyPwvUE0ghB9ihcjxhECEEpXI/Cnt0RQQAAAAB1KBNBCtejcCVD6EDsUbgepRUVQZqZmZkJS/lAMzMzM4FADUEK16Nwz9ICQUjhehQe89NACtejcLR5FUF7FK5HUZrVQJqZmZlJYt5A7FG4Hn3B4kB7FK5HjS8XQZqZmZmtCPNApHA9CrP58kBI4XqUQ5UqQY/C9ShuHhpBmpmZmQMNAUHXo3A98gvrQOxRuB5K9x1BzczMzGSX5kC4HoXroTkHQa5H4Xok59BA4XoUrhkVDUF7FK5HU/QlQVK4HoVT7eFAexSuRzH/DkHsUbgexc/TQPYoXI/cqQVBFa5H4Vz/AEEzMzMzI53zQGZmZmZmlcpA\",\"dtype\":\"float64\",\"order\":\"little\",\"shape\":[51]},\"Provider_State\":[\"AK\",\"AL\",\"AR\",\"AZ\",\"CA\",\"CO\",\"CT\",\"DC\",\"DE\",\"FL\",\"GA\",\"HI\",\"IA\",\"ID\",\"IL\",\"IN\",\"KS\",\"KY\",\"LA\",\"MA\",\"MD\",\"ME\",\"MI\",\"MN\",\"MO\",\"MS\",\"MT\",\"NC\",\"ND\",\"NE\",\"NH\",\"NJ\",\"NM\",\"NV\",\"NY\",\"OH\",\"OK\",\"OR\",\"PA\",\"RI\",\"SC\",\"SD\",\"TN\",\"TX\",\"UT\",\"VA\",\"VT\",\"WA\",\"WI\",\"WV\",\"WY\"]},\"selected\":{\"id\":\"1883\"},\"selection_policy\":{\"id\":\"1950\"}},\"id\":\"1882\",\"type\":\"ColumnDataSource\"},{\"attributes\":{},\"id\":\"1863\",\"type\":\"CategoricalTicker\"},{\"attributes\":{},\"id\":\"1939\",\"type\":\"AllLabels\"}],\"root_ids\":[\"1848\"]},\"title\":\"Bokeh Application\",\"version\":\"2.4.3\"}};\n",
       "    var render_items = [{\"docid\":\"7b3c3f94-4dcd-496f-942a-da6de40dec01\",\"root_ids\":[\"1848\"],\"roots\":{\"1848\":\"cb8553d9-d6a0-437b-8ccd-635c9ecff817\"}}];\n",
       "    root.Bokeh.embed.embed_items_notebook(docs_json, render_items);\n",
       "  }\n",
       "  if (root.Bokeh !== undefined && root.Bokeh.Panel !== undefined) {\n",
       "    embed_document(root);\n",
       "  } else {\n",
       "    var attempts = 0;\n",
       "    var timer = setInterval(function(root) {\n",
       "      if (root.Bokeh !== undefined && root.Bokeh.Panel !== undefined) {\n",
       "        clearInterval(timer);\n",
       "        embed_document(root);\n",
       "      } else if (document.readyState == \"complete\") {\n",
       "        attempts++;\n",
       "        if (attempts > 200) {\n",
       "          clearInterval(timer);\n",
       "          console.log(\"Bokeh: ERROR: Unable to run BokehJS code because BokehJS library is missing\");\n",
       "        }\n",
       "      }\n",
       "    }, 25, root)\n",
       "  }\n",
       "})(window);</script>"
      ],
      "text/plain": [
       ":Layout\n",
       "   .Bars.I  :Bars   [Provider State]   (Average Total Payments)\n",
       "   .Curve.I :Curve   [Provider State]   (Average Total Payments)"
      ]
     },
     "execution_count": 26,
     "metadata": {
      "application/vnd.holoviews_exec.v0+json": {
       "id": "1848"
      }
     },
     "output_type": "execute_result"
    }
   ],
   "source": [
    "# Compose plots using + operator\n",
    "total_payment_by_state.hvplot.bar(x=\"Provider State\", y=\"Average Total Payments\") + sorted_data.hvplot.line(x=\"Provider State\", y=\"Average Total Payments\")"
   ]
  },
  {
   "cell_type": "code",
   "execution_count": 27,
   "metadata": {},
   "outputs": [
    {
     "data": {
      "text/html": [
       "<div>\n",
       "<style scoped>\n",
       "    .dataframe tbody tr th:only-of-type {\n",
       "        vertical-align: middle;\n",
       "    }\n",
       "\n",
       "    .dataframe tbody tr th {\n",
       "        vertical-align: top;\n",
       "    }\n",
       "\n",
       "    .dataframe thead th {\n",
       "        text-align: right;\n",
       "    }\n",
       "</style>\n",
       "<table border=\"1\" class=\"dataframe\">\n",
       "  <thead>\n",
       "    <tr style=\"text-align: right;\">\n",
       "      <th></th>\n",
       "      <th>Provider State</th>\n",
       "      <th>Average Total Payments</th>\n",
       "    </tr>\n",
       "  </thead>\n",
       "  <tbody>\n",
       "    <tr>\n",
       "      <th>50</th>\n",
       "      <td>WY</td>\n",
       "      <td>13610.80</td>\n",
       "    </tr>\n",
       "    <tr>\n",
       "      <th>11</th>\n",
       "      <td>HI</td>\n",
       "      <td>13904.54</td>\n",
       "    </tr>\n",
       "    <tr>\n",
       "      <th>0</th>\n",
       "      <td>AK</td>\n",
       "      <td>15525.04</td>\n",
       "    </tr>\n",
       "    <tr>\n",
       "      <th>41</th>\n",
       "      <td>SD</td>\n",
       "      <td>17308.57</td>\n",
       "    </tr>\n",
       "    <tr>\n",
       "      <th>46</th>\n",
       "      <td>VT</td>\n",
       "      <td>20287.08</td>\n",
       "    </tr>\n",
       "  </tbody>\n",
       "</table>\n",
       "</div>"
      ],
      "text/plain": [
       "   Provider State  Average Total Payments\n",
       "50             WY                13610.80\n",
       "11             HI                13904.54\n",
       "0              AK                15525.04\n",
       "41             SD                17308.57\n",
       "46             VT                20287.08"
      ]
     },
     "execution_count": 27,
     "metadata": {},
     "output_type": "execute_result"
    }
   ],
   "source": [
    "sorted_data.head()"
   ]
  },
  {
   "cell_type": "code",
   "execution_count": 28,
   "metadata": {},
   "outputs": [
    {
     "data": {
      "text/html": [
       "<div>\n",
       "<style scoped>\n",
       "    .dataframe tbody tr th:only-of-type {\n",
       "        vertical-align: middle;\n",
       "    }\n",
       "\n",
       "    .dataframe tbody tr th {\n",
       "        vertical-align: top;\n",
       "    }\n",
       "\n",
       "    .dataframe thead th {\n",
       "        text-align: right;\n",
       "    }\n",
       "</style>\n",
       "<table border=\"1\" class=\"dataframe\">\n",
       "  <thead>\n",
       "    <tr style=\"text-align: right;\">\n",
       "      <th></th>\n",
       "      <th>Provider State</th>\n",
       "      <th>Average Total Payments</th>\n",
       "    </tr>\n",
       "  </thead>\n",
       "  <tbody>\n",
       "    <tr>\n",
       "      <th>50</th>\n",
       "      <td>WY</td>\n",
       "      <td>13610.80</td>\n",
       "    </tr>\n",
       "    <tr>\n",
       "      <th>11</th>\n",
       "      <td>HI</td>\n",
       "      <td>13904.54</td>\n",
       "    </tr>\n",
       "    <tr>\n",
       "      <th>0</th>\n",
       "      <td>AK</td>\n",
       "      <td>15525.04</td>\n",
       "    </tr>\n",
       "    <tr>\n",
       "      <th>41</th>\n",
       "      <td>SD</td>\n",
       "      <td>17308.57</td>\n",
       "    </tr>\n",
       "    <tr>\n",
       "      <th>46</th>\n",
       "      <td>VT</td>\n",
       "      <td>20287.08</td>\n",
       "    </tr>\n",
       "  </tbody>\n",
       "</table>\n",
       "</div>"
      ],
      "text/plain": [
       "   Provider State  Average Total Payments\n",
       "50             WY                13610.80\n",
       "11             HI                13904.54\n",
       "0              AK                15525.04\n",
       "41             SD                17308.57\n",
       "46             VT                20287.08"
      ]
     },
     "execution_count": 28,
     "metadata": {},
     "output_type": "execute_result"
    }
   ],
   "source": [
    "sorted_data.head()"
   ]
  },
  {
   "cell_type": "code",
   "execution_count": 29,
   "metadata": {},
   "outputs": [
    {
     "data": {},
     "metadata": {},
     "output_type": "display_data"
    },
    {
     "data": {
      "application/vnd.holoviews_exec.v0+json": "",
      "text/html": [
       "<div id='2091'>\n",
       "  <div class=\"bk-root\" id=\"4dba8630-d9f9-4aed-9ea6-bca0297e8ab8\" data-root-id=\"2091\"></div>\n",
       "</div>\n",
       "<script type=\"application/javascript\">(function(root) {\n",
       "  function embed_document(root) {\n",
       "    var docs_json = {\"44a43029-d665-46ae-8430-df2311c165fd\":{\"defs\":[{\"extends\":null,\"module\":null,\"name\":\"ReactiveHTML1\",\"overrides\":[],\"properties\":[]},{\"extends\":null,\"module\":null,\"name\":\"FlexBox1\",\"overrides\":[],\"properties\":[{\"default\":\"flex-start\",\"kind\":null,\"name\":\"align_content\"},{\"default\":\"flex-start\",\"kind\":null,\"name\":\"align_items\"},{\"default\":\"row\",\"kind\":null,\"name\":\"flex_direction\"},{\"default\":\"wrap\",\"kind\":null,\"name\":\"flex_wrap\"},{\"default\":\"flex-start\",\"kind\":null,\"name\":\"justify_content\"}]},{\"extends\":null,\"module\":null,\"name\":\"GridStack1\",\"overrides\":[],\"properties\":[{\"default\":\"warn\",\"kind\":null,\"name\":\"mode\"},{\"default\":null,\"kind\":null,\"name\":\"ncols\"},{\"default\":null,\"kind\":null,\"name\":\"nrows\"},{\"default\":true,\"kind\":null,\"name\":\"allow_resize\"},{\"default\":true,\"kind\":null,\"name\":\"allow_drag\"},{\"default\":[],\"kind\":null,\"name\":\"state\"}]},{\"extends\":null,\"module\":null,\"name\":\"click1\",\"overrides\":[],\"properties\":[{\"default\":\"\",\"kind\":null,\"name\":\"terminal_output\"},{\"default\":\"\",\"kind\":null,\"name\":\"debug_name\"},{\"default\":0,\"kind\":null,\"name\":\"clears\"}]},{\"extends\":null,\"module\":null,\"name\":\"NotificationAreaBase1\",\"overrides\":[],\"properties\":[{\"default\":\"bottom-right\",\"kind\":null,\"name\":\"position\"},{\"default\":0,\"kind\":null,\"name\":\"_clear\"}]},{\"extends\":null,\"module\":null,\"name\":\"NotificationArea1\",\"overrides\":[],\"properties\":[{\"default\":[],\"kind\":null,\"name\":\"notifications\"},{\"default\":\"bottom-right\",\"kind\":null,\"name\":\"position\"},{\"default\":0,\"kind\":null,\"name\":\"_clear\"},{\"default\":[{\"background\":\"#ffc107\",\"icon\":{\"className\":\"fas fa-exclamation-triangle\",\"color\":\"white\",\"tagName\":\"i\"},\"type\":\"warning\"},{\"background\":\"#007bff\",\"icon\":{\"className\":\"fas fa-info-circle\",\"color\":\"white\",\"tagName\":\"i\"},\"type\":\"info\"}],\"kind\":null,\"name\":\"types\"}]},{\"extends\":null,\"module\":null,\"name\":\"Notification\",\"overrides\":[],\"properties\":[{\"default\":null,\"kind\":null,\"name\":\"background\"},{\"default\":3000,\"kind\":null,\"name\":\"duration\"},{\"default\":null,\"kind\":null,\"name\":\"icon\"},{\"default\":\"\",\"kind\":null,\"name\":\"message\"},{\"default\":null,\"kind\":null,\"name\":\"notification_type\"},{\"default\":false,\"kind\":null,\"name\":\"_destroyed\"}]},{\"extends\":null,\"module\":null,\"name\":\"TemplateActions1\",\"overrides\":[],\"properties\":[{\"default\":0,\"kind\":null,\"name\":\"open_modal\"},{\"default\":0,\"kind\":null,\"name\":\"close_modal\"}]},{\"extends\":null,\"module\":null,\"name\":\"MaterialTemplateActions1\",\"overrides\":[],\"properties\":[{\"default\":0,\"kind\":null,\"name\":\"open_modal\"},{\"default\":0,\"kind\":null,\"name\":\"close_modal\"}]}],\"roots\":{\"references\":[{\"attributes\":{\"below\":[{\"id\":\"2106\"}],\"center\":[{\"id\":\"2108\"},{\"id\":\"2112\"},{\"id\":\"2151\"}],\"height\":300,\"left\":[{\"id\":\"2109\"}],\"margin\":[5,5,5,5],\"min_border_bottom\":10,\"min_border_left\":10,\"min_border_right\":10,\"min_border_top\":10,\"renderers\":[{\"id\":\"2139\"},{\"id\":\"2160\"}],\"sizing_mode\":\"fixed\",\"title\":{\"id\":\"2098\"},\"toolbar\":{\"id\":\"2119\"},\"width\":700,\"x_range\":{\"id\":\"2093\"},\"x_scale\":{\"id\":\"2102\"},\"y_range\":{\"id\":\"2094\"},\"y_scale\":{\"id\":\"2104\"}},\"id\":\"2097\",\"subtype\":\"Figure\",\"type\":\"Plot\"},{\"attributes\":{\"click_policy\":\"mute\",\"coordinates\":null,\"group\":null,\"items\":[{\"id\":\"2152\"},{\"id\":\"2174\"}]},\"id\":\"2151\",\"type\":\"Legend\"},{\"attributes\":{\"margin\":[5,5,5,5],\"name\":\"HSpacer02091\",\"sizing_mode\":\"stretch_width\"},\"id\":\"2092\",\"type\":\"Spacer\"},{\"attributes\":{\"callback\":null,\"renderers\":[{\"id\":\"2160\"}],\"tags\":[\"hv_created\"],\"tooltips\":[[\"Provider State\",\"@{Provider_State}\"],[\"Average Medicare Payments\",\"@{Average_Medicare_Payments}\"]]},\"id\":\"2096\",\"type\":\"HoverTool\"},{\"attributes\":{\"source\":{\"id\":\"2154\"}},\"id\":\"2161\",\"type\":\"CDSView\"},{\"attributes\":{},\"id\":\"2129\",\"type\":\"AllLabels\"},{\"attributes\":{\"coordinates\":null,\"data_source\":{\"id\":\"2133\"},\"glyph\":{\"id\":\"2136\"},\"group\":null,\"hover_glyph\":null,\"muted_glyph\":{\"id\":\"2138\"},\"nonselection_glyph\":{\"id\":\"2137\"},\"selection_glyph\":{\"id\":\"2153\"},\"view\":{\"id\":\"2140\"}},\"id\":\"2139\",\"type\":\"GlyphRenderer\"},{\"attributes\":{\"axis_label\":\"Provider State\",\"coordinates\":null,\"formatter\":{\"id\":\"2128\"},\"group\":null,\"major_label_policy\":{\"id\":\"2129\"},\"ticker\":{\"id\":\"2107\"}},\"id\":\"2106\",\"type\":\"CategoricalAxis\"},{\"attributes\":{},\"id\":\"2104\",\"type\":\"LinearScale\"},{\"attributes\":{\"axis\":{\"id\":\"2106\"},\"coordinates\":null,\"grid_line_color\":null,\"group\":null,\"ticker\":null},\"id\":\"2108\",\"type\":\"Grid\"},{\"attributes\":{\"line_alpha\":0.1,\"line_color\":\"#30a2da\",\"line_width\":2,\"x\":{\"field\":\"Provider State\"},\"y\":{\"field\":\"Average Total Payments\"}},\"id\":\"2137\",\"type\":\"Line\"},{\"attributes\":{\"line_color\":\"#fc4f30\",\"line_width\":2,\"x\":{\"field\":\"Provider State\"},\"y\":{\"field\":\"Average Medicare Payments\"}},\"id\":\"2175\",\"type\":\"Line\"},{\"attributes\":{},\"id\":\"2114\",\"type\":\"PanTool\"},{\"attributes\":{\"axis_label\":\"Average Total Payments\",\"coordinates\":null,\"formatter\":{\"id\":\"2131\"},\"group\":null,\"major_label_policy\":{\"id\":\"2132\"},\"ticker\":{\"id\":\"2110\"}},\"id\":\"2109\",\"type\":\"LinearAxis\"},{\"attributes\":{\"children\":[{\"id\":\"2092\"},{\"id\":\"2097\"},{\"id\":\"2188\"}],\"margin\":[0,0,0,0],\"name\":\"Row02087\",\"tags\":[\"embedded\"]},\"id\":\"2091\",\"type\":\"Row\"},{\"attributes\":{\"label\":{\"value\":\"Average Total Payments\"},\"renderers\":[{\"id\":\"2139\"}]},\"id\":\"2152\",\"type\":\"LegendItem\"},{\"attributes\":{\"axis\":{\"id\":\"2109\"},\"coordinates\":null,\"dimension\":1,\"grid_line_color\":null,\"group\":null,\"ticker\":null},\"id\":\"2112\",\"type\":\"Grid\"},{\"attributes\":{},\"id\":\"2171\",\"type\":\"UnionRenderers\"},{\"attributes\":{},\"id\":\"2110\",\"type\":\"BasicTicker\"},{\"attributes\":{},\"id\":\"2115\",\"type\":\"WheelZoomTool\"},{\"attributes\":{\"label\":{\"value\":\"Average Medicare Payments\"},\"renderers\":[{\"id\":\"2160\"}]},\"id\":\"2174\",\"type\":\"LegendItem\"},{\"attributes\":{},\"id\":\"2113\",\"type\":\"SaveTool\"},{\"attributes\":{\"margin\":[5,5,5,5],\"name\":\"HSpacer02092\",\"sizing_mode\":\"stretch_width\"},\"id\":\"2188\",\"type\":\"Spacer\"},{\"attributes\":{\"data\":{\"Average Medicare Payments\":{\"__ndarray__\":\"KVyPwrXbw0DsUbgeBQnHQFK4HoXrxMpA9ihcjyIazkBmZmZmphrQQKRwPQpHetBACtejcF2u0EAVrkfhui3VQIXrUbgORNdA9ihcj3KK2EA+CtejEJnYQHsUrkeRUN9A61G4Hu3E4kAfhetR0NPiQBWuR+Fa6uNAAAAAALAl5UBxPQrXY8zoQArXo3BF1u5Aw/UoXL9n70CkcD0KP1LwQAAAAAC0o/BAkML1KFRC8UAzMzMzTw/1QKRwPQqn/PVAZmZmZk53+kAAAAAA2Oz7QDMzMzMLafxAMzMzMzuh/kCkcD0Ke1L/QFyPwvV89AFBSOF6FEJWAkFmZmZmnroCQbgeheuNjQNBZmZmZrQRBEHD9ShcfWgFQeF6FK4JTgdB16NwPQhsB0EK16NwIT8IQexRuB4ZSg5BhetRuCYjD0HD9ShcnsEQQeF6FK7ynxFBCtejcJG0EUGPwvUodI8TQcP1KFyrwxVB9ihcjxfzGEH2KFyPTOoaQQrXo3DVSyBBcT0K13bZIUEUrkfhJV0nQT0K1yPoKjBB\",\"dtype\":\"float64\",\"order\":\"little\",\"shape\":[51]},\"Average_Medicare_Payments\":{\"__ndarray__\":\"KVyPwrXbw0DsUbgeBQnHQFK4HoXrxMpA9ihcjyIazkBmZmZmphrQQKRwPQpHetBACtejcF2u0EAVrkfhui3VQIXrUbgORNdA9ihcj3KK2EA+CtejEJnYQHsUrkeRUN9A61G4Hu3E4kAfhetR0NPiQBWuR+Fa6uNAAAAAALAl5UBxPQrXY8zoQArXo3BF1u5Aw/UoXL9n70CkcD0KP1LwQAAAAAC0o/BAkML1KFRC8UAzMzMzTw/1QKRwPQqn/PVAZmZmZk53+kAAAAAA2Oz7QDMzMzMLafxAMzMzMzuh/kCkcD0Ke1L/QFyPwvV89AFBSOF6FEJWAkFmZmZmnroCQbgeheuNjQNBZmZmZrQRBEHD9ShcfWgFQeF6FK4JTgdB16NwPQhsB0EK16NwIT8IQexRuB4ZSg5BhetRuCYjD0HD9ShcnsEQQeF6FK7ynxFBCtejcJG0EUGPwvUodI8TQcP1KFyrwxVB9ihcjxfzGEH2KFyPTOoaQQrXo3DVSyBBcT0K13bZIUEUrkfhJV0nQT0K1yPoKjBB\",\"dtype\":\"float64\",\"order\":\"little\",\"shape\":[51]},\"Provider State\":[\"WY\",\"HI\",\"AK\",\"SD\",\"MT\",\"ND\",\"VT\",\"ID\",\"DE\",\"NE\",\"UT\",\"NH\",\"ME\",\"RI\",\"DC\",\"OR\",\"KS\",\"NV\",\"NM\",\"WV\",\"CO\",\"IA\",\"MN\",\"AR\",\"WI\",\"CT\",\"OK\",\"MS\",\"AZ\",\"WA\",\"SC\",\"AL\",\"LA\",\"KY\",\"IN\",\"TN\",\"MO\",\"VA\",\"MA\",\"GA\",\"MD\",\"MI\",\"NC\",\"NJ\",\"OH\",\"PA\",\"IL\",\"FL\",\"TX\",\"NY\",\"CA\"],\"Provider_State\":[\"WY\",\"HI\",\"AK\",\"SD\",\"MT\",\"ND\",\"VT\",\"ID\",\"DE\",\"NE\",\"UT\",\"NH\",\"ME\",\"RI\",\"DC\",\"OR\",\"KS\",\"NV\",\"NM\",\"WV\",\"CO\",\"IA\",\"MN\",\"AR\",\"WI\",\"CT\",\"OK\",\"MS\",\"AZ\",\"WA\",\"SC\",\"AL\",\"LA\",\"KY\",\"IN\",\"TN\",\"MO\",\"VA\",\"MA\",\"GA\",\"MD\",\"MI\",\"NC\",\"NJ\",\"OH\",\"PA\",\"IL\",\"FL\",\"TX\",\"NY\",\"CA\"]},\"selected\":{\"id\":\"2155\"},\"selection_policy\":{\"id\":\"2171\"}},\"id\":\"2154\",\"type\":\"ColumnDataSource\"},{\"attributes\":{\"overlay\":{\"id\":\"2118\"}},\"id\":\"2116\",\"type\":\"BoxZoomTool\"},{\"attributes\":{\"data\":{\"Average Total Payments\":{\"__ndarray__\":\"ZmZmZmaVykDsUbgeRSjLQOtRuB6FUs5ArkfheiTn0EDsUbgexc/TQEjhehQe89NAexSuR1Ga1UAzMzMzA6XaQML1KFx/8NxAmpmZmUli3kBSuB6FU+3hQOxRuB59weJAUrgeheNL5kDNzMzMZJfmQArXo3AlQ+hA16NwPfIL60BI4XoUjhfwQKRwPQqz+fJAmpmZma0I80AzMzMzI53zQK5H4XoYi/RAuB6F69Wh9ECamZmZCUv5QK5H4XogSPtASOF6FEIcAEEVrkfhXP8AQZqZmZkDDQFBCtejcM/SAkFxPQrXJ1MDQfYoXI/cqQVBuB6F66E5B0FI4XoUOr8HQfYoXI8YRAhBXI/C9QTSCEFI4XoUyloKQeF6FK4ZFQ1BMzMzM4FADUF7FK5HMf8OQSlcj8Ke3RFBhetRuHkME0EAAAAAdSgTQexRuB6lFRVBCtejcLR5FUF7FK5HjS8XQY/C9ShuHhpB7FG4Hkr3HUH2KFwPTb8gQTMzM7NKHCRBexSuR1P0JUFI4XqUQ5UqQT0K1+NZVDJB\",\"dtype\":\"float64\",\"order\":\"little\",\"shape\":[51]},\"Average_Total_Payments\":{\"__ndarray__\":\"ZmZmZmaVykDsUbgeRSjLQOtRuB6FUs5ArkfheiTn0EDsUbgexc/TQEjhehQe89NAexSuR1Ga1UAzMzMzA6XaQML1KFx/8NxAmpmZmUli3kBSuB6FU+3hQOxRuB59weJAUrgeheNL5kDNzMzMZJfmQArXo3AlQ+hA16NwPfIL60BI4XoUjhfwQKRwPQqz+fJAmpmZma0I80AzMzMzI53zQK5H4XoYi/RAuB6F69Wh9ECamZmZCUv5QK5H4XogSPtASOF6FEIcAEEVrkfhXP8AQZqZmZkDDQFBCtejcM/SAkFxPQrXJ1MDQfYoXI/cqQVBuB6F66E5B0FI4XoUOr8HQfYoXI8YRAhBXI/C9QTSCEFI4XoUyloKQeF6FK4ZFQ1BMzMzM4FADUF7FK5HMf8OQSlcj8Ke3RFBhetRuHkME0EAAAAAdSgTQexRuB6lFRVBCtejcLR5FUF7FK5HjS8XQY/C9ShuHhpB7FG4Hkr3HUH2KFwPTb8gQTMzM7NKHCRBexSuR1P0JUFI4XqUQ5UqQT0K1+NZVDJB\",\"dtype\":\"float64\",\"order\":\"little\",\"shape\":[51]},\"Provider State\":[\"WY\",\"HI\",\"AK\",\"SD\",\"VT\",\"MT\",\"ND\",\"ID\",\"DE\",\"NE\",\"UT\",\"NH\",\"DC\",\"RI\",\"ME\",\"OR\",\"KS\",\"NV\",\"NM\",\"WV\",\"CO\",\"IA\",\"MN\",\"AR\",\"CT\",\"WI\",\"OK\",\"MS\",\"AZ\",\"WA\",\"SC\",\"AL\",\"LA\",\"KY\",\"IN\",\"TN\",\"MO\",\"VA\",\"MA\",\"GA\",\"MD\",\"MI\",\"NC\",\"NJ\",\"OH\",\"PA\",\"IL\",\"FL\",\"TX\",\"NY\",\"CA\"],\"Provider_State\":[\"WY\",\"HI\",\"AK\",\"SD\",\"VT\",\"MT\",\"ND\",\"ID\",\"DE\",\"NE\",\"UT\",\"NH\",\"DC\",\"RI\",\"ME\",\"OR\",\"KS\",\"NV\",\"NM\",\"WV\",\"CO\",\"IA\",\"MN\",\"AR\",\"CT\",\"WI\",\"OK\",\"MS\",\"AZ\",\"WA\",\"SC\",\"AL\",\"LA\",\"KY\",\"IN\",\"TN\",\"MO\",\"VA\",\"MA\",\"GA\",\"MD\",\"MI\",\"NC\",\"NJ\",\"OH\",\"PA\",\"IL\",\"FL\",\"TX\",\"NY\",\"CA\"]},\"selected\":{\"id\":\"2134\"},\"selection_policy\":{\"id\":\"2148\"}},\"id\":\"2133\",\"type\":\"ColumnDataSource\"},{\"attributes\":{},\"id\":\"2117\",\"type\":\"ResetTool\"},{\"attributes\":{\"line_alpha\":0.1,\"line_color\":\"#fc4f30\",\"line_width\":2,\"x\":{\"field\":\"Provider State\"},\"y\":{\"field\":\"Average Medicare Payments\"}},\"id\":\"2158\",\"type\":\"Line\"},{\"attributes\":{\"coordinates\":null,\"group\":null,\"text_color\":\"black\",\"text_font_size\":\"12pt\"},\"id\":\"2098\",\"type\":\"Title\"},{\"attributes\":{\"tools\":[{\"id\":\"2095\"},{\"id\":\"2096\"},{\"id\":\"2113\"},{\"id\":\"2114\"},{\"id\":\"2115\"},{\"id\":\"2116\"},{\"id\":\"2117\"}]},\"id\":\"2119\",\"type\":\"Toolbar\"},{\"attributes\":{\"bottom_units\":\"screen\",\"coordinates\":null,\"fill_alpha\":0.5,\"fill_color\":\"lightgrey\",\"group\":null,\"left_units\":\"screen\",\"level\":\"overlay\",\"line_alpha\":1.0,\"line_color\":\"black\",\"line_dash\":[4,4],\"line_width\":2,\"right_units\":\"screen\",\"syncable\":false,\"top_units\":\"screen\"},\"id\":\"2118\",\"type\":\"BoxAnnotation\"},{\"attributes\":{\"line_alpha\":0.2,\"line_color\":\"#fc4f30\",\"line_width\":2,\"x\":{\"field\":\"Provider State\"},\"y\":{\"field\":\"Average Medicare Payments\"}},\"id\":\"2159\",\"type\":\"Line\"},{\"attributes\":{},\"id\":\"2128\",\"type\":\"CategoricalTickFormatter\"},{\"attributes\":{\"line_color\":\"#fc4f30\",\"line_width\":2,\"x\":{\"field\":\"Provider State\"},\"y\":{\"field\":\"Average Medicare Payments\"}},\"id\":\"2157\",\"type\":\"Line\"},{\"attributes\":{},\"id\":\"2131\",\"type\":\"BasicTickFormatter\"},{\"attributes\":{},\"id\":\"2155\",\"type\":\"Selection\"},{\"attributes\":{},\"id\":\"2132\",\"type\":\"AllLabels\"},{\"attributes\":{},\"id\":\"2148\",\"type\":\"UnionRenderers\"},{\"attributes\":{},\"id\":\"2134\",\"type\":\"Selection\"},{\"attributes\":{\"line_alpha\":0.2,\"line_color\":\"#30a2da\",\"line_width\":2,\"x\":{\"field\":\"Provider State\"},\"y\":{\"field\":\"Average Total Payments\"}},\"id\":\"2138\",\"type\":\"Line\"},{\"attributes\":{},\"id\":\"2102\",\"type\":\"CategoricalScale\"},{\"attributes\":{\"end\":1320349.3369999998,\"reset_end\":1320349.3369999998,\"reset_start\":-108940.027,\"start\":-108940.027,\"tags\":[[[\"Average Total Payments\",\"Average Total Payments\",null]]]},\"id\":\"2094\",\"type\":\"Range1d\"},{\"attributes\":{\"coordinates\":null,\"data_source\":{\"id\":\"2154\"},\"glyph\":{\"id\":\"2157\"},\"group\":null,\"hover_glyph\":null,\"muted_glyph\":{\"id\":\"2159\"},\"nonselection_glyph\":{\"id\":\"2158\"},\"selection_glyph\":{\"id\":\"2175\"},\"view\":{\"id\":\"2161\"}},\"id\":\"2160\",\"type\":\"GlyphRenderer\"},{\"attributes\":{\"callback\":null,\"renderers\":[{\"id\":\"2139\"}],\"tags\":[\"hv_created\"],\"tooltips\":[[\"Provider State\",\"@{Provider_State}\"],[\"Average Total Payments\",\"@{Average_Total_Payments}\"]]},\"id\":\"2095\",\"type\":\"HoverTool\"},{\"attributes\":{},\"id\":\"2107\",\"type\":\"CategoricalTicker\"},{\"attributes\":{\"source\":{\"id\":\"2133\"}},\"id\":\"2140\",\"type\":\"CDSView\"},{\"attributes\":{\"line_color\":\"#30a2da\",\"line_width\":2,\"x\":{\"field\":\"Provider State\"},\"y\":{\"field\":\"Average Total Payments\"}},\"id\":\"2153\",\"type\":\"Line\"},{\"attributes\":{\"factors\":[\"WY\",\"HI\",\"AK\",\"SD\",\"VT\",\"MT\",\"ND\",\"ID\",\"DE\",\"NE\",\"UT\",\"NH\",\"DC\",\"RI\",\"ME\",\"OR\",\"KS\",\"NV\",\"NM\",\"WV\",\"CO\",\"IA\",\"MN\",\"AR\",\"CT\",\"WI\",\"OK\",\"MS\",\"AZ\",\"WA\",\"SC\",\"AL\",\"LA\",\"KY\",\"IN\",\"TN\",\"MO\",\"VA\",\"MA\",\"GA\",\"MD\",\"MI\",\"NC\",\"NJ\",\"OH\",\"PA\",\"IL\",\"FL\",\"TX\",\"NY\",\"CA\"],\"tags\":[[[\"Provider State\",\"Provider State\",null]]]},\"id\":\"2093\",\"type\":\"FactorRange\"},{\"attributes\":{\"line_color\":\"#30a2da\",\"line_width\":2,\"x\":{\"field\":\"Provider State\"},\"y\":{\"field\":\"Average Total Payments\"}},\"id\":\"2136\",\"type\":\"Line\"}],\"root_ids\":[\"2091\"]},\"title\":\"Bokeh Application\",\"version\":\"2.4.3\"}};\n",
       "    var render_items = [{\"docid\":\"44a43029-d665-46ae-8430-df2311c165fd\",\"root_ids\":[\"2091\"],\"roots\":{\"2091\":\"4dba8630-d9f9-4aed-9ea6-bca0297e8ab8\"}}];\n",
       "    root.Bokeh.embed.embed_items_notebook(docs_json, render_items);\n",
       "  }\n",
       "  if (root.Bokeh !== undefined && root.Bokeh.Panel !== undefined) {\n",
       "    embed_document(root);\n",
       "  } else {\n",
       "    var attempts = 0;\n",
       "    var timer = setInterval(function(root) {\n",
       "      if (root.Bokeh !== undefined && root.Bokeh.Panel !== undefined) {\n",
       "        clearInterval(timer);\n",
       "        embed_document(root);\n",
       "      } else if (document.readyState == \"complete\") {\n",
       "        attempts++;\n",
       "        if (attempts > 200) {\n",
       "          clearInterval(timer);\n",
       "          console.log(\"Bokeh: ERROR: Unable to run BokehJS code because BokehJS library is missing\");\n",
       "        }\n",
       "      }\n",
       "    }, 25, root)\n",
       "  }\n",
       "})(window);</script>"
      ],
      "text/plain": [
       ":Overlay\n",
       "   .Curve.Average_Total_Payments    :Curve   [Provider State]   (Average Total Payments)\n",
       "   .Curve.Average_Medicare_Payments :Curve   [Provider State]   (Average Medicare Payments)"
      ]
     },
     "execution_count": 29,
     "metadata": {
      "application/vnd.holoviews_exec.v0+json": {
       "id": "2091"
      }
     },
     "output_type": "execute_result"
    }
   ],
   "source": [
    "# Compose plots using * operator\n",
    "payment_by_state_med = procedure_699_charges[\n",
    "    [\"Average Medicare Payments\", \"Provider State\"]\n",
    "]\n",
    "total_payment_by_state_med = payment_by_state_med.groupby(\"Provider State\").sum()\n",
    "sorted_data_med = total_payment_by_state_med.sort_values(\"Average Medicare Payments\")\n",
    "sorted_data_med.reset_index(inplace=True)\n",
    "total_payment_by_state_med.reset_index(inplace=True)\n",
    "\n",
    "\n",
    "sorted_data.hvplot(label=\"Average Total Payments\", x=\"Provider State\", y=\"Average Total Payments\")\\\n",
    "* sorted_data_med.hvplot(\n",
    "    label=\"Average Medicare Payments\", x=\"Provider State\", y=\"Average Medicare Payments\"\n",
    ")"
   ]
  },
  {
   "cell_type": "code",
   "execution_count": 30,
   "metadata": {},
   "outputs": [
    {
     "data": {},
     "metadata": {},
     "output_type": "display_data"
    },
    {
     "data": {
      "application/vnd.holoviews_exec.v0+json": "",
      "text/html": [
       "<div id='2250'>\n",
       "  <div class=\"bk-root\" id=\"cef42d55-b1fe-4948-a9f1-3a691076fed7\" data-root-id=\"2250\"></div>\n",
       "</div>\n",
       "<script type=\"application/javascript\">(function(root) {\n",
       "  function embed_document(root) {\n",
       "    var docs_json = {\"9a0dbf00-2067-441c-9499-e751b533df38\":{\"defs\":[{\"extends\":null,\"module\":null,\"name\":\"ReactiveHTML1\",\"overrides\":[],\"properties\":[]},{\"extends\":null,\"module\":null,\"name\":\"FlexBox1\",\"overrides\":[],\"properties\":[{\"default\":\"flex-start\",\"kind\":null,\"name\":\"align_content\"},{\"default\":\"flex-start\",\"kind\":null,\"name\":\"align_items\"},{\"default\":\"row\",\"kind\":null,\"name\":\"flex_direction\"},{\"default\":\"wrap\",\"kind\":null,\"name\":\"flex_wrap\"},{\"default\":\"flex-start\",\"kind\":null,\"name\":\"justify_content\"}]},{\"extends\":null,\"module\":null,\"name\":\"GridStack1\",\"overrides\":[],\"properties\":[{\"default\":\"warn\",\"kind\":null,\"name\":\"mode\"},{\"default\":null,\"kind\":null,\"name\":\"ncols\"},{\"default\":null,\"kind\":null,\"name\":\"nrows\"},{\"default\":true,\"kind\":null,\"name\":\"allow_resize\"},{\"default\":true,\"kind\":null,\"name\":\"allow_drag\"},{\"default\":[],\"kind\":null,\"name\":\"state\"}]},{\"extends\":null,\"module\":null,\"name\":\"click1\",\"overrides\":[],\"properties\":[{\"default\":\"\",\"kind\":null,\"name\":\"terminal_output\"},{\"default\":\"\",\"kind\":null,\"name\":\"debug_name\"},{\"default\":0,\"kind\":null,\"name\":\"clears\"}]},{\"extends\":null,\"module\":null,\"name\":\"NotificationAreaBase1\",\"overrides\":[],\"properties\":[{\"default\":\"bottom-right\",\"kind\":null,\"name\":\"position\"},{\"default\":0,\"kind\":null,\"name\":\"_clear\"}]},{\"extends\":null,\"module\":null,\"name\":\"NotificationArea1\",\"overrides\":[],\"properties\":[{\"default\":[],\"kind\":null,\"name\":\"notifications\"},{\"default\":\"bottom-right\",\"kind\":null,\"name\":\"position\"},{\"default\":0,\"kind\":null,\"name\":\"_clear\"},{\"default\":[{\"background\":\"#ffc107\",\"icon\":{\"className\":\"fas fa-exclamation-triangle\",\"color\":\"white\",\"tagName\":\"i\"},\"type\":\"warning\"},{\"background\":\"#007bff\",\"icon\":{\"className\":\"fas fa-info-circle\",\"color\":\"white\",\"tagName\":\"i\"},\"type\":\"info\"}],\"kind\":null,\"name\":\"types\"}]},{\"extends\":null,\"module\":null,\"name\":\"Notification\",\"overrides\":[],\"properties\":[{\"default\":null,\"kind\":null,\"name\":\"background\"},{\"default\":3000,\"kind\":null,\"name\":\"duration\"},{\"default\":null,\"kind\":null,\"name\":\"icon\"},{\"default\":\"\",\"kind\":null,\"name\":\"message\"},{\"default\":null,\"kind\":null,\"name\":\"notification_type\"},{\"default\":false,\"kind\":null,\"name\":\"_destroyed\"}]},{\"extends\":null,\"module\":null,\"name\":\"TemplateActions1\",\"overrides\":[],\"properties\":[{\"default\":0,\"kind\":null,\"name\":\"open_modal\"},{\"default\":0,\"kind\":null,\"name\":\"close_modal\"}]},{\"extends\":null,\"module\":null,\"name\":\"MaterialTemplateActions1\",\"overrides\":[],\"properties\":[{\"default\":0,\"kind\":null,\"name\":\"open_modal\"},{\"default\":0,\"kind\":null,\"name\":\"close_modal\"}]}],\"roots\":{\"references\":[{\"attributes\":{\"line_color\":\"#30a2da\",\"line_width\":2,\"x\":{\"field\":\"index\"},\"y\":{\"field\":\"Average Total Payments\"}},\"id\":\"2295\",\"type\":\"Line\"},{\"attributes\":{\"fill_alpha\":{\"value\":0.2},\"fill_color\":{\"value\":\"#30a2da\"},\"hatch_alpha\":{\"value\":0.2},\"hatch_color\":{\"value\":\"#30a2da\"},\"line_alpha\":{\"value\":0.2},\"top\":{\"field\":\"Average_Medicare_Payments\"},\"width\":{\"value\":0.8},\"x\":{\"field\":\"index\"}},\"id\":\"2318\",\"type\":\"VBar\"},{\"attributes\":{},\"id\":\"2272\",\"type\":\"SaveTool\"},{\"attributes\":{\"coordinates\":null,\"data_source\":{\"id\":\"2292\"},\"glyph\":{\"id\":\"2295\"},\"group\":null,\"hover_glyph\":null,\"muted_glyph\":{\"id\":\"2297\"},\"nonselection_glyph\":{\"id\":\"2296\"},\"selection_glyph\":{\"id\":\"2312\"},\"view\":{\"id\":\"2299\"}},\"id\":\"2298\",\"type\":\"GlyphRenderer\"},{\"attributes\":{\"overlay\":{\"id\":\"2277\"}},\"id\":\"2275\",\"type\":\"BoxZoomTool\"},{\"attributes\":{},\"id\":\"2330\",\"type\":\"UnionRenderers\"},{\"attributes\":{},\"id\":\"2276\",\"type\":\"ResetTool\"},{\"attributes\":{\"click_policy\":\"mute\",\"coordinates\":null,\"group\":null,\"items\":[{\"id\":\"2311\"},{\"id\":\"2333\"}],\"location\":[0,0]},\"id\":\"2310\",\"type\":\"Legend\"},{\"attributes\":{},\"id\":\"2314\",\"type\":\"Selection\"},{\"attributes\":{\"data\":{\"Average Total Payments\":{\"__ndarray__\":\"ZmZmZmaVykDsUbgeRSjLQOtRuB6FUs5ArkfheiTn0EDsUbgexc/TQEjhehQe89NAexSuR1Ga1UAzMzMzA6XaQML1KFx/8NxAmpmZmUli3kBSuB6FU+3hQOxRuB59weJAUrgeheNL5kDNzMzMZJfmQArXo3AlQ+hA16NwPfIL60BI4XoUjhfwQKRwPQqz+fJAmpmZma0I80AzMzMzI53zQK5H4XoYi/RAuB6F69Wh9ECamZmZCUv5QK5H4XogSPtASOF6FEIcAEEVrkfhXP8AQZqZmZkDDQFBCtejcM/SAkFxPQrXJ1MDQfYoXI/cqQVBuB6F66E5B0FI4XoUOr8HQfYoXI8YRAhBXI/C9QTSCEFI4XoUyloKQeF6FK4ZFQ1BMzMzM4FADUF7FK5HMf8OQSlcj8Ke3RFBhetRuHkME0EAAAAAdSgTQexRuB6lFRVBCtejcLR5FUF7FK5HjS8XQY/C9ShuHhpB7FG4Hkr3HUH2KFwPTb8gQTMzM7NKHCRBexSuR1P0JUFI4XqUQ5UqQT0K1+NZVDJB\",\"dtype\":\"float64\",\"order\":\"little\",\"shape\":[51]},\"Average_Total_Payments\":{\"__ndarray__\":\"ZmZmZmaVykDsUbgeRSjLQOtRuB6FUs5ArkfheiTn0EDsUbgexc/TQEjhehQe89NAexSuR1Ga1UAzMzMzA6XaQML1KFx/8NxAmpmZmUli3kBSuB6FU+3hQOxRuB59weJAUrgeheNL5kDNzMzMZJfmQArXo3AlQ+hA16NwPfIL60BI4XoUjhfwQKRwPQqz+fJAmpmZma0I80AzMzMzI53zQK5H4XoYi/RAuB6F69Wh9ECamZmZCUv5QK5H4XogSPtASOF6FEIcAEEVrkfhXP8AQZqZmZkDDQFBCtejcM/SAkFxPQrXJ1MDQfYoXI/cqQVBuB6F66E5B0FI4XoUOr8HQfYoXI8YRAhBXI/C9QTSCEFI4XoUyloKQeF6FK4ZFQ1BMzMzM4FADUF7FK5HMf8OQSlcj8Ke3RFBhetRuHkME0EAAAAAdSgTQexRuB6lFRVBCtejcLR5FUF7FK5HjS8XQY/C9ShuHhpB7FG4Hkr3HUH2KFwPTb8gQTMzM7NKHCRBexSuR1P0JUFI4XqUQ5UqQT0K1+NZVDJB\",\"dtype\":\"float64\",\"order\":\"little\",\"shape\":[51]},\"index\":[\"50\",\"11\",\"0\",\"41\",\"46\",\"26\",\"28\",\"13\",\"8\",\"29\",\"44\",\"30\",\"7\",\"39\",\"21\",\"37\",\"16\",\"33\",\"32\",\"49\",\"5\",\"12\",\"23\",\"2\",\"6\",\"48\",\"36\",\"25\",\"3\",\"47\",\"40\",\"1\",\"18\",\"17\",\"15\",\"42\",\"24\",\"45\",\"19\",\"10\",\"20\",\"22\",\"27\",\"31\",\"35\",\"38\",\"14\",\"9\",\"43\",\"34\",\"4\"]},\"selected\":{\"id\":\"2293\"},\"selection_policy\":{\"id\":\"2307\"}},\"id\":\"2292\",\"type\":\"ColumnDataSource\"},{\"attributes\":{\"tools\":[{\"id\":\"2254\"},{\"id\":\"2255\"},{\"id\":\"2272\"},{\"id\":\"2273\"},{\"id\":\"2274\"},{\"id\":\"2275\"},{\"id\":\"2276\"}]},\"id\":\"2278\",\"type\":\"Toolbar\"},{\"attributes\":{\"margin\":[5,5,5,5],\"name\":\"HSpacer02317\",\"sizing_mode\":\"stretch_width\"},\"id\":\"2251\",\"type\":\"Spacer\"},{\"attributes\":{\"bottom_units\":\"screen\",\"coordinates\":null,\"fill_alpha\":0.5,\"fill_color\":\"lightgrey\",\"group\":null,\"left_units\":\"screen\",\"level\":\"overlay\",\"line_alpha\":1.0,\"line_color\":\"black\",\"line_dash\":[4,4],\"line_width\":2,\"right_units\":\"screen\",\"syncable\":false,\"top_units\":\"screen\"},\"id\":\"2277\",\"type\":\"BoxAnnotation\"},{\"attributes\":{\"factors\":[\"50\",\"11\",\"0\",\"41\",\"46\",\"26\",\"28\",\"13\",\"8\",\"29\",\"44\",\"30\",\"7\",\"39\",\"21\",\"37\",\"16\",\"33\",\"32\",\"49\",\"5\",\"12\",\"23\",\"2\",\"6\",\"48\",\"36\",\"25\",\"3\",\"47\",\"40\",\"1\",\"18\",\"17\",\"15\",\"42\",\"24\",\"45\",\"19\",\"10\",\"20\",\"22\",\"27\",\"31\",\"35\",\"38\",\"14\",\"9\",\"43\",\"34\",\"4\"],\"tags\":[[[\"index\",\"index\",null]]]},\"id\":\"2252\",\"type\":\"FactorRange\"},{\"attributes\":{},\"id\":\"2287\",\"type\":\"CategoricalTickFormatter\"},{\"attributes\":{\"margin\":[5,5,5,5],\"name\":\"HSpacer02318\",\"sizing_mode\":\"stretch_width\"},\"id\":\"2347\",\"type\":\"Spacer\"},{\"attributes\":{\"callback\":null,\"renderers\":[{\"id\":\"2298\"}],\"tags\":[\"hv_created\"],\"tooltips\":[[\"index\",\"@{index}\"],[\"Average Total Payments\",\"@{Average_Total_Payments}\"]]},\"id\":\"2254\",\"type\":\"HoverTool\"},{\"attributes\":{},\"id\":\"2290\",\"type\":\"BasicTickFormatter\"},{\"attributes\":{\"coordinates\":null,\"data_source\":{\"id\":\"2313\"},\"glyph\":{\"id\":\"2316\"},\"group\":null,\"hover_glyph\":null,\"muted_glyph\":{\"id\":\"2318\"},\"nonselection_glyph\":{\"id\":\"2317\"},\"selection_glyph\":{\"id\":\"2334\"},\"view\":{\"id\":\"2320\"}},\"id\":\"2319\",\"type\":\"GlyphRenderer\"},{\"attributes\":{\"children\":[{\"id\":\"2251\"},{\"id\":\"2256\"},{\"id\":\"2347\"}],\"margin\":[0,0,0,0],\"name\":\"Row02313\",\"tags\":[\"embedded\"]},\"id\":\"2250\",\"type\":\"Row\"},{\"attributes\":{},\"id\":\"2263\",\"type\":\"LinearScale\"},{\"attributes\":{\"end\":1320349.3369999998,\"reset_end\":1320349.3369999998,\"reset_start\":0.0,\"tags\":[[[\"Average Total Payments\",\"Average Total Payments\",null]]]},\"id\":\"2253\",\"type\":\"Range1d\"},{\"attributes\":{},\"id\":\"2293\",\"type\":\"Selection\"},{\"attributes\":{\"label\":{\"value\":\"Average Total Payments\"},\"renderers\":[{\"id\":\"2298\"}]},\"id\":\"2311\",\"type\":\"LegendItem\"},{\"attributes\":{},\"id\":\"2261\",\"type\":\"CategoricalScale\"},{\"attributes\":{\"line_color\":\"#30a2da\",\"line_width\":2,\"x\":{\"field\":\"index\"},\"y\":{\"field\":\"Average Total Payments\"}},\"id\":\"2312\",\"type\":\"Line\"},{\"attributes\":{\"coordinates\":null,\"group\":null,\"text_color\":\"black\",\"text_font_size\":\"12pt\"},\"id\":\"2257\",\"type\":\"Title\"},{\"attributes\":{},\"id\":\"2307\",\"type\":\"UnionRenderers\"},{\"attributes\":{},\"id\":\"2291\",\"type\":\"AllLabels\"},{\"attributes\":{\"axis_label\":\"\",\"coordinates\":null,\"formatter\":{\"id\":\"2287\"},\"group\":null,\"major_label_policy\":{\"id\":\"2288\"},\"ticker\":{\"id\":\"2266\"}},\"id\":\"2265\",\"type\":\"CategoricalAxis\"},{\"attributes\":{\"below\":[{\"id\":\"2265\"}],\"center\":[{\"id\":\"2267\"},{\"id\":\"2271\"}],\"height\":300,\"left\":[{\"id\":\"2268\"}],\"margin\":[5,5,5,5],\"min_border_bottom\":10,\"min_border_left\":10,\"min_border_right\":10,\"min_border_top\":10,\"renderers\":[{\"id\":\"2298\"},{\"id\":\"2319\"}],\"right\":[{\"id\":\"2310\"}],\"sizing_mode\":\"fixed\",\"title\":{\"id\":\"2257\"},\"toolbar\":{\"id\":\"2278\"},\"width\":700,\"x_range\":{\"id\":\"2252\"},\"x_scale\":{\"id\":\"2261\"},\"y_range\":{\"id\":\"2253\"},\"y_scale\":{\"id\":\"2263\"}},\"id\":\"2256\",\"subtype\":\"Figure\",\"type\":\"Plot\"},{\"attributes\":{\"callback\":null,\"renderers\":[{\"id\":\"2319\"}],\"tags\":[\"hv_created\"],\"tooltips\":[[\"index\",\"@{index}\"],[\"Average Medicare Payments\",\"@{Average_Medicare_Payments}\"]]},\"id\":\"2255\",\"type\":\"HoverTool\"},{\"attributes\":{\"fill_color\":{\"value\":\"#30a2da\"},\"hatch_color\":{\"value\":\"#30a2da\"},\"top\":{\"field\":\"Average_Medicare_Payments\"},\"width\":{\"value\":0.8},\"x\":{\"field\":\"index\"}},\"id\":\"2316\",\"type\":\"VBar\"},{\"attributes\":{},\"id\":\"2266\",\"type\":\"CategoricalTicker\"},{\"attributes\":{},\"id\":\"2288\",\"type\":\"AllLabels\"},{\"attributes\":{\"axis\":{\"id\":\"2265\"},\"coordinates\":null,\"grid_line_color\":null,\"group\":null,\"ticker\":null},\"id\":\"2267\",\"type\":\"Grid\"},{\"attributes\":{\"line_alpha\":0.1,\"line_color\":\"#30a2da\",\"line_width\":2,\"x\":{\"field\":\"index\"},\"y\":{\"field\":\"Average Total Payments\"}},\"id\":\"2296\",\"type\":\"Line\"},{\"attributes\":{\"bottom\":{\"value\":0},\"fill_alpha\":{\"value\":1.0},\"fill_color\":{\"value\":\"#30a2da\"},\"hatch_alpha\":{\"value\":1.0},\"hatch_color\":{\"value\":\"#30a2da\"},\"hatch_scale\":{\"value\":12.0},\"hatch_weight\":{\"value\":1.0},\"line_alpha\":{\"value\":1.0},\"line_cap\":{\"value\":\"butt\"},\"line_color\":{\"value\":\"black\"},\"line_dash\":{\"value\":[]},\"line_dash_offset\":{\"value\":0},\"line_join\":{\"value\":\"bevel\"},\"line_width\":{\"value\":1},\"top\":{\"field\":\"Average_Medicare_Payments\"},\"width\":{\"value\":0.8},\"x\":{\"field\":\"index\"}},\"id\":\"2334\",\"type\":\"VBar\"},{\"attributes\":{},\"id\":\"2273\",\"type\":\"PanTool\"},{\"attributes\":{\"label\":{\"value\":\"Average Medicare Payments\"},\"renderers\":[{\"id\":\"2319\"}]},\"id\":\"2333\",\"type\":\"LegendItem\"},{\"attributes\":{\"axis_label\":\"Average Total Payments\",\"coordinates\":null,\"formatter\":{\"id\":\"2290\"},\"group\":null,\"major_label_policy\":{\"id\":\"2291\"},\"ticker\":{\"id\":\"2269\"}},\"id\":\"2268\",\"type\":\"LinearAxis\"},{\"attributes\":{\"fill_alpha\":{\"value\":0.1},\"fill_color\":{\"value\":\"#30a2da\"},\"hatch_alpha\":{\"value\":0.1},\"hatch_color\":{\"value\":\"#30a2da\"},\"line_alpha\":{\"value\":0.1},\"top\":{\"field\":\"Average_Medicare_Payments\"},\"width\":{\"value\":0.8},\"x\":{\"field\":\"index\"}},\"id\":\"2317\",\"type\":\"VBar\"},{\"attributes\":{\"axis\":{\"id\":\"2268\"},\"coordinates\":null,\"dimension\":1,\"grid_line_color\":null,\"group\":null,\"ticker\":null},\"id\":\"2271\",\"type\":\"Grid\"},{\"attributes\":{\"line_alpha\":0.2,\"line_color\":\"#30a2da\",\"line_width\":2,\"x\":{\"field\":\"index\"},\"y\":{\"field\":\"Average Total Payments\"}},\"id\":\"2297\",\"type\":\"Line\"},{\"attributes\":{},\"id\":\"2269\",\"type\":\"BasicTicker\"},{\"attributes\":{\"source\":{\"id\":\"2313\"}},\"id\":\"2320\",\"type\":\"CDSView\"},{\"attributes\":{},\"id\":\"2274\",\"type\":\"WheelZoomTool\"},{\"attributes\":{\"data\":{\"Average_Medicare_Payments\":{\"__ndarray__\":\"KVyPwrXbw0DsUbgeBQnHQFK4HoXrxMpA9ihcjyIazkBmZmZmphrQQKRwPQpHetBACtejcF2u0EAVrkfhui3VQIXrUbgORNdA9ihcj3KK2EA+CtejEJnYQHsUrkeRUN9A61G4Hu3E4kAfhetR0NPiQBWuR+Fa6uNAAAAAALAl5UBxPQrXY8zoQArXo3BF1u5Aw/UoXL9n70CkcD0KP1LwQAAAAAC0o/BAkML1KFRC8UAzMzMzTw/1QKRwPQqn/PVAZmZmZk53+kAAAAAA2Oz7QDMzMzMLafxAMzMzMzuh/kCkcD0Ke1L/QFyPwvV89AFBSOF6FEJWAkFmZmZmnroCQbgeheuNjQNBZmZmZrQRBEHD9ShcfWgFQeF6FK4JTgdB16NwPQhsB0EK16NwIT8IQexRuB4ZSg5BhetRuCYjD0HD9ShcnsEQQeF6FK7ynxFBCtejcJG0EUGPwvUodI8TQcP1KFyrwxVB9ihcjxfzGEH2KFyPTOoaQQrXo3DVSyBBcT0K13bZIUEUrkfhJV0nQT0K1yPoKjBB\",\"dtype\":\"float64\",\"order\":\"little\",\"shape\":[51]},\"index\":[\"0\",\"1\",\"2\",\"3\",\"4\",\"5\",\"6\",\"7\",\"8\",\"9\",\"10\",\"11\",\"12\",\"13\",\"14\",\"15\",\"16\",\"17\",\"18\",\"19\",\"20\",\"21\",\"22\",\"23\",\"24\",\"25\",\"26\",\"27\",\"28\",\"29\",\"30\",\"31\",\"32\",\"33\",\"34\",\"35\",\"36\",\"37\",\"38\",\"39\",\"40\",\"41\",\"42\",\"43\",\"44\",\"45\",\"46\",\"47\",\"48\",\"49\",\"50\"]},\"selected\":{\"id\":\"2314\"},\"selection_policy\":{\"id\":\"2330\"}},\"id\":\"2313\",\"type\":\"ColumnDataSource\"},{\"attributes\":{\"source\":{\"id\":\"2292\"}},\"id\":\"2299\",\"type\":\"CDSView\"}],\"root_ids\":[\"2250\"]},\"title\":\"Bokeh Application\",\"version\":\"2.4.3\"}};\n",
       "    var render_items = [{\"docid\":\"9a0dbf00-2067-441c-9499-e751b533df38\",\"root_ids\":[\"2250\"],\"roots\":{\"2250\":\"cef42d55-b1fe-4948-a9f1-3a691076fed7\"}}];\n",
       "    root.Bokeh.embed.embed_items_notebook(docs_json, render_items);\n",
       "  }\n",
       "  if (root.Bokeh !== undefined && root.Bokeh.Panel !== undefined) {\n",
       "    embed_document(root);\n",
       "  } else {\n",
       "    var attempts = 0;\n",
       "    var timer = setInterval(function(root) {\n",
       "      if (root.Bokeh !== undefined && root.Bokeh.Panel !== undefined) {\n",
       "        clearInterval(timer);\n",
       "        embed_document(root);\n",
       "      } else if (document.readyState == \"complete\") {\n",
       "        attempts++;\n",
       "        if (attempts > 200) {\n",
       "          clearInterval(timer);\n",
       "          console.log(\"Bokeh: ERROR: Unable to run BokehJS code because BokehJS library is missing\");\n",
       "        }\n",
       "      }\n",
       "    }, 25, root)\n",
       "  }\n",
       "})(window);</script>"
      ],
      "text/plain": [
       ":Overlay\n",
       "   .Curve.Average_Total_Payments   :Curve   [index]   (Average Total Payments)\n",
       "   .Bars.Average_Medicare_Payments :Bars   [index]   (Average Medicare Payments)"
      ]
     },
     "execution_count": 30,
     "metadata": {
      "application/vnd.holoviews_exec.v0+json": {
       "id": "2250"
      }
     },
     "output_type": "execute_result"
    }
   ],
   "source": [
    "# Overlay plots of different type using * operator\n",
    "sorted_data.hvplot.line(label=\"Average Total Payments\") * sorted_data_med.hvplot.bar(\n",
    "    label=\"Average Medicare Payments\", \n",
    ")"
   ]
  }
 ],
 "metadata": {
  "kernel_info": {
   "name": "python3"
  },
  "kernelspec": {
   "display_name": "Python 3.10.5 64-bit",
   "language": "python",
   "name": "python3"
  },
  "language_info": {
   "codemirror_mode": {
    "name": "ipython",
    "version": 3
   },
   "file_extension": ".py",
   "mimetype": "text/x-python",
   "name": "python",
   "nbconvert_exporter": "python",
   "pygments_lexer": "ipython3",
   "version": "3.10.5"
  },
  "nteract": {
   "version": "0.12.3"
  },
  "vscode": {
   "interpreter": {
    "hash": "3d4b713e85380f88a00777cdcdc0b317b22afcd9ce36339ad381340bf82814c9"
   }
  }
 },
 "nbformat": 4,
 "nbformat_minor": 4
}
