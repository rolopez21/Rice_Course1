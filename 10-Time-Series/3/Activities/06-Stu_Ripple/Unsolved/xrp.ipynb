{
 "cells": [
  {
   "cell_type": "code",
   "execution_count": 1,
   "metadata": {},
   "outputs": [],
   "source": [
    "import arch as arch\n",
    "import pandas as pd\n",
    "import numpy as np\n",
    "%matplotlib inline\n",
    "import warnings\n",
    "warnings.filterwarnings('ignore')"
   ]
  },
  {
   "cell_type": "code",
   "execution_count": 2,
   "metadata": {},
   "outputs": [
    {
     "data": {
      "text/html": [
       "<div>\n",
       "<style scoped>\n",
       "    .dataframe tbody tr th:only-of-type {\n",
       "        vertical-align: middle;\n",
       "    }\n",
       "\n",
       "    .dataframe tbody tr th {\n",
       "        vertical-align: top;\n",
       "    }\n",
       "\n",
       "    .dataframe thead th {\n",
       "        text-align: right;\n",
       "    }\n",
       "</style>\n",
       "<table border=\"1\" class=\"dataframe\">\n",
       "  <thead>\n",
       "    <tr style=\"text-align: right;\">\n",
       "      <th></th>\n",
       "      <th>Unnamed: 0</th>\n",
       "      <th>Open</th>\n",
       "      <th>High</th>\n",
       "      <th>Low</th>\n",
       "      <th>Close</th>\n",
       "      <th>Volume</th>\n",
       "      <th>symbol</th>\n",
       "      <th>exchange</th>\n",
       "    </tr>\n",
       "    <tr>\n",
       "      <th>Timestamp</th>\n",
       "      <th></th>\n",
       "      <th></th>\n",
       "      <th></th>\n",
       "      <th></th>\n",
       "      <th></th>\n",
       "      <th></th>\n",
       "      <th></th>\n",
       "      <th></th>\n",
       "    </tr>\n",
       "  </thead>\n",
       "  <tbody>\n",
       "    <tr>\n",
       "      <td>2017-08-05 00:00:00+00:00</td>\n",
       "      <td>39450</td>\n",
       "      <td>0.17436</td>\n",
       "      <td>0.19499</td>\n",
       "      <td>0.17199</td>\n",
       "      <td>0.18494</td>\n",
       "      <td>1.177092e+07</td>\n",
       "      <td>XRP/USD</td>\n",
       "      <td>Kraken</td>\n",
       "    </tr>\n",
       "    <tr>\n",
       "      <td>2017-08-06 00:00:00+00:00</td>\n",
       "      <td>39451</td>\n",
       "      <td>0.18420</td>\n",
       "      <td>0.19138</td>\n",
       "      <td>0.17900</td>\n",
       "      <td>0.18106</td>\n",
       "      <td>6.964988e+06</td>\n",
       "      <td>XRP/USD</td>\n",
       "      <td>Kraken</td>\n",
       "    </tr>\n",
       "    <tr>\n",
       "      <td>2017-08-07 00:00:00+00:00</td>\n",
       "      <td>39452</td>\n",
       "      <td>0.18095</td>\n",
       "      <td>0.18270</td>\n",
       "      <td>0.17651</td>\n",
       "      <td>0.17849</td>\n",
       "      <td>6.742669e+06</td>\n",
       "      <td>XRP/USD</td>\n",
       "      <td>Kraken</td>\n",
       "    </tr>\n",
       "    <tr>\n",
       "      <td>2017-08-08 00:00:00+00:00</td>\n",
       "      <td>39453</td>\n",
       "      <td>0.17889</td>\n",
       "      <td>0.19790</td>\n",
       "      <td>0.17700</td>\n",
       "      <td>0.19785</td>\n",
       "      <td>1.087657e+07</td>\n",
       "      <td>XRP/USD</td>\n",
       "      <td>Kraken</td>\n",
       "    </tr>\n",
       "    <tr>\n",
       "      <td>2017-08-09 00:00:00+00:00</td>\n",
       "      <td>39454</td>\n",
       "      <td>0.19629</td>\n",
       "      <td>0.19750</td>\n",
       "      <td>0.18340</td>\n",
       "      <td>0.18700</td>\n",
       "      <td>7.204952e+06</td>\n",
       "      <td>XRP/USD</td>\n",
       "      <td>Kraken</td>\n",
       "    </tr>\n",
       "  </tbody>\n",
       "</table>\n",
       "</div>"
      ],
      "text/plain": [
       "                           Unnamed: 0     Open     High      Low    Close  \\\n",
       "Timestamp                                                                   \n",
       "2017-08-05 00:00:00+00:00       39450  0.17436  0.19499  0.17199  0.18494   \n",
       "2017-08-06 00:00:00+00:00       39451  0.18420  0.19138  0.17900  0.18106   \n",
       "2017-08-07 00:00:00+00:00       39452  0.18095  0.18270  0.17651  0.17849   \n",
       "2017-08-08 00:00:00+00:00       39453  0.17889  0.19790  0.17700  0.19785   \n",
       "2017-08-09 00:00:00+00:00       39454  0.19629  0.19750  0.18340  0.18700   \n",
       "\n",
       "                                 Volume   symbol exchange  \n",
       "Timestamp                                                  \n",
       "2017-08-05 00:00:00+00:00  1.177092e+07  XRP/USD   Kraken  \n",
       "2017-08-06 00:00:00+00:00  6.964988e+06  XRP/USD   Kraken  \n",
       "2017-08-07 00:00:00+00:00  6.742669e+06  XRP/USD   Kraken  \n",
       "2017-08-08 00:00:00+00:00  1.087657e+07  XRP/USD   Kraken  \n",
       "2017-08-09 00:00:00+00:00  7.204952e+06  XRP/USD   Kraken  "
      ]
     },
     "execution_count": 2,
     "metadata": {},
     "output_type": "execute_result"
    }
   ],
   "source": [
    "from pathlib import Path\n",
    "csvpath = Path('../Resources/USD_per_Ripple_XRP_prices.csv')\n",
    "df = pd.read_csv(csvpath, parse_dates=True, index_col='Timestamp')\n",
    "df.head()"
   ]
  },
  {
   "cell_type": "code",
   "execution_count": 3,
   "metadata": {},
   "outputs": [
    {
     "data": {
      "text/plain": [
       "<matplotlib.axes._subplots.AxesSubplot at 0x7f9f38ed70d0>"
      ]
     },
     "execution_count": 3,
     "metadata": {},
     "output_type": "execute_result"
    },
    {
     "data": {
      "image/png": "[encoded data removed]",
      "text/plain": [
       "<Figure size 432x288 with 1 Axes>"
      ]
     },
     "metadata": {
      "needs_background": "light"
     },
     "output_type": "display_data"
    }
   ],
   "source": [
    "df.Close.plot()"
   ]
  },
  {
   "cell_type": "code",
   "execution_count": 4,
   "metadata": {},
   "outputs": [
    {
     "data": {
      "text/html": [
       "<div>\n",
       "<style scoped>\n",
       "    .dataframe tbody tr th:only-of-type {\n",
       "        vertical-align: middle;\n",
       "    }\n",
       "\n",
       "    .dataframe tbody tr th {\n",
       "        vertical-align: top;\n",
       "    }\n",
       "\n",
       "    .dataframe thead th {\n",
       "        text-align: right;\n",
       "    }\n",
       "</style>\n",
       "<table border=\"1\" class=\"dataframe\">\n",
       "  <thead>\n",
       "    <tr style=\"text-align: right;\">\n",
       "      <th></th>\n",
       "      <th>Unnamed: 0</th>\n",
       "      <th>Open</th>\n",
       "      <th>High</th>\n",
       "      <th>Low</th>\n",
       "      <th>Close</th>\n",
       "      <th>Volume</th>\n",
       "      <th>symbol</th>\n",
       "      <th>exchange</th>\n",
       "      <th>Return</th>\n",
       "      <th>Lagged_Return</th>\n",
       "    </tr>\n",
       "    <tr>\n",
       "      <th>Timestamp</th>\n",
       "      <th></th>\n",
       "      <th></th>\n",
       "      <th></th>\n",
       "      <th></th>\n",
       "      <th></th>\n",
       "      <th></th>\n",
       "      <th></th>\n",
       "      <th></th>\n",
       "      <th></th>\n",
       "      <th></th>\n",
       "    </tr>\n",
       "  </thead>\n",
       "  <tbody>\n",
       "    <tr>\n",
       "      <td>2019-07-21 00:00:00+00:00</td>\n",
       "      <td>40165</td>\n",
       "      <td>0.33349</td>\n",
       "      <td>0.33552</td>\n",
       "      <td>0.32142</td>\n",
       "      <td>0.33127</td>\n",
       "      <td>1.717580e+07</td>\n",
       "      <td>XRP/USD</td>\n",
       "      <td>Kraken</td>\n",
       "      <td>-0.665687</td>\n",
       "      <td>4.144026</td>\n",
       "    </tr>\n",
       "    <tr>\n",
       "      <td>2019-07-22 00:00:00+00:00</td>\n",
       "      <td>40166</td>\n",
       "      <td>0.33127</td>\n",
       "      <td>0.33242</td>\n",
       "      <td>0.31551</td>\n",
       "      <td>0.32086</td>\n",
       "      <td>7.349218e+06</td>\n",
       "      <td>XRP/USD</td>\n",
       "      <td>Kraken</td>\n",
       "      <td>-3.142452</td>\n",
       "      <td>-0.665687</td>\n",
       "    </tr>\n",
       "    <tr>\n",
       "      <td>2019-07-23 00:00:00+00:00</td>\n",
       "      <td>40167</td>\n",
       "      <td>0.32086</td>\n",
       "      <td>0.32086</td>\n",
       "      <td>0.30580</td>\n",
       "      <td>0.30784</td>\n",
       "      <td>8.161499e+06</td>\n",
       "      <td>XRP/USD</td>\n",
       "      <td>Kraken</td>\n",
       "      <td>-4.057845</td>\n",
       "      <td>-3.142452</td>\n",
       "    </tr>\n",
       "    <tr>\n",
       "      <td>2019-07-24 00:00:00+00:00</td>\n",
       "      <td>40168</td>\n",
       "      <td>0.30784</td>\n",
       "      <td>0.31850</td>\n",
       "      <td>0.30276</td>\n",
       "      <td>0.31611</td>\n",
       "      <td>8.728234e+06</td>\n",
       "      <td>XRP/USD</td>\n",
       "      <td>Kraken</td>\n",
       "      <td>2.686460</td>\n",
       "      <td>-4.057845</td>\n",
       "    </tr>\n",
       "    <tr>\n",
       "      <td>2019-07-25 00:00:00+00:00</td>\n",
       "      <td>40169</td>\n",
       "      <td>0.31611</td>\n",
       "      <td>0.32386</td>\n",
       "      <td>0.31156</td>\n",
       "      <td>0.31269</td>\n",
       "      <td>1.051660e+07</td>\n",
       "      <td>XRP/USD</td>\n",
       "      <td>Kraken</td>\n",
       "      <td>-1.081902</td>\n",
       "      <td>2.686460</td>\n",
       "    </tr>\n",
       "  </tbody>\n",
       "</table>\n",
       "</div>"
      ],
      "text/plain": [
       "                           Unnamed: 0     Open     High      Low    Close  \\\n",
       "Timestamp                                                                   \n",
       "2019-07-21 00:00:00+00:00       40165  0.33349  0.33552  0.32142  0.33127   \n",
       "2019-07-22 00:00:00+00:00       40166  0.33127  0.33242  0.31551  0.32086   \n",
       "2019-07-23 00:00:00+00:00       40167  0.32086  0.32086  0.30580  0.30784   \n",
       "2019-07-24 00:00:00+00:00       40168  0.30784  0.31850  0.30276  0.31611   \n",
       "2019-07-25 00:00:00+00:00       40169  0.31611  0.32386  0.31156  0.31269   \n",
       "\n",
       "                                 Volume   symbol exchange    Return  \\\n",
       "Timestamp                                                             \n",
       "2019-07-21 00:00:00+00:00  1.717580e+07  XRP/USD   Kraken -0.665687   \n",
       "2019-07-22 00:00:00+00:00  7.349218e+06  XRP/USD   Kraken -3.142452   \n",
       "2019-07-23 00:00:00+00:00  8.161499e+06  XRP/USD   Kraken -4.057845   \n",
       "2019-07-24 00:00:00+00:00  8.728234e+06  XRP/USD   Kraken  2.686460   \n",
       "2019-07-25 00:00:00+00:00  1.051660e+07  XRP/USD   Kraken -1.081902   \n",
       "\n",
       "                           Lagged_Return  \n",
       "Timestamp                                 \n",
       "2019-07-21 00:00:00+00:00       4.144026  \n",
       "2019-07-22 00:00:00+00:00      -0.665687  \n",
       "2019-07-23 00:00:00+00:00      -3.142452  \n",
       "2019-07-24 00:00:00+00:00      -4.057845  \n",
       "2019-07-25 00:00:00+00:00       2.686460  "
      ]
     },
     "execution_count": 4,
     "metadata": {},
     "output_type": "execute_result"
    }
   ],
   "source": [
    "# Create a series using \"Close\" price percentage returns, drop any NaNs, and check the results:\n",
    "# (Make sure to multiply the pct_change() results by *100)\n",
    "df['Return'] = df.Close.pct_change() * 100\n",
    "df['Lagged_Return'] = df['Return'].shift()\n",
    "df = df.dropna()\n",
    "df.tail()"
   ]
  },
  {
   "cell_type": "code",
   "execution_count": 5,
   "metadata": {},
   "outputs": [
    {
     "data": {
      "text/plain": [
       "<matplotlib.axes._subplots.AxesSubplot at 0x7f9f38ffd810>"
      ]
     },
     "execution_count": 5,
     "metadata": {},
     "output_type": "execute_result"
    },
    {
     "data": {
      "image/png": "[encoded data removed]",
      "text/plain": [
       "<Figure size 432x288 with 1 Axes>"
      ]
     },
     "metadata": {
      "needs_background": "light"
     },
     "output_type": "display_data"
    }
   ],
   "source": [
    "df['Return'].plot()"
   ]
  },
  {
   "cell_type": "markdown",
   "metadata": {},
   "source": [
    "---"
   ]
  },
  {
   "cell_type": "markdown",
   "metadata": {},
   "source": [
    "# Linear Regression with Train/Test split"
   ]
  },
  {
   "cell_type": "code",
   "execution_count": 17,
   "metadata": {},
   "outputs": [],
   "source": [
    "# Create a train/test split for the data using 2017-2018 for training and 2019 for testing\n",
    "# YOUR CODE HERE!"
   ]
  },
  {
   "cell_type": "code",
   "execution_count": 18,
   "metadata": {},
   "outputs": [],
   "source": [
    "# Create four dataframes:\n",
    "# X_train (training set using just the independent variables), X_test (test set of of just the independent variables)\n",
    "# Y_train (training set using just the \"y\" variable, i.e., \"Futures Return\"), Y_test (test set of just the \"y\" variable):\n",
    "# YOUR CODE HERE!"
   ]
  },
  {
   "cell_type": "code",
   "execution_count": 19,
   "metadata": {},
   "outputs": [
    {
     "data": {
      "text/plain": [
       "LinearRegression(copy_X=True, fit_intercept=True, n_jobs=None, normalize=False)"
      ]
     },
     "execution_count": 19,
     "metadata": {},
     "output_type": "execute_result"
    }
   ],
   "source": [
    "# Create a Linear Regression model and fit it to the training data\n",
    "# YOUR CODE HERE!\n",
    "\n",
    "# Fit a SKLearn linear regression using  just the training set (X_train, Y_train):\n",
    "# YOUR CODE HERE!"
   ]
  },
  {
   "cell_type": "markdown",
   "metadata": {},
   "source": [
    "# Make predictions using the Testing Data\n",
    "\n",
    "Note: We want to evaluate the model using data that it has never seen before, in this case: X_test."
   ]
  },
  {
   "cell_type": "code",
   "execution_count": 20,
   "metadata": {},
   "outputs": [],
   "source": [
    "# Make a prediction of \"y\" values using just the test dataset\n",
    "# YOUR CODE HERE!"
   ]
  },
  {
   "cell_type": "code",
   "execution_count": 21,
   "metadata": {},
   "outputs": [],
   "source": [
    "# Assemble actual y data (Y_test) with predicted y data (from just above) into two columns in a dataframe:\n",
    "# YOUR CODE HERE!"
   ]
  },
  {
   "cell_type": "code",
   "execution_count": 22,
   "metadata": {
    "scrolled": true
   },
   "outputs": [
    {
     "data": {
      "text/plain": [
       "array([<matplotlib.axes._subplots.AxesSubplot object at 0x7f9f296c4f90>,\n",
       "       <matplotlib.axes._subplots.AxesSubplot object at 0x7f9f486faf90>],\n",
       "      dtype=object)"
      ]
     },
     "execution_count": 22,
     "metadata": {},
     "output_type": "execute_result"
    },
    {
     "data": {
      "image/png": "[encoded data removed]",
      "text/plain": [
       "<Figure size 432x288 with 2 Axes>"
      ]
     },
     "metadata": {
      "needs_background": "light"
     },
     "output_type": "display_data"
    }
   ],
   "source": [
    "# Plot the first 20 predictions vs the true values\n",
    "# YOUR CODE HERE!"
   ]
  },
  {
   "cell_type": "markdown",
   "metadata": {},
   "source": [
    "# Out-of-Sample Performance\n",
    "\n",
    "Evaluate the model using \"out-of-sample\" data (X_test and y_test)"
   ]
  },
  {
   "cell_type": "code",
   "execution_count": 23,
   "metadata": {},
   "outputs": [
    {
     "name": "stdout",
     "output_type": "stream",
     "text": [
      "Out-of-Sample Root Mean Squared Error (RMSE): 4.359200165217197\n"
     ]
    }
   ],
   "source": [
    "from sklearn.metrics import mean_squared_error, r2_score\n",
    "# Calculate the mean_squared_error (MSE) on actual versus predicted test \"y\" \n",
    "# (Hint: use the dataframe above)\n",
    "# YOUR CODE HERE!\n",
    "\n",
    "# Using that mean-squared-error, calculate the root-mean-squared error (RMSE):\n",
    "# YOUR CODE HERE!"
   ]
  },
  {
   "cell_type": "markdown",
   "metadata": {},
   "source": [
    "# In-Sample Performance\n",
    "\n",
    "Evaluate the model using in-sample data (X_train and y_train)"
   ]
  },
  {
   "cell_type": "code",
   "execution_count": 24,
   "metadata": {},
   "outputs": [
    {
     "name": "stdout",
     "output_type": "stream",
     "text": [
      "In-sample Root Mean Squared Error (RMSE): 8.640276753817128\n"
     ]
    }
   ],
   "source": [
    "# Construct a dataframe using just the \"y\" training data:\n",
    "# YOUR CODE HERE!\n",
    "\n",
    "# Add a column of \"in-sample\" predictions to that dataframe:  \n",
    "# YOUR CODE HERE!\n",
    "\n",
    "# Calculate in-sample mean_squared_error (for comparison to out-of-sample)\n",
    "# YOUR CODE HERE!\n",
    "\n",
    "# Calculate in-sample root mean_squared_error (for comparison to out-of-sample)\n",
    "# YOUR CODE HERE!"
   ]
  },
  {
   "cell_type": "code",
   "execution_count": 16,
   "metadata": {},
   "outputs": [
    {
     "data": {
      "text/plain": [
       "<matplotlib.axes._subplots.AxesSubplot at 0x7f9f29077550>"
      ]
     },
     "execution_count": 16,
     "metadata": {},
     "output_type": "execute_result"
    },
    {
     "data": {
      "image/png": "[encoded data removed]",
      "text/plain": [
       "<Figure size 432x288 with 1 Axes>"
      ]
     },
     "metadata": {
      "needs_background": "light"
     },
     "output_type": "display_data"
    }
   ],
   "source": [
    "# Plot the final forecast\n",
    "# YOUR CODE HERE!"
   ]
  },
  {
   "cell_type": "markdown",
   "metadata": {},
   "source": [
    "---"
   ]
  },
  {
   "cell_type": "markdown",
   "metadata": {},
   "source": [
    "Question: How does the model perform out-of-sample (on data that it has never seen before)? Are the predictions as good as, better, or worse than those that were observed for the training dataset?\n",
    "\n",
    "Answer: # YOUR ANSWER HERE!"
   ]
  }
 ],
 "metadata": {
  "kernelspec": {
   "display_name": "dev",
   "language": "python",
   "name": "dev"
  },
  "language_info": {
   "codemirror_mode": {
    "name": "ipython",
    "version": 3
   },
   "file_extension": ".py",
   "mimetype": "text/x-python",
   "name": "python",
   "nbconvert_exporter": "python",
   "pygments_lexer": "ipython3",
   "version": "3.7.4"
  }
 },
 "nbformat": 4,
 "nbformat_minor": 4
}
