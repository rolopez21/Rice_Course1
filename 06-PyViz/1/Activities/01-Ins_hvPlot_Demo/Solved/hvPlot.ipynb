{
 "cells": [
  {
   "cell_type": "code",
   "execution_count": 2,
   "metadata": {},
   "outputs": [],
   "source": [
    "import numpy as np\n",
    "import pandas as pd\n",
    "import hvplot.pandas"
   ]
  },
  {
   "cell_type": "code",
   "execution_count": 3,
   "metadata": {},
   "outputs": [],
   "source": [
    "# Data Prep\n",
    "df_idx = pd.date_range(\"1/1/2018\", periods=52)\n",
    "df = pd.DataFrame(\n",
    "    np.random.randn(52, 4), index=df_idx, columns=(\"AAPL\", \"GOOG\", \"AMD\", \"BTC\")\n",
    ").pct_change()"
   ]
  },
  {
   "cell_type": "code",
   "execution_count": 4,
   "metadata": {},
   "outputs": [
    {
     "data": {
      "text/html": [
       "<div>\n",
       "<style scoped>\n",
       "    .dataframe tbody tr th:only-of-type {\n",
       "        vertical-align: middle;\n",
       "    }\n",
       "\n",
       "    .dataframe tbody tr th {\n",
       "        vertical-align: top;\n",
       "    }\n",
       "\n",
       "    .dataframe thead th {\n",
       "        text-align: right;\n",
       "    }\n",
       "</style>\n",
       "<table border=\"1\" class=\"dataframe\">\n",
       "  <thead>\n",
       "    <tr style=\"text-align: right;\">\n",
       "      <th></th>\n",
       "      <th>date</th>\n",
       "      <th>AAPL</th>\n",
       "      <th>GOOG</th>\n",
       "      <th>AMD</th>\n",
       "      <th>BTC</th>\n",
       "    </tr>\n",
       "  </thead>\n",
       "  <tbody>\n",
       "    <tr>\n",
       "      <th>0</th>\n",
       "      <td>2018-01-01</td>\n",
       "      <td>NaN</td>\n",
       "      <td>NaN</td>\n",
       "      <td>NaN</td>\n",
       "      <td>NaN</td>\n",
       "    </tr>\n",
       "    <tr>\n",
       "      <th>1</th>\n",
       "      <td>2018-01-02</td>\n",
       "      <td>-1.785064</td>\n",
       "      <td>-1.436436</td>\n",
       "      <td>-1.517243</td>\n",
       "      <td>4.857666</td>\n",
       "    </tr>\n",
       "    <tr>\n",
       "      <th>2</th>\n",
       "      <td>2018-01-03</td>\n",
       "      <td>-1.841299</td>\n",
       "      <td>-3.213168</td>\n",
       "      <td>-4.697608</td>\n",
       "      <td>-0.336169</td>\n",
       "    </tr>\n",
       "    <tr>\n",
       "      <th>3</th>\n",
       "      <td>2018-01-04</td>\n",
       "      <td>-0.296270</td>\n",
       "      <td>0.106279</td>\n",
       "      <td>-0.763330</td>\n",
       "      <td>-3.780995</td>\n",
       "    </tr>\n",
       "    <tr>\n",
       "      <th>4</th>\n",
       "      <td>2018-01-05</td>\n",
       "      <td>0.897980</td>\n",
       "      <td>-2.029141</td>\n",
       "      <td>1.792733</td>\n",
       "      <td>-1.554997</td>\n",
       "    </tr>\n",
       "  </tbody>\n",
       "</table>\n",
       "</div>"
      ],
      "text/plain": [
       "        date      AAPL      GOOG       AMD       BTC\n",
       "0 2018-01-01       NaN       NaN       NaN       NaN\n",
       "1 2018-01-02 -1.785064 -1.436436 -1.517243  4.857666\n",
       "2 2018-01-03 -1.841299 -3.213168 -4.697608 -0.336169\n",
       "3 2018-01-04 -0.296270  0.106279 -0.763330 -3.780995\n",
       "4 2018-01-05  0.897980 -2.029141  1.792733 -1.554997"
      ]
     },
     "execution_count": 4,
     "metadata": {},
     "output_type": "execute_result"
    }
   ],
   "source": [
    "df=df.reset_index()\n",
    "df=df.rename(columns={\"index\":\"date\"})\n",
    "df.head()"
   ]
  },
  {
   "cell_type": "code",
   "execution_count": 5,
   "metadata": {},
   "outputs": [
    {
     "data": {},
     "metadata": {},
     "output_type": "display_data"
    },
    {
     "data": {
      "application/vnd.holoviews_exec.v0+json": "",
      "text/html": [
       "<div id='1002'>\n",
       "  <div class=\"bk-root\" id=\"98b90ce1-ba0d-44b5-b91c-16638ade14e0\" data-root-id=\"1002\"></div>\n",
       "</div>\n",
       "<script type=\"application/javascript\">(function(root) {\n",
       "  function embed_document(root) {\n",
       "    var docs_json = {\"b4ea487e-3c5d-406e-9562-c5ea59e155c3\":{\"defs\":[{\"extends\":null,\"module\":null,\"name\":\"ReactiveHTML1\",\"overrides\":[],\"properties\":[]},{\"extends\":null,\"module\":null,\"name\":\"FlexBox1\",\"overrides\":[],\"properties\":[{\"default\":\"flex-start\",\"kind\":null,\"name\":\"align_content\"},{\"default\":\"flex-start\",\"kind\":null,\"name\":\"align_items\"},{\"default\":\"row\",\"kind\":null,\"name\":\"flex_direction\"},{\"default\":\"wrap\",\"kind\":null,\"name\":\"flex_wrap\"},{\"default\":\"flex-start\",\"kind\":null,\"name\":\"justify_content\"}]},{\"extends\":null,\"module\":null,\"name\":\"GridStack1\",\"overrides\":[],\"properties\":[{\"default\":\"warn\",\"kind\":null,\"name\":\"mode\"},{\"default\":null,\"kind\":null,\"name\":\"ncols\"},{\"default\":null,\"kind\":null,\"name\":\"nrows\"},{\"default\":true,\"kind\":null,\"name\":\"allow_resize\"},{\"default\":true,\"kind\":null,\"name\":\"allow_drag\"},{\"default\":[],\"kind\":null,\"name\":\"state\"}]},{\"extends\":null,\"module\":null,\"name\":\"click1\",\"overrides\":[],\"properties\":[{\"default\":\"\",\"kind\":null,\"name\":\"terminal_output\"},{\"default\":\"\",\"kind\":null,\"name\":\"debug_name\"},{\"default\":0,\"kind\":null,\"name\":\"clears\"}]},{\"extends\":null,\"module\":null,\"name\":\"NotificationAreaBase1\",\"overrides\":[],\"properties\":[{\"default\":\"bottom-right\",\"kind\":null,\"name\":\"position\"},{\"default\":0,\"kind\":null,\"name\":\"_clear\"}]},{\"extends\":null,\"module\":null,\"name\":\"NotificationArea1\",\"overrides\":[],\"properties\":[{\"default\":[],\"kind\":null,\"name\":\"notifications\"},{\"default\":\"bottom-right\",\"kind\":null,\"name\":\"position\"},{\"default\":0,\"kind\":null,\"name\":\"_clear\"},{\"default\":[{\"background\":\"#ffc107\",\"icon\":{\"className\":\"fas fa-exclamation-triangle\",\"color\":\"white\",\"tagName\":\"i\"},\"type\":\"warning\"},{\"background\":\"#007bff\",\"icon\":{\"className\":\"fas fa-info-circle\",\"color\":\"white\",\"tagName\":\"i\"},\"type\":\"info\"}],\"kind\":null,\"name\":\"types\"}]},{\"extends\":null,\"module\":null,\"name\":\"Notification\",\"overrides\":[],\"properties\":[{\"default\":null,\"kind\":null,\"name\":\"background\"},{\"default\":3000,\"kind\":null,\"name\":\"duration\"},{\"default\":null,\"kind\":null,\"name\":\"icon\"},{\"default\":\"\",\"kind\":null,\"name\":\"message\"},{\"default\":null,\"kind\":null,\"name\":\"notification_type\"},{\"default\":false,\"kind\":null,\"name\":\"_destroyed\"}]},{\"extends\":null,\"module\":null,\"name\":\"TemplateActions1\",\"overrides\":[],\"properties\":[{\"default\":0,\"kind\":null,\"name\":\"open_modal\"},{\"default\":0,\"kind\":null,\"name\":\"close_modal\"}]},{\"extends\":null,\"module\":null,\"name\":\"MaterialTemplateActions1\",\"overrides\":[],\"properties\":[{\"default\":0,\"kind\":null,\"name\":\"open_modal\"},{\"default\":0,\"kind\":null,\"name\":\"close_modal\"}]}],\"roots\":{\"references\":[{\"attributes\":{\"line_color\":\"#6d904f\",\"line_width\":2,\"x\":{\"field\":\"date\"},\"y\":{\"field\":\"value\"}},\"id\":\"1186\",\"type\":\"Line\"},{\"attributes\":{\"coordinates\":null,\"data_source\":{\"id\":\"1149\"},\"glyph\":{\"id\":\"1152\"},\"group\":null,\"hover_glyph\":null,\"muted_glyph\":{\"id\":\"1154\"},\"nonselection_glyph\":{\"id\":\"1153\"},\"selection_glyph\":{\"id\":\"1186\"},\"view\":{\"id\":\"1156\"}},\"id\":\"1155\",\"type\":\"GlyphRenderer\"},{\"attributes\":{},\"id\":\"1042\",\"type\":\"AllLabels\"},{\"attributes\":{\"axis_label\":\"date\",\"coordinates\":null,\"formatter\":{\"id\":\"1041\"},\"group\":null,\"major_label_policy\":{\"id\":\"1042\"},\"ticker\":{\"id\":\"1020\"}},\"id\":\"1019\",\"type\":\"DatetimeAxis\"},{\"attributes\":{\"label\":{\"value\":\"BTC\"},\"renderers\":[{\"id\":\"1155\"}]},\"id\":\"1185\",\"type\":\"LegendItem\"},{\"attributes\":{\"data\":{\"Variable\":[\"GOOG\",\"GOOG\",\"GOOG\",\"GOOG\",\"GOOG\",\"GOOG\",\"GOOG\",\"GOOG\",\"GOOG\",\"GOOG\",\"GOOG\",\"GOOG\",\"GOOG\",\"GOOG\",\"GOOG\",\"GOOG\",\"GOOG\",\"GOOG\",\"GOOG\",\"GOOG\",\"GOOG\",\"GOOG\",\"GOOG\",\"GOOG\",\"GOOG\",\"GOOG\",\"GOOG\",\"GOOG\",\"GOOG\",\"GOOG\",\"GOOG\",\"GOOG\",\"GOOG\",\"GOOG\",\"GOOG\",\"GOOG\",\"GOOG\",\"GOOG\",\"GOOG\",\"GOOG\",\"GOOG\",\"GOOG\",\"GOOG\",\"GOOG\",\"GOOG\",\"GOOG\",\"GOOG\",\"GOOG\",\"GOOG\",\"GOOG\",\"GOOG\",\"GOOG\"],\"date\":{\"__ndarray__\":\"AAAASfAKdkIAAMCuQgt2QgAAgBSVC3ZCAABAeucLdkIAAADgOQx2QgAAwEWMDHZCAACAq94MdkIAAEARMQ12QgAAAHeDDXZCAADA3NUNdkIAAIBCKA52QgAAQKh6DnZCAAAADs0OdkIAAMBzHw92QgAAgNlxD3ZCAABAP8QPdkIAAAClFhB2QgAAwAppEHZCAACAcLsQdkIAAEDWDRF2QgAAADxgEXZCAADAobIRdkIAAIAHBRJ2QgAAQG1XEnZCAAAA06kSdkIAAMA4/BJ2QgAAgJ5OE3ZCAABABKETdkIAAABq8xN2QgAAwM9FFHZCAACANZgUdkIAAECb6hR2QgAAAAE9FXZCAADAZo8VdkIAAIDM4RV2QgAAQDI0FnZCAAAAmIYWdkIAAMD92BZ2QgAAgGMrF3ZCAABAyX0XdkIAAAAv0Bd2QgAAwJQiGHZCAACA+nQYdkIAAEBgxxh2QgAAAMYZGXZCAADAK2wZdkIAAICRvhl2QgAAQPcQGnZCAAAAXWMadkIAAMDCtRp2QgAAgCgIG3ZCAABAjlobdkI=\",\"dtype\":\"float64\",\"order\":\"little\",\"shape\":[52]},\"value\":{\"__ndarray__\":\"AAAAAAAA+H+i0D+RpPv2v+ffRk2RtAnAkNaaHSA1uz8ETr08rjsAwNmwxczsFee/gAVoOrOj479iwSd5++oWQNVXO3fa/QDApM2F63jq+b/Cx1Pm4wDuv0kI+95C7SHAEMKKfHQb3D94pnqPIK7mv9P53KjTigBAY8vPMUCw8r+DsnhTcocAQLBHAle4TOw/wvJ/zqUT0b9dnCr9VWQXQMrw8ZoEl9K/Dvb11nAk7r+g9QsnQpAgwBbbx4XHx/K/XC+KTrlkHcA6kbIAAqjTv9PR42oetRXAHpDGhG8u+7/4cM9TtZXuv9YOOCgTYvK/M3hAheZjKcBxyetRcl4tQDP7W49x4eu/Mjx1xAFF479GbSctWYAhwAPt1nNimO+/WFF3KPhdTEDfzd2GhqoCwKfbJKRCiQnAtIeNBwjH3L8AhBNJWQECwJHO/SkBDvq/QPx9iizuAcBYpQKAMPn2vxIO/QZQnOq/QwLXScyAI0BQB3HFY6HJPzxI81hencu/uFZiHubnDMAqL5LWRYIDwARquI0uQfO/YiDeL66L7L8=\",\"dtype\":\"float64\",\"order\":\"little\",\"shape\":[52]}},\"selected\":{\"id\":\"1080\"},\"selection_policy\":{\"id\":\"1096\"}},\"id\":\"1079\",\"type\":\"ColumnDataSource\"},{\"attributes\":{},\"id\":\"1170\",\"type\":\"UnionRenderers\"},{\"attributes\":{\"num_minor_ticks\":5,\"tickers\":[{\"id\":\"1064\"},{\"id\":\"1065\"},{\"id\":\"1066\"},{\"id\":\"1067\"},{\"id\":\"1068\"},{\"id\":\"1069\"},{\"id\":\"1070\"},{\"id\":\"1071\"},{\"id\":\"1072\"},{\"id\":\"1073\"},{\"id\":\"1074\"},{\"id\":\"1075\"}]},\"id\":\"1020\",\"type\":\"DatetimeTicker\"},{\"attributes\":{\"below\":[{\"id\":\"1019\"}],\"center\":[{\"id\":\"1022\"},{\"id\":\"1026\"}],\"height\":300,\"left\":[{\"id\":\"1023\"}],\"margin\":[5,5,5,5],\"min_border_bottom\":10,\"min_border_left\":10,\"min_border_right\":10,\"min_border_top\":10,\"renderers\":[{\"id\":\"1052\"},{\"id\":\"1085\"},{\"id\":\"1119\"},{\"id\":\"1155\"}],\"right\":[{\"id\":\"1076\"}],\"sizing_mode\":\"fixed\",\"title\":{\"id\":\"1011\"},\"toolbar\":{\"id\":\"1033\"},\"width\":700,\"x_range\":{\"id\":\"1004\"},\"x_scale\":{\"id\":\"1015\"},\"y_range\":{\"id\":\"1005\"},\"y_scale\":{\"id\":\"1017\"}},\"id\":\"1010\",\"subtype\":\"Figure\",\"type\":\"Plot\"},{\"attributes\":{\"axis\":{\"id\":\"1019\"},\"coordinates\":null,\"grid_line_color\":null,\"group\":null,\"ticker\":null},\"id\":\"1022\",\"type\":\"Grid\"},{\"attributes\":{\"axis_label\":\"\",\"coordinates\":null,\"formatter\":{\"id\":\"1044\"},\"group\":null,\"major_label_policy\":{\"id\":\"1045\"},\"ticker\":{\"id\":\"1024\"}},\"id\":\"1023\",\"type\":\"LinearAxis\"},{\"attributes\":{\"coordinates\":null,\"group\":null,\"text_color\":\"black\",\"text_font_size\":\"12pt\"},\"id\":\"1011\",\"type\":\"Title\"},{\"attributes\":{\"line_alpha\":0.2,\"line_color\":\"#e5ae38\",\"line_width\":2,\"x\":{\"field\":\"date\"},\"y\":{\"field\":\"value\"}},\"id\":\"1118\",\"type\":\"Line\"},{\"attributes\":{},\"id\":\"1028\",\"type\":\"PanTool\"},{\"attributes\":{},\"id\":\"1114\",\"type\":\"Selection\"},{\"attributes\":{\"axis\":{\"id\":\"1023\"},\"coordinates\":null,\"dimension\":1,\"grid_line_color\":null,\"group\":null,\"ticker\":null},\"id\":\"1026\",\"type\":\"Grid\"},{\"attributes\":{},\"id\":\"1024\",\"type\":\"BasicTicker\"},{\"attributes\":{},\"id\":\"1029\",\"type\":\"WheelZoomTool\"},{\"attributes\":{\"line_color\":\"#e5ae38\",\"line_width\":2,\"x\":{\"field\":\"date\"},\"y\":{\"field\":\"value\"}},\"id\":\"1116\",\"type\":\"Line\"},{\"attributes\":{},\"id\":\"1027\",\"type\":\"SaveTool\"},{\"attributes\":{\"overlay\":{\"id\":\"1032\"}},\"id\":\"1030\",\"type\":\"BoxZoomTool\"},{\"attributes\":{\"data\":{\"Variable\":[\"AMD\",\"AMD\",\"AMD\",\"AMD\",\"AMD\",\"AMD\",\"AMD\",\"AMD\",\"AMD\",\"AMD\",\"AMD\",\"AMD\",\"AMD\",\"AMD\",\"AMD\",\"AMD\",\"AMD\",\"AMD\",\"AMD\",\"AMD\",\"AMD\",\"AMD\",\"AMD\",\"AMD\",\"AMD\",\"AMD\",\"AMD\",\"AMD\",\"AMD\",\"AMD\",\"AMD\",\"AMD\",\"AMD\",\"AMD\",\"AMD\",\"AMD\",\"AMD\",\"AMD\",\"AMD\",\"AMD\",\"AMD\",\"AMD\",\"AMD\",\"AMD\",\"AMD\",\"AMD\",\"AMD\",\"AMD\",\"AMD\",\"AMD\",\"AMD\",\"AMD\"],\"date\":{\"__ndarray__\":\"AAAASfAKdkIAAMCuQgt2QgAAgBSVC3ZCAABAeucLdkIAAADgOQx2QgAAwEWMDHZCAACAq94MdkIAAEARMQ12QgAAAHeDDXZCAADA3NUNdkIAAIBCKA52QgAAQKh6DnZCAAAADs0OdkIAAMBzHw92QgAAgNlxD3ZCAABAP8QPdkIAAAClFhB2QgAAwAppEHZCAACAcLsQdkIAAEDWDRF2QgAAADxgEXZCAADAobIRdkIAAIAHBRJ2QgAAQG1XEnZCAAAA06kSdkIAAMA4/BJ2QgAAgJ5OE3ZCAABABKETdkIAAABq8xN2QgAAwM9FFHZCAACANZgUdkIAAECb6hR2QgAAAAE9FXZCAADAZo8VdkIAAIDM4RV2QgAAQDI0FnZCAAAAmIYWdkIAAMD92BZ2QgAAgGMrF3ZCAABAyX0XdkIAAAAv0Bd2QgAAwJQiGHZCAACA+nQYdkIAAEBgxxh2QgAAAMYZGXZCAADAK2wZdkIAAICRvhl2QgAAQPcQGnZCAAAAXWMadkIAAMDCtRp2QgAAgCgIG3ZCAABAjlobdkI=\",\"dtype\":\"float64\",\"order\":\"little\",\"shape\":[52]},\"value\":{\"__ndarray__\":\"AAAAAAAA+H8THdX6oEb4v5gfDdNZyhLAd+BvtzJt6L+8xsOVCK/8PzVd9eMRXfG/oKvXd35PxT/aYad4eggeQOa2DT/oLeC/ZHHemxvq9b8pf9/R2zwDwHrKS0Gw6/y/FJWm4SmxBcCxLBHf8JDxv6riOkwWlT/A48k/KKq88L8D3x/Ka0hBwMbYE/DU3vC/0ze8+euWIcCyM9zSETzkv4AP/uJZLRXAvCLmiAFY5b+IkFFA9nXtP7oxgx72T+m/3uQ2wFupAkBSeVPTQwXgv7CzH5icgxDA2gglElFm4b+e4JKOWfEQQGyXkEoQ+va/yIajMnNHxT+iqACWLBPpvyFNSI6SUgNAkLxUH9YBA8DgcOl1YI/XP9O2/NHHCuq/PlBs7loYFkDgwpckbKb7vzj+fMkMC/i/qEzjbIgd5L8em5opnF4PQGF4LEUhMvW/AD6YL7yJmz+WkgA5muLiv4/amTzXDRDAaMvUJsCoAcBy2os3anwGwHsRDgh4ru6/mbl3eg8aNMDSUYA5fivXv9+QYrd7ovW/QHm5ByTt5j8=\",\"dtype\":\"float64\",\"order\":\"little\",\"shape\":[52]}},\"selected\":{\"id\":\"1114\"},\"selection_policy\":{\"id\":\"1132\"}},\"id\":\"1113\",\"type\":\"ColumnDataSource\"},{\"attributes\":{},\"id\":\"1031\",\"type\":\"ResetTool\"},{\"attributes\":{\"source\":{\"id\":\"1113\"}},\"id\":\"1120\",\"type\":\"CDSView\"},{\"attributes\":{},\"id\":\"1061\",\"type\":\"UnionRenderers\"},{\"attributes\":{\"margin\":[5,5,5,5],\"name\":\"HSpacer00931\",\"sizing_mode\":\"stretch_width\"},\"id\":\"1003\",\"type\":\"Spacer\"},{\"attributes\":{\"line_color\":\"#e5ae38\",\"line_width\":2,\"x\":{\"field\":\"date\"},\"y\":{\"field\":\"value\"}},\"id\":\"1148\",\"type\":\"Line\"},{\"attributes\":{\"bottom_units\":\"screen\",\"coordinates\":null,\"fill_alpha\":0.5,\"fill_color\":\"lightgrey\",\"group\":null,\"left_units\":\"screen\",\"level\":\"overlay\",\"line_alpha\":1.0,\"line_color\":\"black\",\"line_dash\":[4,4],\"line_width\":2,\"right_units\":\"screen\",\"syncable\":false,\"top_units\":\"screen\"},\"id\":\"1032\",\"type\":\"BoxAnnotation\"},{\"attributes\":{\"coordinates\":null,\"data_source\":{\"id\":\"1113\"},\"glyph\":{\"id\":\"1116\"},\"group\":null,\"hover_glyph\":null,\"muted_glyph\":{\"id\":\"1118\"},\"nonselection_glyph\":{\"id\":\"1117\"},\"selection_glyph\":{\"id\":\"1148\"},\"view\":{\"id\":\"1120\"}},\"id\":\"1119\",\"type\":\"GlyphRenderer\"},{\"attributes\":{\"label\":{\"value\":\"AMD\"},\"renderers\":[{\"id\":\"1119\"}]},\"id\":\"1147\",\"type\":\"LegendItem\"},{\"attributes\":{\"line_alpha\":0.1,\"line_color\":\"#6d904f\",\"line_width\":2,\"x\":{\"field\":\"date\"},\"y\":{\"field\":\"value\"}},\"id\":\"1153\",\"type\":\"Line\"},{\"attributes\":{\"line_alpha\":0.1,\"line_color\":\"#30a2da\",\"line_width\":2,\"x\":{\"field\":\"date\"},\"y\":{\"field\":\"value\"}},\"id\":\"1050\",\"type\":\"Line\"},{\"attributes\":{\"children\":[{\"id\":\"1003\"},{\"id\":\"1010\"},{\"id\":\"1215\"}],\"margin\":[0,0,0,0],\"name\":\"Row00927\",\"tags\":[\"embedded\"]},\"id\":\"1002\",\"type\":\"Row\"},{\"attributes\":{},\"id\":\"1132\",\"type\":\"UnionRenderers\"},{\"attributes\":{\"line_alpha\":0.2,\"line_color\":\"#30a2da\",\"line_width\":2,\"x\":{\"field\":\"date\"},\"y\":{\"field\":\"value\"}},\"id\":\"1051\",\"type\":\"Line\"},{\"attributes\":{\"source\":{\"id\":\"1149\"}},\"id\":\"1156\",\"type\":\"CDSView\"},{\"attributes\":{},\"id\":\"1047\",\"type\":\"Selection\"},{\"attributes\":{\"data\":{\"Variable\":[\"AAPL\",\"AAPL\",\"AAPL\",\"AAPL\",\"AAPL\",\"AAPL\",\"AAPL\",\"AAPL\",\"AAPL\",\"AAPL\",\"AAPL\",\"AAPL\",\"AAPL\",\"AAPL\",\"AAPL\",\"AAPL\",\"AAPL\",\"AAPL\",\"AAPL\",\"AAPL\",\"AAPL\",\"AAPL\",\"AAPL\",\"AAPL\",\"AAPL\",\"AAPL\",\"AAPL\",\"AAPL\",\"AAPL\",\"AAPL\",\"AAPL\",\"AAPL\",\"AAPL\",\"AAPL\",\"AAPL\",\"AAPL\",\"AAPL\",\"AAPL\",\"AAPL\",\"AAPL\",\"AAPL\",\"AAPL\",\"AAPL\",\"AAPL\",\"AAPL\",\"AAPL\",\"AAPL\",\"AAPL\",\"AAPL\",\"AAPL\",\"AAPL\",\"AAPL\"],\"date\":{\"__ndarray__\":\"AAAASfAKdkIAAMCuQgt2QgAAgBSVC3ZCAABAeucLdkIAAADgOQx2QgAAwEWMDHZCAACAq94MdkIAAEARMQ12QgAAAHeDDXZCAADA3NUNdkIAAIBCKA52QgAAQKh6DnZCAAAADs0OdkIAAMBzHw92QgAAgNlxD3ZCAABAP8QPdkIAAAClFhB2QgAAwAppEHZCAACAcLsQdkIAAEDWDRF2QgAAADxgEXZCAADAobIRdkIAAIAHBRJ2QgAAQG1XEnZCAAAA06kSdkIAAMA4/BJ2QgAAgJ5OE3ZCAABABKETdkIAAABq8xN2QgAAwM9FFHZCAACANZgUdkIAAECb6hR2QgAAAAE9FXZCAADAZo8VdkIAAIDM4RV2QgAAQDI0FnZCAAAAmIYWdkIAAMD92BZ2QgAAgGMrF3ZCAABAyX0XdkIAAAAv0Bd2QgAAwJQiGHZCAACA+nQYdkIAAEBgxxh2QgAAAMYZGXZCAADAK2wZdkIAAICRvhl2QgAAQPcQGnZCAAAAXWMadkIAAMDCtRp2QgAAgCgIG3ZCAABAjlobdkI=\",\"dtype\":\"float64\",\"order\":\"little\",\"shape\":[52]},\"value\":{\"__ndarray__\":\"AAAAAAAA+H/xPvFan4/8v4lhI6H1df2/FNvTuhX20r/iB08AQLzsP67Bjv9Wl++/kpOUTkkKG8BIG/bcYR/4v9IdQwvDeDpAEkUtmqpV+r+AsiKde1SMP3v9aWxLpADAX6ZaKi/s479qzucTlowKQLC2PrVx9Lm/4taqYZdM8r+817zz3n8WQMcvP6sxLPK/TvnhcBAoAMC8gTDE1RQgwE5k1yrZWQLAP+j7o58W7b+GDiIkjxX5P0vVpXxEOBXAS+8vgpFp/7/KqD/RrJfrv8/wLW7xWxrAxl3ICwUm+r+YjDjPP123v4iydiQEtMy/wnrU2cvU37/wKqu6ENjmP6ZwiHyoIeI/XjVUeKBtDMDekzJokCzWvwpwIlnPPfS/nvTm5Ge4IMCqM1eEk1Pzv3QOFY0zd+E/f8ci2d/D+78ehoZ+nvzvP8hQLxqTObG/pVLij/IZ67/LeSrd/v8hQEHxobicVeq/npBQA0LCDMDeshC03n0NwAoE/KFKh9q/furNPaVq978AOSIdjh51v0B22mwAqfa/Ml/GSo3M7D8=\",\"dtype\":\"float64\",\"order\":\"little\",\"shape\":[52]}},\"selected\":{\"id\":\"1047\"},\"selection_policy\":{\"id\":\"1061\"}},\"id\":\"1046\",\"type\":\"ColumnDataSource\"},{\"attributes\":{\"label\":{\"value\":\"AAPL\"},\"renderers\":[{\"id\":\"1052\"}]},\"id\":\"1077\",\"type\":\"LegendItem\"},{\"attributes\":{\"line_alpha\":0.2,\"line_color\":\"#fc4f30\",\"line_width\":2,\"x\":{\"field\":\"date\"},\"y\":{\"field\":\"value\"}},\"id\":\"1084\",\"type\":\"Line\"},{\"attributes\":{\"margin\":[5,5,5,5],\"name\":\"HSpacer00932\",\"sizing_mode\":\"stretch_width\"},\"id\":\"1215\",\"type\":\"Spacer\"},{\"attributes\":{\"line_color\":\"#30a2da\",\"line_width\":2,\"x\":{\"field\":\"date\"},\"y\":{\"field\":\"value\"}},\"id\":\"1078\",\"type\":\"Line\"},{\"attributes\":{\"line_color\":\"#30a2da\",\"line_width\":2,\"x\":{\"field\":\"date\"},\"y\":{\"field\":\"value\"}},\"id\":\"1049\",\"type\":\"Line\"},{\"attributes\":{\"line_alpha\":0.1,\"line_color\":\"#fc4f30\",\"line_width\":2,\"x\":{\"field\":\"date\"},\"y\":{\"field\":\"value\"}},\"id\":\"1083\",\"type\":\"Line\"},{\"attributes\":{},\"id\":\"1017\",\"type\":\"LinearScale\"},{\"attributes\":{},\"id\":\"1045\",\"type\":\"AllLabels\"},{\"attributes\":{\"line_color\":\"#fc4f30\",\"line_width\":2,\"x\":{\"field\":\"date\"},\"y\":{\"field\":\"value\"}},\"id\":\"1082\",\"type\":\"Line\"},{\"attributes\":{\"mantissas\":[1,2,5],\"max_interval\":500.0,\"num_minor_ticks\":0},\"id\":\"1064\",\"type\":\"AdaptiveTicker\"},{\"attributes\":{},\"id\":\"1041\",\"type\":\"DatetimeTickFormatter\"},{\"attributes\":{\"source\":{\"id\":\"1046\"}},\"id\":\"1053\",\"type\":\"CDSView\"},{\"attributes\":{\"base\":60,\"mantissas\":[1,2,5,10,15,20,30],\"max_interval\":1800000.0,\"min_interval\":1000.0,\"num_minor_ticks\":0},\"id\":\"1065\",\"type\":\"AdaptiveTicker\"},{\"attributes\":{\"months\":[0,1,2,3,4,5,6,7,8,9,10,11]},\"id\":\"1071\",\"type\":\"MonthsTicker\"},{\"attributes\":{\"source\":{\"id\":\"1079\"}},\"id\":\"1086\",\"type\":\"CDSView\"},{\"attributes\":{},\"id\":\"1080\",\"type\":\"Selection\"},{\"attributes\":{\"days\":[1,8,15,22]},\"id\":\"1069\",\"type\":\"DaysTicker\"},{\"attributes\":{\"line_color\":\"#fc4f30\",\"line_width\":2,\"x\":{\"field\":\"date\"},\"y\":{\"field\":\"value\"}},\"id\":\"1112\",\"type\":\"Line\"},{\"attributes\":{},\"id\":\"1075\",\"type\":\"YearsTicker\"},{\"attributes\":{},\"id\":\"1044\",\"type\":\"BasicTickFormatter\"},{\"attributes\":{\"coordinates\":null,\"data_source\":{\"id\":\"1079\"},\"glyph\":{\"id\":\"1082\"},\"group\":null,\"hover_glyph\":null,\"muted_glyph\":{\"id\":\"1084\"},\"nonselection_glyph\":{\"id\":\"1083\"},\"selection_glyph\":{\"id\":\"1112\"},\"view\":{\"id\":\"1086\"}},\"id\":\"1085\",\"type\":\"GlyphRenderer\"},{\"attributes\":{\"base\":24,\"mantissas\":[1,2,4,6,8,12],\"max_interval\":43200000.0,\"min_interval\":3600000.0,\"num_minor_ticks\":0},\"id\":\"1066\",\"type\":\"AdaptiveTicker\"},{\"attributes\":{},\"id\":\"1015\",\"type\":\"LinearScale\"},{\"attributes\":{\"label\":{\"value\":\"GOOG\"},\"renderers\":[{\"id\":\"1085\"}]},\"id\":\"1111\",\"type\":\"LegendItem\"},{\"attributes\":{\"days\":[1,2,3,4,5,6,7,8,9,10,11,12,13,14,15,16,17,18,19,20,21,22,23,24,25,26,27,28,29,30,31]},\"id\":\"1067\",\"type\":\"DaysTicker\"},{\"attributes\":{\"line_alpha\":0.1,\"line_color\":\"#e5ae38\",\"line_width\":2,\"x\":{\"field\":\"date\"},\"y\":{\"field\":\"value\"}},\"id\":\"1117\",\"type\":\"Line\"},{\"attributes\":{\"days\":[1,4,7,10,13,16,19,22,25,28]},\"id\":\"1068\",\"type\":\"DaysTicker\"},{\"attributes\":{\"days\":[1,15]},\"id\":\"1070\",\"type\":\"DaysTicker\"},{\"attributes\":{\"coordinates\":null,\"data_source\":{\"id\":\"1046\"},\"glyph\":{\"id\":\"1049\"},\"group\":null,\"hover_glyph\":null,\"muted_glyph\":{\"id\":\"1051\"},\"nonselection_glyph\":{\"id\":\"1050\"},\"selection_glyph\":{\"id\":\"1078\"},\"view\":{\"id\":\"1053\"}},\"id\":\"1052\",\"type\":\"GlyphRenderer\"},{\"attributes\":{\"months\":[0,6]},\"id\":\"1074\",\"type\":\"MonthsTicker\"},{\"attributes\":{\"line_alpha\":0.2,\"line_color\":\"#6d904f\",\"line_width\":2,\"x\":{\"field\":\"date\"},\"y\":{\"field\":\"value\"}},\"id\":\"1154\",\"type\":\"Line\"},{\"attributes\":{\"months\":[0,2,4,6,8,10]},\"id\":\"1072\",\"type\":\"MonthsTicker\"},{\"attributes\":{},\"id\":\"1150\",\"type\":\"Selection\"},{\"attributes\":{},\"id\":\"1096\",\"type\":\"UnionRenderers\"},{\"attributes\":{\"tools\":[{\"id\":\"1006\"},{\"id\":\"1027\"},{\"id\":\"1028\"},{\"id\":\"1029\"},{\"id\":\"1030\"},{\"id\":\"1031\"}]},\"id\":\"1033\",\"type\":\"Toolbar\"},{\"attributes\":{\"months\":[0,4,8]},\"id\":\"1073\",\"type\":\"MonthsTicker\"},{\"attributes\":{\"click_policy\":\"mute\",\"coordinates\":null,\"group\":null,\"items\":[{\"id\":\"1077\"},{\"id\":\"1111\"},{\"id\":\"1147\"},{\"id\":\"1185\"}],\"location\":[0,0],\"title\":\"Variable\"},\"id\":\"1076\",\"type\":\"Legend\"},{\"attributes\":{\"line_color\":\"#6d904f\",\"line_width\":2,\"x\":{\"field\":\"date\"},\"y\":{\"field\":\"value\"}},\"id\":\"1152\",\"type\":\"Line\"},{\"attributes\":{\"end\":66.21002268701496,\"reset_end\":66.21002268701496,\"reset_start\":-47.500621357465675,\"start\":-47.500621357465675,\"tags\":[[[\"value\",\"value\",null]]]},\"id\":\"1005\",\"type\":\"Range1d\"},{\"attributes\":{\"data\":{\"Variable\":[\"BTC\",\"BTC\",\"BTC\",\"BTC\",\"BTC\",\"BTC\",\"BTC\",\"BTC\",\"BTC\",\"BTC\",\"BTC\",\"BTC\",\"BTC\",\"BTC\",\"BTC\",\"BTC\",\"BTC\",\"BTC\",\"BTC\",\"BTC\",\"BTC\",\"BTC\",\"BTC\",\"BTC\",\"BTC\",\"BTC\",\"BTC\",\"BTC\",\"BTC\",\"BTC\",\"BTC\",\"BTC\",\"BTC\",\"BTC\",\"BTC\",\"BTC\",\"BTC\",\"BTC\",\"BTC\",\"BTC\",\"BTC\",\"BTC\",\"BTC\",\"BTC\",\"BTC\",\"BTC\",\"BTC\",\"BTC\",\"BTC\",\"BTC\",\"BTC\",\"BTC\"],\"date\":{\"__ndarray__\":\"AAAASfAKdkIAAMCuQgt2QgAAgBSVC3ZCAABAeucLdkIAAADgOQx2QgAAwEWMDHZCAACAq94MdkIAAEARMQ12QgAAAHeDDXZCAADA3NUNdkIAAIBCKA52QgAAQKh6DnZCAAAADs0OdkIAAMBzHw92QgAAgNlxD3ZCAABAP8QPdkIAAAClFhB2QgAAwAppEHZCAACAcLsQdkIAAEDWDRF2QgAAADxgEXZCAADAobIRdkIAAIAHBRJ2QgAAQG1XEnZCAAAA06kSdkIAAMA4/BJ2QgAAgJ5OE3ZCAABABKETdkIAAABq8xN2QgAAwM9FFHZCAACANZgUdkIAAECb6hR2QgAAAAE9FXZCAADAZo8VdkIAAIDM4RV2QgAAQDI0FnZCAAAAmIYWdkIAAMD92BZ2QgAAgGMrF3ZCAABAyX0XdkIAAAAv0Bd2QgAAwJQiGHZCAACA+nQYdkIAAEBgxxh2QgAAAMYZGXZCAADAK2wZdkIAAICRvhl2QgAAQPcQGnZCAAAAXWMadkIAAMDCtRp2QgAAgCgIG3ZCAABAjlobdkI=\",\"dtype\":\"float64\",\"order\":\"little\",\"shape\":[52]},\"value\":{\"__ndarray__\":\"AAAAAAAA+H+RXi4OQG4TQNgMytrLg9W/Quu3dHo/DsA1+LEtROH4v66j+zhlWeq/UI3UVnqg3D8ta7iK6N4PwOjtZQ07eug/MyCvpLnW7L8pdjz7jUAWwEjUYTREV+e/6GTX8dloG0B8V22EiDjov5Kh0RDkG/G/wD3MfioDQ8BcMRcI1y7ZP0a2p0UxJfa/oDreh65o3T+GfcIb453gv0d6tiyZ9ei/XKQn1T3zCkCAG5+8fxUFwCAPgj/Zuvc/rhIKeMwC+L9ccUUoxHTjP0gLdJNl2ei/46X7147w6L+GDQElJ+ohQCCqJKTpbPK/ERW9tZx/PECiE8W5I532v2OgTlRUcPu/nrMzQlOX479whZ48JzEPQDBGPz+hu7c/qlX3FwSQ7L+8+dJ1M08BwDC++apmrBtAjCKA+uT08r8qBFIgzG8fQDWIpUNC0vG/gFC5YBbZ8D/oxjCPpWIDwPUjgK5JgvO/isX7fXaA9z96Cr+RZBDsPzZx4Vdy8QLAjozXbjG7BcAIuquqlvrwv1B9kbgATca/XJ2ZdcMOLkA=\",\"dtype\":\"float64\",\"order\":\"little\",\"shape\":[52]}},\"selected\":{\"id\":\"1150\"},\"selection_policy\":{\"id\":\"1170\"}},\"id\":\"1149\",\"type\":\"ColumnDataSource\"},{\"attributes\":{\"end\":1519171200000.0,\"reset_end\":1519171200000.0,\"reset_start\":1514764800000.0,\"start\":1514764800000.0,\"tags\":[[[\"date\",\"date\",null]]]},\"id\":\"1004\",\"type\":\"Range1d\"},{\"attributes\":{\"callback\":null,\"formatters\":{\"@{date}\":\"datetime\"},\"renderers\":[{\"id\":\"1052\"},{\"id\":\"1085\"},{\"id\":\"1119\"},{\"id\":\"1155\"}],\"tags\":[\"hv_created\"],\"tooltips\":[[\"Variable\",\"@{Variable}\"],[\"date\",\"@{date}{%F %T}\"],[\"value\",\"@{value}\"]]},\"id\":\"1006\",\"type\":\"HoverTool\"}],\"root_ids\":[\"1002\"]},\"title\":\"Bokeh Application\",\"version\":\"2.4.3\"}};\n",
       "    var render_items = [{\"docid\":\"b4ea487e-3c5d-406e-9562-c5ea59e155c3\",\"root_ids\":[\"1002\"],\"roots\":{\"1002\":\"98b90ce1-ba0d-44b5-b91c-16638ade14e0\"}}];\n",
       "    root.Bokeh.embed.embed_items_notebook(docs_json, render_items);\n",
       "  }\n",
       "  if (root.Bokeh !== undefined && root.Bokeh.Panel !== undefined) {\n",
       "    embed_document(root);\n",
       "  } else {\n",
       "    var attempts = 0;\n",
       "    var timer = setInterval(function(root) {\n",
       "      if (root.Bokeh !== undefined && root.Bokeh.Panel !== undefined) {\n",
       "        clearInterval(timer);\n",
       "        embed_document(root);\n",
       "      } else if (document.readyState == \"complete\") {\n",
       "        attempts++;\n",
       "        if (attempts > 200) {\n",
       "          clearInterval(timer);\n",
       "          console.log(\"Bokeh: ERROR: Unable to run BokehJS code because BokehJS library is missing\");\n",
       "        }\n",
       "      }\n",
       "    }, 25, root)\n",
       "  }\n",
       "})(window);</script>"
      ],
      "text/plain": [
       ":NdOverlay   [Variable]\n",
       "   :Curve   [date]   (value)"
      ]
     },
     "execution_count": 5,
     "metadata": {
      "application/vnd.holoviews_exec.v0+json": {
       "id": "1002"
      }
     },
     "output_type": "execute_result"
    }
   ],
   "source": [
    "df.hvplot(x=\"date\", y=[\"AAPL\", \"GOOG\", \"AMD\",\"BTC\"])"
   ]
  },
  {
   "cell_type": "code",
   "execution_count": 6,
   "metadata": {},
   "outputs": [
    {
     "data": {},
     "metadata": {},
     "output_type": "display_data"
    },
    {
     "data": {
      "application/vnd.holoviews_exec.v0+json": "",
      "text/html": [
       "<div id='1357'>\n",
       "  <div class=\"bk-root\" id=\"aefd39f1-3919-4a20-be65-3ba494bfac9f\" data-root-id=\"1357\"></div>\n",
       "</div>\n",
       "<script type=\"application/javascript\">(function(root) {\n",
       "  function embed_document(root) {\n",
       "    var docs_json = {\"a6ac5422-ec5a-425f-baf7-7abec6e3c1eb\":{\"defs\":[{\"extends\":null,\"module\":null,\"name\":\"ReactiveHTML1\",\"overrides\":[],\"properties\":[]},{\"extends\":null,\"module\":null,\"name\":\"FlexBox1\",\"overrides\":[],\"properties\":[{\"default\":\"flex-start\",\"kind\":null,\"name\":\"align_content\"},{\"default\":\"flex-start\",\"kind\":null,\"name\":\"align_items\"},{\"default\":\"row\",\"kind\":null,\"name\":\"flex_direction\"},{\"default\":\"wrap\",\"kind\":null,\"name\":\"flex_wrap\"},{\"default\":\"flex-start\",\"kind\":null,\"name\":\"justify_content\"}]},{\"extends\":null,\"module\":null,\"name\":\"GridStack1\",\"overrides\":[],\"properties\":[{\"default\":\"warn\",\"kind\":null,\"name\":\"mode\"},{\"default\":null,\"kind\":null,\"name\":\"ncols\"},{\"default\":null,\"kind\":null,\"name\":\"nrows\"},{\"default\":true,\"kind\":null,\"name\":\"allow_resize\"},{\"default\":true,\"kind\":null,\"name\":\"allow_drag\"},{\"default\":[],\"kind\":null,\"name\":\"state\"}]},{\"extends\":null,\"module\":null,\"name\":\"click1\",\"overrides\":[],\"properties\":[{\"default\":\"\",\"kind\":null,\"name\":\"terminal_output\"},{\"default\":\"\",\"kind\":null,\"name\":\"debug_name\"},{\"default\":0,\"kind\":null,\"name\":\"clears\"}]},{\"extends\":null,\"module\":null,\"name\":\"NotificationAreaBase1\",\"overrides\":[],\"properties\":[{\"default\":\"bottom-right\",\"kind\":null,\"name\":\"position\"},{\"default\":0,\"kind\":null,\"name\":\"_clear\"}]},{\"extends\":null,\"module\":null,\"name\":\"NotificationArea1\",\"overrides\":[],\"properties\":[{\"default\":[],\"kind\":null,\"name\":\"notifications\"},{\"default\":\"bottom-right\",\"kind\":null,\"name\":\"position\"},{\"default\":0,\"kind\":null,\"name\":\"_clear\"},{\"default\":[{\"background\":\"#ffc107\",\"icon\":{\"className\":\"fas fa-exclamation-triangle\",\"color\":\"white\",\"tagName\":\"i\"},\"type\":\"warning\"},{\"background\":\"#007bff\",\"icon\":{\"className\":\"fas fa-info-circle\",\"color\":\"white\",\"tagName\":\"i\"},\"type\":\"info\"}],\"kind\":null,\"name\":\"types\"}]},{\"extends\":null,\"module\":null,\"name\":\"Notification\",\"overrides\":[],\"properties\":[{\"default\":null,\"kind\":null,\"name\":\"background\"},{\"default\":3000,\"kind\":null,\"name\":\"duration\"},{\"default\":null,\"kind\":null,\"name\":\"icon\"},{\"default\":\"\",\"kind\":null,\"name\":\"message\"},{\"default\":null,\"kind\":null,\"name\":\"notification_type\"},{\"default\":false,\"kind\":null,\"name\":\"_destroyed\"}]},{\"extends\":null,\"module\":null,\"name\":\"TemplateActions1\",\"overrides\":[],\"properties\":[{\"default\":0,\"kind\":null,\"name\":\"open_modal\"},{\"default\":0,\"kind\":null,\"name\":\"close_modal\"}]},{\"extends\":null,\"module\":null,\"name\":\"MaterialTemplateActions1\",\"overrides\":[],\"properties\":[{\"default\":0,\"kind\":null,\"name\":\"open_modal\"},{\"default\":0,\"kind\":null,\"name\":\"close_modal\"}]}],\"roots\":{\"references\":[{\"attributes\":{},\"id\":\"1399\",\"type\":\"BasicTickFormatter\"},{\"attributes\":{},\"id\":\"1400\",\"type\":\"AllLabels\"},{\"attributes\":{\"margin\":[5,5,5,5],\"name\":\"HSpacer01147\",\"sizing_mode\":\"stretch_width\"},\"id\":\"1570\",\"type\":\"Spacer\"},{\"attributes\":{\"line_color\":\"#30a2da\",\"line_width\":2,\"x\":{\"field\":\"date\"},\"y\":{\"field\":\"value\"}},\"id\":\"1433\",\"type\":\"Line\"},{\"attributes\":{},\"id\":\"1396\",\"type\":\"DatetimeTickFormatter\"},{\"attributes\":{\"line_color\":\"#fc4f30\",\"line_width\":2,\"x\":{\"field\":\"date\"},\"y\":{\"field\":\"value\"}},\"id\":\"1467\",\"type\":\"Line\"},{\"attributes\":{\"line_alpha\":0.1,\"line_color\":\"#fc4f30\",\"line_width\":2,\"x\":{\"field\":\"date\"},\"y\":{\"field\":\"value\"}},\"id\":\"1438\",\"type\":\"Line\"},{\"attributes\":{},\"id\":\"1402\",\"type\":\"Selection\"},{\"attributes\":{\"source\":{\"id\":\"1434\"}},\"id\":\"1441\",\"type\":\"CDSView\"},{\"attributes\":{\"mantissas\":[1,2,5],\"max_interval\":500.0,\"num_minor_ticks\":0},\"id\":\"1419\",\"type\":\"AdaptiveTicker\"},{\"attributes\":{\"coordinates\":null,\"data_source\":{\"id\":\"1401\"},\"glyph\":{\"id\":\"1404\"},\"group\":null,\"hover_glyph\":null,\"muted_glyph\":{\"id\":\"1406\"},\"nonselection_glyph\":{\"id\":\"1405\"},\"selection_glyph\":{\"id\":\"1433\"},\"view\":{\"id\":\"1408\"}},\"id\":\"1407\",\"type\":\"GlyphRenderer\"},{\"attributes\":{\"base\":60,\"mantissas\":[1,2,5,10,15,20,30],\"max_interval\":1800000.0,\"min_interval\":1000.0,\"num_minor_ticks\":0},\"id\":\"1420\",\"type\":\"AdaptiveTicker\"},{\"attributes\":{\"coordinates\":null,\"data_source\":{\"id\":\"1434\"},\"glyph\":{\"id\":\"1437\"},\"group\":null,\"hover_glyph\":null,\"muted_glyph\":{\"id\":\"1439\"},\"nonselection_glyph\":{\"id\":\"1438\"},\"selection_glyph\":{\"id\":\"1467\"},\"view\":{\"id\":\"1441\"}},\"id\":\"1440\",\"type\":\"GlyphRenderer\"},{\"attributes\":{\"click_policy\":\"mute\",\"coordinates\":null,\"group\":null,\"items\":[{\"id\":\"1432\"},{\"id\":\"1466\"},{\"id\":\"1502\"},{\"id\":\"1540\"}],\"location\":[0,0],\"title\":\"Variable\"},\"id\":\"1431\",\"type\":\"Legend\"},{\"attributes\":{\"line_color\":\"#fc4f30\",\"line_width\":2,\"x\":{\"field\":\"date\"},\"y\":{\"field\":\"value\"}},\"id\":\"1437\",\"type\":\"Line\"},{\"attributes\":{\"margin\":[5,5,5,5],\"name\":\"HSpacer01146\",\"sizing_mode\":\"stretch_width\"},\"id\":\"1358\",\"type\":\"Spacer\"},{\"attributes\":{\"months\":[0,1,2,3,4,5,6,7,8,9,10,11]},\"id\":\"1426\",\"type\":\"MonthsTicker\"},{\"attributes\":{\"days\":[1,8,15,22]},\"id\":\"1424\",\"type\":\"DaysTicker\"},{\"attributes\":{},\"id\":\"1430\",\"type\":\"YearsTicker\"},{\"attributes\":{\"line_alpha\":0.2,\"line_color\":\"#fc4f30\",\"line_width\":2,\"x\":{\"field\":\"date\"},\"y\":{\"field\":\"value\"}},\"id\":\"1439\",\"type\":\"Line\"},{\"attributes\":{\"base\":24,\"mantissas\":[1,2,4,6,8,12],\"max_interval\":43200000.0,\"min_interval\":3600000.0,\"num_minor_ticks\":0},\"id\":\"1421\",\"type\":\"AdaptiveTicker\"},{\"attributes\":{\"label\":{\"value\":\"GOOG\"},\"renderers\":[{\"id\":\"1440\"}]},\"id\":\"1466\",\"type\":\"LegendItem\"},{\"attributes\":{\"days\":[1,2,3,4,5,6,7,8,9,10,11,12,13,14,15,16,17,18,19,20,21,22,23,24,25,26,27,28,29,30,31]},\"id\":\"1422\",\"type\":\"DaysTicker\"},{\"attributes\":{\"line_alpha\":0.1,\"line_color\":\"#e5ae38\",\"line_width\":2,\"x\":{\"field\":\"date\"},\"y\":{\"field\":\"value\"}},\"id\":\"1472\",\"type\":\"Line\"},{\"attributes\":{\"children\":[{\"id\":\"1358\"},{\"id\":\"1365\"},{\"id\":\"1570\"}],\"margin\":[0,0,0,0],\"name\":\"Row01142\",\"tags\":[\"embedded\"]},\"id\":\"1357\",\"type\":\"Row\"},{\"attributes\":{\"days\":[1,4,7,10,13,16,19,22,25,28]},\"id\":\"1423\",\"type\":\"DaysTicker\"},{\"attributes\":{\"days\":[1,15]},\"id\":\"1425\",\"type\":\"DaysTicker\"},{\"attributes\":{\"months\":[0,6]},\"id\":\"1429\",\"type\":\"MonthsTicker\"},{\"attributes\":{\"months\":[0,2,4,6,8,10]},\"id\":\"1427\",\"type\":\"MonthsTicker\"},{\"attributes\":{},\"id\":\"1451\",\"type\":\"UnionRenderers\"},{\"attributes\":{\"data\":{\"Variable\":[\"AAPL\",\"AAPL\",\"AAPL\",\"AAPL\",\"AAPL\",\"AAPL\",\"AAPL\",\"AAPL\",\"AAPL\",\"AAPL\",\"AAPL\",\"AAPL\",\"AAPL\",\"AAPL\",\"AAPL\",\"AAPL\",\"AAPL\",\"AAPL\",\"AAPL\",\"AAPL\",\"AAPL\",\"AAPL\",\"AAPL\",\"AAPL\",\"AAPL\",\"AAPL\",\"AAPL\",\"AAPL\",\"AAPL\",\"AAPL\",\"AAPL\",\"AAPL\",\"AAPL\",\"AAPL\",\"AAPL\",\"AAPL\",\"AAPL\",\"AAPL\",\"AAPL\",\"AAPL\",\"AAPL\",\"AAPL\",\"AAPL\",\"AAPL\",\"AAPL\",\"AAPL\",\"AAPL\",\"AAPL\",\"AAPL\",\"AAPL\",\"AAPL\",\"AAPL\"],\"date\":{\"__ndarray__\":\"AAAASfAKdkIAAMCuQgt2QgAAgBSVC3ZCAABAeucLdkIAAADgOQx2QgAAwEWMDHZCAACAq94MdkIAAEARMQ12QgAAAHeDDXZCAADA3NUNdkIAAIBCKA52QgAAQKh6DnZCAAAADs0OdkIAAMBzHw92QgAAgNlxD3ZCAABAP8QPdkIAAAClFhB2QgAAwAppEHZCAACAcLsQdkIAAEDWDRF2QgAAADxgEXZCAADAobIRdkIAAIAHBRJ2QgAAQG1XEnZCAAAA06kSdkIAAMA4/BJ2QgAAgJ5OE3ZCAABABKETdkIAAABq8xN2QgAAwM9FFHZCAACANZgUdkIAAECb6hR2QgAAAAE9FXZCAADAZo8VdkIAAIDM4RV2QgAAQDI0FnZCAAAAmIYWdkIAAMD92BZ2QgAAgGMrF3ZCAABAyX0XdkIAAAAv0Bd2QgAAwJQiGHZCAACA+nQYdkIAAEBgxxh2QgAAAMYZGXZCAADAK2wZdkIAAICRvhl2QgAAQPcQGnZCAAAAXWMadkIAAMDCtRp2QgAAgCgIG3ZCAABAjlobdkI=\",\"dtype\":\"float64\",\"order\":\"little\",\"shape\":[52]},\"value\":{\"__ndarray__\":\"AAAAAAAA+H/xPvFan4/8v4lhI6H1df2/FNvTuhX20r/iB08AQLzsP67Bjv9Wl++/kpOUTkkKG8BIG/bcYR/4v9IdQwvDeDpAEkUtmqpV+r+AsiKde1SMP3v9aWxLpADAX6ZaKi/s479qzucTlowKQLC2PrVx9Lm/4taqYZdM8r+817zz3n8WQMcvP6sxLPK/TvnhcBAoAMC8gTDE1RQgwE5k1yrZWQLAP+j7o58W7b+GDiIkjxX5P0vVpXxEOBXAS+8vgpFp/7/KqD/RrJfrv8/wLW7xWxrAxl3ICwUm+r+YjDjPP123v4iydiQEtMy/wnrU2cvU37/wKqu6ENjmP6ZwiHyoIeI/XjVUeKBtDMDekzJokCzWvwpwIlnPPfS/nvTm5Ge4IMCqM1eEk1Pzv3QOFY0zd+E/f8ci2d/D+78ehoZ+nvzvP8hQLxqTObG/pVLij/IZ67/LeSrd/v8hQEHxobicVeq/npBQA0LCDMDeshC03n0NwAoE/KFKh9q/furNPaVq978AOSIdjh51v0B22mwAqfa/Ml/GSo3M7D8=\",\"dtype\":\"float64\",\"order\":\"little\",\"shape\":[52]}},\"selected\":{\"id\":\"1402\"},\"selection_policy\":{\"id\":\"1416\"}},\"id\":\"1401\",\"type\":\"ColumnDataSource\"},{\"attributes\":{\"line_alpha\":0.2,\"line_color\":\"#6d904f\",\"line_width\":2,\"x\":{\"field\":\"date\"},\"y\":{\"field\":\"value\"}},\"id\":\"1509\",\"type\":\"Line\"},{\"attributes\":{},\"id\":\"1505\",\"type\":\"Selection\"},{\"attributes\":{\"months\":[0,4,8]},\"id\":\"1428\",\"type\":\"MonthsTicker\"},{\"attributes\":{},\"id\":\"1370\",\"type\":\"LinearScale\"},{\"attributes\":{\"end\":66.21002268701496,\"reset_end\":66.21002268701496,\"reset_start\":-47.500621357465675,\"start\":-47.500621357465675,\"tags\":[[[\"value\",\"value\",null]]]},\"id\":\"1360\",\"type\":\"Range1d\"},{\"attributes\":{\"line_color\":\"#6d904f\",\"line_width\":2,\"x\":{\"field\":\"date\"},\"y\":{\"field\":\"value\"}},\"id\":\"1507\",\"type\":\"Line\"},{\"attributes\":{\"end\":1519171200000.0,\"reset_end\":1519171200000.0,\"reset_start\":1514764800000.0,\"start\":1514764800000.0,\"tags\":[[[\"date\",\"date\",null]]]},\"id\":\"1359\",\"type\":\"Range1d\"},{\"attributes\":{\"callback\":null,\"formatters\":{\"@{date}\":\"datetime\"},\"renderers\":[{\"id\":\"1407\"},{\"id\":\"1440\"},{\"id\":\"1474\"},{\"id\":\"1510\"}],\"tags\":[\"hv_created\"],\"tooltips\":[[\"Variable\",\"@{Variable}\"],[\"date\",\"@{date}{%F %T}\"],[\"value\",\"@{value}\"]]},\"id\":\"1361\",\"type\":\"HoverTool\"},{\"attributes\":{\"data\":{\"Variable\":[\"BTC\",\"BTC\",\"BTC\",\"BTC\",\"BTC\",\"BTC\",\"BTC\",\"BTC\",\"BTC\",\"BTC\",\"BTC\",\"BTC\",\"BTC\",\"BTC\",\"BTC\",\"BTC\",\"BTC\",\"BTC\",\"BTC\",\"BTC\",\"BTC\",\"BTC\",\"BTC\",\"BTC\",\"BTC\",\"BTC\",\"BTC\",\"BTC\",\"BTC\",\"BTC\",\"BTC\",\"BTC\",\"BTC\",\"BTC\",\"BTC\",\"BTC\",\"BTC\",\"BTC\",\"BTC\",\"BTC\",\"BTC\",\"BTC\",\"BTC\",\"BTC\",\"BTC\",\"BTC\",\"BTC\",\"BTC\",\"BTC\",\"BTC\",\"BTC\",\"BTC\"],\"date\":{\"__ndarray__\":\"AAAASfAKdkIAAMCuQgt2QgAAgBSVC3ZCAABAeucLdkIAAADgOQx2QgAAwEWMDHZCAACAq94MdkIAAEARMQ12QgAAAHeDDXZCAADA3NUNdkIAAIBCKA52QgAAQKh6DnZCAAAADs0OdkIAAMBzHw92QgAAgNlxD3ZCAABAP8QPdkIAAAClFhB2QgAAwAppEHZCAACAcLsQdkIAAEDWDRF2QgAAADxgEXZCAADAobIRdkIAAIAHBRJ2QgAAQG1XEnZCAAAA06kSdkIAAMA4/BJ2QgAAgJ5OE3ZCAABABKETdkIAAABq8xN2QgAAwM9FFHZCAACANZgUdkIAAECb6hR2QgAAAAE9FXZCAADAZo8VdkIAAIDM4RV2QgAAQDI0FnZCAAAAmIYWdkIAAMD92BZ2QgAAgGMrF3ZCAABAyX0XdkIAAAAv0Bd2QgAAwJQiGHZCAACA+nQYdkIAAEBgxxh2QgAAAMYZGXZCAADAK2wZdkIAAICRvhl2QgAAQPcQGnZCAAAAXWMadkIAAMDCtRp2QgAAgCgIG3ZCAABAjlobdkI=\",\"dtype\":\"float64\",\"order\":\"little\",\"shape\":[52]},\"value\":{\"__ndarray__\":\"AAAAAAAA+H+RXi4OQG4TQNgMytrLg9W/Quu3dHo/DsA1+LEtROH4v66j+zhlWeq/UI3UVnqg3D8ta7iK6N4PwOjtZQ07eug/MyCvpLnW7L8pdjz7jUAWwEjUYTREV+e/6GTX8dloG0B8V22EiDjov5Kh0RDkG/G/wD3MfioDQ8BcMRcI1y7ZP0a2p0UxJfa/oDreh65o3T+GfcIb453gv0d6tiyZ9ei/XKQn1T3zCkCAG5+8fxUFwCAPgj/Zuvc/rhIKeMwC+L9ccUUoxHTjP0gLdJNl2ei/46X7147w6L+GDQElJ+ohQCCqJKTpbPK/ERW9tZx/PECiE8W5I532v2OgTlRUcPu/nrMzQlOX479whZ48JzEPQDBGPz+hu7c/qlX3FwSQ7L+8+dJ1M08BwDC++apmrBtAjCKA+uT08r8qBFIgzG8fQDWIpUNC0vG/gFC5YBbZ8D/oxjCPpWIDwPUjgK5JgvO/isX7fXaA9z96Cr+RZBDsPzZx4Vdy8QLAjozXbjG7BcAIuquqlvrwv1B9kbgATca/XJ2ZdcMOLkA=\",\"dtype\":\"float64\",\"order\":\"little\",\"shape\":[52]}},\"selected\":{\"id\":\"1505\"},\"selection_policy\":{\"id\":\"1525\"}},\"id\":\"1504\",\"type\":\"ColumnDataSource\"},{\"attributes\":{\"below\":[{\"id\":\"1374\"}],\"center\":[{\"id\":\"1377\"},{\"id\":\"1381\"}],\"height\":300,\"left\":[{\"id\":\"1378\"}],\"margin\":[5,5,5,5],\"min_border_bottom\":10,\"min_border_left\":10,\"min_border_right\":10,\"min_border_top\":10,\"renderers\":[{\"id\":\"1407\"},{\"id\":\"1440\"},{\"id\":\"1474\"},{\"id\":\"1510\"}],\"right\":[{\"id\":\"1431\"}],\"sizing_mode\":\"fixed\",\"title\":{\"id\":\"1366\"},\"toolbar\":{\"id\":\"1388\"},\"width\":700,\"x_range\":{\"id\":\"1359\"},\"x_scale\":{\"id\":\"1370\"},\"y_range\":{\"id\":\"1360\"},\"y_scale\":{\"id\":\"1372\"}},\"id\":\"1365\",\"subtype\":\"Figure\",\"type\":\"Plot\"},{\"attributes\":{\"source\":{\"id\":\"1504\"}},\"id\":\"1511\",\"type\":\"CDSView\"},{\"attributes\":{\"axis_label\":\"Daily Return\",\"coordinates\":null,\"formatter\":{\"id\":\"1399\"},\"group\":null,\"major_label_policy\":{\"id\":\"1400\"},\"ticker\":{\"id\":\"1379\"}},\"id\":\"1378\",\"type\":\"LinearAxis\"},{\"attributes\":{\"line_color\":\"#6d904f\",\"line_width\":2,\"x\":{\"field\":\"date\"},\"y\":{\"field\":\"value\"}},\"id\":\"1541\",\"type\":\"Line\"},{\"attributes\":{},\"id\":\"1435\",\"type\":\"Selection\"},{\"attributes\":{\"coordinates\":null,\"data_source\":{\"id\":\"1504\"},\"glyph\":{\"id\":\"1507\"},\"group\":null,\"hover_glyph\":null,\"muted_glyph\":{\"id\":\"1509\"},\"nonselection_glyph\":{\"id\":\"1508\"},\"selection_glyph\":{\"id\":\"1541\"},\"view\":{\"id\":\"1511\"}},\"id\":\"1510\",\"type\":\"GlyphRenderer\"},{\"attributes\":{\"label\":{\"value\":\"BTC\"},\"renderers\":[{\"id\":\"1510\"}]},\"id\":\"1540\",\"type\":\"LegendItem\"},{\"attributes\":{\"line_color\":\"#30a2da\",\"line_width\":2,\"x\":{\"field\":\"date\"},\"y\":{\"field\":\"value\"}},\"id\":\"1404\",\"type\":\"Line\"},{\"attributes\":{},\"id\":\"1525\",\"type\":\"UnionRenderers\"},{\"attributes\":{\"coordinates\":null,\"group\":null,\"text_color\":\"black\",\"text_font_size\":\"12pt\"},\"id\":\"1366\",\"type\":\"Title\"},{\"attributes\":{\"num_minor_ticks\":5,\"tickers\":[{\"id\":\"1419\"},{\"id\":\"1420\"},{\"id\":\"1421\"},{\"id\":\"1422\"},{\"id\":\"1423\"},{\"id\":\"1424\"},{\"id\":\"1425\"},{\"id\":\"1426\"},{\"id\":\"1427\"},{\"id\":\"1428\"},{\"id\":\"1429\"},{\"id\":\"1430\"}]},\"id\":\"1375\",\"type\":\"DatetimeTicker\"},{\"attributes\":{\"line_alpha\":0.1,\"line_color\":\"#30a2da\",\"line_width\":2,\"x\":{\"field\":\"date\"},\"y\":{\"field\":\"value\"}},\"id\":\"1405\",\"type\":\"Line\"},{\"attributes\":{\"axis\":{\"id\":\"1374\"},\"coordinates\":null,\"grid_line_color\":null,\"group\":null,\"ticker\":null},\"id\":\"1377\",\"type\":\"Grid\"},{\"attributes\":{\"line_alpha\":0.2,\"line_color\":\"#30a2da\",\"line_width\":2,\"x\":{\"field\":\"date\"},\"y\":{\"field\":\"value\"}},\"id\":\"1406\",\"type\":\"Line\"},{\"attributes\":{\"axis_label\":\"Year\",\"coordinates\":null,\"formatter\":{\"id\":\"1396\"},\"group\":null,\"major_label_policy\":{\"id\":\"1397\"},\"ticker\":{\"id\":\"1375\"}},\"id\":\"1374\",\"type\":\"DatetimeAxis\"},{\"attributes\":{\"label\":{\"value\":\"AAPL\"},\"renderers\":[{\"id\":\"1407\"}]},\"id\":\"1432\",\"type\":\"LegendItem\"},{\"attributes\":{},\"id\":\"1372\",\"type\":\"LinearScale\"},{\"attributes\":{},\"id\":\"1416\",\"type\":\"UnionRenderers\"},{\"attributes\":{},\"id\":\"1383\",\"type\":\"PanTool\"},{\"attributes\":{},\"id\":\"1397\",\"type\":\"AllLabels\"},{\"attributes\":{\"line_alpha\":0.2,\"line_color\":\"#e5ae38\",\"line_width\":2,\"x\":{\"field\":\"date\"},\"y\":{\"field\":\"value\"}},\"id\":\"1473\",\"type\":\"Line\"},{\"attributes\":{},\"id\":\"1469\",\"type\":\"Selection\"},{\"attributes\":{\"axis\":{\"id\":\"1378\"},\"coordinates\":null,\"dimension\":1,\"grid_line_color\":null,\"group\":null,\"ticker\":null},\"id\":\"1381\",\"type\":\"Grid\"},{\"attributes\":{},\"id\":\"1379\",\"type\":\"BasicTicker\"},{\"attributes\":{},\"id\":\"1384\",\"type\":\"WheelZoomTool\"},{\"attributes\":{},\"id\":\"1382\",\"type\":\"SaveTool\"},{\"attributes\":{\"source\":{\"id\":\"1401\"}},\"id\":\"1408\",\"type\":\"CDSView\"},{\"attributes\":{\"line_color\":\"#e5ae38\",\"line_width\":2,\"x\":{\"field\":\"date\"},\"y\":{\"field\":\"value\"}},\"id\":\"1471\",\"type\":\"Line\"},{\"attributes\":{\"overlay\":{\"id\":\"1387\"}},\"id\":\"1385\",\"type\":\"BoxZoomTool\"},{\"attributes\":{},\"id\":\"1386\",\"type\":\"ResetTool\"},{\"attributes\":{\"data\":{\"Variable\":[\"AMD\",\"AMD\",\"AMD\",\"AMD\",\"AMD\",\"AMD\",\"AMD\",\"AMD\",\"AMD\",\"AMD\",\"AMD\",\"AMD\",\"AMD\",\"AMD\",\"AMD\",\"AMD\",\"AMD\",\"AMD\",\"AMD\",\"AMD\",\"AMD\",\"AMD\",\"AMD\",\"AMD\",\"AMD\",\"AMD\",\"AMD\",\"AMD\",\"AMD\",\"AMD\",\"AMD\",\"AMD\",\"AMD\",\"AMD\",\"AMD\",\"AMD\",\"AMD\",\"AMD\",\"AMD\",\"AMD\",\"AMD\",\"AMD\",\"AMD\",\"AMD\",\"AMD\",\"AMD\",\"AMD\",\"AMD\",\"AMD\",\"AMD\",\"AMD\",\"AMD\"],\"date\":{\"__ndarray__\":\"AAAASfAKdkIAAMCuQgt2QgAAgBSVC3ZCAABAeucLdkIAAADgOQx2QgAAwEWMDHZCAACAq94MdkIAAEARMQ12QgAAAHeDDXZCAADA3NUNdkIAAIBCKA52QgAAQKh6DnZCAAAADs0OdkIAAMBzHw92QgAAgNlxD3ZCAABAP8QPdkIAAAClFhB2QgAAwAppEHZCAACAcLsQdkIAAEDWDRF2QgAAADxgEXZCAADAobIRdkIAAIAHBRJ2QgAAQG1XEnZCAAAA06kSdkIAAMA4/BJ2QgAAgJ5OE3ZCAABABKETdkIAAABq8xN2QgAAwM9FFHZCAACANZgUdkIAAECb6hR2QgAAAAE9FXZCAADAZo8VdkIAAIDM4RV2QgAAQDI0FnZCAAAAmIYWdkIAAMD92BZ2QgAAgGMrF3ZCAABAyX0XdkIAAAAv0Bd2QgAAwJQiGHZCAACA+nQYdkIAAEBgxxh2QgAAAMYZGXZCAADAK2wZdkIAAICRvhl2QgAAQPcQGnZCAAAAXWMadkIAAMDCtRp2QgAAgCgIG3ZCAABAjlobdkI=\",\"dtype\":\"float64\",\"order\":\"little\",\"shape\":[52]},\"value\":{\"__ndarray__\":\"AAAAAAAA+H8THdX6oEb4v5gfDdNZyhLAd+BvtzJt6L+8xsOVCK/8PzVd9eMRXfG/oKvXd35PxT/aYad4eggeQOa2DT/oLeC/ZHHemxvq9b8pf9/R2zwDwHrKS0Gw6/y/FJWm4SmxBcCxLBHf8JDxv6riOkwWlT/A48k/KKq88L8D3x/Ka0hBwMbYE/DU3vC/0ze8+euWIcCyM9zSETzkv4AP/uJZLRXAvCLmiAFY5b+IkFFA9nXtP7oxgx72T+m/3uQ2wFupAkBSeVPTQwXgv7CzH5icgxDA2gglElFm4b+e4JKOWfEQQGyXkEoQ+va/yIajMnNHxT+iqACWLBPpvyFNSI6SUgNAkLxUH9YBA8DgcOl1YI/XP9O2/NHHCuq/PlBs7loYFkDgwpckbKb7vzj+fMkMC/i/qEzjbIgd5L8em5opnF4PQGF4LEUhMvW/AD6YL7yJmz+WkgA5muLiv4/amTzXDRDAaMvUJsCoAcBy2os3anwGwHsRDgh4ru6/mbl3eg8aNMDSUYA5fivXv9+QYrd7ovW/QHm5ByTt5j8=\",\"dtype\":\"float64\",\"order\":\"little\",\"shape\":[52]}},\"selected\":{\"id\":\"1469\"},\"selection_policy\":{\"id\":\"1487\"}},\"id\":\"1468\",\"type\":\"ColumnDataSource\"},{\"attributes\":{\"line_alpha\":0.1,\"line_color\":\"#6d904f\",\"line_width\":2,\"x\":{\"field\":\"date\"},\"y\":{\"field\":\"value\"}},\"id\":\"1508\",\"type\":\"Line\"},{\"attributes\":{\"bottom_units\":\"screen\",\"coordinates\":null,\"fill_alpha\":0.5,\"fill_color\":\"lightgrey\",\"group\":null,\"left_units\":\"screen\",\"level\":\"overlay\",\"line_alpha\":1.0,\"line_color\":\"black\",\"line_dash\":[4,4],\"line_width\":2,\"right_units\":\"screen\",\"syncable\":false,\"top_units\":\"screen\"},\"id\":\"1387\",\"type\":\"BoxAnnotation\"},{\"attributes\":{\"label\":{\"value\":\"AMD\"},\"renderers\":[{\"id\":\"1474\"}]},\"id\":\"1502\",\"type\":\"LegendItem\"},{\"attributes\":{\"coordinates\":null,\"data_source\":{\"id\":\"1468\"},\"glyph\":{\"id\":\"1471\"},\"group\":null,\"hover_glyph\":null,\"muted_glyph\":{\"id\":\"1473\"},\"nonselection_glyph\":{\"id\":\"1472\"},\"selection_glyph\":{\"id\":\"1503\"},\"view\":{\"id\":\"1475\"}},\"id\":\"1474\",\"type\":\"GlyphRenderer\"},{\"attributes\":{\"data\":{\"Variable\":[\"GOOG\",\"GOOG\",\"GOOG\",\"GOOG\",\"GOOG\",\"GOOG\",\"GOOG\",\"GOOG\",\"GOOG\",\"GOOG\",\"GOOG\",\"GOOG\",\"GOOG\",\"GOOG\",\"GOOG\",\"GOOG\",\"GOOG\",\"GOOG\",\"GOOG\",\"GOOG\",\"GOOG\",\"GOOG\",\"GOOG\",\"GOOG\",\"GOOG\",\"GOOG\",\"GOOG\",\"GOOG\",\"GOOG\",\"GOOG\",\"GOOG\",\"GOOG\",\"GOOG\",\"GOOG\",\"GOOG\",\"GOOG\",\"GOOG\",\"GOOG\",\"GOOG\",\"GOOG\",\"GOOG\",\"GOOG\",\"GOOG\",\"GOOG\",\"GOOG\",\"GOOG\",\"GOOG\",\"GOOG\",\"GOOG\",\"GOOG\",\"GOOG\",\"GOOG\"],\"date\":{\"__ndarray__\":\"AAAASfAKdkIAAMCuQgt2QgAAgBSVC3ZCAABAeucLdkIAAADgOQx2QgAAwEWMDHZCAACAq94MdkIAAEARMQ12QgAAAHeDDXZCAADA3NUNdkIAAIBCKA52QgAAQKh6DnZCAAAADs0OdkIAAMBzHw92QgAAgNlxD3ZCAABAP8QPdkIAAAClFhB2QgAAwAppEHZCAACAcLsQdkIAAEDWDRF2QgAAADxgEXZCAADAobIRdkIAAIAHBRJ2QgAAQG1XEnZCAAAA06kSdkIAAMA4/BJ2QgAAgJ5OE3ZCAABABKETdkIAAABq8xN2QgAAwM9FFHZCAACANZgUdkIAAECb6hR2QgAAAAE9FXZCAADAZo8VdkIAAIDM4RV2QgAAQDI0FnZCAAAAmIYWdkIAAMD92BZ2QgAAgGMrF3ZCAABAyX0XdkIAAAAv0Bd2QgAAwJQiGHZCAACA+nQYdkIAAEBgxxh2QgAAAMYZGXZCAADAK2wZdkIAAICRvhl2QgAAQPcQGnZCAAAAXWMadkIAAMDCtRp2QgAAgCgIG3ZCAABAjlobdkI=\",\"dtype\":\"float64\",\"order\":\"little\",\"shape\":[52]},\"value\":{\"__ndarray__\":\"AAAAAAAA+H+i0D+RpPv2v+ffRk2RtAnAkNaaHSA1uz8ETr08rjsAwNmwxczsFee/gAVoOrOj479iwSd5++oWQNVXO3fa/QDApM2F63jq+b/Cx1Pm4wDuv0kI+95C7SHAEMKKfHQb3D94pnqPIK7mv9P53KjTigBAY8vPMUCw8r+DsnhTcocAQLBHAle4TOw/wvJ/zqUT0b9dnCr9VWQXQMrw8ZoEl9K/Dvb11nAk7r+g9QsnQpAgwBbbx4XHx/K/XC+KTrlkHcA6kbIAAqjTv9PR42oetRXAHpDGhG8u+7/4cM9TtZXuv9YOOCgTYvK/M3hAheZjKcBxyetRcl4tQDP7W49x4eu/Mjx1xAFF479GbSctWYAhwAPt1nNimO+/WFF3KPhdTEDfzd2GhqoCwKfbJKRCiQnAtIeNBwjH3L8AhBNJWQECwJHO/SkBDvq/QPx9iizuAcBYpQKAMPn2vxIO/QZQnOq/QwLXScyAI0BQB3HFY6HJPzxI81hencu/uFZiHubnDMAqL5LWRYIDwARquI0uQfO/YiDeL66L7L8=\",\"dtype\":\"float64\",\"order\":\"little\",\"shape\":[52]}},\"selected\":{\"id\":\"1435\"},\"selection_policy\":{\"id\":\"1451\"}},\"id\":\"1434\",\"type\":\"ColumnDataSource\"},{\"attributes\":{\"line_color\":\"#e5ae38\",\"line_width\":2,\"x\":{\"field\":\"date\"},\"y\":{\"field\":\"value\"}},\"id\":\"1503\",\"type\":\"Line\"},{\"attributes\":{\"source\":{\"id\":\"1468\"}},\"id\":\"1475\",\"type\":\"CDSView\"},{\"attributes\":{\"tools\":[{\"id\":\"1361\"},{\"id\":\"1382\"},{\"id\":\"1383\"},{\"id\":\"1384\"},{\"id\":\"1385\"},{\"id\":\"1386\"}]},\"id\":\"1388\",\"type\":\"Toolbar\"},{\"attributes\":{},\"id\":\"1487\",\"type\":\"UnionRenderers\"}],\"root_ids\":[\"1357\"]},\"title\":\"Bokeh Application\",\"version\":\"2.4.3\"}};\n",
       "    var render_items = [{\"docid\":\"a6ac5422-ec5a-425f-baf7-7abec6e3c1eb\",\"root_ids\":[\"1357\"],\"roots\":{\"1357\":\"aefd39f1-3919-4a20-be65-3ba494bfac9f\"}}];\n",
       "    root.Bokeh.embed.embed_items_notebook(docs_json, render_items);\n",
       "  }\n",
       "  if (root.Bokeh !== undefined && root.Bokeh.Panel !== undefined) {\n",
       "    embed_document(root);\n",
       "  } else {\n",
       "    var attempts = 0;\n",
       "    var timer = setInterval(function(root) {\n",
       "      if (root.Bokeh !== undefined && root.Bokeh.Panel !== undefined) {\n",
       "        clearInterval(timer);\n",
       "        embed_document(root);\n",
       "      } else if (document.readyState == \"complete\") {\n",
       "        attempts++;\n",
       "        if (attempts > 200) {\n",
       "          clearInterval(timer);\n",
       "          console.log(\"Bokeh: ERROR: Unable to run BokehJS code because BokehJS library is missing\");\n",
       "        }\n",
       "      }\n",
       "    }, 25, root)\n",
       "  }\n",
       "})(window);</script>"
      ],
      "text/plain": [
       ":NdOverlay   [Variable]\n",
       "   :Curve   [date]   (value)"
      ]
     },
     "execution_count": 6,
     "metadata": {
      "application/vnd.holoviews_exec.v0+json": {
       "id": "1357"
      }
     },
     "output_type": "execute_result"
    }
   ],
   "source": [
    "# Use hplot.line to create line plot\n",
    "df.hvplot.line(x=\"date\", y=[\"AAPL\", \"GOOG\", \"AMD\",\"BTC\"],xlabel=\"Year\", ylabel=\"Daily Return\")"
   ]
  },
  {
   "cell_type": "code",
   "execution_count": 7,
   "metadata": {},
   "outputs": [],
   "source": [
    "# Data Prep\n",
    "df = pd.DataFrame(\n",
    "    {\n",
    "        \"ticker\": [\"APPL\", \"GOGLE\", \"AMMD\", \"BCOIN\"],\n",
    "        \"daily_return\": (4.50, 10, 33.0, 55.25),\n",
    "    }\n",
    ")"
   ]
  },
  {
   "cell_type": "code",
   "execution_count": 8,
   "metadata": {},
   "outputs": [
    {
     "data": {},
     "metadata": {},
     "output_type": "display_data"
    },
    {
     "data": {
      "application/vnd.holoviews_exec.v0+json": "",
      "text/html": [
       "<div id='1712'>\n",
       "  <div class=\"bk-root\" id=\"bfa38b5d-0d35-481a-9f93-5b7feef73945\" data-root-id=\"1712\"></div>\n",
       "</div>\n",
       "<script type=\"application/javascript\">(function(root) {\n",
       "  function embed_document(root) {\n",
       "    var docs_json = {\"6d9a4b19-ad54-47ed-9c93-d03016f8c75d\":{\"defs\":[{\"extends\":null,\"module\":null,\"name\":\"ReactiveHTML1\",\"overrides\":[],\"properties\":[]},{\"extends\":null,\"module\":null,\"name\":\"FlexBox1\",\"overrides\":[],\"properties\":[{\"default\":\"flex-start\",\"kind\":null,\"name\":\"align_content\"},{\"default\":\"flex-start\",\"kind\":null,\"name\":\"align_items\"},{\"default\":\"row\",\"kind\":null,\"name\":\"flex_direction\"},{\"default\":\"wrap\",\"kind\":null,\"name\":\"flex_wrap\"},{\"default\":\"flex-start\",\"kind\":null,\"name\":\"justify_content\"}]},{\"extends\":null,\"module\":null,\"name\":\"GridStack1\",\"overrides\":[],\"properties\":[{\"default\":\"warn\",\"kind\":null,\"name\":\"mode\"},{\"default\":null,\"kind\":null,\"name\":\"ncols\"},{\"default\":null,\"kind\":null,\"name\":\"nrows\"},{\"default\":true,\"kind\":null,\"name\":\"allow_resize\"},{\"default\":true,\"kind\":null,\"name\":\"allow_drag\"},{\"default\":[],\"kind\":null,\"name\":\"state\"}]},{\"extends\":null,\"module\":null,\"name\":\"click1\",\"overrides\":[],\"properties\":[{\"default\":\"\",\"kind\":null,\"name\":\"terminal_output\"},{\"default\":\"\",\"kind\":null,\"name\":\"debug_name\"},{\"default\":0,\"kind\":null,\"name\":\"clears\"}]},{\"extends\":null,\"module\":null,\"name\":\"NotificationAreaBase1\",\"overrides\":[],\"properties\":[{\"default\":\"bottom-right\",\"kind\":null,\"name\":\"position\"},{\"default\":0,\"kind\":null,\"name\":\"_clear\"}]},{\"extends\":null,\"module\":null,\"name\":\"NotificationArea1\",\"overrides\":[],\"properties\":[{\"default\":[],\"kind\":null,\"name\":\"notifications\"},{\"default\":\"bottom-right\",\"kind\":null,\"name\":\"position\"},{\"default\":0,\"kind\":null,\"name\":\"_clear\"},{\"default\":[{\"background\":\"#ffc107\",\"icon\":{\"className\":\"fas fa-exclamation-triangle\",\"color\":\"white\",\"tagName\":\"i\"},\"type\":\"warning\"},{\"background\":\"#007bff\",\"icon\":{\"className\":\"fas fa-info-circle\",\"color\":\"white\",\"tagName\":\"i\"},\"type\":\"info\"}],\"kind\":null,\"name\":\"types\"}]},{\"extends\":null,\"module\":null,\"name\":\"Notification\",\"overrides\":[],\"properties\":[{\"default\":null,\"kind\":null,\"name\":\"background\"},{\"default\":3000,\"kind\":null,\"name\":\"duration\"},{\"default\":null,\"kind\":null,\"name\":\"icon\"},{\"default\":\"\",\"kind\":null,\"name\":\"message\"},{\"default\":null,\"kind\":null,\"name\":\"notification_type\"},{\"default\":false,\"kind\":null,\"name\":\"_destroyed\"}]},{\"extends\":null,\"module\":null,\"name\":\"TemplateActions1\",\"overrides\":[],\"properties\":[{\"default\":0,\"kind\":null,\"name\":\"open_modal\"},{\"default\":0,\"kind\":null,\"name\":\"close_modal\"}]},{\"extends\":null,\"module\":null,\"name\":\"MaterialTemplateActions1\",\"overrides\":[],\"properties\":[{\"default\":0,\"kind\":null,\"name\":\"open_modal\"},{\"default\":0,\"kind\":null,\"name\":\"close_modal\"}]}],\"roots\":{\"references\":[{\"attributes\":{\"coordinates\":null,\"data_source\":{\"id\":\"1746\"},\"glyph\":{\"id\":\"1749\"},\"group\":null,\"hover_glyph\":null,\"muted_glyph\":{\"id\":\"1751\"},\"nonselection_glyph\":{\"id\":\"1750\"},\"selection_glyph\":{\"id\":\"1754\"},\"view\":{\"id\":\"1753\"}},\"id\":\"1752\",\"type\":\"GlyphRenderer\"},{\"attributes\":{\"source\":{\"id\":\"1746\"}},\"id\":\"1753\",\"type\":\"CDSView\"},{\"attributes\":{},\"id\":\"1724\",\"type\":\"LinearScale\"},{\"attributes\":{\"fill_alpha\":{\"value\":0.2},\"fill_color\":{\"value\":\"#30a2da\"},\"hatch_alpha\":{\"value\":0.2},\"hatch_color\":{\"value\":\"#30a2da\"},\"line_alpha\":{\"value\":0.2},\"top\":{\"field\":\"daily_return\"},\"width\":{\"value\":0.8},\"x\":{\"field\":\"ticker\"}},\"id\":\"1751\",\"type\":\"VBar\"},{\"attributes\":{},\"id\":\"1768\",\"type\":\"UnionRenderers\"},{\"attributes\":{\"fill_alpha\":{\"value\":0.1},\"fill_color\":{\"value\":\"#30a2da\"},\"hatch_alpha\":{\"value\":0.1},\"hatch_color\":{\"value\":\"#30a2da\"},\"line_alpha\":{\"value\":0.1},\"top\":{\"field\":\"daily_return\"},\"width\":{\"value\":0.8},\"x\":{\"field\":\"ticker\"}},\"id\":\"1750\",\"type\":\"VBar\"},{\"attributes\":{\"margin\":[5,5,5,5],\"name\":\"HSpacer01295\",\"sizing_mode\":\"stretch_width\"},\"id\":\"1771\",\"type\":\"Spacer\"},{\"attributes\":{\"below\":[{\"id\":\"1726\"}],\"center\":[{\"id\":\"1728\"},{\"id\":\"1732\"}],\"height\":300,\"left\":[{\"id\":\"1729\"}],\"margin\":[5,5,5,5],\"min_border_bottom\":10,\"min_border_left\":10,\"min_border_right\":10,\"min_border_top\":10,\"renderers\":[{\"id\":\"1752\"}],\"sizing_mode\":\"fixed\",\"title\":{\"id\":\"1718\"},\"toolbar\":{\"id\":\"1739\"},\"width\":700,\"x_range\":{\"id\":\"1714\"},\"x_scale\":{\"id\":\"1722\"},\"y_range\":{\"id\":\"1715\"},\"y_scale\":{\"id\":\"1724\"}},\"id\":\"1717\",\"subtype\":\"Figure\",\"type\":\"Plot\"},{\"attributes\":{\"coordinates\":null,\"group\":null,\"text_color\":\"black\",\"text_font_size\":\"12pt\"},\"id\":\"1718\",\"type\":\"Title\"},{\"attributes\":{\"axis_label\":\"Ticker\",\"coordinates\":null,\"formatter\":{\"id\":\"1756\"},\"group\":null,\"major_label_orientation\":1.5707963267948966,\"major_label_policy\":{\"id\":\"1757\"},\"ticker\":{\"id\":\"1727\"}},\"id\":\"1726\",\"type\":\"CategoricalAxis\"},{\"attributes\":{},\"id\":\"1727\",\"type\":\"CategoricalTicker\"},{\"attributes\":{},\"id\":\"1756\",\"type\":\"CategoricalTickFormatter\"},{\"attributes\":{\"axis\":{\"id\":\"1726\"},\"coordinates\":null,\"grid_line_color\":null,\"group\":null,\"ticker\":null},\"id\":\"1728\",\"type\":\"Grid\"},{\"attributes\":{},\"id\":\"1747\",\"type\":\"Selection\"},{\"attributes\":{},\"id\":\"1734\",\"type\":\"PanTool\"},{\"attributes\":{\"axis_label\":\"Daily Return\",\"coordinates\":null,\"formatter\":{\"id\":\"1759\"},\"group\":null,\"major_label_policy\":{\"id\":\"1760\"},\"ticker\":{\"id\":\"1730\"}},\"id\":\"1729\",\"type\":\"LinearAxis\"},{\"attributes\":{\"axis\":{\"id\":\"1729\"},\"coordinates\":null,\"dimension\":1,\"grid_line_color\":null,\"group\":null,\"ticker\":null},\"id\":\"1732\",\"type\":\"Grid\"},{\"attributes\":{},\"id\":\"1722\",\"type\":\"CategoricalScale\"},{\"attributes\":{},\"id\":\"1730\",\"type\":\"BasicTicker\"},{\"attributes\":{\"children\":[{\"id\":\"1713\"},{\"id\":\"1717\"},{\"id\":\"1771\"}],\"margin\":[0,0,0,0],\"name\":\"Row01290\",\"tags\":[\"embedded\"]},\"id\":\"1712\",\"type\":\"Row\"},{\"attributes\":{},\"id\":\"1735\",\"type\":\"WheelZoomTool\"},{\"attributes\":{},\"id\":\"1733\",\"type\":\"SaveTool\"},{\"attributes\":{},\"id\":\"1759\",\"type\":\"BasicTickFormatter\"},{\"attributes\":{\"margin\":[5,5,5,5],\"name\":\"HSpacer01294\",\"sizing_mode\":\"stretch_width\"},\"id\":\"1713\",\"type\":\"Spacer\"},{\"attributes\":{\"overlay\":{\"id\":\"1738\"}},\"id\":\"1736\",\"type\":\"BoxZoomTool\"},{\"attributes\":{},\"id\":\"1737\",\"type\":\"ResetTool\"},{\"attributes\":{\"callback\":null,\"renderers\":[{\"id\":\"1752\"}],\"tags\":[\"hv_created\"],\"tooltips\":[[\"ticker\",\"@{ticker}\"],[\"daily_return\",\"@{daily_return}\"]]},\"id\":\"1716\",\"type\":\"HoverTool\"},{\"attributes\":{\"bottom_units\":\"screen\",\"coordinates\":null,\"fill_alpha\":0.5,\"fill_color\":\"lightgrey\",\"group\":null,\"left_units\":\"screen\",\"level\":\"overlay\",\"line_alpha\":1.0,\"line_color\":\"black\",\"line_dash\":[4,4],\"line_width\":2,\"right_units\":\"screen\",\"syncable\":false,\"top_units\":\"screen\"},\"id\":\"1738\",\"type\":\"BoxAnnotation\"},{\"attributes\":{\"bottom\":{\"value\":0},\"fill_alpha\":{\"value\":1.0},\"fill_color\":{\"value\":\"#30a2da\"},\"hatch_alpha\":{\"value\":1.0},\"hatch_color\":{\"value\":\"#30a2da\"},\"hatch_scale\":{\"value\":12.0},\"hatch_weight\":{\"value\":1.0},\"line_alpha\":{\"value\":1.0},\"line_cap\":{\"value\":\"butt\"},\"line_color\":{\"value\":\"black\"},\"line_dash\":{\"value\":[]},\"line_dash_offset\":{\"value\":0},\"line_join\":{\"value\":\"bevel\"},\"line_width\":{\"value\":1},\"top\":{\"field\":\"daily_return\"},\"width\":{\"value\":0.8},\"x\":{\"field\":\"ticker\"}},\"id\":\"1754\",\"type\":\"VBar\"},{\"attributes\":{},\"id\":\"1760\",\"type\":\"AllLabels\"},{\"attributes\":{\"factors\":[\"APPL\",\"GOGLE\",\"AMMD\",\"BCOIN\"],\"tags\":[[[\"ticker\",\"ticker\",null]]]},\"id\":\"1714\",\"type\":\"FactorRange\"},{\"attributes\":{},\"id\":\"1757\",\"type\":\"AllLabels\"},{\"attributes\":{\"end\":60.325,\"reset_end\":60.325,\"reset_start\":0.0,\"tags\":[[[\"daily_return\",\"daily_return\",null]]]},\"id\":\"1715\",\"type\":\"Range1d\"},{\"attributes\":{\"tools\":[{\"id\":\"1716\"},{\"id\":\"1733\"},{\"id\":\"1734\"},{\"id\":\"1735\"},{\"id\":\"1736\"},{\"id\":\"1737\"}]},\"id\":\"1739\",\"type\":\"Toolbar\"},{\"attributes\":{\"data\":{\"daily_return\":{\"__ndarray__\":\"AAAAAAAAEkAAAAAAAAAkQAAAAAAAgEBAAAAAAACgS0A=\",\"dtype\":\"float64\",\"order\":\"little\",\"shape\":[4]},\"ticker\":[\"APPL\",\"GOGLE\",\"AMMD\",\"BCOIN\"]},\"selected\":{\"id\":\"1747\"},\"selection_policy\":{\"id\":\"1768\"}},\"id\":\"1746\",\"type\":\"ColumnDataSource\"},{\"attributes\":{\"fill_color\":{\"value\":\"#30a2da\"},\"hatch_color\":{\"value\":\"#30a2da\"},\"top\":{\"field\":\"daily_return\"},\"width\":{\"value\":0.8},\"x\":{\"field\":\"ticker\"}},\"id\":\"1749\",\"type\":\"VBar\"}],\"root_ids\":[\"1712\"]},\"title\":\"Bokeh Application\",\"version\":\"2.4.3\"}};\n",
       "    var render_items = [{\"docid\":\"6d9a4b19-ad54-47ed-9c93-d03016f8c75d\",\"root_ids\":[\"1712\"],\"roots\":{\"1712\":\"bfa38b5d-0d35-481a-9f93-5b7feef73945\"}}];\n",
       "    root.Bokeh.embed.embed_items_notebook(docs_json, render_items);\n",
       "  }\n",
       "  if (root.Bokeh !== undefined && root.Bokeh.Panel !== undefined) {\n",
       "    embed_document(root);\n",
       "  } else {\n",
       "    var attempts = 0;\n",
       "    var timer = setInterval(function(root) {\n",
       "      if (root.Bokeh !== undefined && root.Bokeh.Panel !== undefined) {\n",
       "        clearInterval(timer);\n",
       "        embed_document(root);\n",
       "      } else if (document.readyState == \"complete\") {\n",
       "        attempts++;\n",
       "        if (attempts > 200) {\n",
       "          clearInterval(timer);\n",
       "          console.log(\"Bokeh: ERROR: Unable to run BokehJS code because BokehJS library is missing\");\n",
       "        }\n",
       "      }\n",
       "    }, 25, root)\n",
       "  }\n",
       "})(window);</script>"
      ],
      "text/plain": [
       ":Bars   [ticker]   (daily_return)"
      ]
     },
     "execution_count": 8,
     "metadata": {
      "application/vnd.holoviews_exec.v0+json": {
       "id": "1712"
      }
     },
     "output_type": "execute_result"
    }
   ],
   "source": [
    "# Use hvplot.bar() to create bar plot with categorical data\n",
    "df.hvplot.bar(\n",
    "    x=\"ticker\", y=\"daily_return\", xlabel=\"Ticker\", ylabel=\"Daily Return\", rot=90\n",
    ")"
   ]
  },
  {
   "cell_type": "code",
   "execution_count": null,
   "metadata": {},
   "outputs": [],
   "source": []
  }
 ],
 "metadata": {
  "file_extension": ".py",
  "kernelspec": {
   "display_name": "Python 3.10.5 64-bit",
   "language": "python",
   "name": "python3"
  },
  "language_info": {
   "codemirror_mode": {
    "name": "ipython",
    "version": 3
   },
   "file_extension": ".py",
   "mimetype": "text/x-python",
   "name": "python",
   "nbconvert_exporter": "python",
   "pygments_lexer": "ipython3",
   "version": "3.10.5"
  },
  "mimetype": "text/x-python",
  "name": "python",
  "npconvert_exporter": "python",
  "pygments_lexer": "ipython3",
  "version": 3,
  "vscode": {
   "interpreter": {
    "hash": "3d4b713e85380f88a00777cdcdc0b317b22afcd9ce36339ad381340bf82814c9"
   }
  }
 },
 "nbformat": 4,
 "nbformat_minor": 4
}
