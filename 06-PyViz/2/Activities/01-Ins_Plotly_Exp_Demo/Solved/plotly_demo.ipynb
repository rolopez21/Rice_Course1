{
 "cells": [
  {
   "cell_type": "code",
   "execution_count": 1,
   "metadata": {},
   "outputs": [],
   "source": [
    "import plotly.express as px\n",
    "import pandas as pd\n",
    "from pathlib import Path"
   ]
  },
  {
   "cell_type": "code",
   "execution_count": 2,
   "metadata": {},
   "outputs": [
    {
     "data": {
      "text/html": [
       "<div>\n",
       "<style scoped>\n",
       "    .dataframe tbody tr th:only-of-type {\n",
       "        vertical-align: middle;\n",
       "    }\n",
       "\n",
       "    .dataframe tbody tr th {\n",
       "        vertical-align: top;\n",
       "    }\n",
       "\n",
       "    .dataframe thead th {\n",
       "        text-align: right;\n",
       "    }\n",
       "</style>\n",
       "<table border=\"1\" class=\"dataframe\">\n",
       "  <thead>\n",
       "    <tr style=\"text-align: right;\">\n",
       "      <th></th>\n",
       "      <th>County</th>\n",
       "      <th>Cost of Living Index</th>\n",
       "      <th>Average Sale Price</th>\n",
       "      <th>Median Sale Price</th>\n",
       "      <th>Number of Housing Units Sold</th>\n",
       "    </tr>\n",
       "  </thead>\n",
       "  <tbody>\n",
       "    <tr>\n",
       "      <th>0</th>\n",
       "      <td>Allegany County</td>\n",
       "      <td>84.9</td>\n",
       "      <td>105707</td>\n",
       "      <td>90829</td>\n",
       "      <td>624</td>\n",
       "    </tr>\n",
       "    <tr>\n",
       "      <th>1</th>\n",
       "      <td>Anne Arundel County</td>\n",
       "      <td>119.6</td>\n",
       "      <td>400107</td>\n",
       "      <td>338287</td>\n",
       "      <td>8619</td>\n",
       "    </tr>\n",
       "    <tr>\n",
       "      <th>2</th>\n",
       "      <td>Baltimore City</td>\n",
       "      <td>101.3</td>\n",
       "      <td>173413</td>\n",
       "      <td>139723</td>\n",
       "      <td>8450</td>\n",
       "    </tr>\n",
       "    <tr>\n",
       "      <th>3</th>\n",
       "      <td>Baltimore County</td>\n",
       "      <td>109.9</td>\n",
       "      <td>281797</td>\n",
       "      <td>238426</td>\n",
       "      <td>9986</td>\n",
       "    </tr>\n",
       "    <tr>\n",
       "      <th>4</th>\n",
       "      <td>Calvert County</td>\n",
       "      <td>121.7</td>\n",
       "      <td>348891</td>\n",
       "      <td>318471</td>\n",
       "      <td>1576</td>\n",
       "    </tr>\n",
       "  </tbody>\n",
       "</table>\n",
       "</div>"
      ],
      "text/plain": [
       "                County  Cost of Living Index  Average Sale Price  \\\n",
       "0      Allegany County                  84.9              105707   \n",
       "1  Anne Arundel County                 119.6              400107   \n",
       "2       Baltimore City                 101.3              173413   \n",
       "3     Baltimore County                 109.9              281797   \n",
       "4       Calvert County                 121.7              348891   \n",
       "\n",
       "   Median Sale Price  Number of Housing Units Sold  \n",
       "0              90829                           624  \n",
       "1             338287                          8619  \n",
       "2             139723                          8450  \n",
       "3             238426                          9986  \n",
       "4             318471                          1576  "
      ]
     },
     "execution_count": 2,
     "metadata": {},
     "output_type": "execute_result"
    }
   ],
   "source": [
    "# Read in data\n",
    "md_housing_sales = pd.read_csv(Path('../Resources/maryland_sales_data.csv'))\n",
    "md_housing_sales.head()"
   ]
  },
  {
   "cell_type": "code",
   "execution_count": 3,
   "metadata": {},
   "outputs": [
    {
     "data": {
      "application/vnd.plotly.v1+json": {
       "config": {
        "plotlyServerURL": "https://plot.ly"
       },
       "data": [
        {
         "hovertemplate": "County=Allegany County<br>Cost of Living Index=%{x}<br>Average Sale Price=%{y}<br>Number of Housing Units Sold=%{marker.size}<extra></extra>",
         "legendgroup": "Allegany County",
         "marker": {
          "color": "#636efa",
          "size": [
           624
          ],
          "sizemode": "area",
          "sizeref": 29.5225,
          "symbol": "circle"
         },
         "mode": "markers",
         "name": "Allegany County",
         "orientation": "v",
         "showlegend": true,
         "type": "scatter",
         "x": [
          84.9
         ],
         "xaxis": "x",
         "y": [
          105707
         ],
         "yaxis": "y"
        },
        {
         "hovertemplate": "County=Anne Arundel County<br>Cost of Living Index=%{x}<br>Average Sale Price=%{y}<br>Number of Housing Units Sold=%{marker.size}<extra></extra>",
         "legendgroup": "Anne Arundel County",
         "marker": {
          "color": "#EF553B",
          "size": [
           8619
          ],
          "sizemode": "area",
          "sizeref": 29.5225,
          "symbol": "circle"
         },
         "mode": "markers",
         "name": "Anne Arundel County",
         "orientation": "v",
         "showlegend": true,
         "type": "scatter",
         "x": [
          119.6
         ],
         "xaxis": "x",
         "y": [
          400107
         ],
         "yaxis": "y"
        },
        {
         "hovertemplate": "County=Baltimore City<br>Cost of Living Index=%{x}<br>Average Sale Price=%{y}<br>Number of Housing Units Sold=%{marker.size}<extra></extra>",
         "legendgroup": "Baltimore City",
         "marker": {
          "color": "#00cc96",
          "size": [
           8450
          ],
          "sizemode": "area",
          "sizeref": 29.5225,
          "symbol": "circle"
         },
         "mode": "markers",
         "name": "Baltimore City",
         "orientation": "v",
         "showlegend": true,
         "type": "scatter",
         "x": [
          101.3
         ],
         "xaxis": "x",
         "y": [
          173413
         ],
         "yaxis": "y"
        },
        {
         "hovertemplate": "County=Baltimore County<br>Cost of Living Index=%{x}<br>Average Sale Price=%{y}<br>Number of Housing Units Sold=%{marker.size}<extra></extra>",
         "legendgroup": "Baltimore County",
         "marker": {
          "color": "#ab63fa",
          "size": [
           9986
          ],
          "sizemode": "area",
          "sizeref": 29.5225,
          "symbol": "circle"
         },
         "mode": "markers",
         "name": "Baltimore County",
         "orientation": "v",
         "showlegend": true,
         "type": "scatter",
         "x": [
          109.9
         ],
         "xaxis": "x",
         "y": [
          281797
         ],
         "yaxis": "y"
        },
        {
         "hovertemplate": "County=Calvert County<br>Cost of Living Index=%{x}<br>Average Sale Price=%{y}<br>Number of Housing Units Sold=%{marker.size}<extra></extra>",
         "legendgroup": "Calvert County",
         "marker": {
          "color": "#FFA15A",
          "size": [
           1576
          ],
          "sizemode": "area",
          "sizeref": 29.5225,
          "symbol": "circle"
         },
         "mode": "markers",
         "name": "Calvert County",
         "orientation": "v",
         "showlegend": true,
         "type": "scatter",
         "x": [
          121.7
         ],
         "xaxis": "x",
         "y": [
          348891
         ],
         "yaxis": "y"
        },
        {
         "hovertemplate": "County=Caroline County<br>Cost of Living Index=%{x}<br>Average Sale Price=%{y}<br>Number of Housing Units Sold=%{marker.size}<extra></extra>",
         "legendgroup": "Caroline County",
         "marker": {
          "color": "#19d3f3",
          "size": [
           351
          ],
          "sizemode": "area",
          "sizeref": 29.5225,
          "symbol": "circle"
         },
         "mode": "markers",
         "name": "Caroline County",
         "orientation": "v",
         "showlegend": true,
         "type": "scatter",
         "x": [
          98.8
         ],
         "xaxis": "x",
         "y": [
          194819
         ],
         "yaxis": "y"
        },
        {
         "hovertemplate": "County=Carroll County<br>Cost of Living Index=%{x}<br>Average Sale Price=%{y}<br>Number of Housing Units Sold=%{marker.size}<extra></extra>",
         "legendgroup": "Carroll County",
         "marker": {
          "color": "#FF6692",
          "size": [
           2312
          ],
          "sizemode": "area",
          "sizeref": 29.5225,
          "symbol": "circle"
         },
         "mode": "markers",
         "name": "Carroll County",
         "orientation": "v",
         "showlegend": true,
         "type": "scatter",
         "x": [
          113.8
         ],
         "xaxis": "x",
         "y": [
          335577
         ],
         "yaxis": "y"
        },
        {
         "hovertemplate": "County=Cecil County<br>Cost of Living Index=%{x}<br>Average Sale Price=%{y}<br>Number of Housing Units Sold=%{marker.size}<extra></extra>",
         "legendgroup": "Cecil County",
         "marker": {
          "color": "#B6E880",
          "size": [
           1229
          ],
          "sizemode": "area",
          "sizeref": 29.5225,
          "symbol": "circle"
         },
         "mode": "markers",
         "name": "Cecil County",
         "orientation": "v",
         "showlegend": true,
         "type": "scatter",
         "x": [
          105.6
         ],
         "xaxis": "x",
         "y": [
          232193
         ],
         "yaxis": "y"
        },
        {
         "hovertemplate": "County=Charles County<br>Cost of Living Index=%{x}<br>Average Sale Price=%{y}<br>Number of Housing Units Sold=%{marker.size}<extra></extra>",
         "legendgroup": "Charles County",
         "marker": {
          "color": "#FF97FF",
          "size": [
           2530
          ],
          "sizemode": "area",
          "sizeref": 29.5225,
          "symbol": "circle"
         },
         "mode": "markers",
         "name": "Charles County",
         "orientation": "v",
         "showlegend": true,
         "type": "scatter",
         "x": [
          123.5
         ],
         "xaxis": "x",
         "y": [
          306088
         ],
         "yaxis": "y"
        },
        {
         "hovertemplate": "County=Dorchester County<br>Cost of Living Index=%{x}<br>Average Sale Price=%{y}<br>Number of Housing Units Sold=%{marker.size}<extra></extra>",
         "legendgroup": "Dorchester County",
         "marker": {
          "color": "#FECB52",
          "size": [
           413
          ],
          "sizemode": "area",
          "sizeref": 29.5225,
          "symbol": "circle"
         },
         "mode": "markers",
         "name": "Dorchester County",
         "orientation": "v",
         "showlegend": true,
         "type": "scatter",
         "x": [
          94.3
         ],
         "xaxis": "x",
         "y": [
          200535
         ],
         "yaxis": "y"
        },
        {
         "hovertemplate": "County=Frederick County<br>Cost of Living Index=%{x}<br>Average Sale Price=%{y}<br>Number of Housing Units Sold=%{marker.size}<extra></extra>",
         "legendgroup": "Frederick County",
         "marker": {
          "color": "#636efa",
          "size": [
           4063
          ],
          "sizemode": "area",
          "sizeref": 29.5225,
          "symbol": "circle"
         },
         "mode": "markers",
         "name": "Frederick County",
         "orientation": "v",
         "showlegend": true,
         "type": "scatter",
         "x": [
          116.4
         ],
         "xaxis": "x",
         "y": [
          335852
         ],
         "yaxis": "y"
        },
        {
         "hovertemplate": "County=Garrett County<br>Cost of Living Index=%{x}<br>Average Sale Price=%{y}<br>Number of Housing Units Sold=%{marker.size}<extra></extra>",
         "legendgroup": "Garrett County",
         "marker": {
          "color": "#EF553B",
          "size": [
           459
          ],
          "sizemode": "area",
          "sizeref": 29.5225,
          "symbol": "circle"
         },
         "mode": "markers",
         "name": "Garrett County",
         "orientation": "v",
         "showlegend": true,
         "type": "scatter",
         "x": [
          88.4
         ],
         "xaxis": "x",
         "y": [
          330468
         ],
         "yaxis": "y"
        },
        {
         "hovertemplate": "County=Harford County<br>Cost of Living Index=%{x}<br>Average Sale Price=%{y}<br>Number of Housing Units Sold=%{marker.size}<extra></extra>",
         "legendgroup": "Harford County",
         "marker": {
          "color": "#00cc96",
          "size": [
           3700
          ],
          "sizemode": "area",
          "sizeref": 29.5225,
          "symbol": "circle"
         },
         "mode": "markers",
         "name": "Harford County",
         "orientation": "v",
         "showlegend": true,
         "type": "scatter",
         "x": [
          110.3
         ],
         "xaxis": "x",
         "y": [
          275186
         ],
         "yaxis": "y"
        },
        {
         "hovertemplate": "County=Howard County<br>Cost of Living Index=%{x}<br>Average Sale Price=%{y}<br>Number of Housing Units Sold=%{marker.size}<extra></extra>",
         "legendgroup": "Howard County",
         "marker": {
          "color": "#ab63fa",
          "size": [
           4104
          ],
          "sizemode": "area",
          "sizeref": 29.5225,
          "symbol": "circle"
         },
         "mode": "markers",
         "name": "Howard County",
         "orientation": "v",
         "showlegend": true,
         "type": "scatter",
         "x": [
          131.6
         ],
         "xaxis": "x",
         "y": [
          444776
         ],
         "yaxis": "y"
        },
        {
         "hovertemplate": "County=Kent County<br>Cost of Living Index=%{x}<br>Average Sale Price=%{y}<br>Number of Housing Units Sold=%{marker.size}<extra></extra>",
         "legendgroup": "Kent County",
         "marker": {
          "color": "#FFA15A",
          "size": [
           324
          ],
          "sizemode": "area",
          "sizeref": 29.5225,
          "symbol": "circle"
         },
         "mode": "markers",
         "name": "Kent County",
         "orientation": "v",
         "showlegend": true,
         "type": "scatter",
         "x": [
          96.2
         ],
         "xaxis": "x",
         "y": [
          299504
         ],
         "yaxis": "y"
        },
        {
         "hovertemplate": "County=Montgomery County<br>Cost of Living Index=%{x}<br>Average Sale Price=%{y}<br>Number of Housing Units Sold=%{marker.size}<extra></extra>",
         "legendgroup": "Montgomery County",
         "marker": {
          "color": "#19d3f3",
          "size": [
           11809
          ],
          "sizemode": "area",
          "sizeref": 29.5225,
          "symbol": "circle"
         },
         "mode": "markers",
         "name": "Montgomery County",
         "orientation": "v",
         "showlegend": true,
         "type": "scatter",
         "x": [
          130.4
         ],
         "xaxis": "x",
         "y": [
          535846
         ],
         "yaxis": "y"
        },
        {
         "hovertemplate": "County=Prince George's County<br>Cost of Living Index=%{x}<br>Average Sale Price=%{y}<br>Number of Housing Units Sold=%{marker.size}<extra></extra>",
         "legendgroup": "Prince George's County",
         "marker": {
          "color": "#FF6692",
          "size": [
           9956
          ],
          "sizemode": "area",
          "sizeref": 29.5225,
          "symbol": "circle"
         },
         "mode": "markers",
         "name": "Prince George's County",
         "orientation": "v",
         "showlegend": true,
         "type": "scatter",
         "x": [
          121.3
         ],
         "xaxis": "x",
         "y": [
          295642
         ],
         "yaxis": "y"
        },
        {
         "hovertemplate": "County=Queen Anne's County<br>Cost of Living Index=%{x}<br>Average Sale Price=%{y}<br>Number of Housing Units Sold=%{marker.size}<extra></extra>",
         "legendgroup": "Queen Anne's County",
         "marker": {
          "color": "#B6E880",
          "size": [
           847
          ],
          "sizemode": "area",
          "sizeref": 29.5225,
          "symbol": "circle"
         },
         "mode": "markers",
         "name": "Queen Anne's County",
         "orientation": "v",
         "showlegend": true,
         "type": "scatter",
         "x": [
          115.5
         ],
         "xaxis": "x",
         "y": [
          389875
         ],
         "yaxis": "y"
        },
        {
         "hovertemplate": "County=St. Mary's County<br>Cost of Living Index=%{x}<br>Average Sale Price=%{y}<br>Number of Housing Units Sold=%{marker.size}<extra></extra>",
         "legendgroup": "St. Mary's County",
         "marker": {
          "color": "#FF97FF",
          "size": [
           1406
          ],
          "sizemode": "area",
          "sizeref": 29.5225,
          "symbol": "circle"
         },
         "mode": "markers",
         "name": "St. Mary's County",
         "orientation": "v",
         "showlegend": true,
         "type": "scatter",
         "x": [
          112
         ],
         "xaxis": "x",
         "y": [
          309528
         ],
         "yaxis": "y"
        },
        {
         "hovertemplate": "County=Somerset County<br>Cost of Living Index=%{x}<br>Average Sale Price=%{y}<br>Number of Housing Units Sold=%{marker.size}<extra></extra>",
         "legendgroup": "Somerset County",
         "marker": {
          "color": "#FECB52",
          "size": [
           377
          ],
          "sizemode": "area",
          "sizeref": 29.5225,
          "symbol": "circle"
         },
         "mode": "markers",
         "name": "Somerset County",
         "orientation": "v",
         "showlegend": true,
         "type": "scatter",
         "x": [
          86.2
         ],
         "xaxis": "x",
         "y": [
          139983
         ],
         "yaxis": "y"
        },
        {
         "hovertemplate": "County=Talbot County<br>Cost of Living Index=%{x}<br>Average Sale Price=%{y}<br>Number of Housing Units Sold=%{marker.size}<extra></extra>",
         "legendgroup": "Talbot County",
         "marker": {
          "color": "#636efa",
          "size": [
           742
          ],
          "sizemode": "area",
          "sizeref": 29.5225,
          "symbol": "circle"
         },
         "mode": "markers",
         "name": "Talbot County",
         "orientation": "v",
         "showlegend": true,
         "type": "scatter",
         "x": [
          100.9
         ],
         "xaxis": "x",
         "y": [
          448593
         ],
         "yaxis": "y"
        },
        {
         "hovertemplate": "County=Washington County<br>Cost of Living Index=%{x}<br>Average Sale Price=%{y}<br>Number of Housing Units Sold=%{marker.size}<extra></extra>",
         "legendgroup": "Washington County",
         "marker": {
          "color": "#EF553B",
          "size": [
           1634
          ],
          "sizemode": "area",
          "sizeref": 29.5225,
          "symbol": "circle"
         },
         "mode": "markers",
         "name": "Washington County",
         "orientation": "v",
         "showlegend": true,
         "type": "scatter",
         "x": [
          97.7
         ],
         "xaxis": "x",
         "y": [
          204066
         ],
         "yaxis": "y"
        },
        {
         "hovertemplate": "County=Wicomico County<br>Cost of Living Index=%{x}<br>Average Sale Price=%{y}<br>Number of Housing Units Sold=%{marker.size}<extra></extra>",
         "legendgroup": "Wicomico County",
         "marker": {
          "color": "#00cc96",
          "size": [
           1103
          ],
          "sizemode": "area",
          "sizeref": 29.5225,
          "symbol": "circle"
         },
         "mode": "markers",
         "name": "Wicomico County",
         "orientation": "v",
         "showlegend": true,
         "type": "scatter",
         "x": [
          98.6
         ],
         "xaxis": "x",
         "y": [
          157531
         ],
         "yaxis": "y"
        },
        {
         "hovertemplate": "County=Worcester County<br>Cost of Living Index=%{x}<br>Average Sale Price=%{y}<br>Number of Housing Units Sold=%{marker.size}<extra></extra>",
         "legendgroup": "Worcester County",
         "marker": {
          "color": "#ab63fa",
          "size": [
           2148
          ],
          "sizemode": "area",
          "sizeref": 29.5225,
          "symbol": "circle"
         },
         "mode": "markers",
         "name": "Worcester County",
         "orientation": "v",
         "showlegend": true,
         "type": "scatter",
         "x": [
          99.1
         ],
         "xaxis": "x",
         "y": [
          285980
         ],
         "yaxis": "y"
        }
       ],
       "layout": {
        "legend": {
         "itemsizing": "constant",
         "title": {
          "text": "County"
         },
         "tracegroupgap": 0
        },
        "margin": {
         "t": 60
        },
        "template": {
         "data": {
          "bar": [
           {
            "error_x": {
             "color": "#2a3f5f"
            },
            "error_y": {
             "color": "#2a3f5f"
            },
            "marker": {
             "line": {
              "color": "#E5ECF6",
              "width": 0.5
             },
             "pattern": {
              "fillmode": "overlay",
              "size": 10,
              "solidity": 0.2
             }
            },
            "type": "bar"
           }
          ],
          "barpolar": [
           {
            "marker": {
             "line": {
              "color": "#E5ECF6",
              "width": 0.5
             },
             "pattern": {
              "fillmode": "overlay",
              "size": 10,
              "solidity": 0.2
             }
            },
            "type": "barpolar"
           }
          ],
          "carpet": [
           {
            "aaxis": {
             "endlinecolor": "#2a3f5f",
             "gridcolor": "white",
             "linecolor": "white",
             "minorgridcolor": "white",
             "startlinecolor": "#2a3f5f"
            },
            "baxis": {
             "endlinecolor": "#2a3f5f",
             "gridcolor": "white",
             "linecolor": "white",
             "minorgridcolor": "white",
             "startlinecolor": "#2a3f5f"
            },
            "type": "carpet"
           }
          ],
          "choropleth": [
           {
            "colorbar": {
             "outlinewidth": 0,
             "ticks": ""
            },
            "type": "choropleth"
           }
          ],
          "contour": [
           {
            "colorbar": {
             "outlinewidth": 0,
             "ticks": ""
            },
            "colorscale": [
             [
              0,
              "#0d0887"
             ],
             [
              0.1111111111111111,
              "#46039f"
             ],
             [
              0.2222222222222222,
              "#7201a8"
             ],
             [
              0.3333333333333333,
              "#9c179e"
             ],
             [
              0.4444444444444444,
              "#bd3786"
             ],
             [
              0.5555555555555556,
              "#d8576b"
             ],
             [
              0.6666666666666666,
              "#ed7953"
             ],
             [
              0.7777777777777778,
              "#fb9f3a"
             ],
             [
              0.8888888888888888,
              "#fdca26"
             ],
             [
              1,
              "#f0f921"
             ]
            ],
            "type": "contour"
           }
          ],
          "contourcarpet": [
           {
            "colorbar": {
             "outlinewidth": 0,
             "ticks": ""
            },
            "type": "contourcarpet"
           }
          ],
          "heatmap": [
           {
            "colorbar": {
             "outlinewidth": 0,
             "ticks": ""
            },
            "colorscale": [
             [
              0,
              "#0d0887"
             ],
             [
              0.1111111111111111,
              "#46039f"
             ],
             [
              0.2222222222222222,
              "#7201a8"
             ],
             [
              0.3333333333333333,
              "#9c179e"
             ],
             [
              0.4444444444444444,
              "#bd3786"
             ],
             [
              0.5555555555555556,
              "#d8576b"
             ],
             [
              0.6666666666666666,
              "#ed7953"
             ],
             [
              0.7777777777777778,
              "#fb9f3a"
             ],
             [
              0.8888888888888888,
              "#fdca26"
             ],
             [
              1,
              "#f0f921"
             ]
            ],
            "type": "heatmap"
           }
          ],
          "heatmapgl": [
           {
            "colorbar": {
             "outlinewidth": 0,
             "ticks": ""
            },
            "colorscale": [
             [
              0,
              "#0d0887"
             ],
             [
              0.1111111111111111,
              "#46039f"
             ],
             [
              0.2222222222222222,
              "#7201a8"
             ],
             [
              0.3333333333333333,
              "#9c179e"
             ],
             [
              0.4444444444444444,
              "#bd3786"
             ],
             [
              0.5555555555555556,
              "#d8576b"
             ],
             [
              0.6666666666666666,
              "#ed7953"
             ],
             [
              0.7777777777777778,
              "#fb9f3a"
             ],
             [
              0.8888888888888888,
              "#fdca26"
             ],
             [
              1,
              "#f0f921"
             ]
            ],
            "type": "heatmapgl"
           }
          ],
          "histogram": [
           {
            "marker": {
             "pattern": {
              "fillmode": "overlay",
              "size": 10,
              "solidity": 0.2
             }
            },
            "type": "histogram"
           }
          ],
          "histogram2d": [
           {
            "colorbar": {
             "outlinewidth": 0,
             "ticks": ""
            },
            "colorscale": [
             [
              0,
              "#0d0887"
             ],
             [
              0.1111111111111111,
              "#46039f"
             ],
             [
              0.2222222222222222,
              "#7201a8"
             ],
             [
              0.3333333333333333,
              "#9c179e"
             ],
             [
              0.4444444444444444,
              "#bd3786"
             ],
             [
              0.5555555555555556,
              "#d8576b"
             ],
             [
              0.6666666666666666,
              "#ed7953"
             ],
             [
              0.7777777777777778,
              "#fb9f3a"
             ],
             [
              0.8888888888888888,
              "#fdca26"
             ],
             [
              1,
              "#f0f921"
             ]
            ],
            "type": "histogram2d"
           }
          ],
          "histogram2dcontour": [
           {
            "colorbar": {
             "outlinewidth": 0,
             "ticks": ""
            },
            "colorscale": [
             [
              0,
              "#0d0887"
             ],
             [
              0.1111111111111111,
              "#46039f"
             ],
             [
              0.2222222222222222,
              "#7201a8"
             ],
             [
              0.3333333333333333,
              "#9c179e"
             ],
             [
              0.4444444444444444,
              "#bd3786"
             ],
             [
              0.5555555555555556,
              "#d8576b"
             ],
             [
              0.6666666666666666,
              "#ed7953"
             ],
             [
              0.7777777777777778,
              "#fb9f3a"
             ],
             [
              0.8888888888888888,
              "#fdca26"
             ],
             [
              1,
              "#f0f921"
             ]
            ],
            "type": "histogram2dcontour"
           }
          ],
          "mesh3d": [
           {
            "colorbar": {
             "outlinewidth": 0,
             "ticks": ""
            },
            "type": "mesh3d"
           }
          ],
          "parcoords": [
           {
            "line": {
             "colorbar": {
              "outlinewidth": 0,
              "ticks": ""
             }
            },
            "type": "parcoords"
           }
          ],
          "pie": [
           {
            "automargin": true,
            "type": "pie"
           }
          ],
          "scatter": [
           {
            "fillpattern": {
             "fillmode": "overlay",
             "size": 10,
             "solidity": 0.2
            },
            "type": "scatter"
           }
          ],
          "scatter3d": [
           {
            "line": {
             "colorbar": {
              "outlinewidth": 0,
              "ticks": ""
             }
            },
            "marker": {
             "colorbar": {
              "outlinewidth": 0,
              "ticks": ""
             }
            },
            "type": "scatter3d"
           }
          ],
          "scattercarpet": [
           {
            "marker": {
             "colorbar": {
              "outlinewidth": 0,
              "ticks": ""
             }
            },
            "type": "scattercarpet"
           }
          ],
          "scattergeo": [
           {
            "marker": {
             "colorbar": {
              "outlinewidth": 0,
              "ticks": ""
             }
            },
            "type": "scattergeo"
           }
          ],
          "scattergl": [
           {
            "marker": {
             "colorbar": {
              "outlinewidth": 0,
              "ticks": ""
             }
            },
            "type": "scattergl"
           }
          ],
          "scattermapbox": [
           {
            "marker": {
             "colorbar": {
              "outlinewidth": 0,
              "ticks": ""
             }
            },
            "type": "scattermapbox"
           }
          ],
          "scatterpolar": [
           {
            "marker": {
             "colorbar": {
              "outlinewidth": 0,
              "ticks": ""
             }
            },
            "type": "scatterpolar"
           }
          ],
          "scatterpolargl": [
           {
            "marker": {
             "colorbar": {
              "outlinewidth": 0,
              "ticks": ""
             }
            },
            "type": "scatterpolargl"
           }
          ],
          "scatterternary": [
           {
            "marker": {
             "colorbar": {
              "outlinewidth": 0,
              "ticks": ""
             }
            },
            "type": "scatterternary"
           }
          ],
          "surface": [
           {
            "colorbar": {
             "outlinewidth": 0,
             "ticks": ""
            },
            "colorscale": [
             [
              0,
              "#0d0887"
             ],
             [
              0.1111111111111111,
              "#46039f"
             ],
             [
              0.2222222222222222,
              "#7201a8"
             ],
             [
              0.3333333333333333,
              "#9c179e"
             ],
             [
              0.4444444444444444,
              "#bd3786"
             ],
             [
              0.5555555555555556,
              "#d8576b"
             ],
             [
              0.6666666666666666,
              "#ed7953"
             ],
             [
              0.7777777777777778,
              "#fb9f3a"
             ],
             [
              0.8888888888888888,
              "#fdca26"
             ],
             [
              1,
              "#f0f921"
             ]
            ],
            "type": "surface"
           }
          ],
          "table": [
           {
            "cells": {
             "fill": {
              "color": "#EBF0F8"
             },
             "line": {
              "color": "white"
             }
            },
            "header": {
             "fill": {
              "color": "#C8D4E3"
             },
             "line": {
              "color": "white"
             }
            },
            "type": "table"
           }
          ]
         },
         "layout": {
          "annotationdefaults": {
           "arrowcolor": "#2a3f5f",
           "arrowhead": 0,
           "arrowwidth": 1
          },
          "autotypenumbers": "strict",
          "coloraxis": {
           "colorbar": {
            "outlinewidth": 0,
            "ticks": ""
           }
          },
          "colorscale": {
           "diverging": [
            [
             0,
             "#8e0152"
            ],
            [
             0.1,
             "#c51b7d"
            ],
            [
             0.2,
             "#de77ae"
            ],
            [
             0.3,
             "#f1b6da"
            ],
            [
             0.4,
             "#fde0ef"
            ],
            [
             0.5,
             "#f7f7f7"
            ],
            [
             0.6,
             "#e6f5d0"
            ],
            [
             0.7,
             "#b8e186"
            ],
            [
             0.8,
             "#7fbc41"
            ],
            [
             0.9,
             "#4d9221"
            ],
            [
             1,
             "#276419"
            ]
           ],
           "sequential": [
            [
             0,
             "#0d0887"
            ],
            [
             0.1111111111111111,
             "#46039f"
            ],
            [
             0.2222222222222222,
             "#7201a8"
            ],
            [
             0.3333333333333333,
             "#9c179e"
            ],
            [
             0.4444444444444444,
             "#bd3786"
            ],
            [
             0.5555555555555556,
             "#d8576b"
            ],
            [
             0.6666666666666666,
             "#ed7953"
            ],
            [
             0.7777777777777778,
             "#fb9f3a"
            ],
            [
             0.8888888888888888,
             "#fdca26"
            ],
            [
             1,
             "#f0f921"
            ]
           ],
           "sequentialminus": [
            [
             0,
             "#0d0887"
            ],
            [
             0.1111111111111111,
             "#46039f"
            ],
            [
             0.2222222222222222,
             "#7201a8"
            ],
            [
             0.3333333333333333,
             "#9c179e"
            ],
            [
             0.4444444444444444,
             "#bd3786"
            ],
            [
             0.5555555555555556,
             "#d8576b"
            ],
            [
             0.6666666666666666,
             "#ed7953"
            ],
            [
             0.7777777777777778,
             "#fb9f3a"
            ],
            [
             0.8888888888888888,
             "#fdca26"
            ],
            [
             1,
             "#f0f921"
            ]
           ]
          },
          "colorway": [
           "#636efa",
           "#EF553B",
           "#00cc96",
           "#ab63fa",
           "#FFA15A",
           "#19d3f3",
           "#FF6692",
           "#B6E880",
           "#FF97FF",
           "#FECB52"
          ],
          "font": {
           "color": "#2a3f5f"
          },
          "geo": {
           "bgcolor": "white",
           "lakecolor": "white",
           "landcolor": "#E5ECF6",
           "showlakes": true,
           "showland": true,
           "subunitcolor": "white"
          },
          "hoverlabel": {
           "align": "left"
          },
          "hovermode": "closest",
          "mapbox": {
           "style": "light"
          },
          "paper_bgcolor": "white",
          "plot_bgcolor": "#E5ECF6",
          "polar": {
           "angularaxis": {
            "gridcolor": "white",
            "linecolor": "white",
            "ticks": ""
           },
           "bgcolor": "#E5ECF6",
           "radialaxis": {
            "gridcolor": "white",
            "linecolor": "white",
            "ticks": ""
           }
          },
          "scene": {
           "xaxis": {
            "backgroundcolor": "#E5ECF6",
            "gridcolor": "white",
            "gridwidth": 2,
            "linecolor": "white",
            "showbackground": true,
            "ticks": "",
            "zerolinecolor": "white"
           },
           "yaxis": {
            "backgroundcolor": "#E5ECF6",
            "gridcolor": "white",
            "gridwidth": 2,
            "linecolor": "white",
            "showbackground": true,
            "ticks": "",
            "zerolinecolor": "white"
           },
           "zaxis": {
            "backgroundcolor": "#E5ECF6",
            "gridcolor": "white",
            "gridwidth": 2,
            "linecolor": "white",
            "showbackground": true,
            "ticks": "",
            "zerolinecolor": "white"
           }
          },
          "shapedefaults": {
           "line": {
            "color": "#2a3f5f"
           }
          },
          "ternary": {
           "aaxis": {
            "gridcolor": "white",
            "linecolor": "white",
            "ticks": ""
           },
           "baxis": {
            "gridcolor": "white",
            "linecolor": "white",
            "ticks": ""
           },
           "bgcolor": "#E5ECF6",
           "caxis": {
            "gridcolor": "white",
            "linecolor": "white",
            "ticks": ""
           }
          },
          "title": {
           "x": 0.05
          },
          "xaxis": {
           "automargin": true,
           "gridcolor": "white",
           "linecolor": "white",
           "ticks": "",
           "title": {
            "standoff": 15
           },
           "zerolinecolor": "white",
           "zerolinewidth": 2
          },
          "yaxis": {
           "automargin": true,
           "gridcolor": "white",
           "linecolor": "white",
           "ticks": "",
           "title": {
            "standoff": 15
           },
           "zerolinecolor": "white",
           "zerolinewidth": 2
          }
         }
        },
        "xaxis": {
         "anchor": "y",
         "domain": [
          0,
          1
         ],
         "title": {
          "text": "Cost of Living Index"
         }
        },
        "yaxis": {
         "anchor": "x",
         "domain": [
          0,
          1
         ],
         "title": {
          "text": "Average Sale Price"
         }
        }
       }
      }
     },
     "metadata": {},
     "output_type": "display_data"
    }
   ],
   "source": [
    "# Create scatter plot comparing average sale price and cost of living index\n",
    "px.scatter(\n",
    "    md_housing_sales,\n",
    "    x=\"Cost of Living Index\",\n",
    "    y=\"Average Sale Price\",\n",
    "    size=\"Number of Housing Units Sold\",\n",
    "    color=\"County\",\n",
    ")"
   ]
  },
  {
   "cell_type": "code",
   "execution_count": 4,
   "metadata": {},
   "outputs": [
    {
     "data": {
      "application/vnd.plotly.v1+json": {
       "config": {
        "plotlyServerURL": "https://plot.ly"
       },
       "data": [
        {
         "hovertemplate": "County=Allegany County<br>Cost of Living Index=%{x}<br>Number of Housing Units Sold=%{y}<br>Average Sale Price=%{marker.size}<extra></extra>",
         "legendgroup": "Allegany County",
         "marker": {
          "color": "#636efa",
          "size": [
           105707
          ],
          "sizemode": "area",
          "sizeref": 1339.615,
          "symbol": "circle"
         },
         "mode": "markers",
         "name": "Allegany County",
         "orientation": "v",
         "showlegend": true,
         "type": "scatter",
         "x": [
          84.9
         ],
         "xaxis": "x",
         "y": [
          624
         ],
         "yaxis": "y"
        },
        {
         "hovertemplate": "County=Anne Arundel County<br>Cost of Living Index=%{x}<br>Number of Housing Units Sold=%{y}<br>Average Sale Price=%{marker.size}<extra></extra>",
         "legendgroup": "Anne Arundel County",
         "marker": {
          "color": "#EF553B",
          "size": [
           400107
          ],
          "sizemode": "area",
          "sizeref": 1339.615,
          "symbol": "circle"
         },
         "mode": "markers",
         "name": "Anne Arundel County",
         "orientation": "v",
         "showlegend": true,
         "type": "scatter",
         "x": [
          119.6
         ],
         "xaxis": "x",
         "y": [
          8619
         ],
         "yaxis": "y"
        },
        {
         "hovertemplate": "County=Baltimore City<br>Cost of Living Index=%{x}<br>Number of Housing Units Sold=%{y}<br>Average Sale Price=%{marker.size}<extra></extra>",
         "legendgroup": "Baltimore City",
         "marker": {
          "color": "#00cc96",
          "size": [
           173413
          ],
          "sizemode": "area",
          "sizeref": 1339.615,
          "symbol": "circle"
         },
         "mode": "markers",
         "name": "Baltimore City",
         "orientation": "v",
         "showlegend": true,
         "type": "scatter",
         "x": [
          101.3
         ],
         "xaxis": "x",
         "y": [
          8450
         ],
         "yaxis": "y"
        },
        {
         "hovertemplate": "County=Baltimore County<br>Cost of Living Index=%{x}<br>Number of Housing Units Sold=%{y}<br>Average Sale Price=%{marker.size}<extra></extra>",
         "legendgroup": "Baltimore County",
         "marker": {
          "color": "#ab63fa",
          "size": [
           281797
          ],
          "sizemode": "area",
          "sizeref": 1339.615,
          "symbol": "circle"
         },
         "mode": "markers",
         "name": "Baltimore County",
         "orientation": "v",
         "showlegend": true,
         "type": "scatter",
         "x": [
          109.9
         ],
         "xaxis": "x",
         "y": [
          9986
         ],
         "yaxis": "y"
        },
        {
         "hovertemplate": "County=Calvert County<br>Cost of Living Index=%{x}<br>Number of Housing Units Sold=%{y}<br>Average Sale Price=%{marker.size}<extra></extra>",
         "legendgroup": "Calvert County",
         "marker": {
          "color": "#FFA15A",
          "size": [
           348891
          ],
          "sizemode": "area",
          "sizeref": 1339.615,
          "symbol": "circle"
         },
         "mode": "markers",
         "name": "Calvert County",
         "orientation": "v",
         "showlegend": true,
         "type": "scatter",
         "x": [
          121.7
         ],
         "xaxis": "x",
         "y": [
          1576
         ],
         "yaxis": "y"
        },
        {
         "hovertemplate": "County=Caroline County<br>Cost of Living Index=%{x}<br>Number of Housing Units Sold=%{y}<br>Average Sale Price=%{marker.size}<extra></extra>",
         "legendgroup": "Caroline County",
         "marker": {
          "color": "#19d3f3",
          "size": [
           194819
          ],
          "sizemode": "area",
          "sizeref": 1339.615,
          "symbol": "circle"
         },
         "mode": "markers",
         "name": "Caroline County",
         "orientation": "v",
         "showlegend": true,
         "type": "scatter",
         "x": [
          98.8
         ],
         "xaxis": "x",
         "y": [
          351
         ],
         "yaxis": "y"
        },
        {
         "hovertemplate": "County=Carroll County<br>Cost of Living Index=%{x}<br>Number of Housing Units Sold=%{y}<br>Average Sale Price=%{marker.size}<extra></extra>",
         "legendgroup": "Carroll County",
         "marker": {
          "color": "#FF6692",
          "size": [
           335577
          ],
          "sizemode": "area",
          "sizeref": 1339.615,
          "symbol": "circle"
         },
         "mode": "markers",
         "name": "Carroll County",
         "orientation": "v",
         "showlegend": true,
         "type": "scatter",
         "x": [
          113.8
         ],
         "xaxis": "x",
         "y": [
          2312
         ],
         "yaxis": "y"
        },
        {
         "hovertemplate": "County=Cecil County<br>Cost of Living Index=%{x}<br>Number of Housing Units Sold=%{y}<br>Average Sale Price=%{marker.size}<extra></extra>",
         "legendgroup": "Cecil County",
         "marker": {
          "color": "#B6E880",
          "size": [
           232193
          ],
          "sizemode": "area",
          "sizeref": 1339.615,
          "symbol": "circle"
         },
         "mode": "markers",
         "name": "Cecil County",
         "orientation": "v",
         "showlegend": true,
         "type": "scatter",
         "x": [
          105.6
         ],
         "xaxis": "x",
         "y": [
          1229
         ],
         "yaxis": "y"
        },
        {
         "hovertemplate": "County=Charles County<br>Cost of Living Index=%{x}<br>Number of Housing Units Sold=%{y}<br>Average Sale Price=%{marker.size}<extra></extra>",
         "legendgroup": "Charles County",
         "marker": {
          "color": "#FF97FF",
          "size": [
           306088
          ],
          "sizemode": "area",
          "sizeref": 1339.615,
          "symbol": "circle"
         },
         "mode": "markers",
         "name": "Charles County",
         "orientation": "v",
         "showlegend": true,
         "type": "scatter",
         "x": [
          123.5
         ],
         "xaxis": "x",
         "y": [
          2530
         ],
         "yaxis": "y"
        },
        {
         "hovertemplate": "County=Dorchester County<br>Cost of Living Index=%{x}<br>Number of Housing Units Sold=%{y}<br>Average Sale Price=%{marker.size}<extra></extra>",
         "legendgroup": "Dorchester County",
         "marker": {
          "color": "#FECB52",
          "size": [
           200535
          ],
          "sizemode": "area",
          "sizeref": 1339.615,
          "symbol": "circle"
         },
         "mode": "markers",
         "name": "Dorchester County",
         "orientation": "v",
         "showlegend": true,
         "type": "scatter",
         "x": [
          94.3
         ],
         "xaxis": "x",
         "y": [
          413
         ],
         "yaxis": "y"
        },
        {
         "hovertemplate": "County=Frederick County<br>Cost of Living Index=%{x}<br>Number of Housing Units Sold=%{y}<br>Average Sale Price=%{marker.size}<extra></extra>",
         "legendgroup": "Frederick County",
         "marker": {
          "color": "#636efa",
          "size": [
           335852
          ],
          "sizemode": "area",
          "sizeref": 1339.615,
          "symbol": "circle"
         },
         "mode": "markers",
         "name": "Frederick County",
         "orientation": "v",
         "showlegend": true,
         "type": "scatter",
         "x": [
          116.4
         ],
         "xaxis": "x",
         "y": [
          4063
         ],
         "yaxis": "y"
        },
        {
         "hovertemplate": "County=Garrett County<br>Cost of Living Index=%{x}<br>Number of Housing Units Sold=%{y}<br>Average Sale Price=%{marker.size}<extra></extra>",
         "legendgroup": "Garrett County",
         "marker": {
          "color": "#EF553B",
          "size": [
           330468
          ],
          "sizemode": "area",
          "sizeref": 1339.615,
          "symbol": "circle"
         },
         "mode": "markers",
         "name": "Garrett County",
         "orientation": "v",
         "showlegend": true,
         "type": "scatter",
         "x": [
          88.4
         ],
         "xaxis": "x",
         "y": [
          459
         ],
         "yaxis": "y"
        },
        {
         "hovertemplate": "County=Harford County<br>Cost of Living Index=%{x}<br>Number of Housing Units Sold=%{y}<br>Average Sale Price=%{marker.size}<extra></extra>",
         "legendgroup": "Harford County",
         "marker": {
          "color": "#00cc96",
          "size": [
           275186
          ],
          "sizemode": "area",
          "sizeref": 1339.615,
          "symbol": "circle"
         },
         "mode": "markers",
         "name": "Harford County",
         "orientation": "v",
         "showlegend": true,
         "type": "scatter",
         "x": [
          110.3
         ],
         "xaxis": "x",
         "y": [
          3700
         ],
         "yaxis": "y"
        },
        {
         "hovertemplate": "County=Howard County<br>Cost of Living Index=%{x}<br>Number of Housing Units Sold=%{y}<br>Average Sale Price=%{marker.size}<extra></extra>",
         "legendgroup": "Howard County",
         "marker": {
          "color": "#ab63fa",
          "size": [
           444776
          ],
          "sizemode": "area",
          "sizeref": 1339.615,
          "symbol": "circle"
         },
         "mode": "markers",
         "name": "Howard County",
         "orientation": "v",
         "showlegend": true,
         "type": "scatter",
         "x": [
          131.6
         ],
         "xaxis": "x",
         "y": [
          4104
         ],
         "yaxis": "y"
        },
        {
         "hovertemplate": "County=Kent County<br>Cost of Living Index=%{x}<br>Number of Housing Units Sold=%{y}<br>Average Sale Price=%{marker.size}<extra></extra>",
         "legendgroup": "Kent County",
         "marker": {
          "color": "#FFA15A",
          "size": [
           299504
          ],
          "sizemode": "area",
          "sizeref": 1339.615,
          "symbol": "circle"
         },
         "mode": "markers",
         "name": "Kent County",
         "orientation": "v",
         "showlegend": true,
         "type": "scatter",
         "x": [
          96.2
         ],
         "xaxis": "x",
         "y": [
          324
         ],
         "yaxis": "y"
        },
        {
         "hovertemplate": "County=Montgomery County<br>Cost of Living Index=%{x}<br>Number of Housing Units Sold=%{y}<br>Average Sale Price=%{marker.size}<extra></extra>",
         "legendgroup": "Montgomery County",
         "marker": {
          "color": "#19d3f3",
          "size": [
           535846
          ],
          "sizemode": "area",
          "sizeref": 1339.615,
          "symbol": "circle"
         },
         "mode": "markers",
         "name": "Montgomery County",
         "orientation": "v",
         "showlegend": true,
         "type": "scatter",
         "x": [
          130.4
         ],
         "xaxis": "x",
         "y": [
          11809
         ],
         "yaxis": "y"
        },
        {
         "hovertemplate": "County=Prince George's County<br>Cost of Living Index=%{x}<br>Number of Housing Units Sold=%{y}<br>Average Sale Price=%{marker.size}<extra></extra>",
         "legendgroup": "Prince George's County",
         "marker": {
          "color": "#FF6692",
          "size": [
           295642
          ],
          "sizemode": "area",
          "sizeref": 1339.615,
          "symbol": "circle"
         },
         "mode": "markers",
         "name": "Prince George's County",
         "orientation": "v",
         "showlegend": true,
         "type": "scatter",
         "x": [
          121.3
         ],
         "xaxis": "x",
         "y": [
          9956
         ],
         "yaxis": "y"
        },
        {
         "hovertemplate": "County=Queen Anne's County<br>Cost of Living Index=%{x}<br>Number of Housing Units Sold=%{y}<br>Average Sale Price=%{marker.size}<extra></extra>",
         "legendgroup": "Queen Anne's County",
         "marker": {
          "color": "#B6E880",
          "size": [
           389875
          ],
          "sizemode": "area",
          "sizeref": 1339.615,
          "symbol": "circle"
         },
         "mode": "markers",
         "name": "Queen Anne's County",
         "orientation": "v",
         "showlegend": true,
         "type": "scatter",
         "x": [
          115.5
         ],
         "xaxis": "x",
         "y": [
          847
         ],
         "yaxis": "y"
        },
        {
         "hovertemplate": "County=St. Mary's County<br>Cost of Living Index=%{x}<br>Number of Housing Units Sold=%{y}<br>Average Sale Price=%{marker.size}<extra></extra>",
         "legendgroup": "St. Mary's County",
         "marker": {
          "color": "#FF97FF",
          "size": [
           309528
          ],
          "sizemode": "area",
          "sizeref": 1339.615,
          "symbol": "circle"
         },
         "mode": "markers",
         "name": "St. Mary's County",
         "orientation": "v",
         "showlegend": true,
         "type": "scatter",
         "x": [
          112
         ],
         "xaxis": "x",
         "y": [
          1406
         ],
         "yaxis": "y"
        },
        {
         "hovertemplate": "County=Somerset County<br>Cost of Living Index=%{x}<br>Number of Housing Units Sold=%{y}<br>Average Sale Price=%{marker.size}<extra></extra>",
         "legendgroup": "Somerset County",
         "marker": {
          "color": "#FECB52",
          "size": [
           139983
          ],
          "sizemode": "area",
          "sizeref": 1339.615,
          "symbol": "circle"
         },
         "mode": "markers",
         "name": "Somerset County",
         "orientation": "v",
         "showlegend": true,
         "type": "scatter",
         "x": [
          86.2
         ],
         "xaxis": "x",
         "y": [
          377
         ],
         "yaxis": "y"
        },
        {
         "hovertemplate": "County=Talbot County<br>Cost of Living Index=%{x}<br>Number of Housing Units Sold=%{y}<br>Average Sale Price=%{marker.size}<extra></extra>",
         "legendgroup": "Talbot County",
         "marker": {
          "color": "#636efa",
          "size": [
           448593
          ],
          "sizemode": "area",
          "sizeref": 1339.615,
          "symbol": "circle"
         },
         "mode": "markers",
         "name": "Talbot County",
         "orientation": "v",
         "showlegend": true,
         "type": "scatter",
         "x": [
          100.9
         ],
         "xaxis": "x",
         "y": [
          742
         ],
         "yaxis": "y"
        },
        {
         "hovertemplate": "County=Washington County<br>Cost of Living Index=%{x}<br>Number of Housing Units Sold=%{y}<br>Average Sale Price=%{marker.size}<extra></extra>",
         "legendgroup": "Washington County",
         "marker": {
          "color": "#EF553B",
          "size": [
           204066
          ],
          "sizemode": "area",
          "sizeref": 1339.615,
          "symbol": "circle"
         },
         "mode": "markers",
         "name": "Washington County",
         "orientation": "v",
         "showlegend": true,
         "type": "scatter",
         "x": [
          97.7
         ],
         "xaxis": "x",
         "y": [
          1634
         ],
         "yaxis": "y"
        },
        {
         "hovertemplate": "County=Wicomico County<br>Cost of Living Index=%{x}<br>Number of Housing Units Sold=%{y}<br>Average Sale Price=%{marker.size}<extra></extra>",
         "legendgroup": "Wicomico County",
         "marker": {
          "color": "#00cc96",
          "size": [
           157531
          ],
          "sizemode": "area",
          "sizeref": 1339.615,
          "symbol": "circle"
         },
         "mode": "markers",
         "name": "Wicomico County",
         "orientation": "v",
         "showlegend": true,
         "type": "scatter",
         "x": [
          98.6
         ],
         "xaxis": "x",
         "y": [
          1103
         ],
         "yaxis": "y"
        },
        {
         "hovertemplate": "County=Worcester County<br>Cost of Living Index=%{x}<br>Number of Housing Units Sold=%{y}<br>Average Sale Price=%{marker.size}<extra></extra>",
         "legendgroup": "Worcester County",
         "marker": {
          "color": "#ab63fa",
          "size": [
           285980
          ],
          "sizemode": "area",
          "sizeref": 1339.615,
          "symbol": "circle"
         },
         "mode": "markers",
         "name": "Worcester County",
         "orientation": "v",
         "showlegend": true,
         "type": "scatter",
         "x": [
          99.1
         ],
         "xaxis": "x",
         "y": [
          2148
         ],
         "yaxis": "y"
        }
       ],
       "layout": {
        "legend": {
         "itemsizing": "constant",
         "title": {
          "text": "County"
         },
         "tracegroupgap": 0
        },
        "margin": {
         "t": 60
        },
        "template": {
         "data": {
          "bar": [
           {
            "error_x": {
             "color": "#2a3f5f"
            },
            "error_y": {
             "color": "#2a3f5f"
            },
            "marker": {
             "line": {
              "color": "#E5ECF6",
              "width": 0.5
             },
             "pattern": {
              "fillmode": "overlay",
              "size": 10,
              "solidity": 0.2
             }
            },
            "type": "bar"
           }
          ],
          "barpolar": [
           {
            "marker": {
             "line": {
              "color": "#E5ECF6",
              "width": 0.5
             },
             "pattern": {
              "fillmode": "overlay",
              "size": 10,
              "solidity": 0.2
             }
            },
            "type": "barpolar"
           }
          ],
          "carpet": [
           {
            "aaxis": {
             "endlinecolor": "#2a3f5f",
             "gridcolor": "white",
             "linecolor": "white",
             "minorgridcolor": "white",
             "startlinecolor": "#2a3f5f"
            },
            "baxis": {
             "endlinecolor": "#2a3f5f",
             "gridcolor": "white",
             "linecolor": "white",
             "minorgridcolor": "white",
             "startlinecolor": "#2a3f5f"
            },
            "type": "carpet"
           }
          ],
          "choropleth": [
           {
            "colorbar": {
             "outlinewidth": 0,
             "ticks": ""
            },
            "type": "choropleth"
           }
          ],
          "contour": [
           {
            "colorbar": {
             "outlinewidth": 0,
             "ticks": ""
            },
            "colorscale": [
             [
              0,
              "#0d0887"
             ],
             [
              0.1111111111111111,
              "#46039f"
             ],
             [
              0.2222222222222222,
              "#7201a8"
             ],
             [
              0.3333333333333333,
              "#9c179e"
             ],
             [
              0.4444444444444444,
              "#bd3786"
             ],
             [
              0.5555555555555556,
              "#d8576b"
             ],
             [
              0.6666666666666666,
              "#ed7953"
             ],
             [
              0.7777777777777778,
              "#fb9f3a"
             ],
             [
              0.8888888888888888,
              "#fdca26"
             ],
             [
              1,
              "#f0f921"
             ]
            ],
            "type": "contour"
           }
          ],
          "contourcarpet": [
           {
            "colorbar": {
             "outlinewidth": 0,
             "ticks": ""
            },
            "type": "contourcarpet"
           }
          ],
          "heatmap": [
           {
            "colorbar": {
             "outlinewidth": 0,
             "ticks": ""
            },
            "colorscale": [
             [
              0,
              "#0d0887"
             ],
             [
              0.1111111111111111,
              "#46039f"
             ],
             [
              0.2222222222222222,
              "#7201a8"
             ],
             [
              0.3333333333333333,
              "#9c179e"
             ],
             [
              0.4444444444444444,
              "#bd3786"
             ],
             [
              0.5555555555555556,
              "#d8576b"
             ],
             [
              0.6666666666666666,
              "#ed7953"
             ],
             [
              0.7777777777777778,
              "#fb9f3a"
             ],
             [
              0.8888888888888888,
              "#fdca26"
             ],
             [
              1,
              "#f0f921"
             ]
            ],
            "type": "heatmap"
           }
          ],
          "heatmapgl": [
           {
            "colorbar": {
             "outlinewidth": 0,
             "ticks": ""
            },
            "colorscale": [
             [
              0,
              "#0d0887"
             ],
             [
              0.1111111111111111,
              "#46039f"
             ],
             [
              0.2222222222222222,
              "#7201a8"
             ],
             [
              0.3333333333333333,
              "#9c179e"
             ],
             [
              0.4444444444444444,
              "#bd3786"
             ],
             [
              0.5555555555555556,
              "#d8576b"
             ],
             [
              0.6666666666666666,
              "#ed7953"
             ],
             [
              0.7777777777777778,
              "#fb9f3a"
             ],
             [
              0.8888888888888888,
              "#fdca26"
             ],
             [
              1,
              "#f0f921"
             ]
            ],
            "type": "heatmapgl"
           }
          ],
          "histogram": [
           {
            "marker": {
             "pattern": {
              "fillmode": "overlay",
              "size": 10,
              "solidity": 0.2
             }
            },
            "type": "histogram"
           }
          ],
          "histogram2d": [
           {
            "colorbar": {
             "outlinewidth": 0,
             "ticks": ""
            },
            "colorscale": [
             [
              0,
              "#0d0887"
             ],
             [
              0.1111111111111111,
              "#46039f"
             ],
             [
              0.2222222222222222,
              "#7201a8"
             ],
             [
              0.3333333333333333,
              "#9c179e"
             ],
             [
              0.4444444444444444,
              "#bd3786"
             ],
             [
              0.5555555555555556,
              "#d8576b"
             ],
             [
              0.6666666666666666,
              "#ed7953"
             ],
             [
              0.7777777777777778,
              "#fb9f3a"
             ],
             [
              0.8888888888888888,
              "#fdca26"
             ],
             [
              1,
              "#f0f921"
             ]
            ],
            "type": "histogram2d"
           }
          ],
          "histogram2dcontour": [
           {
            "colorbar": {
             "outlinewidth": 0,
             "ticks": ""
            },
            "colorscale": [
             [
              0,
              "#0d0887"
             ],
             [
              0.1111111111111111,
              "#46039f"
             ],
             [
              0.2222222222222222,
              "#7201a8"
             ],
             [
              0.3333333333333333,
              "#9c179e"
             ],
             [
              0.4444444444444444,
              "#bd3786"
             ],
             [
              0.5555555555555556,
              "#d8576b"
             ],
             [
              0.6666666666666666,
              "#ed7953"
             ],
             [
              0.7777777777777778,
              "#fb9f3a"
             ],
             [
              0.8888888888888888,
              "#fdca26"
             ],
             [
              1,
              "#f0f921"
             ]
            ],
            "type": "histogram2dcontour"
           }
          ],
          "mesh3d": [
           {
            "colorbar": {
             "outlinewidth": 0,
             "ticks": ""
            },
            "type": "mesh3d"
           }
          ],
          "parcoords": [
           {
            "line": {
             "colorbar": {
              "outlinewidth": 0,
              "ticks": ""
             }
            },
            "type": "parcoords"
           }
          ],
          "pie": [
           {
            "automargin": true,
            "type": "pie"
           }
          ],
          "scatter": [
           {
            "fillpattern": {
             "fillmode": "overlay",
             "size": 10,
             "solidity": 0.2
            },
            "type": "scatter"
           }
          ],
          "scatter3d": [
           {
            "line": {
             "colorbar": {
              "outlinewidth": 0,
              "ticks": ""
             }
            },
            "marker": {
             "colorbar": {
              "outlinewidth": 0,
              "ticks": ""
             }
            },
            "type": "scatter3d"
           }
          ],
          "scattercarpet": [
           {
            "marker": {
             "colorbar": {
              "outlinewidth": 0,
              "ticks": ""
             }
            },
            "type": "scattercarpet"
           }
          ],
          "scattergeo": [
           {
            "marker": {
             "colorbar": {
              "outlinewidth": 0,
              "ticks": ""
             }
            },
            "type": "scattergeo"
           }
          ],
          "scattergl": [
           {
            "marker": {
             "colorbar": {
              "outlinewidth": 0,
              "ticks": ""
             }
            },
            "type": "scattergl"
           }
          ],
          "scattermapbox": [
           {
            "marker": {
             "colorbar": {
              "outlinewidth": 0,
              "ticks": ""
             }
            },
            "type": "scattermapbox"
           }
          ],
          "scatterpolar": [
           {
            "marker": {
             "colorbar": {
              "outlinewidth": 0,
              "ticks": ""
             }
            },
            "type": "scatterpolar"
           }
          ],
          "scatterpolargl": [
           {
            "marker": {
             "colorbar": {
              "outlinewidth": 0,
              "ticks": ""
             }
            },
            "type": "scatterpolargl"
           }
          ],
          "scatterternary": [
           {
            "marker": {
             "colorbar": {
              "outlinewidth": 0,
              "ticks": ""
             }
            },
            "type": "scatterternary"
           }
          ],
          "surface": [
           {
            "colorbar": {
             "outlinewidth": 0,
             "ticks": ""
            },
            "colorscale": [
             [
              0,
              "#0d0887"
             ],
             [
              0.1111111111111111,
              "#46039f"
             ],
             [
              0.2222222222222222,
              "#7201a8"
             ],
             [
              0.3333333333333333,
              "#9c179e"
             ],
             [
              0.4444444444444444,
              "#bd3786"
             ],
             [
              0.5555555555555556,
              "#d8576b"
             ],
             [
              0.6666666666666666,
              "#ed7953"
             ],
             [
              0.7777777777777778,
              "#fb9f3a"
             ],
             [
              0.8888888888888888,
              "#fdca26"
             ],
             [
              1,
              "#f0f921"
             ]
            ],
            "type": "surface"
           }
          ],
          "table": [
           {
            "cells": {
             "fill": {
              "color": "#EBF0F8"
             },
             "line": {
              "color": "white"
             }
            },
            "header": {
             "fill": {
              "color": "#C8D4E3"
             },
             "line": {
              "color": "white"
             }
            },
            "type": "table"
           }
          ]
         },
         "layout": {
          "annotationdefaults": {
           "arrowcolor": "#2a3f5f",
           "arrowhead": 0,
           "arrowwidth": 1
          },
          "autotypenumbers": "strict",
          "coloraxis": {
           "colorbar": {
            "outlinewidth": 0,
            "ticks": ""
           }
          },
          "colorscale": {
           "diverging": [
            [
             0,
             "#8e0152"
            ],
            [
             0.1,
             "#c51b7d"
            ],
            [
             0.2,
             "#de77ae"
            ],
            [
             0.3,
             "#f1b6da"
            ],
            [
             0.4,
             "#fde0ef"
            ],
            [
             0.5,
             "#f7f7f7"
            ],
            [
             0.6,
             "#e6f5d0"
            ],
            [
             0.7,
             "#b8e186"
            ],
            [
             0.8,
             "#7fbc41"
            ],
            [
             0.9,
             "#4d9221"
            ],
            [
             1,
             "#276419"
            ]
           ],
           "sequential": [
            [
             0,
             "#0d0887"
            ],
            [
             0.1111111111111111,
             "#46039f"
            ],
            [
             0.2222222222222222,
             "#7201a8"
            ],
            [
             0.3333333333333333,
             "#9c179e"
            ],
            [
             0.4444444444444444,
             "#bd3786"
            ],
            [
             0.5555555555555556,
             "#d8576b"
            ],
            [
             0.6666666666666666,
             "#ed7953"
            ],
            [
             0.7777777777777778,
             "#fb9f3a"
            ],
            [
             0.8888888888888888,
             "#fdca26"
            ],
            [
             1,
             "#f0f921"
            ]
           ],
           "sequentialminus": [
            [
             0,
             "#0d0887"
            ],
            [
             0.1111111111111111,
             "#46039f"
            ],
            [
             0.2222222222222222,
             "#7201a8"
            ],
            [
             0.3333333333333333,
             "#9c179e"
            ],
            [
             0.4444444444444444,
             "#bd3786"
            ],
            [
             0.5555555555555556,
             "#d8576b"
            ],
            [
             0.6666666666666666,
             "#ed7953"
            ],
            [
             0.7777777777777778,
             "#fb9f3a"
            ],
            [
             0.8888888888888888,
             "#fdca26"
            ],
            [
             1,
             "#f0f921"
            ]
           ]
          },
          "colorway": [
           "#636efa",
           "#EF553B",
           "#00cc96",
           "#ab63fa",
           "#FFA15A",
           "#19d3f3",
           "#FF6692",
           "#B6E880",
           "#FF97FF",
           "#FECB52"
          ],
          "font": {
           "color": "#2a3f5f"
          },
          "geo": {
           "bgcolor": "white",
           "lakecolor": "white",
           "landcolor": "#E5ECF6",
           "showlakes": true,
           "showland": true,
           "subunitcolor": "white"
          },
          "hoverlabel": {
           "align": "left"
          },
          "hovermode": "closest",
          "mapbox": {
           "style": "light"
          },
          "paper_bgcolor": "white",
          "plot_bgcolor": "#E5ECF6",
          "polar": {
           "angularaxis": {
            "gridcolor": "white",
            "linecolor": "white",
            "ticks": ""
           },
           "bgcolor": "#E5ECF6",
           "radialaxis": {
            "gridcolor": "white",
            "linecolor": "white",
            "ticks": ""
           }
          },
          "scene": {
           "xaxis": {
            "backgroundcolor": "#E5ECF6",
            "gridcolor": "white",
            "gridwidth": 2,
            "linecolor": "white",
            "showbackground": true,
            "ticks": "",
            "zerolinecolor": "white"
           },
           "yaxis": {
            "backgroundcolor": "#E5ECF6",
            "gridcolor": "white",
            "gridwidth": 2,
            "linecolor": "white",
            "showbackground": true,
            "ticks": "",
            "zerolinecolor": "white"
           },
           "zaxis": {
            "backgroundcolor": "#E5ECF6",
            "gridcolor": "white",
            "gridwidth": 2,
            "linecolor": "white",
            "showbackground": true,
            "ticks": "",
            "zerolinecolor": "white"
           }
          },
          "shapedefaults": {
           "line": {
            "color": "#2a3f5f"
           }
          },
          "ternary": {
           "aaxis": {
            "gridcolor": "white",
            "linecolor": "white",
            "ticks": ""
           },
           "baxis": {
            "gridcolor": "white",
            "linecolor": "white",
            "ticks": ""
           },
           "bgcolor": "#E5ECF6",
           "caxis": {
            "gridcolor": "white",
            "linecolor": "white",
            "ticks": ""
           }
          },
          "title": {
           "x": 0.05
          },
          "xaxis": {
           "automargin": true,
           "gridcolor": "white",
           "linecolor": "white",
           "ticks": "",
           "title": {
            "standoff": 15
           },
           "zerolinecolor": "white",
           "zerolinewidth": 2
          },
          "yaxis": {
           "automargin": true,
           "gridcolor": "white",
           "linecolor": "white",
           "ticks": "",
           "title": {
            "standoff": 15
           },
           "zerolinecolor": "white",
           "zerolinewidth": 2
          }
         }
        },
        "xaxis": {
         "anchor": "y",
         "domain": [
          0,
          1
         ],
         "title": {
          "text": "Cost of Living Index"
         }
        },
        "yaxis": {
         "anchor": "x",
         "domain": [
          0,
          1
         ],
         "title": {
          "text": "Number of Housing Units Sold"
         }
        }
       }
      }
     },
     "metadata": {},
     "output_type": "display_data"
    }
   ],
   "source": [
    "# Create scatter plot comparing number of housing units sold with cost of living index\n",
    "px.scatter(\n",
    "    md_housing_sales,\n",
    "    x=\"Cost of Living Index\",\n",
    "    y=\"Number of Housing Units Sold\",\n",
    "    size=\"Average Sale Price\",\n",
    "    color=\"County\",\n",
    ")"
   ]
  },
  {
   "cell_type": "code",
   "execution_count": null,
   "metadata": {},
   "outputs": [],
   "source": []
  }
 ],
 "metadata": {
  "kernelspec": {
   "display_name": "Python 3.10.5 64-bit",
   "language": "python",
   "name": "python3"
  },
  "language_info": {
   "codemirror_mode": {
    "name": "ipython",
    "version": 3
   },
   "file_extension": ".py",
   "mimetype": "text/x-python",
   "name": "python",
   "nbconvert_exporter": "python",
   "pygments_lexer": "ipython3",
   "version": "3.10.5"
  },
  "vscode": {
   "interpreter": {
    "hash": "3d4b713e85380f88a00777cdcdc0b317b22afcd9ce36339ad381340bf82814c9"
   }
  }
 },
 "nbformat": 4,
 "nbformat_minor": 4
}
