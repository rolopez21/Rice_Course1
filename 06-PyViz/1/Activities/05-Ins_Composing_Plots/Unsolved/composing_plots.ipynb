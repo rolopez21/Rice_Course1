{
  "cells": [
    {
      "cell_type": "code",
      "source": [
        "import pandas as pd\n",
        "import hvplot.pandas\n",
        "from pathlib import Path"
      ],
      "outputs": [],
      "execution_count": null,
      "metadata": {
        "collapsed": false,
        "outputHidden": false,
        "inputHidden": false
      }
    },
    {
      "cell_type": "code",
      "source": [
        "# Read in hospital claims data\n",
        "hospital_data = pd.read_csv(Path(\"../Resources/hospital_claims.csv\"), header=0)\n",
        "hospital_data.head()"
      ],
      "outputs": [],
      "execution_count": null,
      "metadata": {}
    },
    {
      "cell_type": "markdown",
      "source": [
        "### Prep Data"
      ],
      "metadata": {}
    },
    {
      "cell_type": "code",
      "source": [
        "# Slice the data\n",
        "procedure_699_charges = hospital_data[\n",
        "    hospital_data[\"DRG Definition\"] == \"638 - DIABETES W CC\"\n",
        "]\n",
        "\n",
        "# Select data just for NJ to get a baseline for Diabetes costs\n",
        "procedure_NJ_charges = procedure_699_charges.loc[\n",
        "    hospital_data[\"Provider State\"] == \"NJ\"\n",
        "]\n",
        "\n",
        "# Select Average Medicare Payments and Provider ID Series\n",
        "procedure_medicare_charges = procedure_NJ_charges[\n",
        "    [\"Average Medicare Payments\", \"Provider Id\"]\n",
        "]\n",
        "\n",
        "# Group data by state and average total payments. and then sum\n",
        "payment_by_state = procedure_699_charges[[\"Average Total Payments\", \"Provider State\"]]\n",
        "total_payment_by_state = payment_by_state.groupby(\"Provider State\").sum()"
      ],
      "outputs": [],
      "execution_count": null,
      "metadata": {}
    },
    {
      "cell_type": "markdown",
      "source": [
        "### Create plot objects to compose"
      ],
      "metadata": {}
    },
    {
      "cell_type": "code",
      "source": [
        "# Plot data using hvplot.bar\n",
        "total_payment_by_state.hvplot.bar()"
      ],
      "outputs": [],
      "execution_count": null,
      "metadata": {}
    },
    {
      "cell_type": "code",
      "source": [
        "# Sort data values\n",
        "sorted_data = total_payment_by_state.sort_values('Average Total Payments')\n",
        "sorted_data.hvplot()"
      ],
      "outputs": [],
      "execution_count": null,
      "metadata": {}
    },
    {
      "cell_type": "markdown",
      "source": [
        "### Use compose operators"
      ],
      "metadata": {}
    },
    {
      "cell_type": "code",
      "source": [
        "# Compose plots using + operator\n",
        "total_payment_by_state.hvplot.bar() + sorted_data.hvplot.line()"
      ],
      "outputs": [],
      "execution_count": null,
      "metadata": {}
    },
    {
      "cell_type": "code",
      "source": [
        "# Compose plots using * operator\n",
        "payment_by_state_med = procedure_699_charges[\n",
        "    [\"Average Medicare Payments\", \"Provider State\"]\n",
        "]\n",
        "total_payment_by_state_med = payment_by_state_med.groupby(\"Provider State\").sum()\n",
        "sorted_data_med = total_payment_by_state_med.sort_values(\"Average Medicare Payments\")\n",
        "sorted_data.hvplot(label=\"Average Total Payments\") * sorted_data_med.hvplot(\n",
        "    label=\"Average Medicare Payments\"\n",
        ")"
      ],
      "outputs": [],
      "execution_count": null,
      "metadata": {}
    },
    {
      "cell_type": "code",
      "source": [
        "# Overlay plots of different type using * operator\n"
      ],
      "outputs": [],
      "execution_count": null,
      "metadata": {}
    },
    {
      "cell_type": "code",
      "source": [],
      "outputs": [],
      "execution_count": null,
      "metadata": {}
    }
  ],
  "metadata": {
    "kernelspec": {
      "name": "python3",
      "language": "python",
      "display_name": "Python 3"
    },
    "language_info": {
      "name": "python",
      "version": "3.7.3",
      "mimetype": "text/x-python",
      "codemirror_mode": {
        "name": "ipython",
        "version": 3
      },
      "pygments_lexer": "ipython3",
      "nbconvert_exporter": "python",
      "file_extension": ".py"
    },
    "kernel_info": {
      "name": "python3"
    },
    "nteract": {
      "version": "0.12.3"
    }
  },
  "nbformat": 4,
  "nbformat_minor": 2
}